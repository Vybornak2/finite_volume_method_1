{
 "cells": [
  {
   "cell_type": "code",
   "execution_count": 1,
   "id": "e38cd89c",
   "metadata": {},
   "outputs": [
    {
     "data": {
      "text/markdown": [
       "# Task 3 - Linearized Euler equations using finite volume method\n",
       "\n",
       "**Difficulty:** Easy\n",
       "\n",
       "## Problem Statement\n",
       "\n",
       "Solve the linearized system of Euler equations on the interval $[-1,1]$ with initial condition:\n",
       "$$U(x,0) = [\\rho_{ref}, u_{ref}, p_{ref} + p'(x)]$$\n",
       "\n",
       "where $\\rho_{ref} = 1$ kg/mÂ³, $u_{ref} = 0$ m/s, $p_{ref} = 100$ kPa, and:\n",
       "\n",
       "- $p'(x) = 10$ kPa for $-0.1 < x < 0.1$\n",
       "- $p'(x) = 0$ Pa elsewhere\n",
       "\n",
       "## Requirements\n",
       "\n",
       "- Use finite volume method\n",
       "- Find numerical solution at time $t = 0.001$\n",
       "- Use grid step $h = 0.01$\n"
      ],
      "text/plain": [
       "<IPython.core.display.Markdown object>"
      ]
     },
     "metadata": {},
     "output_type": "display_data"
    }
   ],
   "source": [
    "from IPython.display import Markdown, display\n",
    "\n",
    "with open(\"description.md\", \"r\") as file:\n",
    "    md_content = file.read()\n",
    "display(Markdown(md_content))"
   ]
  },
  {
   "cell_type": "code",
   "execution_count": 2,
   "id": "f2282ead",
   "metadata": {},
   "outputs": [],
   "source": [
    "import numpy as np\n",
    "\n",
    "\n",
    "def main():\n",
    "    pass"
   ]
  },
  {
   "cell_type": "code",
   "execution_count": 3,
   "id": "5d65a892",
   "metadata": {},
   "outputs": [
    {
     "name": "stdout",
     "output_type": "stream",
     "text": [
      "24.5 ns ± 2.16 ns per loop (mean ± std. dev. of 7 runs, 10,000,000 loops each)\n"
     ]
    }
   ],
   "source": [
    "%%timeit\n",
    "main()"
   ]
  },
  {
   "cell_type": "code",
   "execution_count": 4,
   "id": "604673f1",
   "metadata": {},
   "outputs": [],
   "source": [
    "main()"
   ]
  }
 ],
 "metadata": {
  "kernelspec": {
   "display_name": "finite_volume_method_1",
   "language": "python",
   "name": "python3"
  },
  "language_info": {
   "codemirror_mode": {
    "name": "ipython",
    "version": 3
   },
   "file_extension": ".py",
   "mimetype": "text/x-python",
   "name": "python",
   "nbconvert_exporter": "python",
   "pygments_lexer": "ipython3",
   "version": "3.13.3"
  }
 },
 "nbformat": 4,
 "nbformat_minor": 5
}

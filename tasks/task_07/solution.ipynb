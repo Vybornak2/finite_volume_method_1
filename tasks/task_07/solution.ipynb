{
 "cells": [
  {
   "cell_type": "code",
   "execution_count": 1,
   "id": "e38cd89c",
   "metadata": {},
   "outputs": [
    {
     "data": {
      "text/markdown": [
       "# Task 7 - 1D compressible flow through variable cross-section tube\n",
       "\n",
       "**Difficulty:** Difficult\n",
       "\n",
       "## Problem Statement\n",
       "\n",
       "Solve the 1D inviscid compressible flow equations through a tube with variable cross-section on domain $0 \\leq x \\leq 1$ m.\n",
       "\n",
       "**Tube geometry:** $A(x) = 1 + 0.1(x-0.5)^2$ mÂ²\n",
       "\n",
       "**Boundary conditions:**\n",
       "\n",
       "- Inlet ($x=0$): Total pressure $p_{tot} = 1 \\times 10^5$ Pa, Total temperature $T_{tot} = 293$ K\n",
       "- Outlet: Static pressure $p = 0.8 \\times 10^5$ Pa\n",
       "\n",
       "**Fluid properties:** Ideal gas equation of state with air properties\n",
       "\n",
       "## Requirements\n",
       "\n",
       "- Use finite volume method with HLL numerical flux\n",
       "- Solve for steady-state flow distribution\n"
      ],
      "text/plain": [
       "<IPython.core.display.Markdown object>"
      ]
     },
     "metadata": {},
     "output_type": "display_data"
    }
   ],
   "source": [
    "from IPython.display import Markdown, display\n",
    "\n",
    "with open(\"description.md\", \"r\") as file:\n",
    "    md_content = file.read()\n",
    "display(Markdown(md_content))"
   ]
  },
  {
   "cell_type": "code",
   "execution_count": 2,
   "id": "f2282ead",
   "metadata": {},
   "outputs": [],
   "source": [
    "import numpy as np\n",
    "\n",
    "\n",
    "def main():\n",
    "    pass"
   ]
  },
  {
   "cell_type": "code",
   "execution_count": 3,
   "id": "5d65a892",
   "metadata": {},
   "outputs": [
    {
     "name": "stdout",
     "output_type": "stream",
     "text": [
      "23.4 ns ± 0.275 ns per loop (mean ± std. dev. of 7 runs, 10,000,000 loops each)\n"
     ]
    }
   ],
   "source": [
    "%%timeit\n",
    "main()"
   ]
  },
  {
   "cell_type": "code",
   "execution_count": 4,
   "id": "604673f1",
   "metadata": {},
   "outputs": [],
   "source": [
    "main()"
   ]
  }
 ],
 "metadata": {
  "kernelspec": {
   "display_name": "finite_volume_method_1",
   "language": "python",
   "name": "python3"
  },
  "language_info": {
   "codemirror_mode": {
    "name": "ipython",
    "version": 3
   },
   "file_extension": ".py",
   "mimetype": "text/x-python",
   "name": "python",
   "nbconvert_exporter": "python",
   "pygments_lexer": "ipython3",
   "version": "3.13.3"
  }
 },
 "nbformat": 4,
 "nbformat_minor": 5
}

{
 "cells": [
  {
   "cell_type": "code",
   "execution_count": 1,
   "id": "e38cd89c",
   "metadata": {},
   "outputs": [
    {
     "data": {
      "text/markdown": [
       "# Task 2 - Initial value problem for nonlinear Burgers equation with periodic conditions\n",
       "\n",
       "**Difficulty:** Easy\n",
       "\n",
       "## Problem Statement\n",
       "\n",
       "Solve the nonlinear Burgers equation:\n",
       "$$u_t + \\frac{1}{2}(u^2)_x = 0$$\n",
       "\n",
       "on the interval $[0,2\\pi]$ with periodic boundary conditions and initial condition $u(x,0) = \\sin(x)$.\n",
       "\n",
       "## Requirements\n",
       "\n",
       "- Use any 1st order scheme\n",
       "- Solve for time $t = 2$\n",
       "- Use grid steps $h = 0.02$, $h = 0.01$, and $h = 0.005$\n",
       "- Estimate error magnitude and order of accuracy from computed values\n"
      ],
      "text/plain": [
       "<IPython.core.display.Markdown object>"
      ]
     },
     "metadata": {},
     "output_type": "display_data"
    }
   ],
   "source": [
    "from IPython.display import Markdown, display\n",
    "\n",
    "with open(\"description.md\", \"r\") as file:\n",
    "    md_content = file.read()\n",
    "display(Markdown(md_content))"
   ]
  },
  {
   "cell_type": "code",
   "execution_count": 2,
   "id": "f2282ead",
   "metadata": {},
   "outputs": [],
   "source": [
    "import numpy as np\n",
    "\n",
    "\n",
    "def main():\n",
    "    pass"
   ]
  },
  {
   "cell_type": "code",
   "execution_count": 3,
   "id": "5d65a892",
   "metadata": {},
   "outputs": [
    {
     "name": "stdout",
     "output_type": "stream",
     "text": [
      "24 ns ± 0.895 ns per loop (mean ± std. dev. of 7 runs, 10,000,000 loops each)\n"
     ]
    }
   ],
   "source": [
    "%%timeit\n",
    "main()"
   ]
  },
  {
   "cell_type": "code",
   "execution_count": 4,
   "id": "604673f1",
   "metadata": {},
   "outputs": [],
   "source": [
    "main()"
   ]
  }
 ],
 "metadata": {
  "kernelspec": {
   "display_name": "finite_volume_method_1",
   "language": "python",
   "name": "python3"
  },
  "language_info": {
   "codemirror_mode": {
    "name": "ipython",
    "version": 3
   },
   "file_extension": ".py",
   "mimetype": "text/x-python",
   "name": "python",
   "nbconvert_exporter": "python",
   "pygments_lexer": "ipython3",
   "version": "3.13.3"
  }
 },
 "nbformat": 4,
 "nbformat_minor": 5
}

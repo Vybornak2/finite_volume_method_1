{
    "cells": [
        {
            "cell_type": "code",
            "execution_count": 1,
            "id": "e38cd89c",
            "metadata": {},
            "outputs": [
                {
                    "data": {
                        "text/markdown": [
                            "# Task 1 - Mixed boundary value problem for linear advection equation using TVD scheme\n",
                            "\n",
                            "**Difficulty:** Very easy\n",
                            "\n",
                            "## Problem Statement\n",
                            "\n",
                            "Solve the linear advection equation:\n",
                            "$$u_t + u_x = 0$$\n",
                            "\n",
                            "on the interval $[0,2]$ with initial condition $u(x,0) = \\sin(\\pi x)$ and boundary condition $u(0,t) = 0$.\n",
                            "\n",
                            "## Requirements\n",
                            "\n",
                            "- Use any 2nd order TVD scheme\n",
                            "- Solve for time $t = 0.5$\n",
                            "- Use grid steps $h = 0.02$ and $h = 0.01$\n",
                            "- Compare with analytical solution\n",
                            "- Calculate error norm for both cases\n",
                            "- Estimate order of accuracy of the method\n"
                        ],
                        "text/plain": [
                            "<IPython.core.display.Markdown object>"
                        ]
                    },
                    "metadata": {},
                    "output_type": "display_data"
                }
            ],
            "source": [
                "from IPython.display import Markdown, display\n",
                "\n",
                "with open(\"description.md\", \"r\") as file:\n",
                "    md_content = file.read()\n",
                "display(Markdown(md_content))"
            ]
        },
        {
            "cell_type": "code",
            "execution_count": 10,
            "id": "f2282ead",
            "metadata": {},
            "outputs": [],
            "source": [
                "import numpy as np\n",
                "import plotly.express as px\n",
                "\n",
                "a = 1.0  # advection speed\n",
                "\n",
                "x_range = (0, 2)\n",
                "t_end = 0.5\n",
                "\n",
                "dx = 0.02\n",
                "dt = 0.01\n",
                "\n",
                "n_steps = int(t_end / dt)\n",
                "\n",
                "x = np.arange(x_range[0], x_range[1] + dx, dx)\n",
                "t = np.arange(0, t_end + dt, dt).reshape(-1, 1)\n",
                "u0 = np.sin(np.pi * x)"
            ]
        },
        {
            "cell_type": "code",
            "execution_count": 11,
            "id": "cb1fe8bf",
            "metadata": {},
            "outputs": [
                {
                    "data": {
                        "application/vnd.plotly.v1+json": {
                            "config": {
                                "plotlyServerURL": "https://plot.ly"
                            },
                            "data": [
                                {
                                    "hovertemplate": "x=%{x}<br>u=%{y}<extra></extra>",
                                    "legendgroup": "",
                                    "line": {
                                        "color": "#636efa",
                                        "dash": "solid"
                                    },
                                    "marker": {
                                        "symbol": "circle"
                                    },
                                    "mode": "lines",
                                    "name": "",
                                    "orientation": "v",
                                    "showlegend": false,
                                    "type": "scatter",
                                    "x": {
                                        "bdata": "AAAAAAAAAAB7FK5H4XqUP3sUrkfheqQ/uB6F61G4rj97FK5H4Xq0P5qZmZmZmbk/uB6F61G4vj/sUbgehevBP3sUrkfhesQ/CtejcD0Kxz+amZmZmZnJPylcj8L1KMw/uB6F61G4zj+kcD0K16PQP+xRuB6F69E/MzMzMzMz0z97FK5H4XrUP8P1KFyPwtU/CtejcD0K1z9SuB6F61HYP5qZmZmZmdk/4XoUrkfh2j8pXI/C9SjcP3E9CtejcN0/uB6F61G43j8AAAAAAADgP6RwPQrXo+A/SOF6FK5H4T/sUbgehevhP4/C9Shcj+I/MzMzMzMz4z/Xo3A9CtfjP3sUrkfheuQ/H4XrUbge5T/D9Shcj8LlP2dmZmZmZuY/CtejcD0K5z+uR+F6FK7nP1K4HoXrUeg/9ihcj8L16D+amZmZmZnpPz4K16NwPeo/4XoUrkfh6j+F61G4HoXrPylcj8L1KOw/zczMzMzM7D9xPQrXo3DtPxWuR+F6FO4/uB6F61G47j9cj8L1KFzvPwAAAAAAAPA/UrgehetR8D+kcD0K16PwP/YoXI/C9fA/SOF6FK5H8T+amZmZmZnxP+xRuB6F6/E/PgrXo3A98j+PwvUoXI/yP+F6FK5H4fI/MzMzMzMz8z+F61G4HoXzP9ejcD0K1/M/KVyPwvUo9D97FK5H4Xr0P83MzMzMzPQ/H4XrUbge9T9xPQrXo3D1P8P1KFyPwvU/Fa5H4XoU9j9nZmZmZmb2P7gehetRuPY/CtejcD0K9z9cj8L1KFz3P65H4XoUrvc/AAAAAAAA+D9SuB6F61H4P6RwPQrXo/g/9ihcj8L1+D9I4XoUrkf5P5qZmZmZmfk/7FG4HoXr+T8+CtejcD36P5DC9Shcj/o/4XoUrkfh+j8zMzMzMzP7P4XrUbgehfs/16NwPQrX+z8pXI/C9Sj8P3sUrkfhevw/zczMzMzM/D8fhetRuB79P3E9CtejcP0/w/UoXI/C/T8VrkfhehT+P2dmZmZmZv4/uB6F61G4/j8K16NwPQr/P1yPwvUoXP8/rkfhehSu/z8AAAAAAAAAQA==",
                                        "dtype": "f8"
                                    },
                                    "xaxis": "x",
                                    "y": {
                                        "bdata": "AAAAAAAAAAB5k+AbChOwP+BboV3rCsA/eHoDZRz8xz+WBxz6EdXPP0/pLzfvxtM/GKmoSFqP1z+dgSXJ9z/bP1Kpv1wN1d4/USsYPH4l4T9eWnUEI8/iP7sBtf7GZeQ/EyARVc/n5T8WuNIDtlPnP+prW2MLqOg/qPSXm3fj6T+GLmT/uwTrP1rAgU60Cuw/jBXc3Ff07D/kWu+dusDtP/9URBMOb+4/4B4QHaL+7j/+CSWs5W7vPwPZgFRnv+8//kPkv9Xv7z8AAAAAAADwP/5D5L/V7+8/AtmAVGe/7z/+CSWs5W7vP+EeEB2i/u4/AFVEEw5v7j/lWu+dusDtP4sV3NxX9Ow/WMCBTrQK7D+FLmT/uwTrP6j0l5t34+k/6mtbYwuo6D8VuNIDtlPnPxUgEVXP5+U/vQG1/sZl5D9fWnUEI8/iP1ErGDx+JeE/V6m/XA3V3j+ggSXJ9z/bPxypqEhaj9c/UekvN+/G0z+XBxz6EdXPP3d6A2Uc/Mc/6luhXesKwD+Ik+AbChOwPwdcFDMmpqE8d5PgGwoTsL/hW6Fd6wrAv356A2Uc/Me/ngcc+hHVz79V6S8378bTvx+pqEhaj9e/nIElyfc/279Mqb9cDdXev08rGDx+JeG/XVp1BCPP4r+7AbX+xmXkvxQgEVXP5+W/FLjSA7ZT57/ra1tjC6jov6f0l5t34+m/iC5k/7sE679ZwIFOtArsv44V3NxX9Oy/5VrvnbrA7b//VEQTDm/uv98eEB2i/u6//wklrOVu778C2YBUZ7/vv/5D5L/V7++/AAAAAAAA8L/+Q+S/1e/vvwPZgFRnv++//wklrOVu77/gHhAdov7uvwBVRBMOb+6/41rvnbrA7b+MFdzcV/Tsv1fAgU60Cuy/ii5k/7sE67+p9Jebd+Ppv+1rW2MLqOi/FrjSA7ZT578WIBFVz+flv7sBtf7GZeS/YFp1BCPP4r9OKxg8fiXhv1Kpv1wN1d6/lIElyfc/278XqahIWo/Xv1TpLzfvxtO/qgcc+hHVz797egNlHPzHv+5boV3rCsC/cZPgGwoTsL8HXBQzJqaxvA==",
                                        "dtype": "f8"
                                    },
                                    "yaxis": "y"
                                },
                                {
                                    "mode": "lines",
                                    "name": "Initial condition",
                                    "type": "scatter",
                                    "x": {
                                        "bdata": "AAAAAAAAAAB7FK5H4XqUP3sUrkfheqQ/uB6F61G4rj97FK5H4Xq0P5qZmZmZmbk/uB6F61G4vj/sUbgehevBP3sUrkfhesQ/CtejcD0Kxz+amZmZmZnJPylcj8L1KMw/uB6F61G4zj+kcD0K16PQP+xRuB6F69E/MzMzMzMz0z97FK5H4XrUP8P1KFyPwtU/CtejcD0K1z9SuB6F61HYP5qZmZmZmdk/4XoUrkfh2j8pXI/C9SjcP3E9CtejcN0/uB6F61G43j8AAAAAAADgP6RwPQrXo+A/SOF6FK5H4T/sUbgehevhP4/C9Shcj+I/MzMzMzMz4z/Xo3A9CtfjP3sUrkfheuQ/H4XrUbge5T/D9Shcj8LlP2dmZmZmZuY/CtejcD0K5z+uR+F6FK7nP1K4HoXrUeg/9ihcj8L16D+amZmZmZnpPz4K16NwPeo/4XoUrkfh6j+F61G4HoXrPylcj8L1KOw/zczMzMzM7D9xPQrXo3DtPxWuR+F6FO4/uB6F61G47j9cj8L1KFzvPwAAAAAAAPA/UrgehetR8D+kcD0K16PwP/YoXI/C9fA/SOF6FK5H8T+amZmZmZnxP+xRuB6F6/E/PgrXo3A98j+PwvUoXI/yP+F6FK5H4fI/MzMzMzMz8z+F61G4HoXzP9ejcD0K1/M/KVyPwvUo9D97FK5H4Xr0P83MzMzMzPQ/H4XrUbge9T9xPQrXo3D1P8P1KFyPwvU/Fa5H4XoU9j9nZmZmZmb2P7gehetRuPY/CtejcD0K9z9cj8L1KFz3P65H4XoUrvc/AAAAAAAA+D9SuB6F61H4P6RwPQrXo/g/9ihcj8L1+D9I4XoUrkf5P5qZmZmZmfk/7FG4HoXr+T8+CtejcD36P5DC9Shcj/o/4XoUrkfh+j8zMzMzMzP7P4XrUbgehfs/16NwPQrX+z8pXI/C9Sj8P3sUrkfhevw/zczMzMzM/D8fhetRuB79P3E9CtejcP0/w/UoXI/C/T8VrkfhehT+P2dmZmZmZv4/uB6F61G4/j8K16NwPQr/P1yPwvUoXP8/rkfhehSu/z8AAAAAAAAAQA==",
                                        "dtype": "f8"
                                    },
                                    "y": {
                                        "bdata": "AAAAAAAAAAB5k+AbChOwP+BboV3rCsA/eHoDZRz8xz+WBxz6EdXPP0/pLzfvxtM/GKmoSFqP1z+dgSXJ9z/bP1Kpv1wN1d4/USsYPH4l4T9eWnUEI8/iP7sBtf7GZeQ/EyARVc/n5T8WuNIDtlPnP+prW2MLqOg/qPSXm3fj6T+GLmT/uwTrP1rAgU60Cuw/jBXc3Ff07D/kWu+dusDtP/9URBMOb+4/4B4QHaL+7j/+CSWs5W7vPwPZgFRnv+8//kPkv9Xv7z8AAAAAAADwP/5D5L/V7+8/AtmAVGe/7z/+CSWs5W7vP+EeEB2i/u4/AFVEEw5v7j/lWu+dusDtP4sV3NxX9Ow/WMCBTrQK7D+FLmT/uwTrP6j0l5t34+k/6mtbYwuo6D8VuNIDtlPnPxUgEVXP5+U/vQG1/sZl5D9fWnUEI8/iP1ErGDx+JeE/V6m/XA3V3j+ggSXJ9z/bPxypqEhaj9c/UekvN+/G0z+XBxz6EdXPP3d6A2Uc/Mc/6luhXesKwD+Ik+AbChOwPwdcFDMmpqE8d5PgGwoTsL/hW6Fd6wrAv356A2Uc/Me/ngcc+hHVz79V6S8378bTvx+pqEhaj9e/nIElyfc/279Mqb9cDdXev08rGDx+JeG/XVp1BCPP4r+7AbX+xmXkvxQgEVXP5+W/FLjSA7ZT57/ra1tjC6jov6f0l5t34+m/iC5k/7sE679ZwIFOtArsv44V3NxX9Oy/5VrvnbrA7b//VEQTDm/uv98eEB2i/u6//wklrOVu778C2YBUZ7/vv/5D5L/V7++/AAAAAAAA8L/+Q+S/1e/vvwPZgFRnv++//wklrOVu77/gHhAdov7uvwBVRBMOb+6/41rvnbrA7b+MFdzcV/Tsv1fAgU60Cuy/ii5k/7sE67+p9Jebd+Ppv+1rW2MLqOi/FrjSA7ZT578WIBFVz+flv7sBtf7GZeS/YFp1BCPP4r9OKxg8fiXhv1Kpv1wN1d6/lIElyfc/278XqahIWo/Xv1TpLzfvxtO/qgcc+hHVz797egNlHPzHv+5boV3rCsC/cZPgGwoTsL8HXBQzJqaxvA==",
                                        "dtype": "f8"
                                    }
                                }
                            ],
                            "layout": {
                                "legend": {
                                    "tracegroupgap": 0
                                },
                                "template": {
                                    "data": {
                                        "bar": [
                                            {
                                                "error_x": {
                                                    "color": "#2a3f5f"
                                                },
                                                "error_y": {
                                                    "color": "#2a3f5f"
                                                },
                                                "marker": {
                                                    "line": {
                                                        "color": "#E5ECF6",
                                                        "width": 0.5
                                                    },
                                                    "pattern": {
                                                        "fillmode": "overlay",
                                                        "size": 10,
                                                        "solidity": 0.2
                                                    }
                                                },
                                                "type": "bar"
                                            }
                                        ],
                                        "barpolar": [
                                            {
                                                "marker": {
                                                    "line": {
                                                        "color": "#E5ECF6",
                                                        "width": 0.5
                                                    },
                                                    "pattern": {
                                                        "fillmode": "overlay",
                                                        "size": 10,
                                                        "solidity": 0.2
                                                    }
                                                },
                                                "type": "barpolar"
                                            }
                                        ],
                                        "carpet": [
                                            {
                                                "aaxis": {
                                                    "endlinecolor": "#2a3f5f",
                                                    "gridcolor": "white",
                                                    "linecolor": "white",
                                                    "minorgridcolor": "white",
                                                    "startlinecolor": "#2a3f5f"
                                                },
                                                "baxis": {
                                                    "endlinecolor": "#2a3f5f",
                                                    "gridcolor": "white",
                                                    "linecolor": "white",
                                                    "minorgridcolor": "white",
                                                    "startlinecolor": "#2a3f5f"
                                                },
                                                "type": "carpet"
                                            }
                                        ],
                                        "choropleth": [
                                            {
                                                "colorbar": {
                                                    "outlinewidth": 0,
                                                    "ticks": ""
                                                },
                                                "type": "choropleth"
                                            }
                                        ],
                                        "contour": [
                                            {
                                                "colorbar": {
                                                    "outlinewidth": 0,
                                                    "ticks": ""
                                                },
                                                "colorscale": [
                                                    [
                                                        0,
                                                        "#0d0887"
                                                    ],
                                                    [
                                                        0.1111111111111111,
                                                        "#46039f"
                                                    ],
                                                    [
                                                        0.2222222222222222,
                                                        "#7201a8"
                                                    ],
                                                    [
                                                        0.3333333333333333,
                                                        "#9c179e"
                                                    ],
                                                    [
                                                        0.4444444444444444,
                                                        "#bd3786"
                                                    ],
                                                    [
                                                        0.5555555555555556,
                                                        "#d8576b"
                                                    ],
                                                    [
                                                        0.6666666666666666,
                                                        "#ed7953"
                                                    ],
                                                    [
                                                        0.7777777777777778,
                                                        "#fb9f3a"
                                                    ],
                                                    [
                                                        0.8888888888888888,
                                                        "#fdca26"
                                                    ],
                                                    [
                                                        1,
                                                        "#f0f921"
                                                    ]
                                                ],
                                                "type": "contour"
                                            }
                                        ],
                                        "contourcarpet": [
                                            {
                                                "colorbar": {
                                                    "outlinewidth": 0,
                                                    "ticks": ""
                                                },
                                                "type": "contourcarpet"
                                            }
                                        ],
                                        "heatmap": [
                                            {
                                                "colorbar": {
                                                    "outlinewidth": 0,
                                                    "ticks": ""
                                                },
                                                "colorscale": [
                                                    [
                                                        0,
                                                        "#0d0887"
                                                    ],
                                                    [
                                                        0.1111111111111111,
                                                        "#46039f"
                                                    ],
                                                    [
                                                        0.2222222222222222,
                                                        "#7201a8"
                                                    ],
                                                    [
                                                        0.3333333333333333,
                                                        "#9c179e"
                                                    ],
                                                    [
                                                        0.4444444444444444,
                                                        "#bd3786"
                                                    ],
                                                    [
                                                        0.5555555555555556,
                                                        "#d8576b"
                                                    ],
                                                    [
                                                        0.6666666666666666,
                                                        "#ed7953"
                                                    ],
                                                    [
                                                        0.7777777777777778,
                                                        "#fb9f3a"
                                                    ],
                                                    [
                                                        0.8888888888888888,
                                                        "#fdca26"
                                                    ],
                                                    [
                                                        1,
                                                        "#f0f921"
                                                    ]
                                                ],
                                                "type": "heatmap"
                                            }
                                        ],
                                        "histogram": [
                                            {
                                                "marker": {
                                                    "pattern": {
                                                        "fillmode": "overlay",
                                                        "size": 10,
                                                        "solidity": 0.2
                                                    }
                                                },
                                                "type": "histogram"
                                            }
                                        ],
                                        "histogram2d": [
                                            {
                                                "colorbar": {
                                                    "outlinewidth": 0,
                                                    "ticks": ""
                                                },
                                                "colorscale": [
                                                    [
                                                        0,
                                                        "#0d0887"
                                                    ],
                                                    [
                                                        0.1111111111111111,
                                                        "#46039f"
                                                    ],
                                                    [
                                                        0.2222222222222222,
                                                        "#7201a8"
                                                    ],
                                                    [
                                                        0.3333333333333333,
                                                        "#9c179e"
                                                    ],
                                                    [
                                                        0.4444444444444444,
                                                        "#bd3786"
                                                    ],
                                                    [
                                                        0.5555555555555556,
                                                        "#d8576b"
                                                    ],
                                                    [
                                                        0.6666666666666666,
                                                        "#ed7953"
                                                    ],
                                                    [
                                                        0.7777777777777778,
                                                        "#fb9f3a"
                                                    ],
                                                    [
                                                        0.8888888888888888,
                                                        "#fdca26"
                                                    ],
                                                    [
                                                        1,
                                                        "#f0f921"
                                                    ]
                                                ],
                                                "type": "histogram2d"
                                            }
                                        ],
                                        "histogram2dcontour": [
                                            {
                                                "colorbar": {
                                                    "outlinewidth": 0,
                                                    "ticks": ""
                                                },
                                                "colorscale": [
                                                    [
                                                        0,
                                                        "#0d0887"
                                                    ],
                                                    [
                                                        0.1111111111111111,
                                                        "#46039f"
                                                    ],
                                                    [
                                                        0.2222222222222222,
                                                        "#7201a8"
                                                    ],
                                                    [
                                                        0.3333333333333333,
                                                        "#9c179e"
                                                    ],
                                                    [
                                                        0.4444444444444444,
                                                        "#bd3786"
                                                    ],
                                                    [
                                                        0.5555555555555556,
                                                        "#d8576b"
                                                    ],
                                                    [
                                                        0.6666666666666666,
                                                        "#ed7953"
                                                    ],
                                                    [
                                                        0.7777777777777778,
                                                        "#fb9f3a"
                                                    ],
                                                    [
                                                        0.8888888888888888,
                                                        "#fdca26"
                                                    ],
                                                    [
                                                        1,
                                                        "#f0f921"
                                                    ]
                                                ],
                                                "type": "histogram2dcontour"
                                            }
                                        ],
                                        "mesh3d": [
                                            {
                                                "colorbar": {
                                                    "outlinewidth": 0,
                                                    "ticks": ""
                                                },
                                                "type": "mesh3d"
                                            }
                                        ],
                                        "parcoords": [
                                            {
                                                "line": {
                                                    "colorbar": {
                                                        "outlinewidth": 0,
                                                        "ticks": ""
                                                    }
                                                },
                                                "type": "parcoords"
                                            }
                                        ],
                                        "pie": [
                                            {
                                                "automargin": true,
                                                "type": "pie"
                                            }
                                        ],
                                        "scatter": [
                                            {
                                                "fillpattern": {
                                                    "fillmode": "overlay",
                                                    "size": 10,
                                                    "solidity": 0.2
                                                },
                                                "type": "scatter"
                                            }
                                        ],
                                        "scatter3d": [
                                            {
                                                "line": {
                                                    "colorbar": {
                                                        "outlinewidth": 0,
                                                        "ticks": ""
                                                    }
                                                },
                                                "marker": {
                                                    "colorbar": {
                                                        "outlinewidth": 0,
                                                        "ticks": ""
                                                    }
                                                },
                                                "type": "scatter3d"
                                            }
                                        ],
                                        "scattercarpet": [
                                            {
                                                "marker": {
                                                    "colorbar": {
                                                        "outlinewidth": 0,
                                                        "ticks": ""
                                                    }
                                                },
                                                "type": "scattercarpet"
                                            }
                                        ],
                                        "scattergeo": [
                                            {
                                                "marker": {
                                                    "colorbar": {
                                                        "outlinewidth": 0,
                                                        "ticks": ""
                                                    }
                                                },
                                                "type": "scattergeo"
                                            }
                                        ],
                                        "scattergl": [
                                            {
                                                "marker": {
                                                    "colorbar": {
                                                        "outlinewidth": 0,
                                                        "ticks": ""
                                                    }
                                                },
                                                "type": "scattergl"
                                            }
                                        ],
                                        "scattermap": [
                                            {
                                                "marker": {
                                                    "colorbar": {
                                                        "outlinewidth": 0,
                                                        "ticks": ""
                                                    }
                                                },
                                                "type": "scattermap"
                                            }
                                        ],
                                        "scattermapbox": [
                                            {
                                                "marker": {
                                                    "colorbar": {
                                                        "outlinewidth": 0,
                                                        "ticks": ""
                                                    }
                                                },
                                                "type": "scattermapbox"
                                            }
                                        ],
                                        "scatterpolar": [
                                            {
                                                "marker": {
                                                    "colorbar": {
                                                        "outlinewidth": 0,
                                                        "ticks": ""
                                                    }
                                                },
                                                "type": "scatterpolar"
                                            }
                                        ],
                                        "scatterpolargl": [
                                            {
                                                "marker": {
                                                    "colorbar": {
                                                        "outlinewidth": 0,
                                                        "ticks": ""
                                                    }
                                                },
                                                "type": "scatterpolargl"
                                            }
                                        ],
                                        "scatterternary": [
                                            {
                                                "marker": {
                                                    "colorbar": {
                                                        "outlinewidth": 0,
                                                        "ticks": ""
                                                    }
                                                },
                                                "type": "scatterternary"
                                            }
                                        ],
                                        "surface": [
                                            {
                                                "colorbar": {
                                                    "outlinewidth": 0,
                                                    "ticks": ""
                                                },
                                                "colorscale": [
                                                    [
                                                        0,
                                                        "#0d0887"
                                                    ],
                                                    [
                                                        0.1111111111111111,
                                                        "#46039f"
                                                    ],
                                                    [
                                                        0.2222222222222222,
                                                        "#7201a8"
                                                    ],
                                                    [
                                                        0.3333333333333333,
                                                        "#9c179e"
                                                    ],
                                                    [
                                                        0.4444444444444444,
                                                        "#bd3786"
                                                    ],
                                                    [
                                                        0.5555555555555556,
                                                        "#d8576b"
                                                    ],
                                                    [
                                                        0.6666666666666666,
                                                        "#ed7953"
                                                    ],
                                                    [
                                                        0.7777777777777778,
                                                        "#fb9f3a"
                                                    ],
                                                    [
                                                        0.8888888888888888,
                                                        "#fdca26"
                                                    ],
                                                    [
                                                        1,
                                                        "#f0f921"
                                                    ]
                                                ],
                                                "type": "surface"
                                            }
                                        ],
                                        "table": [
                                            {
                                                "cells": {
                                                    "fill": {
                                                        "color": "#EBF0F8"
                                                    },
                                                    "line": {
                                                        "color": "white"
                                                    }
                                                },
                                                "header": {
                                                    "fill": {
                                                        "color": "#C8D4E3"
                                                    },
                                                    "line": {
                                                        "color": "white"
                                                    }
                                                },
                                                "type": "table"
                                            }
                                        ]
                                    },
                                    "layout": {
                                        "annotationdefaults": {
                                            "arrowcolor": "#2a3f5f",
                                            "arrowhead": 0,
                                            "arrowwidth": 1
                                        },
                                        "autotypenumbers": "strict",
                                        "coloraxis": {
                                            "colorbar": {
                                                "outlinewidth": 0,
                                                "ticks": ""
                                            }
                                        },
                                        "colorscale": {
                                            "diverging": [
                                                [
                                                    0,
                                                    "#8e0152"
                                                ],
                                                [
                                                    0.1,
                                                    "#c51b7d"
                                                ],
                                                [
                                                    0.2,
                                                    "#de77ae"
                                                ],
                                                [
                                                    0.3,
                                                    "#f1b6da"
                                                ],
                                                [
                                                    0.4,
                                                    "#fde0ef"
                                                ],
                                                [
                                                    0.5,
                                                    "#f7f7f7"
                                                ],
                                                [
                                                    0.6,
                                                    "#e6f5d0"
                                                ],
                                                [
                                                    0.7,
                                                    "#b8e186"
                                                ],
                                                [
                                                    0.8,
                                                    "#7fbc41"
                                                ],
                                                [
                                                    0.9,
                                                    "#4d9221"
                                                ],
                                                [
                                                    1,
                                                    "#276419"
                                                ]
                                            ],
                                            "sequential": [
                                                [
                                                    0,
                                                    "#0d0887"
                                                ],
                                                [
                                                    0.1111111111111111,
                                                    "#46039f"
                                                ],
                                                [
                                                    0.2222222222222222,
                                                    "#7201a8"
                                                ],
                                                [
                                                    0.3333333333333333,
                                                    "#9c179e"
                                                ],
                                                [
                                                    0.4444444444444444,
                                                    "#bd3786"
                                                ],
                                                [
                                                    0.5555555555555556,
                                                    "#d8576b"
                                                ],
                                                [
                                                    0.6666666666666666,
                                                    "#ed7953"
                                                ],
                                                [
                                                    0.7777777777777778,
                                                    "#fb9f3a"
                                                ],
                                                [
                                                    0.8888888888888888,
                                                    "#fdca26"
                                                ],
                                                [
                                                    1,
                                                    "#f0f921"
                                                ]
                                            ],
                                            "sequentialminus": [
                                                [
                                                    0,
                                                    "#0d0887"
                                                ],
                                                [
                                                    0.1111111111111111,
                                                    "#46039f"
                                                ],
                                                [
                                                    0.2222222222222222,
                                                    "#7201a8"
                                                ],
                                                [
                                                    0.3333333333333333,
                                                    "#9c179e"
                                                ],
                                                [
                                                    0.4444444444444444,
                                                    "#bd3786"
                                                ],
                                                [
                                                    0.5555555555555556,
                                                    "#d8576b"
                                                ],
                                                [
                                                    0.6666666666666666,
                                                    "#ed7953"
                                                ],
                                                [
                                                    0.7777777777777778,
                                                    "#fb9f3a"
                                                ],
                                                [
                                                    0.8888888888888888,
                                                    "#fdca26"
                                                ],
                                                [
                                                    1,
                                                    "#f0f921"
                                                ]
                                            ]
                                        },
                                        "colorway": [
                                            "#636efa",
                                            "#EF553B",
                                            "#00cc96",
                                            "#ab63fa",
                                            "#FFA15A",
                                            "#19d3f3",
                                            "#FF6692",
                                            "#B6E880",
                                            "#FF97FF",
                                            "#FECB52"
                                        ],
                                        "font": {
                                            "color": "#2a3f5f"
                                        },
                                        "geo": {
                                            "bgcolor": "white",
                                            "lakecolor": "white",
                                            "landcolor": "#E5ECF6",
                                            "showlakes": true,
                                            "showland": true,
                                            "subunitcolor": "white"
                                        },
                                        "hoverlabel": {
                                            "align": "left"
                                        },
                                        "hovermode": "closest",
                                        "mapbox": {
                                            "style": "light"
                                        },
                                        "paper_bgcolor": "white",
                                        "plot_bgcolor": "#E5ECF6",
                                        "polar": {
                                            "angularaxis": {
                                                "gridcolor": "white",
                                                "linecolor": "white",
                                                "ticks": ""
                                            },
                                            "bgcolor": "#E5ECF6",
                                            "radialaxis": {
                                                "gridcolor": "white",
                                                "linecolor": "white",
                                                "ticks": ""
                                            }
                                        },
                                        "scene": {
                                            "xaxis": {
                                                "backgroundcolor": "#E5ECF6",
                                                "gridcolor": "white",
                                                "gridwidth": 2,
                                                "linecolor": "white",
                                                "showbackground": true,
                                                "ticks": "",
                                                "zerolinecolor": "white"
                                            },
                                            "yaxis": {
                                                "backgroundcolor": "#E5ECF6",
                                                "gridcolor": "white",
                                                "gridwidth": 2,
                                                "linecolor": "white",
                                                "showbackground": true,
                                                "ticks": "",
                                                "zerolinecolor": "white"
                                            },
                                            "zaxis": {
                                                "backgroundcolor": "#E5ECF6",
                                                "gridcolor": "white",
                                                "gridwidth": 2,
                                                "linecolor": "white",
                                                "showbackground": true,
                                                "ticks": "",
                                                "zerolinecolor": "white"
                                            }
                                        },
                                        "shapedefaults": {
                                            "line": {
                                                "color": "#2a3f5f"
                                            }
                                        },
                                        "ternary": {
                                            "aaxis": {
                                                "gridcolor": "white",
                                                "linecolor": "white",
                                                "ticks": ""
                                            },
                                            "baxis": {
                                                "gridcolor": "white",
                                                "linecolor": "white",
                                                "ticks": ""
                                            },
                                            "bgcolor": "#E5ECF6",
                                            "caxis": {
                                                "gridcolor": "white",
                                                "linecolor": "white",
                                                "ticks": ""
                                            }
                                        },
                                        "title": {
                                            "x": 0.05
                                        },
                                        "xaxis": {
                                            "automargin": true,
                                            "gridcolor": "white",
                                            "linecolor": "white",
                                            "ticks": "",
                                            "title": {
                                                "standoff": 15
                                            },
                                            "zerolinecolor": "white",
                                            "zerolinewidth": 2
                                        },
                                        "yaxis": {
                                            "automargin": true,
                                            "gridcolor": "white",
                                            "linecolor": "white",
                                            "ticks": "",
                                            "title": {
                                                "standoff": 15
                                            },
                                            "zerolinecolor": "white",
                                            "zerolinewidth": 2
                                        }
                                    }
                                },
                                "title": {
                                    "text": "1D Advection Equation"
                                },
                                "xaxis": {
                                    "anchor": "y",
                                    "domain": [
                                        0,
                                        1
                                    ],
                                    "title": {
                                        "text": "x"
                                    }
                                },
                                "yaxis": {
                                    "anchor": "x",
                                    "domain": [
                                        0,
                                        1
                                    ],
                                    "title": {
                                        "text": "u"
                                    }
                                }
                            }
                        }
                    },
                    "metadata": {},
                    "output_type": "display_data"
                }
            ],
            "source": [
                "# plot initial condition\n",
                "fig = px.line(x=x, y=u0, labels={'x': 'x', 'y': 'u'}, title='1D Advection Equation')\n",
                "fig.add_scatter(x=x, y=u0, mode='lines', name='Initial condition')\n",
                "fig.show()"
            ]
        },
        {
            "cell_type": "code",
            "execution_count": 19,
            "id": "801d5f3b",
            "metadata": {},
            "outputs": [
                {
                    "data": {
                        "application/vnd.plotly.v1+json": {
                            "config": {
                                "plotlyServerURL": "https://plot.ly"
                            },
                            "data": [
                                {
                                    "mode": "lines",
                                    "type": "scatter3d",
                                    "x": {
                                        "bdata": "AAAAAAAAAAB7FK5H4XqUP3sUrkfheqQ/uB6F61G4rj97FK5H4Xq0P5qZmZmZmbk/uB6F61G4vj/sUbgehevBP3sUrkfhesQ/CtejcD0Kxz+amZmZmZnJPylcj8L1KMw/uB6F61G4zj+kcD0K16PQP+xRuB6F69E/MzMzMzMz0z97FK5H4XrUP8P1KFyPwtU/CtejcD0K1z9SuB6F61HYP5qZmZmZmdk/4XoUrkfh2j8pXI/C9SjcP3E9CtejcN0/uB6F61G43j8AAAAAAADgP6RwPQrXo+A/SOF6FK5H4T/sUbgehevhP4/C9Shcj+I/MzMzMzMz4z/Xo3A9CtfjP3sUrkfheuQ/H4XrUbge5T/D9Shcj8LlP2dmZmZmZuY/CtejcD0K5z+uR+F6FK7nP1K4HoXrUeg/9ihcj8L16D+amZmZmZnpPz4K16NwPeo/4XoUrkfh6j+F61G4HoXrPylcj8L1KOw/zczMzMzM7D9xPQrXo3DtPxWuR+F6FO4/uB6F61G47j9cj8L1KFzvPwAAAAAAAPA/UrgehetR8D+kcD0K16PwP/YoXI/C9fA/SOF6FK5H8T+amZmZmZnxP+xRuB6F6/E/PgrXo3A98j+PwvUoXI/yP+F6FK5H4fI/MzMzMzMz8z+F61G4HoXzP9ejcD0K1/M/KVyPwvUo9D97FK5H4Xr0P83MzMzMzPQ/H4XrUbge9T9xPQrXo3D1P8P1KFyPwvU/Fa5H4XoU9j9nZmZmZmb2P7gehetRuPY/CtejcD0K9z9cj8L1KFz3P65H4XoUrvc/AAAAAAAA+D9SuB6F61H4P6RwPQrXo/g/9ihcj8L1+D9I4XoUrkf5P5qZmZmZmfk/7FG4HoXr+T8+CtejcD36P5DC9Shcj/o/4XoUrkfh+j8zMzMzMzP7P4XrUbgehfs/16NwPQrX+z8pXI/C9Sj8P3sUrkfhevw/zczMzMzM/D8fhetRuB79P3E9CtejcP0/w/UoXI/C/T8VrkfhehT+P2dmZmZmZv4/uB6F61G4/j8K16NwPQr/P1yPwvUoXP8/rkfhehSu/z8AAAAAAAAAQA==",
                                        "dtype": "f8"
                                    },
                                    "y": {
                                        "bdata": "AAAAAAAAAAAAAAAAAAAAAAAAAAAAAAAAAAAAAAAAAAAAAAAAAAAAAAAAAAAAAAAAAAAAAAAAAAAAAAAAAAAAAAAAAAAAAAAAAAAAAAAAAAAAAAAAAAAAAAAAAAAAAAAAAAAAAAAAAAAAAAAAAAAAAAAAAAAAAAAAAAAAAAAAAAAAAAAAAAAAAAAAAAAAAAAAAAAAAAAAAAAAAAAAAAAAAAAAAAAAAAAAAAAAAAAAAAAAAAAAAAAAAAAAAAAAAAAAAAAAAAAAAAAAAAAAAAAAAAAAAAAAAAAAAAAAAAAAAAAAAAAAAAAAAAAAAAAAAAAAAAAAAAAAAAAAAAAAAAAAAAAAAAAAAAAAAAAAAAAAAAAAAAAAAAAAAAAAAAAAAAAAAAAAAAAAAAAAAAAAAAAAAAAAAAAAAAAAAAAAAAAAAAAAAAAAAAAAAAAAAAAAAAAAAAAAAAAAAAAAAAAAAAAAAAAAAAAAAAAAAAAAAAAAAAAAAAAAAAAAAAAAAAAAAAAAAAAAAAAAAAAAAAAAAAAAAAAAAAAAAAAAAAAAAAAAAAAAAAAAAAAAAAAAAAAAAAAAAAAAAAAAAAAAAAAAAAAAAAAAAAAAAAAAAAAAAAAAAAAAAAAAAAAAAAAAAAAAAAAAAAAAAAAAAAAAAAAAAAAAAAAAAAAAAAAAAAAAAAAAAAAAAAAAAAAAAAAAAAAAAAAAAAAAAAAAAAAAAAAAAAAAAAAAAAAAAAAAAAAAAAAAAAAAAAAAAAAAAAAAAAAAAAAAAAAAAAAAAAAAAAAAAAAAAAAAAAAAAAAAAAAAAAAAAAAAAAAAAAAAAAAAAAAAAAAAAAAAAAAAAAAAAAAAAAAAAAAAAAAAAAAAAAAAAAAAAAAAAAAAAAAAAAAAAAAAAAAAAAAAAAAAAAAAAAAAAAAAAAAAAAAAAAAAAAAAAAAAAAAAAAAAAAAAAAAAAAAAAAAAAAAAAAAAAAAAAAAAAAAAAAAAAAAAAAAAAAAAAAAAAAAAAAAAAAAAAAAAAAAAAAAAAAAAAAAAAAAAAAAAAAAAAAAAAAAAAAAAAAAAAAAAAAAAAAAAAAAAAA==",
                                        "dtype": "f8"
                                    },
                                    "z": {
                                        "bdata": "AAAAAAAAAAB5k+AbChOwP+BboV3rCsA/eHoDZRz8xz+WBxz6EdXPP0/pLzfvxtM/GKmoSFqP1z+dgSXJ9z/bP1Kpv1wN1d4/USsYPH4l4T9eWnUEI8/iP7sBtf7GZeQ/EyARVc/n5T8WuNIDtlPnP+prW2MLqOg/qPSXm3fj6T+GLmT/uwTrP1rAgU60Cuw/jBXc3Ff07D/kWu+dusDtP/9URBMOb+4/4B4QHaL+7j/+CSWs5W7vPwPZgFRnv+8//kPkv9Xv7z8AAAAAAADwP/5D5L/V7+8/AtmAVGe/7z/+CSWs5W7vP+EeEB2i/u4/AFVEEw5v7j/lWu+dusDtP4sV3NxX9Ow/WMCBTrQK7D+FLmT/uwTrP6j0l5t34+k/6mtbYwuo6D8VuNIDtlPnPxUgEVXP5+U/vQG1/sZl5D9fWnUEI8/iP1ErGDx+JeE/V6m/XA3V3j+ggSXJ9z/bPxypqEhaj9c/UekvN+/G0z+XBxz6EdXPP3d6A2Uc/Mc/6luhXesKwD+Ik+AbChOwPwdcFDMmpqE8d5PgGwoTsL/hW6Fd6wrAv356A2Uc/Me/ngcc+hHVz79V6S8378bTvx+pqEhaj9e/nIElyfc/279Mqb9cDdXev08rGDx+JeG/XVp1BCPP4r+7AbX+xmXkvxQgEVXP5+W/FLjSA7ZT57/ra1tjC6jov6f0l5t34+m/iC5k/7sE679ZwIFOtArsv44V3NxX9Oy/5VrvnbrA7b//VEQTDm/uv98eEB2i/u6//wklrOVu778C2YBUZ7/vv/5D5L/V7++/AAAAAAAA8L/+Q+S/1e/vvwPZgFRnv++//wklrOVu77/gHhAdov7uvwBVRBMOb+6/41rvnbrA7b+MFdzcV/Tsv1fAgU60Cuy/ii5k/7sE67+p9Jebd+Ppv+1rW2MLqOi/FrjSA7ZT578WIBFVz+flv7sBtf7GZeS/YFp1BCPP4r9OKxg8fiXhv1Kpv1wN1d6/lIElyfc/278XqahIWo/Xv1TpLzfvxtO/qgcc+hHVz797egNlHPzHv+5boV3rCsC/cZPgGwoTsL8HXBQzJqaxvA==",
                                        "dtype": "f8"
                                    }
                                },
                                {
                                    "mode": "lines",
                                    "type": "scatter3d",
                                    "x": {
                                        "bdata": "AAAAAAAAAAB7FK5H4XqUP3sUrkfheqQ/uB6F61G4rj97FK5H4Xq0P5qZmZmZmbk/uB6F61G4vj/sUbgehevBP3sUrkfhesQ/CtejcD0Kxz+amZmZmZnJPylcj8L1KMw/uB6F61G4zj+kcD0K16PQP+xRuB6F69E/MzMzMzMz0z97FK5H4XrUP8P1KFyPwtU/CtejcD0K1z9SuB6F61HYP5qZmZmZmdk/4XoUrkfh2j8pXI/C9SjcP3E9CtejcN0/uB6F61G43j8AAAAAAADgP6RwPQrXo+A/SOF6FK5H4T/sUbgehevhP4/C9Shcj+I/MzMzMzMz4z/Xo3A9CtfjP3sUrkfheuQ/H4XrUbge5T/D9Shcj8LlP2dmZmZmZuY/CtejcD0K5z+uR+F6FK7nP1K4HoXrUeg/9ihcj8L16D+amZmZmZnpPz4K16NwPeo/4XoUrkfh6j+F61G4HoXrPylcj8L1KOw/zczMzMzM7D9xPQrXo3DtPxWuR+F6FO4/uB6F61G47j9cj8L1KFzvPwAAAAAAAPA/UrgehetR8D+kcD0K16PwP/YoXI/C9fA/SOF6FK5H8T+amZmZmZnxP+xRuB6F6/E/PgrXo3A98j+PwvUoXI/yP+F6FK5H4fI/MzMzMzMz8z+F61G4HoXzP9ejcD0K1/M/KVyPwvUo9D97FK5H4Xr0P83MzMzMzPQ/H4XrUbge9T9xPQrXo3D1P8P1KFyPwvU/Fa5H4XoU9j9nZmZmZmb2P7gehetRuPY/CtejcD0K9z9cj8L1KFz3P65H4XoUrvc/AAAAAAAA+D9SuB6F61H4P6RwPQrXo/g/9ihcj8L1+D9I4XoUrkf5P5qZmZmZmfk/7FG4HoXr+T8+CtejcD36P5DC9Shcj/o/4XoUrkfh+j8zMzMzMzP7P4XrUbgehfs/16NwPQrX+z8pXI/C9Sj8P3sUrkfhevw/zczMzMzM/D8fhetRuB79P3E9CtejcP0/w/UoXI/C/T8VrkfhehT+P2dmZmZmZv4/uB6F61G4/j8K16NwPQr/P1yPwvUoXP8/rkfhehSu/z8AAAAAAAAAQA==",
                                        "dtype": "f8"
                                    },
                                    "y": {
                                        "bdata": "exSuR+F6hD97FK5H4XqEP3sUrkfheoQ/exSuR+F6hD97FK5H4XqEP3sUrkfheoQ/exSuR+F6hD97FK5H4XqEP3sUrkfheoQ/exSuR+F6hD97FK5H4XqEP3sUrkfheoQ/exSuR+F6hD97FK5H4XqEP3sUrkfheoQ/exSuR+F6hD97FK5H4XqEP3sUrkfheoQ/exSuR+F6hD97FK5H4XqEP3sUrkfheoQ/exSuR+F6hD97FK5H4XqEP3sUrkfheoQ/exSuR+F6hD97FK5H4XqEP3sUrkfheoQ/exSuR+F6hD97FK5H4XqEP3sUrkfheoQ/exSuR+F6hD97FK5H4XqEP3sUrkfheoQ/exSuR+F6hD97FK5H4XqEP3sUrkfheoQ/exSuR+F6hD97FK5H4XqEP3sUrkfheoQ/exSuR+F6hD97FK5H4XqEP3sUrkfheoQ/exSuR+F6hD97FK5H4XqEP3sUrkfheoQ/exSuR+F6hD97FK5H4XqEP3sUrkfheoQ/exSuR+F6hD97FK5H4XqEP3sUrkfheoQ/exSuR+F6hD97FK5H4XqEP3sUrkfheoQ/exSuR+F6hD97FK5H4XqEP3sUrkfheoQ/exSuR+F6hD97FK5H4XqEP3sUrkfheoQ/exSuR+F6hD97FK5H4XqEP3sUrkfheoQ/exSuR+F6hD97FK5H4XqEP3sUrkfheoQ/exSuR+F6hD97FK5H4XqEP3sUrkfheoQ/exSuR+F6hD97FK5H4XqEP3sUrkfheoQ/exSuR+F6hD97FK5H4XqEP3sUrkfheoQ/exSuR+F6hD97FK5H4XqEP3sUrkfheoQ/exSuR+F6hD97FK5H4XqEP3sUrkfheoQ/exSuR+F6hD97FK5H4XqEP3sUrkfheoQ/exSuR+F6hD97FK5H4XqEP3sUrkfheoQ/exSuR+F6hD97FK5H4XqEP3sUrkfheoQ/exSuR+F6hD97FK5H4XqEP3sUrkfheoQ/exSuR+F6hD97FK5H4XqEP3sUrkfheoQ/exSuR+F6hD97FK5H4XqEP3sUrkfheoQ/exSuR+F6hD97FK5H4XqEPw==",
                                        "dtype": "f8"
                                    },
                                    "z": {
                                        "bdata": "YFj3LRIVoL9gWPctEhWgP+8X/H97F7g/dVOoZwsGxD9qH9IjHuzLPw4OFIP92tE/3JZX0OGt1T/C6Xz83mrZPwDeRCsuDt0/46IeORFK4D/qALBHlvzhPwqs3UDvnOM/7LJAgHcp5T/NO39mnqDmP9zFDe7oAOg/8ZEdKvNI6T8JUTWucXfqPzzKCN0yi+s/bCw9HSCD7D/tF+LyPl7tP9f/gvyxG+4/cTXR0rm67j/3pATKtTrvP1zkL5Qkm+8/XJPjw6Tb7z+GEJ0u9fvvP4YQnS71++8/XJPjw6Tb7z9b5C+UJJvvP/ikBMq1Ou8/cjXR0rm67j/X/4L8sRvuP+4X4vI+Xu0/bSw9HSCD7D88ygjdMovrPwhRNa5xd+o/85EdKvNI6T/cxQ3u6ADoP807f2aeoOY/7LJAgHcp5T8KrN1A75zjP+kAsEeW/OE/5aIeORFK4D8C3kQrLg7dP8LpfPzeatk/25ZX0OGt1T8LDhSD/drRP2Ef0iMe7Ms/eVOoZwsGxD/yF/x/exe4P1hY9y0SFaA/NVj3LRIVoL/gF/x/exe4v3BTqGcLBsS/aB/SIx7sy78ODhSD/drRv96WV9DhrdW/xel8/N5q2b/33UQrLg7dv+CiHjkRSuC/5wCwR5b84b8JrN1A75zjv+uyQIB3KeW/zDt/Zp6g5r/bxQ3u6ADov/KRHSrzSOm/B1E1rnF36r89ygjdMovrv2wsPR0gg+y/7hfi8j5e7b/X/4L8sRvuv3E10dK5uu6/9qQEyrU6779b5C+UJJvvv1yT48Ok2++/hhCdLvX777+GEJ0u9fvvv1yT48Ok2++/XOQvlCSb77/3pATKtTrvv3I10dK5uu6/1v+C/LEb7r/sF+LyPl7tv24sPR0gg+y/PsoI3TKL678JUTWucXfqv/SRHSrzSOm/28UN7ugA6L/OO39mnqDmv/CyQIB3KeW/C6zdQO+c47/tALBHlvzhv+OiHjkRSuC/BN5EKy4O3b+96Xz83mrZv92WV9DhrdW/FQ4Ug/3a0b+FH9IjHuzLv31TqGcLBsS/Ghj8f3sXuL9qWPctEhWgvw==",
                                        "dtype": "f8"
                                    }
                                },
                                {
                                    "mode": "lines",
                                    "type": "scatter3d",
                                    "x": {
                                        "bdata": "AAAAAAAAAAB7FK5H4XqUP3sUrkfheqQ/uB6F61G4rj97FK5H4Xq0P5qZmZmZmbk/uB6F61G4vj/sUbgehevBP3sUrkfhesQ/CtejcD0Kxz+amZmZmZnJPylcj8L1KMw/uB6F61G4zj+kcD0K16PQP+xRuB6F69E/MzMzMzMz0z97FK5H4XrUP8P1KFyPwtU/CtejcD0K1z9SuB6F61HYP5qZmZmZmdk/4XoUrkfh2j8pXI/C9SjcP3E9CtejcN0/uB6F61G43j8AAAAAAADgP6RwPQrXo+A/SOF6FK5H4T/sUbgehevhP4/C9Shcj+I/MzMzMzMz4z/Xo3A9CtfjP3sUrkfheuQ/H4XrUbge5T/D9Shcj8LlP2dmZmZmZuY/CtejcD0K5z+uR+F6FK7nP1K4HoXrUeg/9ihcj8L16D+amZmZmZnpPz4K16NwPeo/4XoUrkfh6j+F61G4HoXrPylcj8L1KOw/zczMzMzM7D9xPQrXo3DtPxWuR+F6FO4/uB6F61G47j9cj8L1KFzvPwAAAAAAAPA/UrgehetR8D+kcD0K16PwP/YoXI/C9fA/SOF6FK5H8T+amZmZmZnxP+xRuB6F6/E/PgrXo3A98j+PwvUoXI/yP+F6FK5H4fI/MzMzMzMz8z+F61G4HoXzP9ejcD0K1/M/KVyPwvUo9D97FK5H4Xr0P83MzMzMzPQ/H4XrUbge9T9xPQrXo3D1P8P1KFyPwvU/Fa5H4XoU9j9nZmZmZmb2P7gehetRuPY/CtejcD0K9z9cj8L1KFz3P65H4XoUrvc/AAAAAAAA+D9SuB6F61H4P6RwPQrXo/g/9ihcj8L1+D9I4XoUrkf5P5qZmZmZmfk/7FG4HoXr+T8+CtejcD36P5DC9Shcj/o/4XoUrkfh+j8zMzMzMzP7P4XrUbgehfs/16NwPQrX+z8pXI/C9Sj8P3sUrkfhevw/zczMzMzM/D8fhetRuB79P3E9CtejcP0/w/UoXI/C/T8VrkfhehT+P2dmZmZmZv4/uB6F61G4/j8K16NwPQr/P1yPwvUoXP8/rkfhehSu/z8AAAAAAAAAQA==",
                                        "dtype": "f8"
                                    },
                                    "y": {
                                        "bdata": "exSuR+F6lD97FK5H4XqUP3sUrkfhepQ/exSuR+F6lD97FK5H4XqUP3sUrkfhepQ/exSuR+F6lD97FK5H4XqUP3sUrkfhepQ/exSuR+F6lD97FK5H4XqUP3sUrkfhepQ/exSuR+F6lD97FK5H4XqUP3sUrkfhepQ/exSuR+F6lD97FK5H4XqUP3sUrkfhepQ/exSuR+F6lD97FK5H4XqUP3sUrkfhepQ/exSuR+F6lD97FK5H4XqUP3sUrkfhepQ/exSuR+F6lD97FK5H4XqUP3sUrkfhepQ/exSuR+F6lD97FK5H4XqUP3sUrkfhepQ/exSuR+F6lD97FK5H4XqUP3sUrkfhepQ/exSuR+F6lD97FK5H4XqUP3sUrkfhepQ/exSuR+F6lD97FK5H4XqUP3sUrkfhepQ/exSuR+F6lD97FK5H4XqUP3sUrkfhepQ/exSuR+F6lD97FK5H4XqUP3sUrkfhepQ/exSuR+F6lD97FK5H4XqUP3sUrkfhepQ/exSuR+F6lD97FK5H4XqUP3sUrkfhepQ/exSuR+F6lD97FK5H4XqUP3sUrkfhepQ/exSuR+F6lD97FK5H4XqUP3sUrkfhepQ/exSuR+F6lD97FK5H4XqUP3sUrkfhepQ/exSuR+F6lD97FK5H4XqUP3sUrkfhepQ/exSuR+F6lD97FK5H4XqUP3sUrkfhepQ/exSuR+F6lD97FK5H4XqUP3sUrkfhepQ/exSuR+F6lD97FK5H4XqUP3sUrkfhepQ/exSuR+F6lD97FK5H4XqUP3sUrkfhepQ/exSuR+F6lD97FK5H4XqUP3sUrkfhepQ/exSuR+F6lD97FK5H4XqUP3sUrkfhepQ/exSuR+F6lD97FK5H4XqUP3sUrkfhepQ/exSuR+F6lD97FK5H4XqUP3sUrkfhepQ/exSuR+F6lD97FK5H4XqUP3sUrkfhepQ/exSuR+F6lD97FK5H4XqUP3sUrkfhepQ/exSuR+F6lD97FK5H4XqUP3sUrkfhepQ/exSuR+F6lD97FK5H4XqUP3sUrkfhepQ/exSuR+F6lD97FK5H4XqUPw==",
                                        "dtype": "f8"
                                    },
                                    "z": {
                                        "bdata": "eZPgGwoTsL8AAAAAAAAAAHmT4BsKE7A/31uhXesKwD94egNlHPzHP5YHHPoR1c8/T+kvN+/G0z8ZqahIWo/XP52BJcn3P9s/Uqm/XA3V3j9RKxg8fiXhP15adQQjz+I/uwG1/sZl5D8UIBFVz+flPxa40gO2U+c/6WtbYwuo6D+o9Jebd+PpP4YuZP+7BOs/WcCBTrQK7D+MFdzcV/TsP+Ra7526wO0//1REEw5v7j/gHhAdov7uP/4JJazlbu8/AtmAVGe/7z/+Q+S/1e/vPwAAAAAAAPA//kPkv9Xv7z8C2YBUZ7/vP/8JJazlbu8/4R4QHaL+7j8AVUQTDm/uP+Va7526wO0/ixXc3Ff07D9YwIFOtArsP4UuZP+7BOs/qPSXm3fj6T/qa1tjC6joPxW40gO2U+c/FSARVc/n5T+9AbX+xmXkP19adQQjz+I/VCsYPH4l4T9Xqb9cDdXeP6CBJcn3P9s/HKmoSFqP1z9R6S8378bTP5cHHPoR1c8/h3oDZRz8xz/qW6Fd6wrAP4iT4BsKE7A/B1wUMyamoTx3k+AbChOwv+FboV3rCsC/fnoDZRz8x7+eBxz6EdXPv1XpLzfvxtO/H6moSFqP17+VgSXJ9z/bv0ypv1wN1d6/TysYPH4l4b9dWnUEI8/iv7sBtf7GZeS/FCARVc/n5b8UuNIDtlPnv+trW2MLqOi/p/SXm3fj6b+ILmT/uwTrv1nAgU60Cuy/jhXc3Ff07L/lWu+dusDtv/9URBMOb+6/3x4QHaL+7r//CSWs5W7vvwLZgFRnv++//kPkv9Xv778AAAAAAADwv/5D5L/V7++/A9mAVGe/77//CSWs5W7vv+AeEB2i/u6/AFVEEw5v7r/jWu+dusDtv4wV3NxX9Oy/W8CBTrQK7L+KLmT/uwTrv6n0l5t34+m/7WtbYwuo6L8WuNIDtlPnvxYgEVXP5+W/uwG1/sZl5L9gWnUEI8/iv04rGDx+JeG/Uqm/XA3V3r+UgSXJ9z/bvxepqEhaj9e/VOkvN+/G07+qBxz6EdXPv3t6A2Uc/Me/7luhXesKwL9xk+AbChOwvw==",
                                        "dtype": "f8"
                                    }
                                },
                                {
                                    "mode": "lines",
                                    "type": "scatter3d",
                                    "x": {
                                        "bdata": "AAAAAAAAAAB7FK5H4XqUP3sUrkfheqQ/uB6F61G4rj97FK5H4Xq0P5qZmZmZmbk/uB6F61G4vj/sUbgehevBP3sUrkfhesQ/CtejcD0Kxz+amZmZmZnJPylcj8L1KMw/uB6F61G4zj+kcD0K16PQP+xRuB6F69E/MzMzMzMz0z97FK5H4XrUP8P1KFyPwtU/CtejcD0K1z9SuB6F61HYP5qZmZmZmdk/4XoUrkfh2j8pXI/C9SjcP3E9CtejcN0/uB6F61G43j8AAAAAAADgP6RwPQrXo+A/SOF6FK5H4T/sUbgehevhP4/C9Shcj+I/MzMzMzMz4z/Xo3A9CtfjP3sUrkfheuQ/H4XrUbge5T/D9Shcj8LlP2dmZmZmZuY/CtejcD0K5z+uR+F6FK7nP1K4HoXrUeg/9ihcj8L16D+amZmZmZnpPz4K16NwPeo/4XoUrkfh6j+F61G4HoXrPylcj8L1KOw/zczMzMzM7D9xPQrXo3DtPxWuR+F6FO4/uB6F61G47j9cj8L1KFzvPwAAAAAAAPA/UrgehetR8D+kcD0K16PwP/YoXI/C9fA/SOF6FK5H8T+amZmZmZnxP+xRuB6F6/E/PgrXo3A98j+PwvUoXI/yP+F6FK5H4fI/MzMzMzMz8z+F61G4HoXzP9ejcD0K1/M/KVyPwvUo9D97FK5H4Xr0P83MzMzMzPQ/H4XrUbge9T9xPQrXo3D1P8P1KFyPwvU/Fa5H4XoU9j9nZmZmZmb2P7gehetRuPY/CtejcD0K9z9cj8L1KFz3P65H4XoUrvc/AAAAAAAA+D9SuB6F61H4P6RwPQrXo/g/9ihcj8L1+D9I4XoUrkf5P5qZmZmZmfk/7FG4HoXr+T8+CtejcD36P5DC9Shcj/o/4XoUrkfh+j8zMzMzMzP7P4XrUbgehfs/16NwPQrX+z8pXI/C9Sj8P3sUrkfhevw/zczMzMzM/D8fhetRuB79P3E9CtejcP0/w/UoXI/C/T8VrkfhehT+P2dmZmZmZv4/uB6F61G4/j8K16NwPQr/P1yPwvUoXP8/rkfhehSu/z8AAAAAAAAAQA==",
                                        "dtype": "f8"
                                    },
                                    "y": {
                                        "bdata": "uB6F61G4nj+4HoXrUbieP7gehetRuJ4/uB6F61G4nj+4HoXrUbieP7gehetRuJ4/uB6F61G4nj+4HoXrUbieP7gehetRuJ4/uB6F61G4nj+4HoXrUbieP7gehetRuJ4/uB6F61G4nj+4HoXrUbieP7gehetRuJ4/uB6F61G4nj+4HoXrUbieP7gehetRuJ4/uB6F61G4nj+4HoXrUbieP7gehetRuJ4/uB6F61G4nj+4HoXrUbieP7gehetRuJ4/uB6F61G4nj+4HoXrUbieP7gehetRuJ4/uB6F61G4nj+4HoXrUbieP7gehetRuJ4/uB6F61G4nj+4HoXrUbieP7gehetRuJ4/uB6F61G4nj+4HoXrUbieP7gehetRuJ4/uB6F61G4nj+4HoXrUbieP7gehetRuJ4/uB6F61G4nj+4HoXrUbieP7gehetRuJ4/uB6F61G4nj+4HoXrUbieP7gehetRuJ4/uB6F61G4nj+4HoXrUbieP7gehetRuJ4/uB6F61G4nj+4HoXrUbieP7gehetRuJ4/uB6F61G4nj+4HoXrUbieP7gehetRuJ4/uB6F61G4nj+4HoXrUbieP7gehetRuJ4/uB6F61G4nj+4HoXrUbieP7gehetRuJ4/uB6F61G4nj+4HoXrUbieP7gehetRuJ4/uB6F61G4nj+4HoXrUbieP7gehetRuJ4/uB6F61G4nj+4HoXrUbieP7gehetRuJ4/uB6F61G4nj+4HoXrUbieP7gehetRuJ4/uB6F61G4nj+4HoXrUbieP7gehetRuJ4/uB6F61G4nj+4HoXrUbieP7gehetRuJ4/uB6F61G4nj+4HoXrUbieP7gehetRuJ4/uB6F61G4nj+4HoXrUbieP7gehetRuJ4/uB6F61G4nj+4HoXrUbieP7gehetRuJ4/uB6F61G4nj+4HoXrUbieP7gehetRuJ4/uB6F61G4nj+4HoXrUbieP7gehetRuJ4/uB6F61G4nj+4HoXrUbieP7gehetRuJ4/uB6F61G4nj+4HoXrUbieP7gehetRuJ4/uB6F61G4nj+4HoXrUbiePw==",
                                        "dtype": "f8"
                                    },
                                    "z": {
                                        "bdata": "7xf8f3sXuL9fWPctEhWgv2BY9y0SFaA/7xf8f3sXuD91U6hnCwbEP2of0iMe7Ms/Dg4Ug/3a0T/dllfQ4a3VP8LpfPzeatk/AN5EKy4O3T/koh45EUrgP+oAsEeW/OE/CqzdQO+c4z/sskCAdynlP807f2aeoOY/3MUN7ugA6D/ykR0q80jpPwlRNa5xd+o/O8oI3TKL6z9sLD0dIIPsP+0X4vI+Xu0/1/+C/LEb7j9yNdHSubruP/ikBMq1Ou8/W+QvlCSb7z9ck+PDpNvvP4YQnS71++8/hhCdLvX77z9ck+PDpNvvP1zkL5Qkm+8/+KQEyrU67z9yNdHSubruP9f/gvyxG+4/7hfi8j5e7T9tLD0dIIPsPzzKCN0yi+s/C1E1rnF36j/zkR0q80jpP9zFDe7oAOg/zTt/Zp6g5j/sskCAdynlPwqs3UDvnOM/7ACwR5b84T/loh45EUrgPwLeRCsuDt0/wul8/N5q2T/bllfQ4a3VPwsOFIP92tE/cR/SIx7syz95U6hnCwbEP/IX/H97F7g/WFj3LRIVoD81WPctEhWgv+AX/H97F7i/cFOoZwsGxL9oH9IjHuzLvw4OFIP92tG/3pZX0OGt1b+36Xz83mrZv/fdRCsuDt2/4KIeORFK4L/nALBHlvzhvwms3UDvnOO/67JAgHcp5b/MO39mnqDmv9vFDe7oAOi/8pEdKvNI6b8HUTWucXfqvz3KCN0yi+u/bCw9HSCD7L/uF+LyPl7tv9T/gvyxG+6/cTXR0rm67r/2pATKtTrvv1vkL5Qkm++/XJPjw6Tb77+GEJ0u9fvvv4YQnS71+++/XJPjw6Tb779c5C+UJJvvv/ekBMq1Ou+/cjXR0rm67r/W/4L8sRvuv+wX4vI+Xu2/biw9HSCD7L8+ygjdMovrvwlRNa5xd+q/9JEdKvNI6b/bxQ3u6ADov847f2aeoOa/8LJAgHcp5b8LrN1A75zjv+0AsEeW/OG/46IeORFK4L8E3kQrLg7dv73pfPzeatm/7JZX0OGt1b8VDhSD/drRv4Uf0iMe7Mu/fVOoZwsGxL8aGPx/exe4vw==",
                                        "dtype": "f8"
                                    }
                                },
                                {
                                    "mode": "lines",
                                    "type": "scatter3d",
                                    "x": {
                                        "bdata": "AAAAAAAAAAB7FK5H4XqUP3sUrkfheqQ/uB6F61G4rj97FK5H4Xq0P5qZmZmZmbk/uB6F61G4vj/sUbgehevBP3sUrkfhesQ/CtejcD0Kxz+amZmZmZnJPylcj8L1KMw/uB6F61G4zj+kcD0K16PQP+xRuB6F69E/MzMzMzMz0z97FK5H4XrUP8P1KFyPwtU/CtejcD0K1z9SuB6F61HYP5qZmZmZmdk/4XoUrkfh2j8pXI/C9SjcP3E9CtejcN0/uB6F61G43j8AAAAAAADgP6RwPQrXo+A/SOF6FK5H4T/sUbgehevhP4/C9Shcj+I/MzMzMzMz4z/Xo3A9CtfjP3sUrkfheuQ/H4XrUbge5T/D9Shcj8LlP2dmZmZmZuY/CtejcD0K5z+uR+F6FK7nP1K4HoXrUeg/9ihcj8L16D+amZmZmZnpPz4K16NwPeo/4XoUrkfh6j+F61G4HoXrPylcj8L1KOw/zczMzMzM7D9xPQrXo3DtPxWuR+F6FO4/uB6F61G47j9cj8L1KFzvPwAAAAAAAPA/UrgehetR8D+kcD0K16PwP/YoXI/C9fA/SOF6FK5H8T+amZmZmZnxP+xRuB6F6/E/PgrXo3A98j+PwvUoXI/yP+F6FK5H4fI/MzMzMzMz8z+F61G4HoXzP9ejcD0K1/M/KVyPwvUo9D97FK5H4Xr0P83MzMzMzPQ/H4XrUbge9T9xPQrXo3D1P8P1KFyPwvU/Fa5H4XoU9j9nZmZmZmb2P7gehetRuPY/CtejcD0K9z9cj8L1KFz3P65H4XoUrvc/AAAAAAAA+D9SuB6F61H4P6RwPQrXo/g/9ihcj8L1+D9I4XoUrkf5P5qZmZmZmfk/7FG4HoXr+T8+CtejcD36P5DC9Shcj/o/4XoUrkfh+j8zMzMzMzP7P4XrUbgehfs/16NwPQrX+z8pXI/C9Sj8P3sUrkfhevw/zczMzMzM/D8fhetRuB79P3E9CtejcP0/w/UoXI/C/T8VrkfhehT+P2dmZmZmZv4/uB6F61G4/j8K16NwPQr/P1yPwvUoXP8/rkfhehSu/z8AAAAAAAAAQA==",
                                        "dtype": "f8"
                                    },
                                    "y": {
                                        "bdata": "exSuR+F6pD97FK5H4XqkP3sUrkfheqQ/exSuR+F6pD97FK5H4XqkP3sUrkfheqQ/exSuR+F6pD97FK5H4XqkP3sUrkfheqQ/exSuR+F6pD97FK5H4XqkP3sUrkfheqQ/exSuR+F6pD97FK5H4XqkP3sUrkfheqQ/exSuR+F6pD97FK5H4XqkP3sUrkfheqQ/exSuR+F6pD97FK5H4XqkP3sUrkfheqQ/exSuR+F6pD97FK5H4XqkP3sUrkfheqQ/exSuR+F6pD97FK5H4XqkP3sUrkfheqQ/exSuR+F6pD97FK5H4XqkP3sUrkfheqQ/exSuR+F6pD97FK5H4XqkP3sUrkfheqQ/exSuR+F6pD97FK5H4XqkP3sUrkfheqQ/exSuR+F6pD97FK5H4XqkP3sUrkfheqQ/exSuR+F6pD97FK5H4XqkP3sUrkfheqQ/exSuR+F6pD97FK5H4XqkP3sUrkfheqQ/exSuR+F6pD97FK5H4XqkP3sUrkfheqQ/exSuR+F6pD97FK5H4XqkP3sUrkfheqQ/exSuR+F6pD97FK5H4XqkP3sUrkfheqQ/exSuR+F6pD97FK5H4XqkP3sUrkfheqQ/exSuR+F6pD97FK5H4XqkP3sUrkfheqQ/exSuR+F6pD97FK5H4XqkP3sUrkfheqQ/exSuR+F6pD97FK5H4XqkP3sUrkfheqQ/exSuR+F6pD97FK5H4XqkP3sUrkfheqQ/exSuR+F6pD97FK5H4XqkP3sUrkfheqQ/exSuR+F6pD97FK5H4XqkP3sUrkfheqQ/exSuR+F6pD97FK5H4XqkP3sUrkfheqQ/exSuR+F6pD97FK5H4XqkP3sUrkfheqQ/exSuR+F6pD97FK5H4XqkP3sUrkfheqQ/exSuR+F6pD97FK5H4XqkP3sUrkfheqQ/exSuR+F6pD97FK5H4XqkP3sUrkfheqQ/exSuR+F6pD97FK5H4XqkP3sUrkfheqQ/exSuR+F6pD97FK5H4XqkP3sUrkfheqQ/exSuR+F6pD97FK5H4XqkP3sUrkfheqQ/exSuR+F6pD97FK5H4XqkPw==",
                                        "dtype": "f8"
                                    },
                                    "z": {
                                        "bdata": "4FuhXesKwL95k+AbChOwvwAAAAAAAAAAeJPgGwoTsD/gW6Fd6wrAP3l6A2Uc/Mc/lAcc+hHVzz9P6S8378bTPxipqEhaj9c/m4Elyfc/2z9Sqb9cDdXeP1ErGDx+JeE/Xlp1BCPP4j+7AbX+xmXkPxQgEVXP5+U/FrjSA7ZT5z/qa1tjC6joP6j0l5t34+k/hi5k/7sE6z9awIFOtArsP4wV3NxX9Ow/5FrvnbrA7T//VEQTDm/uP+AeEB2i/u4//gklrOVu7z8D2YBUZ7/vP/5D5L/V7+8/AAAAAAAA8D/+Q+S/1e/vPwPZgFRnv+8//wklrOVu7z/hHhAdov7uPwBVRBMOb+4/5VrvnbrA7T+LFdzcV/TsP1jAgU60Cuw/hy5k/7sE6z+o9Jebd+PpP+prW2MLqOg/FbjSA7ZT5z8VIBFVz+flP70Btf7GZeQ/X1p1BCPP4j9UKxg8fiXhP1epv1wN1d4/oIElyfc/2z8cqahIWo/XP1HpLzfvxtM/pgcc+hHVzz+HegNlHPzHP+pboV3rCsA/iJPgGwoTsD8HXBQzJqahPHeT4BsKE7C/4VuhXesKwL9+egNlHPzHv54HHPoR1c+/VekvN+/G078QqahIWo/Xv5WBJcn3P9u/TKm/XA3V3r9PKxg8fiXhv11adQQjz+K/uwG1/sZl5L8UIBFVz+flvxS40gO2U+e/62tbYwuo6L+n9Jebd+Ppv4guZP+7BOu/WcCBTrQK7L+OFdzcV/Tsv+Ja7526wO2//1REEw5v7r/fHhAdov7uv/8JJazlbu+/AtmAVGe/77/+Q+S/1e/vvwAAAAAAAPC//kPkv9Xv778D2YBUZ7/vv/8JJazlbu+/4B4QHaL+7r8AVUQTDm/uv+Na7526wO2/jxXc3Ff07L9bwIFOtArsv4ouZP+7BOu/qfSXm3fj6b/ta1tjC6jovxa40gO2U+e/FiARVc/n5b+7AbX+xmXkv2BadQQjz+K/TisYPH4l4b9Sqb9cDdXev5SBJcn3P9u/JqmoSFqP179U6S8378bTv6oHHPoR1c+/e3oDZRz8x7/uW6Fd6wrAvw==",
                                        "dtype": "f8"
                                    }
                                },
                                {
                                    "mode": "lines",
                                    "type": "scatter3d",
                                    "x": {
                                        "bdata": "AAAAAAAAAAB7FK5H4XqUP3sUrkfheqQ/uB6F61G4rj97FK5H4Xq0P5qZmZmZmbk/uB6F61G4vj/sUbgehevBP3sUrkfhesQ/CtejcD0Kxz+amZmZmZnJPylcj8L1KMw/uB6F61G4zj+kcD0K16PQP+xRuB6F69E/MzMzMzMz0z97FK5H4XrUP8P1KFyPwtU/CtejcD0K1z9SuB6F61HYP5qZmZmZmdk/4XoUrkfh2j8pXI/C9SjcP3E9CtejcN0/uB6F61G43j8AAAAAAADgP6RwPQrXo+A/SOF6FK5H4T/sUbgehevhP4/C9Shcj+I/MzMzMzMz4z/Xo3A9CtfjP3sUrkfheuQ/H4XrUbge5T/D9Shcj8LlP2dmZmZmZuY/CtejcD0K5z+uR+F6FK7nP1K4HoXrUeg/9ihcj8L16D+amZmZmZnpPz4K16NwPeo/4XoUrkfh6j+F61G4HoXrPylcj8L1KOw/zczMzMzM7D9xPQrXo3DtPxWuR+F6FO4/uB6F61G47j9cj8L1KFzvPwAAAAAAAPA/UrgehetR8D+kcD0K16PwP/YoXI/C9fA/SOF6FK5H8T+amZmZmZnxP+xRuB6F6/E/PgrXo3A98j+PwvUoXI/yP+F6FK5H4fI/MzMzMzMz8z+F61G4HoXzP9ejcD0K1/M/KVyPwvUo9D97FK5H4Xr0P83MzMzMzPQ/H4XrUbge9T9xPQrXo3D1P8P1KFyPwvU/Fa5H4XoU9j9nZmZmZmb2P7gehetRuPY/CtejcD0K9z9cj8L1KFz3P65H4XoUrvc/AAAAAAAA+D9SuB6F61H4P6RwPQrXo/g/9ihcj8L1+D9I4XoUrkf5P5qZmZmZmfk/7FG4HoXr+T8+CtejcD36P5DC9Shcj/o/4XoUrkfh+j8zMzMzMzP7P4XrUbgehfs/16NwPQrX+z8pXI/C9Sj8P3sUrkfhevw/zczMzMzM/D8fhetRuB79P3E9CtejcP0/w/UoXI/C/T8VrkfhehT+P2dmZmZmZv4/uB6F61G4/j8K16NwPQr/P1yPwvUoXP8/rkfhehSu/z8AAAAAAAAAQA==",
                                        "dtype": "f8"
                                    },
                                    "y": {
                                        "bdata": "mpmZmZmZqT+amZmZmZmpP5qZmZmZmak/mpmZmZmZqT+amZmZmZmpP5qZmZmZmak/mpmZmZmZqT+amZmZmZmpP5qZmZmZmak/mpmZmZmZqT+amZmZmZmpP5qZmZmZmak/mpmZmZmZqT+amZmZmZmpP5qZmZmZmak/mpmZmZmZqT+amZmZmZmpP5qZmZmZmak/mpmZmZmZqT+amZmZmZmpP5qZmZmZmak/mpmZmZmZqT+amZmZmZmpP5qZmZmZmak/mpmZmZmZqT+amZmZmZmpP5qZmZmZmak/mpmZmZmZqT+amZmZmZmpP5qZmZmZmak/mpmZmZmZqT+amZmZmZmpP5qZmZmZmak/mpmZmZmZqT+amZmZmZmpP5qZmZmZmak/mpmZmZmZqT+amZmZmZmpP5qZmZmZmak/mpmZmZmZqT+amZmZmZmpP5qZmZmZmak/mpmZmZmZqT+amZmZmZmpP5qZmZmZmak/mpmZmZmZqT+amZmZmZmpP5qZmZmZmak/mpmZmZmZqT+amZmZmZmpP5qZmZmZmak/mpmZmZmZqT+amZmZmZmpP5qZmZmZmak/mpmZmZmZqT+amZmZmZmpP5qZmZmZmak/mpmZmZmZqT+amZmZmZmpP5qZmZmZmak/mpmZmZmZqT+amZmZmZmpP5qZmZmZmak/mpmZmZmZqT+amZmZmZmpP5qZmZmZmak/mpmZmZmZqT+amZmZmZmpP5qZmZmZmak/mpmZmZmZqT+amZmZmZmpP5qZmZmZmak/mpmZmZmZqT+amZmZmZmpP5qZmZmZmak/mpmZmZmZqT+amZmZmZmpP5qZmZmZmak/mpmZmZmZqT+amZmZmZmpP5qZmZmZmak/mpmZmZmZqT+amZmZmZmpP5qZmZmZmak/mpmZmZmZqT+amZmZmZmpP5qZmZmZmak/mpmZmZmZqT+amZmZmZmpP5qZmZmZmak/mpmZmZmZqT+amZmZmZmpP5qZmZmZmak/mpmZmZmZqT+amZmZmZmpP5qZmZmZmak/mpmZmZmZqT+amZmZmZmpP5qZmZmZmak/mpmZmZmZqT+amZmZmZmpPw==",
                                        "dtype": "f8"
                                    },
                                    "z": {
                                        "bdata": "dVOoZwsGxL/wF/x/exe4v2BY9y0SFaC/XVj3LRIVoD/vF/x/exe4P3VTqGcLBsQ/aB/SIx7syz8ODhSD/drRP9yWV9DhrdU/wul8/N5q2T8B3kQrLg7dP+OiHjkRSuA/6gCwR5b84T8LrN1A75zjP+2yQIB3KeU/zTt/Zp6g5j/cxQ3u6ADoP/KRHSrzSOk/CVE1rnF36j88ygjdMovrP2wsPR0gg+w/7Rfi8j5e7T/X/4L8sRvuP3I10dK5uu4/96QEyrU67z9c5C+UJJvvP1yT48Ok2+8/hhCdLvX77z+GEJ0u9fvvP1yT48Ok2+8/XOQvlCSb7z/4pATKtTrvP3I10dK5uu4/1/+C/LEb7j/uF+LyPl7tP20sPR0gg+w/PsoI3TKL6z8LUTWucXfqP/ORHSrzSOk/3MUN7ugA6D/NO39mnqDmP+yyQIB3KeU/DqzdQO+c4z/sALBHlvzhP+WiHjkRSuA/At5EKy4O3T/C6Xz83mrZP9uWV9DhrdU/Ew4Ug/3a0T9xH9IjHuzLP3lTqGcLBsQ/8hf8f3sXuD9YWPctEhWgPzVY9y0SFaC/4Bf8f3sXuL9wU6hnCwbEv2gf0iMe7Mu/Dg4Ug/3a0b/XllfQ4a3Vv7fpfPzeatm/991EKy4O3b/goh45EUrgv+cAsEeW/OG/CazdQO+c47/rskCAdynlv8w7f2aeoOa/28UN7ugA6L/ykR0q80jpvwdRNa5xd+q/PcoI3TKL679sLD0dIIPsv+sX4vI+Xu2/1P+C/LEb7r9xNdHSubruv/akBMq1Ou+/W+QvlCSb779ck+PDpNvvv4YQnS71+++/hhCdLvX7779ck+PDpNvvv1zkL5Qkm++/96QEyrU6779yNdHSubruv9b/gvyxG+6/8Bfi8j5e7b9uLD0dIIPsvz7KCN0yi+u/CVE1rnF36r/0kR0q80jpv9vFDe7oAOi/zjt/Zp6g5r/wskCAdynlvwus3UDvnOO/7QCwR5b84b/joh45EUrgvwTeRCsuDt2/zOl8/N5q2b/sllfQ4a3VvxUOFIP92tG/hR/SIx7sy799U6hnCwbEvw==",
                                        "dtype": "f8"
                                    }
                                },
                                {
                                    "mode": "lines",
                                    "type": "scatter3d",
                                    "x": {
                                        "bdata": "AAAAAAAAAAB7FK5H4XqUP3sUrkfheqQ/uB6F61G4rj97FK5H4Xq0P5qZmZmZmbk/uB6F61G4vj/sUbgehevBP3sUrkfhesQ/CtejcD0Kxz+amZmZmZnJPylcj8L1KMw/uB6F61G4zj+kcD0K16PQP+xRuB6F69E/MzMzMzMz0z97FK5H4XrUP8P1KFyPwtU/CtejcD0K1z9SuB6F61HYP5qZmZmZmdk/4XoUrkfh2j8pXI/C9SjcP3E9CtejcN0/uB6F61G43j8AAAAAAADgP6RwPQrXo+A/SOF6FK5H4T/sUbgehevhP4/C9Shcj+I/MzMzMzMz4z/Xo3A9CtfjP3sUrkfheuQ/H4XrUbge5T/D9Shcj8LlP2dmZmZmZuY/CtejcD0K5z+uR+F6FK7nP1K4HoXrUeg/9ihcj8L16D+amZmZmZnpPz4K16NwPeo/4XoUrkfh6j+F61G4HoXrPylcj8L1KOw/zczMzMzM7D9xPQrXo3DtPxWuR+F6FO4/uB6F61G47j9cj8L1KFzvPwAAAAAAAPA/UrgehetR8D+kcD0K16PwP/YoXI/C9fA/SOF6FK5H8T+amZmZmZnxP+xRuB6F6/E/PgrXo3A98j+PwvUoXI/yP+F6FK5H4fI/MzMzMzMz8z+F61G4HoXzP9ejcD0K1/M/KVyPwvUo9D97FK5H4Xr0P83MzMzMzPQ/H4XrUbge9T9xPQrXo3D1P8P1KFyPwvU/Fa5H4XoU9j9nZmZmZmb2P7gehetRuPY/CtejcD0K9z9cj8L1KFz3P65H4XoUrvc/AAAAAAAA+D9SuB6F61H4P6RwPQrXo/g/9ihcj8L1+D9I4XoUrkf5P5qZmZmZmfk/7FG4HoXr+T8+CtejcD36P5DC9Shcj/o/4XoUrkfh+j8zMzMzMzP7P4XrUbgehfs/16NwPQrX+z8pXI/C9Sj8P3sUrkfhevw/zczMzMzM/D8fhetRuB79P3E9CtejcP0/w/UoXI/C/T8VrkfhehT+P2dmZmZmZv4/uB6F61G4/j8K16NwPQr/P1yPwvUoXP8/rkfhehSu/z8AAAAAAAAAQA==",
                                        "dtype": "f8"
                                    },
                                    "y": {
                                        "bdata": "uB6F61G4rj+4HoXrUbiuP7gehetRuK4/uB6F61G4rj+4HoXrUbiuP7gehetRuK4/uB6F61G4rj+4HoXrUbiuP7gehetRuK4/uB6F61G4rj+4HoXrUbiuP7gehetRuK4/uB6F61G4rj+4HoXrUbiuP7gehetRuK4/uB6F61G4rj+4HoXrUbiuP7gehetRuK4/uB6F61G4rj+4HoXrUbiuP7gehetRuK4/uB6F61G4rj+4HoXrUbiuP7gehetRuK4/uB6F61G4rj+4HoXrUbiuP7gehetRuK4/uB6F61G4rj+4HoXrUbiuP7gehetRuK4/uB6F61G4rj+4HoXrUbiuP7gehetRuK4/uB6F61G4rj+4HoXrUbiuP7gehetRuK4/uB6F61G4rj+4HoXrUbiuP7gehetRuK4/uB6F61G4rj+4HoXrUbiuP7gehetRuK4/uB6F61G4rj+4HoXrUbiuP7gehetRuK4/uB6F61G4rj+4HoXrUbiuP7gehetRuK4/uB6F61G4rj+4HoXrUbiuP7gehetRuK4/uB6F61G4rj+4HoXrUbiuP7gehetRuK4/uB6F61G4rj+4HoXrUbiuP7gehetRuK4/uB6F61G4rj+4HoXrUbiuP7gehetRuK4/uB6F61G4rj+4HoXrUbiuP7gehetRuK4/uB6F61G4rj+4HoXrUbiuP7gehetRuK4/uB6F61G4rj+4HoXrUbiuP7gehetRuK4/uB6F61G4rj+4HoXrUbiuP7gehetRuK4/uB6F61G4rj+4HoXrUbiuP7gehetRuK4/uB6F61G4rj+4HoXrUbiuP7gehetRuK4/uB6F61G4rj+4HoXrUbiuP7gehetRuK4/uB6F61G4rj+4HoXrUbiuP7gehetRuK4/uB6F61G4rj+4HoXrUbiuP7gehetRuK4/uB6F61G4rj+4HoXrUbiuP7gehetRuK4/uB6F61G4rj+4HoXrUbiuP7gehetRuK4/uB6F61G4rj+4HoXrUbiuP7gehetRuK4/uB6F61G4rj+4HoXrUbiuP7gehetRuK4/uB6F61G4rj+4HoXrUbiuPw==",
                                        "dtype": "f8"
                                    },
                                    "z": {
                                        "bdata": "eHoDZRz8x7/fW6Fd6wrAv3iT4BsKE7C/AAAAAAAAAAB5k+AbChOwP+BboV3rCsA/eHoDZRz8xz+WBxz6EdXPP0/pLzfvxtM/GKmoSFqP1z+dgSXJ9z/bP1Kpv1wN1d4/USsYPH4l4T9eWnUEI8/iP7wBtf7GZeQ/EyARVc/n5T8WuNIDtlPnP+prW2MLqOg/qPSXm3fj6T+GLmT/uwTrP1rAgU60Cuw/jBXc3Ff07D/kWu+dusDtP/9URBMOb+4/4B4QHaL+7j/+CSWs5W7vPwPZgFRnv+8//kPkv9Xv7z8AAAAAAADwP/5D5L/V7+8/AtmAVGe/7z/+CSWs5W7vP+AeEB2i/u4//1REEw5v7j/kWu+dusDtP4sV3NxX9Ow/WsCBTrQK7D+HLmT/uwTrP6j0l5t34+k/6mtbYwuo6D8VuNIDtlPnPxUgEVXP5+U/vQG1/sZl5D9fWnUEI8/iP1ErGDx+JeE/UKm/XA3V3j+ZgSXJ9z/bPxWpqEhaj9c/WekvN+/G0z+mBxz6EdXPP4d6A2Uc/Mc/6luhXesKwD+Ik+AbChOwPwdcFDMmpqE8d5PgGwoTsL/hW6Fd6wrAv356A2Uc/Me/ngcc+hHVz79G6S8378bTvxCpqEhaj9e/lYElyfc/279Mqb9cDdXev08rGDx+JeG/XVp1BCPP4r+7AbX+xmXkvxQgEVXP5+W/FLjSA7ZT57/ra1tjC6jov6f0l5t34+m/iC5k/7sE679ZwIFOtArsv4oV3NxX9Oy/4lrvnbrA7b//VEQTDm/uv98eEB2i/u6//wklrOVu778C2YBUZ7/vv/5D5L/V7++/AAAAAAAA8L/+Q+S/1e/vvwPZgFRnv++//wklrOVu77/gHhAdov7uvwBVRBMOb+6/5lrvnbrA7b+PFdzcV/Tsv1vAgU60Cuy/ii5k/7sE67+p9Jebd+Ppv+1rW2MLqOi/FrjSA7ZT578WIBFVz+flv7sBtf7GZeS/YFp1BCPP4r9OKxg8fiXhv1Kpv1wN1d6/ooElyfc/278mqahIWo/Xv1TpLzfvxtO/qgcc+hHVz797egNlHPzHvw==",
                                        "dtype": "f8"
                                    }
                                },
                                {
                                    "mode": "lines",
                                    "type": "scatter3d",
                                    "x": {
                                        "bdata": "AAAAAAAAAAB7FK5H4XqUP3sUrkfheqQ/uB6F61G4rj97FK5H4Xq0P5qZmZmZmbk/uB6F61G4vj/sUbgehevBP3sUrkfhesQ/CtejcD0Kxz+amZmZmZnJPylcj8L1KMw/uB6F61G4zj+kcD0K16PQP+xRuB6F69E/MzMzMzMz0z97FK5H4XrUP8P1KFyPwtU/CtejcD0K1z9SuB6F61HYP5qZmZmZmdk/4XoUrkfh2j8pXI/C9SjcP3E9CtejcN0/uB6F61G43j8AAAAAAADgP6RwPQrXo+A/SOF6FK5H4T/sUbgehevhP4/C9Shcj+I/MzMzMzMz4z/Xo3A9CtfjP3sUrkfheuQ/H4XrUbge5T/D9Shcj8LlP2dmZmZmZuY/CtejcD0K5z+uR+F6FK7nP1K4HoXrUeg/9ihcj8L16D+amZmZmZnpPz4K16NwPeo/4XoUrkfh6j+F61G4HoXrPylcj8L1KOw/zczMzMzM7D9xPQrXo3DtPxWuR+F6FO4/uB6F61G47j9cj8L1KFzvPwAAAAAAAPA/UrgehetR8D+kcD0K16PwP/YoXI/C9fA/SOF6FK5H8T+amZmZmZnxP+xRuB6F6/E/PgrXo3A98j+PwvUoXI/yP+F6FK5H4fI/MzMzMzMz8z+F61G4HoXzP9ejcD0K1/M/KVyPwvUo9D97FK5H4Xr0P83MzMzMzPQ/H4XrUbge9T9xPQrXo3D1P8P1KFyPwvU/Fa5H4XoU9j9nZmZmZmb2P7gehetRuPY/CtejcD0K9z9cj8L1KFz3P65H4XoUrvc/AAAAAAAA+D9SuB6F61H4P6RwPQrXo/g/9ihcj8L1+D9I4XoUrkf5P5qZmZmZmfk/7FG4HoXr+T8+CtejcD36P5DC9Shcj/o/4XoUrkfh+j8zMzMzMzP7P4XrUbgehfs/16NwPQrX+z8pXI/C9Sj8P3sUrkfhevw/zczMzMzM/D8fhetRuB79P3E9CtejcP0/w/UoXI/C/T8VrkfhehT+P2dmZmZmZv4/uB6F61G4/j8K16NwPQr/P1yPwvUoXP8/rkfhehSu/z8AAAAAAAAAQA==",
                                        "dtype": "f8"
                                    },
                                    "y": {
                                        "bdata": "7FG4HoXrsT/sUbgeheuxP+xRuB6F67E/7FG4HoXrsT/sUbgeheuxP+xRuB6F67E/7FG4HoXrsT/sUbgeheuxP+xRuB6F67E/7FG4HoXrsT/sUbgeheuxP+xRuB6F67E/7FG4HoXrsT/sUbgeheuxP+xRuB6F67E/7FG4HoXrsT/sUbgeheuxP+xRuB6F67E/7FG4HoXrsT/sUbgeheuxP+xRuB6F67E/7FG4HoXrsT/sUbgeheuxP+xRuB6F67E/7FG4HoXrsT/sUbgeheuxP+xRuB6F67E/7FG4HoXrsT/sUbgeheuxP+xRuB6F67E/7FG4HoXrsT/sUbgeheuxP+xRuB6F67E/7FG4HoXrsT/sUbgeheuxP+xRuB6F67E/7FG4HoXrsT/sUbgeheuxP+xRuB6F67E/7FG4HoXrsT/sUbgeheuxP+xRuB6F67E/7FG4HoXrsT/sUbgeheuxP+xRuB6F67E/7FG4HoXrsT/sUbgeheuxP+xRuB6F67E/7FG4HoXrsT/sUbgeheuxP+xRuB6F67E/7FG4HoXrsT/sUbgeheuxP+xRuB6F67E/7FG4HoXrsT/sUbgeheuxP+xRuB6F67E/7FG4HoXrsT/sUbgeheuxP+xRuB6F67E/7FG4HoXrsT/sUbgeheuxP+xRuB6F67E/7FG4HoXrsT/sUbgeheuxP+xRuB6F67E/7FG4HoXrsT/sUbgeheuxP+xRuB6F67E/7FG4HoXrsT/sUbgeheuxP+xRuB6F67E/7FG4HoXrsT/sUbgeheuxP+xRuB6F67E/7FG4HoXrsT/sUbgeheuxP+xRuB6F67E/7FG4HoXrsT/sUbgeheuxP+xRuB6F67E/7FG4HoXrsT/sUbgeheuxP+xRuB6F67E/7FG4HoXrsT/sUbgeheuxP+xRuB6F67E/7FG4HoXrsT/sUbgeheuxP+xRuB6F67E/7FG4HoXrsT/sUbgeheuxP+xRuB6F67E/7FG4HoXrsT/sUbgeheuxP+xRuB6F67E/7FG4HoXrsT/sUbgeheuxP+xRuB6F67E/7FG4HoXrsT/sUbgeheuxPw==",
                                        "dtype": "f8"
                                    },
                                    "z": {
                                        "bdata": "ah/SIx7sy791U6hnCwbEv/EX/H97F7i/ZFj3LRIVoL9dWPctEhWgP+8X/H97F7g/dFOoZwsGxD9qH9IjHuzLPw4OFIP92tE/25ZX0OGt1T/C6Xz83mrZPwDeRCsuDt0/46IeORFK4D/qALBHlvzhPwus3UDvnOM/7LJAgHcp5T/NO39mnqDmP9zFDe7oAOg/8ZEdKvNI6T8JUTWucXfqPzzKCN0yi+s/bCw9HSCD7D/tF+LyPl7tP9f/gvyxG+4/cTXR0rm67j/3pATKtTrvP1zkL5Qkm+8/XJPjw6Tb7z+GEJ0u9fvvP4YQnS71++8/XJPjw6Tb7z9b5C+UJJvvP/ikBMq1Ou8/cjXR0rm67j/X/4L8sRvuP+wX4vI+Xu0/byw9HSCD7D8+ygjdMovrPwtRNa5xd+o/85EdKvNI6T/cxQ3u6ADoP807f2aeoOY/7LJAgHcp5T8KrN1A75zjP+kAsEeW/OE/4qIeORFK4D/73UQrLg7dP7vpfPzeatk/45ZX0OGt1T8TDhSD/drRP3Ef0iMe7Ms/eVOoZwsGxD/yF/x/exe4P1hY9y0SFaA/NVj3LRIVoL/gF/x/exe4v3BTqGcLBsS/aB/SIx7sy78HDhSD/drRv9eWV9DhrdW/t+l8/N5q2b/33UQrLg7dv+CiHjkRSuC/5wCwR5b84b8JrN1A75zjv+uyQIB3KeW/zDt/Zp6g5r/bxQ3u6ADov/KRHSrzSOm/B1E1rnF36r89ygjdMovrv2wsPR0gg+y/6xfi8j5e7b/U/4L8sRvuv3E10dK5uu6/9qQEyrU6779b5C+UJJvvv1yT48Ok2++/hhCdLvX777+GEJ0u9fvvv1yT48Ok2++/XOQvlCSb77/3pATKtTrvv3I10dK5uu6/2P+C/LEb7r/wF+LyPl7tv24sPR0gg+y/PsoI3TKL678JUTWucXfqv/SRHSrzSOm/28UN7ugA6L/OO39mnqDmv/CyQIB3KeW/C6zdQO+c47/tALBHlvzhv+OiHjkRSuC/BN5EKy4O3b/M6Xz83mrZv+yWV9DhrdW/FQ4Ug/3a0b+FH9IjHuzLvw==",
                                        "dtype": "f8"
                                    }
                                },
                                {
                                    "mode": "lines",
                                    "type": "scatter3d",
                                    "x": {
                                        "bdata": "AAAAAAAAAAB7FK5H4XqUP3sUrkfheqQ/uB6F61G4rj97FK5H4Xq0P5qZmZmZmbk/uB6F61G4vj/sUbgehevBP3sUrkfhesQ/CtejcD0Kxz+amZmZmZnJPylcj8L1KMw/uB6F61G4zj+kcD0K16PQP+xRuB6F69E/MzMzMzMz0z97FK5H4XrUP8P1KFyPwtU/CtejcD0K1z9SuB6F61HYP5qZmZmZmdk/4XoUrkfh2j8pXI/C9SjcP3E9CtejcN0/uB6F61G43j8AAAAAAADgP6RwPQrXo+A/SOF6FK5H4T/sUbgehevhP4/C9Shcj+I/MzMzMzMz4z/Xo3A9CtfjP3sUrkfheuQ/H4XrUbge5T/D9Shcj8LlP2dmZmZmZuY/CtejcD0K5z+uR+F6FK7nP1K4HoXrUeg/9ihcj8L16D+amZmZmZnpPz4K16NwPeo/4XoUrkfh6j+F61G4HoXrPylcj8L1KOw/zczMzMzM7D9xPQrXo3DtPxWuR+F6FO4/uB6F61G47j9cj8L1KFzvPwAAAAAAAPA/UrgehetR8D+kcD0K16PwP/YoXI/C9fA/SOF6FK5H8T+amZmZmZnxP+xRuB6F6/E/PgrXo3A98j+PwvUoXI/yP+F6FK5H4fI/MzMzMzMz8z+F61G4HoXzP9ejcD0K1/M/KVyPwvUo9D97FK5H4Xr0P83MzMzMzPQ/H4XrUbge9T9xPQrXo3D1P8P1KFyPwvU/Fa5H4XoU9j9nZmZmZmb2P7gehetRuPY/CtejcD0K9z9cj8L1KFz3P65H4XoUrvc/AAAAAAAA+D9SuB6F61H4P6RwPQrXo/g/9ihcj8L1+D9I4XoUrkf5P5qZmZmZmfk/7FG4HoXr+T8+CtejcD36P5DC9Shcj/o/4XoUrkfh+j8zMzMzMzP7P4XrUbgehfs/16NwPQrX+z8pXI/C9Sj8P3sUrkfhevw/zczMzMzM/D8fhetRuB79P3E9CtejcP0/w/UoXI/C/T8VrkfhehT+P2dmZmZmZv4/uB6F61G4/j8K16NwPQr/P1yPwvUoXP8/rkfhehSu/z8AAAAAAAAAQA==",
                                        "dtype": "f8"
                                    },
                                    "y": {
                                        "bdata": "exSuR+F6tD97FK5H4Xq0P3sUrkfherQ/exSuR+F6tD97FK5H4Xq0P3sUrkfherQ/exSuR+F6tD97FK5H4Xq0P3sUrkfherQ/exSuR+F6tD97FK5H4Xq0P3sUrkfherQ/exSuR+F6tD97FK5H4Xq0P3sUrkfherQ/exSuR+F6tD97FK5H4Xq0P3sUrkfherQ/exSuR+F6tD97FK5H4Xq0P3sUrkfherQ/exSuR+F6tD97FK5H4Xq0P3sUrkfherQ/exSuR+F6tD97FK5H4Xq0P3sUrkfherQ/exSuR+F6tD97FK5H4Xq0P3sUrkfherQ/exSuR+F6tD97FK5H4Xq0P3sUrkfherQ/exSuR+F6tD97FK5H4Xq0P3sUrkfherQ/exSuR+F6tD97FK5H4Xq0P3sUrkfherQ/exSuR+F6tD97FK5H4Xq0P3sUrkfherQ/exSuR+F6tD97FK5H4Xq0P3sUrkfherQ/exSuR+F6tD97FK5H4Xq0P3sUrkfherQ/exSuR+F6tD97FK5H4Xq0P3sUrkfherQ/exSuR+F6tD97FK5H4Xq0P3sUrkfherQ/exSuR+F6tD97FK5H4Xq0P3sUrkfherQ/exSuR+F6tD97FK5H4Xq0P3sUrkfherQ/exSuR+F6tD97FK5H4Xq0P3sUrkfherQ/exSuR+F6tD97FK5H4Xq0P3sUrkfherQ/exSuR+F6tD97FK5H4Xq0P3sUrkfherQ/exSuR+F6tD97FK5H4Xq0P3sUrkfherQ/exSuR+F6tD97FK5H4Xq0P3sUrkfherQ/exSuR+F6tD97FK5H4Xq0P3sUrkfherQ/exSuR+F6tD97FK5H4Xq0P3sUrkfherQ/exSuR+F6tD97FK5H4Xq0P3sUrkfherQ/exSuR+F6tD97FK5H4Xq0P3sUrkfherQ/exSuR+F6tD97FK5H4Xq0P3sUrkfherQ/exSuR+F6tD97FK5H4Xq0P3sUrkfherQ/exSuR+F6tD97FK5H4Xq0P3sUrkfherQ/exSuR+F6tD97FK5H4Xq0P3sUrkfherQ/exSuR+F6tD97FK5H4Xq0Pw==",
                                        "dtype": "f8"
                                    },
                                    "z": {
                                        "bdata": "lgcc+hHVz794egNlHPzHv+BboV3rCsC/eZPgGwoTsL8AAAAAAAAAAHmT4BsKE7A/31uhXesKwD96egNlHPzHP5YHHPoR1c8/T+kvN+/G0z8ZqahIWo/XP52BJcn3P9s/UKm/XA3V3j9RKxg8fiXhP15adQQjz+I/uwG1/sZl5D8TIBFVz+flPxa40gO2U+c/6WtbYwuo6D+o9Jebd+PpP4YuZP+7BOs/WcCBTrQK7D+MFdzcV/TsP+Ra7526wO0//1REEw5v7j/gHhAdov7uP/4JJazlbu8/A9mAVGe/7z/+Q+S/1e/vPwAAAAAAAPA//kPkv9Xv7z8C2YBUZ7/vP/4JJazlbu8/4B4QHaL+7j//VEQTDm/uP+Ra7526wO0/ixXc3Ff07D9YwIFOtArsP4UuZP+7BOs/qPSXm3fj6T/qa1tjC6joPxW40gO2U+c/FSARVc/n5T+9AbX+xmXkP19adQQjz+I/USsYPH4l4T9Qqb9cDdXeP5mBJcn3P9s/HKmoSFqP1z9R6S8378bTP5cHHPoR1c8/d3oDZRz8xz/aW6Fd6wrAP2iT4BsKE7A/B1wUMyamoTx3k+AbChOwv+FboV3rCsC/fnoDZRz8x79/Bxz6EdXPv0bpLzfvxtO/EKmoSFqP17+VgSXJ9z/bv0ypv1wN1d6/TysYPH4l4b9dWnUEI8/iv7sBtf7GZeS/FCARVc/n5b8UuNIDtlPnv+trW2MLqOi/p/SXm3fj6b+ILmT/uwTrv1XAgU60Cuy/ihXc3Ff07L/iWu+dusDtv/9URBMOb+6/3x4QHaL+7r//CSWs5W7vvwLZgFRnv++//kPkv9Xv778AAAAAAADwv/5D5L/V7++/A9mAVGe/77//CSWs5W7vv+AeEB2i/u6/AFVEEw5v7r/mWu+dusDtv48V3NxX9Oy/W8CBTrQK7L+KLmT/uwTrv6n0l5t34+m/7WtbYwuo6L8WuNIDtlPnvxYgEVXP5+W/uwG1/sZl5L9gWnUEI8/iv04rGDx+JeG/YKm/XA3V3r+igSXJ9z/bvyapqEhaj9e/VOkvN+/G07+qBxz6EdXPvw==",
                                        "dtype": "f8"
                                    }
                                },
                                {
                                    "mode": "lines",
                                    "type": "scatter3d",
                                    "x": {
                                        "bdata": "AAAAAAAAAAB7FK5H4XqUP3sUrkfheqQ/uB6F61G4rj97FK5H4Xq0P5qZmZmZmbk/uB6F61G4vj/sUbgehevBP3sUrkfhesQ/CtejcD0Kxz+amZmZmZnJPylcj8L1KMw/uB6F61G4zj+kcD0K16PQP+xRuB6F69E/MzMzMzMz0z97FK5H4XrUP8P1KFyPwtU/CtejcD0K1z9SuB6F61HYP5qZmZmZmdk/4XoUrkfh2j8pXI/C9SjcP3E9CtejcN0/uB6F61G43j8AAAAAAADgP6RwPQrXo+A/SOF6FK5H4T/sUbgehevhP4/C9Shcj+I/MzMzMzMz4z/Xo3A9CtfjP3sUrkfheuQ/H4XrUbge5T/D9Shcj8LlP2dmZmZmZuY/CtejcD0K5z+uR+F6FK7nP1K4HoXrUeg/9ihcj8L16D+amZmZmZnpPz4K16NwPeo/4XoUrkfh6j+F61G4HoXrPylcj8L1KOw/zczMzMzM7D9xPQrXo3DtPxWuR+F6FO4/uB6F61G47j9cj8L1KFzvPwAAAAAAAPA/UrgehetR8D+kcD0K16PwP/YoXI/C9fA/SOF6FK5H8T+amZmZmZnxP+xRuB6F6/E/PgrXo3A98j+PwvUoXI/yP+F6FK5H4fI/MzMzMzMz8z+F61G4HoXzP9ejcD0K1/M/KVyPwvUo9D97FK5H4Xr0P83MzMzMzPQ/H4XrUbge9T9xPQrXo3D1P8P1KFyPwvU/Fa5H4XoU9j9nZmZmZmb2P7gehetRuPY/CtejcD0K9z9cj8L1KFz3P65H4XoUrvc/AAAAAAAA+D9SuB6F61H4P6RwPQrXo/g/9ihcj8L1+D9I4XoUrkf5P5qZmZmZmfk/7FG4HoXr+T8+CtejcD36P5DC9Shcj/o/4XoUrkfh+j8zMzMzMzP7P4XrUbgehfs/16NwPQrX+z8pXI/C9Sj8P3sUrkfhevw/zczMzMzM/D8fhetRuB79P3E9CtejcP0/w/UoXI/C/T8VrkfhehT+P2dmZmZmZv4/uB6F61G4/j8K16NwPQr/P1yPwvUoXP8/rkfhehSu/z8AAAAAAAAAQA==",
                                        "dtype": "f8"
                                    },
                                    "y": {
                                        "bdata": "CtejcD0Ktz8K16NwPQq3PwrXo3A9Crc/CtejcD0Ktz8K16NwPQq3PwrXo3A9Crc/CtejcD0Ktz8K16NwPQq3PwrXo3A9Crc/CtejcD0Ktz8K16NwPQq3PwrXo3A9Crc/CtejcD0Ktz8K16NwPQq3PwrXo3A9Crc/CtejcD0Ktz8K16NwPQq3PwrXo3A9Crc/CtejcD0Ktz8K16NwPQq3PwrXo3A9Crc/CtejcD0Ktz8K16NwPQq3PwrXo3A9Crc/CtejcD0Ktz8K16NwPQq3PwrXo3A9Crc/CtejcD0Ktz8K16NwPQq3PwrXo3A9Crc/CtejcD0Ktz8K16NwPQq3PwrXo3A9Crc/CtejcD0Ktz8K16NwPQq3PwrXo3A9Crc/CtejcD0Ktz8K16NwPQq3PwrXo3A9Crc/CtejcD0Ktz8K16NwPQq3PwrXo3A9Crc/CtejcD0Ktz8K16NwPQq3PwrXo3A9Crc/CtejcD0Ktz8K16NwPQq3PwrXo3A9Crc/CtejcD0Ktz8K16NwPQq3PwrXo3A9Crc/CtejcD0Ktz8K16NwPQq3PwrXo3A9Crc/CtejcD0Ktz8K16NwPQq3PwrXo3A9Crc/CtejcD0Ktz8K16NwPQq3PwrXo3A9Crc/CtejcD0Ktz8K16NwPQq3PwrXo3A9Crc/CtejcD0Ktz8K16NwPQq3PwrXo3A9Crc/CtejcD0Ktz8K16NwPQq3PwrXo3A9Crc/CtejcD0Ktz8K16NwPQq3PwrXo3A9Crc/CtejcD0Ktz8K16NwPQq3PwrXo3A9Crc/CtejcD0Ktz8K16NwPQq3PwrXo3A9Crc/CtejcD0Ktz8K16NwPQq3PwrXo3A9Crc/CtejcD0Ktz8K16NwPQq3PwrXo3A9Crc/CtejcD0Ktz8K16NwPQq3PwrXo3A9Crc/CtejcD0Ktz8K16NwPQq3PwrXo3A9Crc/CtejcD0Ktz8K16NwPQq3PwrXo3A9Crc/CtejcD0Ktz8K16NwPQq3PwrXo3A9Crc/CtejcD0Ktz8K16NwPQq3PwrXo3A9Crc/CtejcD0Ktz8K16NwPQq3Pw==",
                                        "dtype": "f8"
                                    },
                                    "z": {
                                        "bdata": "Dg4Ug/3a0b9oH9IjHuzLv3VTqGcLBsS/7xf8f3sXuL9dWPctEhWgv2RY9y0SFaA/7xf8f3sXuD93U6hnCwbEP2of0iMe7Ms/Dg4Ug/3a0T/dllfQ4a3VP8LpfPzeatk/AN5EKy4O3T/koh45EUrgP+oAsEeW/OE/CqzdQO+c4z/sskCAdynlP807f2aeoOY/3MUN7ugA6D/ykR0q80jpPwlRNa5xd+o/O8oI3TKL6z9sLD0dIIPsP+0X4vI+Xu0/1/+C/LEb7j9yNdHSubruP/ikBMq1Ou8/XOQvlCSb7z9ck+PDpNvvP4YQnS71++8/hhCdLvX77z9ck+PDpNvvP1vkL5Qkm+8/+KQEyrU67z9yNdHSubruP9f/gvyxG+4/7hfi8j5e7T9tLD0dIIPsPzzKCN0yi+s/CFE1rnF36j/xkR0q80jpP9rFDe7oAOg/zTt/Zp6g5j/sskCAdynlPwqs3UDvnOM/6QCwR5b84T/ioh45EUrgP/vdRCsuDt0/wul8/N5q2T/bllfQ4a3VPwsOFIP92tE/YR/SIx7syz95U6hnCwbEP/IX/H97F7g/WFj3LRIVoD81WPctEhWgv+AX/H97F7i/cFOoZwsGxL9YH9IjHuzLvwcOFIP92tG/15ZX0OGt1b+36Xz83mrZv/fdRCsuDt2/4KIeORFK4L/nALBHlvzhvwms3UDvnOO/67JAgHcp5b/MO39mnqDmv9vFDe7oAOi/8pEdKvNI6b8HUTWucXfqvznKCN0yi+u/bCw9HSCD7L/rF+LyPl7tv9T/gvyxG+6/cTXR0rm67r/2pATKtTrvv1vkL5Qkm++/XJPjw6Tb77+GEJ0u9fvvv4YQnS71+++/XJPjw6Tb779c5C+UJJvvv/ekBMq1Ou+/dDXR0rm67r/Y/4L8sRvuv/AX4vI+Xu2/biw9HSCD7L8+ygjdMovrvwlRNa5xd+q/9JEdKvNI6b/bxQ3u6ADov847f2aeoOa/8LJAgHcp5b8LrN1A75zjv+0AsEeW/OG/6qIeORFK4L8E3kQrLg7dv8zpfPzeatm/7JZX0OGt1b8VDhSD/drRvw==",
                                        "dtype": "f8"
                                    }
                                },
                                {
                                    "mode": "lines",
                                    "type": "scatter3d",
                                    "x": {
                                        "bdata": "AAAAAAAAAAB7FK5H4XqUP3sUrkfheqQ/uB6F61G4rj97FK5H4Xq0P5qZmZmZmbk/uB6F61G4vj/sUbgehevBP3sUrkfhesQ/CtejcD0Kxz+amZmZmZnJPylcj8L1KMw/uB6F61G4zj+kcD0K16PQP+xRuB6F69E/MzMzMzMz0z97FK5H4XrUP8P1KFyPwtU/CtejcD0K1z9SuB6F61HYP5qZmZmZmdk/4XoUrkfh2j8pXI/C9SjcP3E9CtejcN0/uB6F61G43j8AAAAAAADgP6RwPQrXo+A/SOF6FK5H4T/sUbgehevhP4/C9Shcj+I/MzMzMzMz4z/Xo3A9CtfjP3sUrkfheuQ/H4XrUbge5T/D9Shcj8LlP2dmZmZmZuY/CtejcD0K5z+uR+F6FK7nP1K4HoXrUeg/9ihcj8L16D+amZmZmZnpPz4K16NwPeo/4XoUrkfh6j+F61G4HoXrPylcj8L1KOw/zczMzMzM7D9xPQrXo3DtPxWuR+F6FO4/uB6F61G47j9cj8L1KFzvPwAAAAAAAPA/UrgehetR8D+kcD0K16PwP/YoXI/C9fA/SOF6FK5H8T+amZmZmZnxP+xRuB6F6/E/PgrXo3A98j+PwvUoXI/yP+F6FK5H4fI/MzMzMzMz8z+F61G4HoXzP9ejcD0K1/M/KVyPwvUo9D97FK5H4Xr0P83MzMzMzPQ/H4XrUbge9T9xPQrXo3D1P8P1KFyPwvU/Fa5H4XoU9j9nZmZmZmb2P7gehetRuPY/CtejcD0K9z9cj8L1KFz3P65H4XoUrvc/AAAAAAAA+D9SuB6F61H4P6RwPQrXo/g/9ihcj8L1+D9I4XoUrkf5P5qZmZmZmfk/7FG4HoXr+T8+CtejcD36P5DC9Shcj/o/4XoUrkfh+j8zMzMzMzP7P4XrUbgehfs/16NwPQrX+z8pXI/C9Sj8P3sUrkfhevw/zczMzMzM/D8fhetRuB79P3E9CtejcP0/w/UoXI/C/T8VrkfhehT+P2dmZmZmZv4/uB6F61G4/j8K16NwPQr/P1yPwvUoXP8/rkfhehSu/z8AAAAAAAAAQA==",
                                        "dtype": "f8"
                                    },
                                    "y": {
                                        "bdata": "mpmZmZmZuT+amZmZmZm5P5qZmZmZmbk/mpmZmZmZuT+amZmZmZm5P5qZmZmZmbk/mpmZmZmZuT+amZmZmZm5P5qZmZmZmbk/mpmZmZmZuT+amZmZmZm5P5qZmZmZmbk/mpmZmZmZuT+amZmZmZm5P5qZmZmZmbk/mpmZmZmZuT+amZmZmZm5P5qZmZmZmbk/mpmZmZmZuT+amZmZmZm5P5qZmZmZmbk/mpmZmZmZuT+amZmZmZm5P5qZmZmZmbk/mpmZmZmZuT+amZmZmZm5P5qZmZmZmbk/mpmZmZmZuT+amZmZmZm5P5qZmZmZmbk/mpmZmZmZuT+amZmZmZm5P5qZmZmZmbk/mpmZmZmZuT+amZmZmZm5P5qZmZmZmbk/mpmZmZmZuT+amZmZmZm5P5qZmZmZmbk/mpmZmZmZuT+amZmZmZm5P5qZmZmZmbk/mpmZmZmZuT+amZmZmZm5P5qZmZmZmbk/mpmZmZmZuT+amZmZmZm5P5qZmZmZmbk/mpmZmZmZuT+amZmZmZm5P5qZmZmZmbk/mpmZmZmZuT+amZmZmZm5P5qZmZmZmbk/mpmZmZmZuT+amZmZmZm5P5qZmZmZmbk/mpmZmZmZuT+amZmZmZm5P5qZmZmZmbk/mpmZmZmZuT+amZmZmZm5P5qZmZmZmbk/mpmZmZmZuT+amZmZmZm5P5qZmZmZmbk/mpmZmZmZuT+amZmZmZm5P5qZmZmZmbk/mpmZmZmZuT+amZmZmZm5P5qZmZmZmbk/mpmZmZmZuT+amZmZmZm5P5qZmZmZmbk/mpmZmZmZuT+amZmZmZm5P5qZmZmZmbk/mpmZmZmZuT+amZmZmZm5P5qZmZmZmbk/mpmZmZmZuT+amZmZmZm5P5qZmZmZmbk/mpmZmZmZuT+amZmZmZm5P5qZmZmZmbk/mpmZmZmZuT+amZmZmZm5P5qZmZmZmbk/mpmZmZmZuT+amZmZmZm5P5qZmZmZmbk/mpmZmZmZuT+amZmZmZm5P5qZmZmZmbk/mpmZmZmZuT+amZmZmZm5P5qZmZmZmbk/mpmZmZmZuT+amZmZmZm5Pw==",
                                        "dtype": "f8"
                                    },
                                    "z": {
                                        "bdata": "T+kvN+/G07+WBxz6EdXPv3l6A2Uc/Me/4FuhXesKwL95k+AbChOwvwAAAAAAAAAAdpPgGwoTsD/gW6Fd6wrAP3h6A2Uc/Mc/lAcc+hHVzz9P6S8378bTPxipqEhaj9c/m4Elyfc/2z9Sqb9cDdXeP1ErGDx+JeE/Xlp1BCPP4j+7AbX+xmXkPxQgEVXP5+U/FrjSA7ZT5z/qa1tjC6joP6j0l5t34+k/hS5k/7sE6z9ZwIFOtArsP4wV3NxX9Ow/5FrvnbrA7T//VEQTDm/uP+AeEB2i/u4//wklrOVu7z8D2YBUZ7/vP/5D5L/V7+8/AAAAAAAA8D/+Q+S/1e/vPwLZgFRnv+8//gklrOVu7z/gHhAdov7uP/9URBMOb+4/5VrvnbrA7T+LFdzcV/TsP1jAgU60Cuw/hS5k/7sE6z+o9Jebd+PpP+prW2MLqOg/FbjSA7ZT5z8VIBFVz+flP70Btf7GZeQ/X1p1BCPP4j9RKxg8fiXhP1Cpv1wN1d4/oIElyfc/2z8cqahIWo/XP1HpLzfvxtM/lwcc+hHVzz93egNlHPzHP9pboV3rCsA/aJPgGwoTsD8HXBQzJqahPHeT4BsKE7C/4VuhXesKwL9eegNlHPzHv38HHPoR1c+/RukvN+/G078QqahIWo/Xv5WBJcn3P9u/TKm/XA3V3r9PKxg8fiXhv11adQQjz+K/uwG1/sZl5L8UIBFVz+flvxS40gO2U+e/62tbYwuo6L+n9Jebd+Ppv4MuZP+7BOu/VcCBTrQK7L+KFdzcV/Tsv+Ja7526wO2//1REEw5v7r/fHhAdov7uv/8JJazlbu+/AtmAVGe/77/+Q+S/1e/vvwAAAAAAAPC//kPkv9Xv778D2YBUZ7/vv/8JJazlbu+/4h4QHaL+7r8AVUQTDm/uv+Za7526wO2/jxXc3Ff07L9bwIFOtArsv4ouZP+7BOu/qfSXm3fj6b/ta1tjC6jovxa40gO2U+e/FiARVc/n5b+7AbX+xmXkv2BadQQjz+K/VSsYPH4l4b9gqb9cDdXev6KBJcn3P9u/JqmoSFqP179U6S8378bTvw==",
                                        "dtype": "f8"
                                    }
                                },
                                {
                                    "mode": "lines",
                                    "type": "scatter3d",
                                    "x": {
                                        "bdata": "AAAAAAAAAAB7FK5H4XqUP3sUrkfheqQ/uB6F61G4rj97FK5H4Xq0P5qZmZmZmbk/uB6F61G4vj/sUbgehevBP3sUrkfhesQ/CtejcD0Kxz+amZmZmZnJPylcj8L1KMw/uB6F61G4zj+kcD0K16PQP+xRuB6F69E/MzMzMzMz0z97FK5H4XrUP8P1KFyPwtU/CtejcD0K1z9SuB6F61HYP5qZmZmZmdk/4XoUrkfh2j8pXI/C9SjcP3E9CtejcN0/uB6F61G43j8AAAAAAADgP6RwPQrXo+A/SOF6FK5H4T/sUbgehevhP4/C9Shcj+I/MzMzMzMz4z/Xo3A9CtfjP3sUrkfheuQ/H4XrUbge5T/D9Shcj8LlP2dmZmZmZuY/CtejcD0K5z+uR+F6FK7nP1K4HoXrUeg/9ihcj8L16D+amZmZmZnpPz4K16NwPeo/4XoUrkfh6j+F61G4HoXrPylcj8L1KOw/zczMzMzM7D9xPQrXo3DtPxWuR+F6FO4/uB6F61G47j9cj8L1KFzvPwAAAAAAAPA/UrgehetR8D+kcD0K16PwP/YoXI/C9fA/SOF6FK5H8T+amZmZmZnxP+xRuB6F6/E/PgrXo3A98j+PwvUoXI/yP+F6FK5H4fI/MzMzMzMz8z+F61G4HoXzP9ejcD0K1/M/KVyPwvUo9D97FK5H4Xr0P83MzMzMzPQ/H4XrUbge9T9xPQrXo3D1P8P1KFyPwvU/Fa5H4XoU9j9nZmZmZmb2P7gehetRuPY/CtejcD0K9z9cj8L1KFz3P65H4XoUrvc/AAAAAAAA+D9SuB6F61H4P6RwPQrXo/g/9ihcj8L1+D9I4XoUrkf5P5qZmZmZmfk/7FG4HoXr+T8+CtejcD36P5DC9Shcj/o/4XoUrkfh+j8zMzMzMzP7P4XrUbgehfs/16NwPQrX+z8pXI/C9Sj8P3sUrkfhevw/zczMzMzM/D8fhetRuB79P3E9CtejcP0/w/UoXI/C/T8VrkfhehT+P2dmZmZmZv4/uB6F61G4/j8K16NwPQr/P1yPwvUoXP8/rkfhehSu/z8AAAAAAAAAQA==",
                                        "dtype": "f8"
                                    },
                                    "y": {
                                        "bdata": "KVyPwvUovD8pXI/C9Si8Pylcj8L1KLw/KVyPwvUovD8pXI/C9Si8Pylcj8L1KLw/KVyPwvUovD8pXI/C9Si8Pylcj8L1KLw/KVyPwvUovD8pXI/C9Si8Pylcj8L1KLw/KVyPwvUovD8pXI/C9Si8Pylcj8L1KLw/KVyPwvUovD8pXI/C9Si8Pylcj8L1KLw/KVyPwvUovD8pXI/C9Si8Pylcj8L1KLw/KVyPwvUovD8pXI/C9Si8Pylcj8L1KLw/KVyPwvUovD8pXI/C9Si8Pylcj8L1KLw/KVyPwvUovD8pXI/C9Si8Pylcj8L1KLw/KVyPwvUovD8pXI/C9Si8Pylcj8L1KLw/KVyPwvUovD8pXI/C9Si8Pylcj8L1KLw/KVyPwvUovD8pXI/C9Si8Pylcj8L1KLw/KVyPwvUovD8pXI/C9Si8Pylcj8L1KLw/KVyPwvUovD8pXI/C9Si8Pylcj8L1KLw/KVyPwvUovD8pXI/C9Si8Pylcj8L1KLw/KVyPwvUovD8pXI/C9Si8Pylcj8L1KLw/KVyPwvUovD8pXI/C9Si8Pylcj8L1KLw/KVyPwvUovD8pXI/C9Si8Pylcj8L1KLw/KVyPwvUovD8pXI/C9Si8Pylcj8L1KLw/KVyPwvUovD8pXI/C9Si8Pylcj8L1KLw/KVyPwvUovD8pXI/C9Si8Pylcj8L1KLw/KVyPwvUovD8pXI/C9Si8Pylcj8L1KLw/KVyPwvUovD8pXI/C9Si8Pylcj8L1KLw/KVyPwvUovD8pXI/C9Si8Pylcj8L1KLw/KVyPwvUovD8pXI/C9Si8Pylcj8L1KLw/KVyPwvUovD8pXI/C9Si8Pylcj8L1KLw/KVyPwvUovD8pXI/C9Si8Pylcj8L1KLw/KVyPwvUovD8pXI/C9Si8Pylcj8L1KLw/KVyPwvUovD8pXI/C9Si8Pylcj8L1KLw/KVyPwvUovD8pXI/C9Si8Pylcj8L1KLw/KVyPwvUovD8pXI/C9Si8Pylcj8L1KLw/KVyPwvUovD8pXI/C9Si8Pylcj8L1KLw/KVyPwvUovD8pXI/C9Si8Pw==",
                                        "dtype": "f8"
                                    },
                                    "z": {
                                        "bdata": "3JZX0OGt1b8ODhSD/drRv2of0iMe7Mu/dVOoZwsGxL/vF/x/exe4v11Y9y0SFaC/XVj3LRIVoD/yF/x/exe4P3VTqGcLBsQ/aB/SIx7syz8ODhSD/drRP9yWV9DhrdU/wul8/N5q2T8B3kQrLg7dP+SiHjkRSuA/6gCwR5b84T8LrN1A75zjP+2yQIB3KeU/zTt/Zp6g5j/cxQ3u6ADoP/KRHSrzSOk/CVE1rnF36j88ygjdMovrP2wsPR0gg+w/7Rfi8j5e7T/X/4L8sRvuP3I10dK5uu4/+KQEyrU67z9c5C+UJJvvP1yT48Ok2+8/hhCdLvX77z+GEJ0u9fvvP1yT48Ok2+8/W+QvlCSb7z/4pATKtTrvP3I10dK5uu4/1/+C/LEb7j/uF+LyPl7tP20sPR0gg+w/PMoI3TKL6z8IUTWucXfqP/GRHSrzSOk/3MUN7ugA6D/NO39mnqDmP+yyQIB3KeU/CqzdQO+c4z/pALBHlvzhP+KiHjkRSuA/At5EKy4O3T/C6Xz83mrZP9uWV9DhrdU/Cw4Ug/3a0T9hH9IjHuzLP3lTqGcLBsQ/8hf8f3sXuD9YWPctEhWgPzVY9y0SFaC/4Bf8f3sXuL9hU6hnCwbEv1gf0iMe7Mu/Bw4Ug/3a0b/XllfQ4a3Vv7fpfPzeatm/991EKy4O3b/goh45EUrgv+cAsEeW/OG/CazdQO+c47/rskCAdynlv8w7f2aeoOa/28UN7ugA6L/ykR0q80jpvwdRNa5xd+q/OcoI3TKL679sLD0dIIPsv+sX4vI+Xu2/1P+C/LEb7r9xNdHSubruv/akBMq1Ou+/W+QvlCSb779ck+PDpNvvv4YQnS71+++/hhCdLvX7779ck+PDpNvvv1zkL5Qkm++/+aQEyrU67790NdHSubruv9j/gvyxG+6/8Bfi8j5e7b9uLD0dIIPsvz7KCN0yi+u/CVE1rnF36r/0kR0q80jpv9vFDe7oAOi/zjt/Zp6g5r/wskCAdynlvwus3UDvnOO/7QCwR5b84b/qoh45EUrgvwTeRCsuDt2/zOl8/N5q2b/sllfQ4a3Vvw==",
                                        "dtype": "f8"
                                    }
                                },
                                {
                                    "mode": "lines",
                                    "type": "scatter3d",
                                    "x": {
                                        "bdata": "AAAAAAAAAAB7FK5H4XqUP3sUrkfheqQ/uB6F61G4rj97FK5H4Xq0P5qZmZmZmbk/uB6F61G4vj/sUbgehevBP3sUrkfhesQ/CtejcD0Kxz+amZmZmZnJPylcj8L1KMw/uB6F61G4zj+kcD0K16PQP+xRuB6F69E/MzMzMzMz0z97FK5H4XrUP8P1KFyPwtU/CtejcD0K1z9SuB6F61HYP5qZmZmZmdk/4XoUrkfh2j8pXI/C9SjcP3E9CtejcN0/uB6F61G43j8AAAAAAADgP6RwPQrXo+A/SOF6FK5H4T/sUbgehevhP4/C9Shcj+I/MzMzMzMz4z/Xo3A9CtfjP3sUrkfheuQ/H4XrUbge5T/D9Shcj8LlP2dmZmZmZuY/CtejcD0K5z+uR+F6FK7nP1K4HoXrUeg/9ihcj8L16D+amZmZmZnpPz4K16NwPeo/4XoUrkfh6j+F61G4HoXrPylcj8L1KOw/zczMzMzM7D9xPQrXo3DtPxWuR+F6FO4/uB6F61G47j9cj8L1KFzvPwAAAAAAAPA/UrgehetR8D+kcD0K16PwP/YoXI/C9fA/SOF6FK5H8T+amZmZmZnxP+xRuB6F6/E/PgrXo3A98j+PwvUoXI/yP+F6FK5H4fI/MzMzMzMz8z+F61G4HoXzP9ejcD0K1/M/KVyPwvUo9D97FK5H4Xr0P83MzMzMzPQ/H4XrUbge9T9xPQrXo3D1P8P1KFyPwvU/Fa5H4XoU9j9nZmZmZmb2P7gehetRuPY/CtejcD0K9z9cj8L1KFz3P65H4XoUrvc/AAAAAAAA+D9SuB6F61H4P6RwPQrXo/g/9ihcj8L1+D9I4XoUrkf5P5qZmZmZmfk/7FG4HoXr+T8+CtejcD36P5DC9Shcj/o/4XoUrkfh+j8zMzMzMzP7P4XrUbgehfs/16NwPQrX+z8pXI/C9Sj8P3sUrkfhevw/zczMzMzM/D8fhetRuB79P3E9CtejcP0/w/UoXI/C/T8VrkfhehT+P2dmZmZmZv4/uB6F61G4/j8K16NwPQr/P1yPwvUoXP8/rkfhehSu/z8AAAAAAAAAQA==",
                                        "dtype": "f8"
                                    },
                                    "y": {
                                        "bdata": "uB6F61G4vj+4HoXrUbi+P7gehetRuL4/uB6F61G4vj+4HoXrUbi+P7gehetRuL4/uB6F61G4vj+4HoXrUbi+P7gehetRuL4/uB6F61G4vj+4HoXrUbi+P7gehetRuL4/uB6F61G4vj+4HoXrUbi+P7gehetRuL4/uB6F61G4vj+4HoXrUbi+P7gehetRuL4/uB6F61G4vj+4HoXrUbi+P7gehetRuL4/uB6F61G4vj+4HoXrUbi+P7gehetRuL4/uB6F61G4vj+4HoXrUbi+P7gehetRuL4/uB6F61G4vj+4HoXrUbi+P7gehetRuL4/uB6F61G4vj+4HoXrUbi+P7gehetRuL4/uB6F61G4vj+4HoXrUbi+P7gehetRuL4/uB6F61G4vj+4HoXrUbi+P7gehetRuL4/uB6F61G4vj+4HoXrUbi+P7gehetRuL4/uB6F61G4vj+4HoXrUbi+P7gehetRuL4/uB6F61G4vj+4HoXrUbi+P7gehetRuL4/uB6F61G4vj+4HoXrUbi+P7gehetRuL4/uB6F61G4vj+4HoXrUbi+P7gehetRuL4/uB6F61G4vj+4HoXrUbi+P7gehetRuL4/uB6F61G4vj+4HoXrUbi+P7gehetRuL4/uB6F61G4vj+4HoXrUbi+P7gehetRuL4/uB6F61G4vj+4HoXrUbi+P7gehetRuL4/uB6F61G4vj+4HoXrUbi+P7gehetRuL4/uB6F61G4vj+4HoXrUbi+P7gehetRuL4/uB6F61G4vj+4HoXrUbi+P7gehetRuL4/uB6F61G4vj+4HoXrUbi+P7gehetRuL4/uB6F61G4vj+4HoXrUbi+P7gehetRuL4/uB6F61G4vj+4HoXrUbi+P7gehetRuL4/uB6F61G4vj+4HoXrUbi+P7gehetRuL4/uB6F61G4vj+4HoXrUbi+P7gehetRuL4/uB6F61G4vj+4HoXrUbi+P7gehetRuL4/uB6F61G4vj+4HoXrUbi+P7gehetRuL4/uB6F61G4vj+4HoXrUbi+P7gehetRuL4/uB6F61G4vj+4HoXrUbi+Pw==",
                                        "dtype": "f8"
                                    },
                                    "z": {
                                        "bdata": "GKmoSFqP179P6S8378bTv5QHHPoR1c+/eHoDZRz8x7/fW6Fd6wrAv3aT4BsKE7C/AAAAAAAAAAB9k+AbChOwP+BboV3rCsA/eHoDZRz8xz+WBxz6EdXPP0/pLzfvxtM/GKmoSFqP1z+dgSXJ9z/bP1Kpv1wN1d4/USsYPH4l4T9eWnUEI8/iP7wBtf7GZeQ/EyARVc/n5T8WuNIDtlPnP+prW2MLqOg/qPSXm3fj6T+GLmT/uwTrP1rAgU60Cuw/jBXc3Ff07D/kWu+dusDtP/9URBMOb+4/4B4QHaL+7j//CSWs5W7vPwLZgFRnv+8//kPkv9Xv7z8AAAAAAADwP/5D5L/V7+8/AtmAVGe/7z/+CSWs5W7vP+AeEB2i/u4/AFVEEw5v7j/lWu+dusDtP4sV3NxX9Ow/WMCBTrQK7D+FLmT/uwTrP6j0l5t34+k/6mtbYwuo6D8VuNIDtlPnPxUgEVXP5+U/vQG1/sZl5D9fWnUEI8/iP1ErGDx+JeE/V6m/XA3V3j+ggSXJ9z/bPxypqEhaj9c/UekvN+/G0z+XBxz6EdXPP3d6A2Uc/Mc/2luhXesKwD9ok+AbChOwPwdcFDMmpqE8d5PgGwoTsL/hW6Fd6wrAv356A2Uc/Me/ngcc+hHVz79V6S8378bTvx+pqEhaj9e/nIElyfc/279Tqb9cDdXev1IrGDx+JeG/YFp1BCPP4r++AbX+xmXkvxYgEVXP5+W/GbjSA7ZT57/ra1tjC6jov6L0l5t34+m/gy5k/7sE679VwIFOtArsv4oV3NxX9Oy/4lrvnbrA7b//VEQTDm/uv98eEB2i/u6//wklrOVu778C2YBUZ7/vv/5D5L/V7++/AAAAAAAA8L/+Q+S/1e/vvwPZgFRnv++//wklrOVu77/gHhAdov7uvwBVRBMOb+6/41rvnbrA7b+MFdzcV/Tsv1fAgU60Cuy/hS5k/7sE67+k9Jebd+Ppv+hrW2MLqOi/ELjSA7ZT578QIBFVz+flv7sBtf7GZeS/Zlp1BCPP4r9VKxg8fiXhv2Cpv1wN1d6/ooElyfc/278mqahIWo/Xvw==",
                                        "dtype": "f8"
                                    }
                                },
                                {
                                    "mode": "lines",
                                    "type": "scatter3d",
                                    "x": {
                                        "bdata": "AAAAAAAAAAB7FK5H4XqUP3sUrkfheqQ/uB6F61G4rj97FK5H4Xq0P5qZmZmZmbk/uB6F61G4vj/sUbgehevBP3sUrkfhesQ/CtejcD0Kxz+amZmZmZnJPylcj8L1KMw/uB6F61G4zj+kcD0K16PQP+xRuB6F69E/MzMzMzMz0z97FK5H4XrUP8P1KFyPwtU/CtejcD0K1z9SuB6F61HYP5qZmZmZmdk/4XoUrkfh2j8pXI/C9SjcP3E9CtejcN0/uB6F61G43j8AAAAAAADgP6RwPQrXo+A/SOF6FK5H4T/sUbgehevhP4/C9Shcj+I/MzMzMzMz4z/Xo3A9CtfjP3sUrkfheuQ/H4XrUbge5T/D9Shcj8LlP2dmZmZmZuY/CtejcD0K5z+uR+F6FK7nP1K4HoXrUeg/9ihcj8L16D+amZmZmZnpPz4K16NwPeo/4XoUrkfh6j+F61G4HoXrPylcj8L1KOw/zczMzMzM7D9xPQrXo3DtPxWuR+F6FO4/uB6F61G47j9cj8L1KFzvPwAAAAAAAPA/UrgehetR8D+kcD0K16PwP/YoXI/C9fA/SOF6FK5H8T+amZmZmZnxP+xRuB6F6/E/PgrXo3A98j+PwvUoXI/yP+F6FK5H4fI/MzMzMzMz8z+F61G4HoXzP9ejcD0K1/M/KVyPwvUo9D97FK5H4Xr0P83MzMzMzPQ/H4XrUbge9T9xPQrXo3D1P8P1KFyPwvU/Fa5H4XoU9j9nZmZmZmb2P7gehetRuPY/CtejcD0K9z9cj8L1KFz3P65H4XoUrvc/AAAAAAAA+D9SuB6F61H4P6RwPQrXo/g/9ihcj8L1+D9I4XoUrkf5P5qZmZmZmfk/7FG4HoXr+T8+CtejcD36P5DC9Shcj/o/4XoUrkfh+j8zMzMzMzP7P4XrUbgehfs/16NwPQrX+z8pXI/C9Sj8P3sUrkfhevw/zczMzMzM/D8fhetRuB79P3E9CtejcP0/w/UoXI/C/T8VrkfhehT+P2dmZmZmZv4/uB6F61G4/j8K16NwPQr/P1yPwvUoXP8/rkfhehSu/z8AAAAAAAAAQA==",
                                        "dtype": "f8"
                                    },
                                    "y": {
                                        "bdata": "pHA9CtejwD+kcD0K16PAP6RwPQrXo8A/pHA9CtejwD+kcD0K16PAP6RwPQrXo8A/pHA9CtejwD+kcD0K16PAP6RwPQrXo8A/pHA9CtejwD+kcD0K16PAP6RwPQrXo8A/pHA9CtejwD+kcD0K16PAP6RwPQrXo8A/pHA9CtejwD+kcD0K16PAP6RwPQrXo8A/pHA9CtejwD+kcD0K16PAP6RwPQrXo8A/pHA9CtejwD+kcD0K16PAP6RwPQrXo8A/pHA9CtejwD+kcD0K16PAP6RwPQrXo8A/pHA9CtejwD+kcD0K16PAP6RwPQrXo8A/pHA9CtejwD+kcD0K16PAP6RwPQrXo8A/pHA9CtejwD+kcD0K16PAP6RwPQrXo8A/pHA9CtejwD+kcD0K16PAP6RwPQrXo8A/pHA9CtejwD+kcD0K16PAP6RwPQrXo8A/pHA9CtejwD+kcD0K16PAP6RwPQrXo8A/pHA9CtejwD+kcD0K16PAP6RwPQrXo8A/pHA9CtejwD+kcD0K16PAP6RwPQrXo8A/pHA9CtejwD+kcD0K16PAP6RwPQrXo8A/pHA9CtejwD+kcD0K16PAP6RwPQrXo8A/pHA9CtejwD+kcD0K16PAP6RwPQrXo8A/pHA9CtejwD+kcD0K16PAP6RwPQrXo8A/pHA9CtejwD+kcD0K16PAP6RwPQrXo8A/pHA9CtejwD+kcD0K16PAP6RwPQrXo8A/pHA9CtejwD+kcD0K16PAP6RwPQrXo8A/pHA9CtejwD+kcD0K16PAP6RwPQrXo8A/pHA9CtejwD+kcD0K16PAP6RwPQrXo8A/pHA9CtejwD+kcD0K16PAP6RwPQrXo8A/pHA9CtejwD+kcD0K16PAP6RwPQrXo8A/pHA9CtejwD+kcD0K16PAP6RwPQrXo8A/pHA9CtejwD+kcD0K16PAP6RwPQrXo8A/pHA9CtejwD+kcD0K16PAP6RwPQrXo8A/pHA9CtejwD+kcD0K16PAP6RwPQrXo8A/pHA9CtejwD+kcD0K16PAP6RwPQrXo8A/pHA9CtejwD+kcD0K16PAPw==",
                                        "dtype": "f8"
                                    },
                                    "z": {
                                        "bdata": "wul8/N5q2b/cllfQ4a3Vvw4OFIP92tG/ah/SIx7sy791U6hnCwbEv+8X/H97F7i/ZFj3LRIVoL9kWPctEhWgP+8X/H97F7g/dFOoZwsGxD9qH9IjHuzLPw4OFIP92tE/25ZX0OGt1T/C6Xz83mrZPwHeRCsuDt0/46IeORFK4D/qALBHlvzhPwus3UDvnOM/7LJAgHcp5T/NO39mnqDmP9zFDe7oAOg/8ZEdKvNI6T8JUTWucXfqPzzKCN0yi+s/bCw9HSCD7D/tF+LyPl7tP9f/gvyxG+4/cjXR0rm67j/4pATKtTrvP1vkL5Qkm+8/XJPjw6Tb7z+GEJ0u9fvvP4YQnS71++8/XJPjw6Tb7z9b5C+UJJvvP/ikBMq1Ou8/cjXR0rm67j/X/4L8sRvuP+4X4vI+Xu0/bSw9HSCD7D88ygjdMovrPwhRNa5xd+o/85EdKvNI6T/cxQ3u6ADoP807f2aeoOY/7LJAgHcp5T8KrN1A75zjP+kAsEeW/OE/5aIeORFK4D8C3kQrLg7dP8LpfPzeatk/25ZX0OGt1T8LDhSD/drRP2Ef0iMe7Ms/eVOoZwsGxD/yF/x/exe4P1hY9y0SFaA/tVj3LRIVoL/AF/x/exe4v2FTqGcLBsS/WB/SIx7sy78HDhSD/drRv9eWV9DhrdW/t+l8/N5q2b/33UQrLg7dv+CiHjkRSuC/5wCwR5b84b8JrN1A75zjv+uyQIB3KeW/zDt/Zp6g5r/bxQ3u6ADov/KRHSrzSOm/B1E1rnF36r89ygjdMovrv2wsPR0gg+y/7hfi8j5e7b/X/4L8sRvuv3M10dK5uu6/+KQEyrU6779d5C+UJJvvv1yT48Ok2++/hhCdLvX777+FEJ0u9fvvv1yT48Ok2++/XeQvlCSb77/5pATKtTrvv3Q10dK5uu6/2P+C/LEb7r/wF+LyPl7tv24sPR0gg+y/PsoI3TKL678JUTWucXfqv/SRHSrzSOm/28UN7ugA6L/OO39mnqDmv/CyQIB3KeW/C6zdQO+c47/tALBHlvzhv+OiHjkRSuC/BN5EKy4O3b+96Xz83mrZvw==",
                                        "dtype": "f8"
                                    }
                                },
                                {
                                    "mode": "lines",
                                    "type": "scatter3d",
                                    "x": {
                                        "bdata": "AAAAAAAAAAB7FK5H4XqUP3sUrkfheqQ/uB6F61G4rj97FK5H4Xq0P5qZmZmZmbk/uB6F61G4vj/sUbgehevBP3sUrkfhesQ/CtejcD0Kxz+amZmZmZnJPylcj8L1KMw/uB6F61G4zj+kcD0K16PQP+xRuB6F69E/MzMzMzMz0z97FK5H4XrUP8P1KFyPwtU/CtejcD0K1z9SuB6F61HYP5qZmZmZmdk/4XoUrkfh2j8pXI/C9SjcP3E9CtejcN0/uB6F61G43j8AAAAAAADgP6RwPQrXo+A/SOF6FK5H4T/sUbgehevhP4/C9Shcj+I/MzMzMzMz4z/Xo3A9CtfjP3sUrkfheuQ/H4XrUbge5T/D9Shcj8LlP2dmZmZmZuY/CtejcD0K5z+uR+F6FK7nP1K4HoXrUeg/9ihcj8L16D+amZmZmZnpPz4K16NwPeo/4XoUrkfh6j+F61G4HoXrPylcj8L1KOw/zczMzMzM7D9xPQrXo3DtPxWuR+F6FO4/uB6F61G47j9cj8L1KFzvPwAAAAAAAPA/UrgehetR8D+kcD0K16PwP/YoXI/C9fA/SOF6FK5H8T+amZmZmZnxP+xRuB6F6/E/PgrXo3A98j+PwvUoXI/yP+F6FK5H4fI/MzMzMzMz8z+F61G4HoXzP9ejcD0K1/M/KVyPwvUo9D97FK5H4Xr0P83MzMzMzPQ/H4XrUbge9T9xPQrXo3D1P8P1KFyPwvU/Fa5H4XoU9j9nZmZmZmb2P7gehetRuPY/CtejcD0K9z9cj8L1KFz3P65H4XoUrvc/AAAAAAAA+D9SuB6F61H4P6RwPQrXo/g/9ihcj8L1+D9I4XoUrkf5P5qZmZmZmfk/7FG4HoXr+T8+CtejcD36P5DC9Shcj/o/4XoUrkfh+j8zMzMzMzP7P4XrUbgehfs/16NwPQrX+z8pXI/C9Sj8P3sUrkfhevw/zczMzMzM/D8fhetRuB79P3E9CtejcP0/w/UoXI/C/T8VrkfhehT+P2dmZmZmZv4/uB6F61G4/j8K16NwPQr/P1yPwvUoXP8/rkfhehSu/z8AAAAAAAAAQA==",
                                        "dtype": "f8"
                                    },
                                    "y": {
                                        "bdata": "7FG4HoXrwT/sUbgehevBP+xRuB6F68E/7FG4HoXrwT/sUbgehevBP+xRuB6F68E/7FG4HoXrwT/sUbgehevBP+xRuB6F68E/7FG4HoXrwT/sUbgehevBP+xRuB6F68E/7FG4HoXrwT/sUbgehevBP+xRuB6F68E/7FG4HoXrwT/sUbgehevBP+xRuB6F68E/7FG4HoXrwT/sUbgehevBP+xRuB6F68E/7FG4HoXrwT/sUbgehevBP+xRuB6F68E/7FG4HoXrwT/sUbgehevBP+xRuB6F68E/7FG4HoXrwT/sUbgehevBP+xRuB6F68E/7FG4HoXrwT/sUbgehevBP+xRuB6F68E/7FG4HoXrwT/sUbgehevBP+xRuB6F68E/7FG4HoXrwT/sUbgehevBP+xRuB6F68E/7FG4HoXrwT/sUbgehevBP+xRuB6F68E/7FG4HoXrwT/sUbgehevBP+xRuB6F68E/7FG4HoXrwT/sUbgehevBP+xRuB6F68E/7FG4HoXrwT/sUbgehevBP+xRuB6F68E/7FG4HoXrwT/sUbgehevBP+xRuB6F68E/7FG4HoXrwT/sUbgehevBP+xRuB6F68E/7FG4HoXrwT/sUbgehevBP+xRuB6F68E/7FG4HoXrwT/sUbgehevBP+xRuB6F68E/7FG4HoXrwT/sUbgehevBP+xRuB6F68E/7FG4HoXrwT/sUbgehevBP+xRuB6F68E/7FG4HoXrwT/sUbgehevBP+xRuB6F68E/7FG4HoXrwT/sUbgehevBP+xRuB6F68E/7FG4HoXrwT/sUbgehevBP+xRuB6F68E/7FG4HoXrwT/sUbgehevBP+xRuB6F68E/7FG4HoXrwT/sUbgehevBP+xRuB6F68E/7FG4HoXrwT/sUbgehevBP+xRuB6F68E/7FG4HoXrwT/sUbgehevBP+xRuB6F68E/7FG4HoXrwT/sUbgehevBP+xRuB6F68E/7FG4HoXrwT/sUbgehevBP+xRuB6F68E/7FG4HoXrwT/sUbgehevBP+xRuB6F68E/7FG4HoXrwT/sUbgehevBPw==",
                                        "dtype": "f8"
                                    },
                                    "z": {
                                        "bdata": "nYElyfc/278ZqahIWo/Xv0/pLzfvxtO/lgcc+hHVz796egNlHPzHv+BboV3rCsC/fZPgGwoTsL8AAAAAAAAAAHaT4BsKE7A/3VuhXesKwD94egNlHPzHP5QHHPoR1c8/TukvN+/G0z8YqahIWo/XP52BJcn3P9s/UKm/XA3V3j9RKxg8fiXhP15adQQjz+I/uwG1/sZl5D8TIBFVz+flPxa40gO2U+c/6WtbYwuo6D+o9Jebd+PpP4YuZP+7BOs/WcCBTrQK7D+MFdzcV/TsP+Ra7526wO0//1REEw5v7j/gHhAdov7uP/4JJazlbu8/AtmAVGe/7z/+Q+S/1e/vPwAAAAAAAPA//kPkv9Xv7z8C2YBUZ7/vP/4JJazlbu8/4R4QHaL+7j8AVUQTDm/uP+Va7526wO0/ixXc3Ff07D9YwIFOtArsP4UuZP+7BOs/qPSXm3fj6T/qa1tjC6joPxW40gO2U+c/FSARVc/n5T+9AbX+xmXkP19adQQjz+I/VCsYPH4l4T9Xqb9cDdXeP6CBJcn3P9s/HKmoSFqP1z9R6S8378bTP5cHHPoR1c8/d3oDZRz8xz/aW6Fd6wrAP2iT4BsKE7A/B1wUMyamoTx3k+AbChOwv+FboV3rCsC/fnoDZRz8x7+eBxz6EdXPv1XpLzfvxtO/H6moSFqP17+cgSXJ9z/bv1Opv1wN1d6/UisYPH4l4b9gWnUEI8/iv74Btf7GZeS/FiARVc/n5b8ZuNIDtlPnv+ZrW2MLqOi/ovSXm3fj6b+DLmT/uwTrv1XAgU60Cuy/ihXc3Ff07L/iWu+dusDtv/9URBMOb+6/3x4QHaL+7r//CSWs5W7vvwLZgFRnv++//kPkv9Xv778AAAAAAADwv/5D5L/V7++/A9mAVGe/77//CSWs5W7vv+AeEB2i/u6/AFVEEw5v7r/jWu+dusDtv4wV3NxX9Oy/V8CBTrQK7L+FLmT/uwTrv6T0l5t34+m/6GtbYwuo6L8QuNIDtlPnvxAgEVXP5+W/wQG1/sZl5L9mWnUEI8/iv1UrGDx+JeG/YKm/XA3V3r+igSXJ9z/bvw==",
                                        "dtype": "f8"
                                    }
                                },
                                {
                                    "mode": "lines",
                                    "type": "scatter3d",
                                    "x": {
                                        "bdata": "AAAAAAAAAAB7FK5H4XqUP3sUrkfheqQ/uB6F61G4rj97FK5H4Xq0P5qZmZmZmbk/uB6F61G4vj/sUbgehevBP3sUrkfhesQ/CtejcD0Kxz+amZmZmZnJPylcj8L1KMw/uB6F61G4zj+kcD0K16PQP+xRuB6F69E/MzMzMzMz0z97FK5H4XrUP8P1KFyPwtU/CtejcD0K1z9SuB6F61HYP5qZmZmZmdk/4XoUrkfh2j8pXI/C9SjcP3E9CtejcN0/uB6F61G43j8AAAAAAADgP6RwPQrXo+A/SOF6FK5H4T/sUbgehevhP4/C9Shcj+I/MzMzMzMz4z/Xo3A9CtfjP3sUrkfheuQ/H4XrUbge5T/D9Shcj8LlP2dmZmZmZuY/CtejcD0K5z+uR+F6FK7nP1K4HoXrUeg/9ihcj8L16D+amZmZmZnpPz4K16NwPeo/4XoUrkfh6j+F61G4HoXrPylcj8L1KOw/zczMzMzM7D9xPQrXo3DtPxWuR+F6FO4/uB6F61G47j9cj8L1KFzvPwAAAAAAAPA/UrgehetR8D+kcD0K16PwP/YoXI/C9fA/SOF6FK5H8T+amZmZmZnxP+xRuB6F6/E/PgrXo3A98j+PwvUoXI/yP+F6FK5H4fI/MzMzMzMz8z+F61G4HoXzP9ejcD0K1/M/KVyPwvUo9D97FK5H4Xr0P83MzMzMzPQ/H4XrUbge9T9xPQrXo3D1P8P1KFyPwvU/Fa5H4XoU9j9nZmZmZmb2P7gehetRuPY/CtejcD0K9z9cj8L1KFz3P65H4XoUrvc/AAAAAAAA+D9SuB6F61H4P6RwPQrXo/g/9ihcj8L1+D9I4XoUrkf5P5qZmZmZmfk/7FG4HoXr+T8+CtejcD36P5DC9Shcj/o/4XoUrkfh+j8zMzMzMzP7P4XrUbgehfs/16NwPQrX+z8pXI/C9Sj8P3sUrkfhevw/zczMzMzM/D8fhetRuB79P3E9CtejcP0/w/UoXI/C/T8VrkfhehT+P2dmZmZmZv4/uB6F61G4/j8K16NwPQr/P1yPwvUoXP8/rkfhehSu/z8AAAAAAAAAQA==",
                                        "dtype": "f8"
                                    },
                                    "y": {
                                        "bdata": "MzMzMzMzwz8zMzMzMzPDPzMzMzMzM8M/MzMzMzMzwz8zMzMzMzPDPzMzMzMzM8M/MzMzMzMzwz8zMzMzMzPDPzMzMzMzM8M/MzMzMzMzwz8zMzMzMzPDPzMzMzMzM8M/MzMzMzMzwz8zMzMzMzPDPzMzMzMzM8M/MzMzMzMzwz8zMzMzMzPDPzMzMzMzM8M/MzMzMzMzwz8zMzMzMzPDPzMzMzMzM8M/MzMzMzMzwz8zMzMzMzPDPzMzMzMzM8M/MzMzMzMzwz8zMzMzMzPDPzMzMzMzM8M/MzMzMzMzwz8zMzMzMzPDPzMzMzMzM8M/MzMzMzMzwz8zMzMzMzPDPzMzMzMzM8M/MzMzMzMzwz8zMzMzMzPDPzMzMzMzM8M/MzMzMzMzwz8zMzMzMzPDPzMzMzMzM8M/MzMzMzMzwz8zMzMzMzPDPzMzMzMzM8M/MzMzMzMzwz8zMzMzMzPDPzMzMzMzM8M/MzMzMzMzwz8zMzMzMzPDPzMzMzMzM8M/MzMzMzMzwz8zMzMzMzPDPzMzMzMzM8M/MzMzMzMzwz8zMzMzMzPDPzMzMzMzM8M/MzMzMzMzwz8zMzMzMzPDPzMzMzMzM8M/MzMzMzMzwz8zMzMzMzPDPzMzMzMzM8M/MzMzMzMzwz8zMzMzMzPDPzMzMzMzM8M/MzMzMzMzwz8zMzMzMzPDPzMzMzMzM8M/MzMzMzMzwz8zMzMzMzPDPzMzMzMzM8M/MzMzMzMzwz8zMzMzMzPDPzMzMzMzM8M/MzMzMzMzwz8zMzMzMzPDPzMzMzMzM8M/MzMzMzMzwz8zMzMzMzPDPzMzMzMzM8M/MzMzMzMzwz8zMzMzMzPDPzMzMzMzM8M/MzMzMzMzwz8zMzMzMzPDPzMzMzMzM8M/MzMzMzMzwz8zMzMzMzPDPzMzMzMzM8M/MzMzMzMzwz8zMzMzMzPDPzMzMzMzM8M/MzMzMzMzwz8zMzMzMzPDPzMzMzMzM8M/MzMzMzMzwz8zMzMzMzPDPzMzMzMzM8M/MzMzMzMzwz8zMzMzMzPDPzMzMzMzM8M/MzMzMzMzwz8zMzMzMzPDPw==",
                                        "dtype": "f8"
                                    },
                                    "z": {
                                        "bdata": "AN5EKy4O3b/C6Xz83mrZv9uWV9DhrdW/Dg4Ug/3a0b9oH9IjHuzLv3RTqGcLBsS/7xf8f3sXuL9YWPctEhWgv2RY9y0SFaA/7xf8f3sXuD93U6hnCwbEP2of0iMe7Ms/Dg4Ug/3a0T/dllfQ4a3VP8PpfPzeatk/AN5EKy4O3T/koh45EUrgP+oAsEeW/OE/CqzdQO+c4z/sskCAdynlP807f2aeoOY/3MUN7ugA6D/ykR0q80jpPwlRNa5xd+o/O8oI3TKL6z9sLD0dIIPsP+0X4vI+Xu0/1/+C/LEb7j9yNdHSubruP/ekBMq1Ou8/W+QvlCSb7z9ck+PDpNvvP4YQnS71++8/hhCdLvX77z9ck+PDpNvvP1vkL5Qkm+8/+KQEyrU67z9yNdHSubruP9f/gvyxG+4/7hfi8j5e7T9tLD0dIIPsPzzKCN0yi+s/C1E1rnF36j/zkR0q80jpP9zFDe7oAOg/zTt/Zp6g5j/sskCAdynlPwqs3UDvnOM/7ACwR5b84T/loh45EUrgPwLeRCsuDt0/wul8/N5q2T/bllfQ4a3VPwsOFIP92tE/YR/SIx7syz95U6hnCwbEP/IX/H97F7g/WFj3LRIVoD81WPctEhWgv+AX/H97F7i/cFOoZwsGxL9oH9IjHuzLvw4OFIP92tG/3pZX0OGt1b/F6Xz83mrZvwbeRCsuDt2/56IeORFK4L/uALBHlvzhvw+s3UDvnOO/8bJAgHcp5b/RO39mnqDmv9vFDe7oAOi/8pEdKvNI6b8HUTWucXfqvz3KCN0yi+u/bCw9HSCD7L/uF+LyPl7tv9f/gvyxG+6/czXR0rm67r/4pATKtTrvv13kL5Qkm++/XJPjw6Tb77+GEJ0u9fvvv4UQnS71+++/XJPjw6Tb779c5C+UJJvvv/ekBMq1Ou+/cjXR0rm67r/W/4L8sRvuv+wX4vI+Xu2/biw9HSCD7L86ygjdMovrvwlRNa5xd+q/75EdKvNI6b/bxQ3u6ADov8g7f2aeoOa/8LJAgHcp5b8LrN1A75zjv+0AsEeW/OG/46IeORFK4L8E3kQrLg7dvw==",
                                        "dtype": "f8"
                                    }
                                },
                                {
                                    "mode": "lines",
                                    "type": "scatter3d",
                                    "x": {
                                        "bdata": "AAAAAAAAAAB7FK5H4XqUP3sUrkfheqQ/uB6F61G4rj97FK5H4Xq0P5qZmZmZmbk/uB6F61G4vj/sUbgehevBP3sUrkfhesQ/CtejcD0Kxz+amZmZmZnJPylcj8L1KMw/uB6F61G4zj+kcD0K16PQP+xRuB6F69E/MzMzMzMz0z97FK5H4XrUP8P1KFyPwtU/CtejcD0K1z9SuB6F61HYP5qZmZmZmdk/4XoUrkfh2j8pXI/C9SjcP3E9CtejcN0/uB6F61G43j8AAAAAAADgP6RwPQrXo+A/SOF6FK5H4T/sUbgehevhP4/C9Shcj+I/MzMzMzMz4z/Xo3A9CtfjP3sUrkfheuQ/H4XrUbge5T/D9Shcj8LlP2dmZmZmZuY/CtejcD0K5z+uR+F6FK7nP1K4HoXrUeg/9ihcj8L16D+amZmZmZnpPz4K16NwPeo/4XoUrkfh6j+F61G4HoXrPylcj8L1KOw/zczMzMzM7D9xPQrXo3DtPxWuR+F6FO4/uB6F61G47j9cj8L1KFzvPwAAAAAAAPA/UrgehetR8D+kcD0K16PwP/YoXI/C9fA/SOF6FK5H8T+amZmZmZnxP+xRuB6F6/E/PgrXo3A98j+PwvUoXI/yP+F6FK5H4fI/MzMzMzMz8z+F61G4HoXzP9ejcD0K1/M/KVyPwvUo9D97FK5H4Xr0P83MzMzMzPQ/H4XrUbge9T9xPQrXo3D1P8P1KFyPwvU/Fa5H4XoU9j9nZmZmZmb2P7gehetRuPY/CtejcD0K9z9cj8L1KFz3P65H4XoUrvc/AAAAAAAA+D9SuB6F61H4P6RwPQrXo/g/9ihcj8L1+D9I4XoUrkf5P5qZmZmZmfk/7FG4HoXr+T8+CtejcD36P5DC9Shcj/o/4XoUrkfh+j8zMzMzMzP7P4XrUbgehfs/16NwPQrX+z8pXI/C9Sj8P3sUrkfhevw/zczMzMzM/D8fhetRuB79P3E9CtejcP0/w/UoXI/C/T8VrkfhehT+P2dmZmZmZv4/uB6F61G4/j8K16NwPQr/P1yPwvUoXP8/rkfhehSu/z8AAAAAAAAAQA==",
                                        "dtype": "f8"
                                    },
                                    "y": {
                                        "bdata": "exSuR+F6xD97FK5H4XrEP3sUrkfhesQ/exSuR+F6xD97FK5H4XrEP3sUrkfhesQ/exSuR+F6xD97FK5H4XrEP3sUrkfhesQ/exSuR+F6xD97FK5H4XrEP3sUrkfhesQ/exSuR+F6xD97FK5H4XrEP3sUrkfhesQ/exSuR+F6xD97FK5H4XrEP3sUrkfhesQ/exSuR+F6xD97FK5H4XrEP3sUrkfhesQ/exSuR+F6xD97FK5H4XrEP3sUrkfhesQ/exSuR+F6xD97FK5H4XrEP3sUrkfhesQ/exSuR+F6xD97FK5H4XrEP3sUrkfhesQ/exSuR+F6xD97FK5H4XrEP3sUrkfhesQ/exSuR+F6xD97FK5H4XrEP3sUrkfhesQ/exSuR+F6xD97FK5H4XrEP3sUrkfhesQ/exSuR+F6xD97FK5H4XrEP3sUrkfhesQ/exSuR+F6xD97FK5H4XrEP3sUrkfhesQ/exSuR+F6xD97FK5H4XrEP3sUrkfhesQ/exSuR+F6xD97FK5H4XrEP3sUrkfhesQ/exSuR+F6xD97FK5H4XrEP3sUrkfhesQ/exSuR+F6xD97FK5H4XrEP3sUrkfhesQ/exSuR+F6xD97FK5H4XrEP3sUrkfhesQ/exSuR+F6xD97FK5H4XrEP3sUrkfhesQ/exSuR+F6xD97FK5H4XrEP3sUrkfhesQ/exSuR+F6xD97FK5H4XrEP3sUrkfhesQ/exSuR+F6xD97FK5H4XrEP3sUrkfhesQ/exSuR+F6xD97FK5H4XrEP3sUrkfhesQ/exSuR+F6xD97FK5H4XrEP3sUrkfhesQ/exSuR+F6xD97FK5H4XrEP3sUrkfhesQ/exSuR+F6xD97FK5H4XrEP3sUrkfhesQ/exSuR+F6xD97FK5H4XrEP3sUrkfhesQ/exSuR+F6xD97FK5H4XrEP3sUrkfhesQ/exSuR+F6xD97FK5H4XrEP3sUrkfhesQ/exSuR+F6xD97FK5H4XrEP3sUrkfhesQ/exSuR+F6xD97FK5H4XrEP3sUrkfhesQ/exSuR+F6xD97FK5H4XrEPw==",
                                        "dtype": "f8"
                                    },
                                    "z": {
                                        "bdata": "Uqm/XA3V3r+dgSXJ9z/bvxipqEhaj9e/T+kvN+/G07+WBxz6EdXPv3h6A2Uc/Me/4FuhXesKwL92k+AbChOwvwAAAAAAAAAAdpPgGwoTsD/gW6Fd6wrAP3h6A2Uc/Mc/lAcc+hHVzz9P6S8378bTPxqpqEhaj9c/m4Elyfc/2z9Sqb9cDdXeP1ErGDx+JeE/Xlp1BCPP4j+7AbX+xmXkPxQgEVXP5+U/FrjSA7ZT5z/qa1tjC6joP6j0l5t34+k/hS5k/7sE6z9ZwIFOtArsP4wV3NxX9Ow/5FrvnbrA7T//VEQTDm/uP+AeEB2i/u4//gklrOVu7z8C2YBUZ7/vP/5D5L/V7+8/AAAAAAAA8D/+Q+S/1e/vPwLZgFRnv+8//wklrOVu7z/hHhAdov7uPwBVRBMOb+4/5VrvnbrA7T+LFdzcV/TsP1jAgU60Cuw/hy5k/7sE6z+o9Jebd+PpP+prW2MLqOg/FbjSA7ZT5z8VIBFVz+flP70Btf7GZeQ/X1p1BCPP4j9UKxg8fiXhP1epv1wN1d4/oIElyfc/2z8cqahIWo/XP1HpLzfvxtM/lwcc+hHVzz93egNlHPzHP9pboV3rCsA/aJPgGwoTsD8CF8WMiWnEPHeT4BsKE7C/4VuhXesKwL9+egNlHPzHv54HHPoR1c+/VekvN+/G078fqahIWo/Xv5yBJcn3P9u/U6m/XA3V3r9SKxg8fiXhv2BadQQjz+K/vgG1/sZl5L8WIBFVz+flvxS40gO2U+e/62tbYwuo6L+n9Jebd+Ppv4guZP+7BOu/WcCBTrQK7L+OFdzcV/Tsv+Va7526wO2//1REEw5v7r/hHhAdov7uv/8JJazlbu+/A9mAVGe/77/+Q+S/1e/vvwAAAAAAAPC//kPkv9Xv778D2YBUZ7/vv/8JJazlbu+/4B4QHaL+7r8AVUQTDm/uv+Na7526wO2/jBXc3Ff07L9XwIFOtArsv4UuZP+7BOu/pPSXm3fj6b/oa1tjC6jovxC40gO2U+e/FiARVc/n5b+7AbX+xmXkv2BadQQjz+K/TisYPH4l4b9Sqb9cDdXevw==",
                                        "dtype": "f8"
                                    }
                                },
                                {
                                    "mode": "lines",
                                    "type": "scatter3d",
                                    "x": {
                                        "bdata": "AAAAAAAAAAB7FK5H4XqUP3sUrkfheqQ/uB6F61G4rj97FK5H4Xq0P5qZmZmZmbk/uB6F61G4vj/sUbgehevBP3sUrkfhesQ/CtejcD0Kxz+amZmZmZnJPylcj8L1KMw/uB6F61G4zj+kcD0K16PQP+xRuB6F69E/MzMzMzMz0z97FK5H4XrUP8P1KFyPwtU/CtejcD0K1z9SuB6F61HYP5qZmZmZmdk/4XoUrkfh2j8pXI/C9SjcP3E9CtejcN0/uB6F61G43j8AAAAAAADgP6RwPQrXo+A/SOF6FK5H4T/sUbgehevhP4/C9Shcj+I/MzMzMzMz4z/Xo3A9CtfjP3sUrkfheuQ/H4XrUbge5T/D9Shcj8LlP2dmZmZmZuY/CtejcD0K5z+uR+F6FK7nP1K4HoXrUeg/9ihcj8L16D+amZmZmZnpPz4K16NwPeo/4XoUrkfh6j+F61G4HoXrPylcj8L1KOw/zczMzMzM7D9xPQrXo3DtPxWuR+F6FO4/uB6F61G47j9cj8L1KFzvPwAAAAAAAPA/UrgehetR8D+kcD0K16PwP/YoXI/C9fA/SOF6FK5H8T+amZmZmZnxP+xRuB6F6/E/PgrXo3A98j+PwvUoXI/yP+F6FK5H4fI/MzMzMzMz8z+F61G4HoXzP9ejcD0K1/M/KVyPwvUo9D97FK5H4Xr0P83MzMzMzPQ/H4XrUbge9T9xPQrXo3D1P8P1KFyPwvU/Fa5H4XoU9j9nZmZmZmb2P7gehetRuPY/CtejcD0K9z9cj8L1KFz3P65H4XoUrvc/AAAAAAAA+D9SuB6F61H4P6RwPQrXo/g/9ihcj8L1+D9I4XoUrkf5P5qZmZmZmfk/7FG4HoXr+T8+CtejcD36P5DC9Shcj/o/4XoUrkfh+j8zMzMzMzP7P4XrUbgehfs/16NwPQrX+z8pXI/C9Sj8P3sUrkfhevw/zczMzMzM/D8fhetRuB79P3E9CtejcP0/w/UoXI/C/T8VrkfhehT+P2dmZmZmZv4/uB6F61G4/j8K16NwPQr/P1yPwvUoXP8/rkfhehSu/z8AAAAAAAAAQA==",
                                        "dtype": "f8"
                                    },
                                    "y": {
                                        "bdata": "w/UoXI/CxT/D9Shcj8LFP8P1KFyPwsU/w/UoXI/CxT/D9Shcj8LFP8P1KFyPwsU/w/UoXI/CxT/D9Shcj8LFP8P1KFyPwsU/w/UoXI/CxT/D9Shcj8LFP8P1KFyPwsU/w/UoXI/CxT/D9Shcj8LFP8P1KFyPwsU/w/UoXI/CxT/D9Shcj8LFP8P1KFyPwsU/w/UoXI/CxT/D9Shcj8LFP8P1KFyPwsU/w/UoXI/CxT/D9Shcj8LFP8P1KFyPwsU/w/UoXI/CxT/D9Shcj8LFP8P1KFyPwsU/w/UoXI/CxT/D9Shcj8LFP8P1KFyPwsU/w/UoXI/CxT/D9Shcj8LFP8P1KFyPwsU/w/UoXI/CxT/D9Shcj8LFP8P1KFyPwsU/w/UoXI/CxT/D9Shcj8LFP8P1KFyPwsU/w/UoXI/CxT/D9Shcj8LFP8P1KFyPwsU/w/UoXI/CxT/D9Shcj8LFP8P1KFyPwsU/w/UoXI/CxT/D9Shcj8LFP8P1KFyPwsU/w/UoXI/CxT/D9Shcj8LFP8P1KFyPwsU/w/UoXI/CxT/D9Shcj8LFP8P1KFyPwsU/w/UoXI/CxT/D9Shcj8LFP8P1KFyPwsU/w/UoXI/CxT/D9Shcj8LFP8P1KFyPwsU/w/UoXI/CxT/D9Shcj8LFP8P1KFyPwsU/w/UoXI/CxT/D9Shcj8LFP8P1KFyPwsU/w/UoXI/CxT/D9Shcj8LFP8P1KFyPwsU/w/UoXI/CxT/D9Shcj8LFP8P1KFyPwsU/w/UoXI/CxT/D9Shcj8LFP8P1KFyPwsU/w/UoXI/CxT/D9Shcj8LFP8P1KFyPwsU/w/UoXI/CxT/D9Shcj8LFP8P1KFyPwsU/w/UoXI/CxT/D9Shcj8LFP8P1KFyPwsU/w/UoXI/CxT/D9Shcj8LFP8P1KFyPwsU/w/UoXI/CxT/D9Shcj8LFP8P1KFyPwsU/w/UoXI/CxT/D9Shcj8LFP8P1KFyPwsU/w/UoXI/CxT/D9Shcj8LFP8P1KFyPwsU/w/UoXI/CxT/D9Shcj8LFP8P1KFyPwsU/w/UoXI/CxT/D9Shcj8LFPw==",
                                        "dtype": "f8"
                                    },
                                    "z": {
                                        "bdata": "5KIeORFK4L8B3kQrLg7dv8LpfPzeatm/3ZZX0OGt1b8ODhSD/drRv2of0iMe7Mu/d1OoZwsGxL/vF/x/exe4v2RY9y0SFaC/WFj3LRIVoD/vF/x/exe4P3RTqGcLBsQ/Zx/SIx7syz8ODhSD/drRP92WV9DhrdU/wOl8/N5q2T8A3kQrLg7dP+SiHjkRSuA/6gCwR5b84T8KrN1A75zjP+yyQIB3KeU/zDt/Zp6g5j/cxQ3u6ADoP/KRHSrzSOk/CFE1rnF36j87ygjdMovrP2wsPR0gg+w/7Rfi8j5e7T/X/4L8sRvuP3E10dK5uu4/96QEyrU67z9b5C+UJJvvP1yT48Ok2+8/hhCdLvX77z+GEJ0u9fvvP1yT48Ok2+8/XOQvlCSb7z/4pATKtTrvP3I10dK5uu4/1/+C/LEb7j/uF+LyPl7tP20sPR0gg+w/PsoI3TKL6z8LUTWucXfqP/ORHSrzSOk/3MUN7ugA6D/NO39mnqDmP+yyQIB3KeU/DqzdQO+c4z/sALBHlvzhP+WiHjkRSuA/At5EKy4O3T/C6Xz83mrZP9uWV9DhrdU/Cw4Ug/3a0T9hH9IjHuzLP3lTqGcLBsQ/8hf8f3sXuD+YWPctEhWgPzVY9y0SFaC/4Bf8f3sXuL9wU6hnCwbEv2gf0iMe7Mu/Dg4Ug/3a0b/ellfQ4a3Vv8XpfPzeatm/Bt5EKy4O3b/noh45EUrgv+4AsEeW/OG/D6zdQO+c47/xskCAdynlv8w7f2aeoOa/28UN7ugA6L/ykR0q80jpvwdRNa5xd+q/PcoI3TKL679sLD0dIIPsv+4X4vI+Xu2/1/+C/LEb7r9zNdHSubruv/ikBMq1Ou+/XeQvlCSb779ck+PDpNvvv4YQnS71+++/hhCdLvX7779ck+PDpNvvv1zkL5Qkm++/96QEyrU6779yNdHSubruv9b/gvyxG+6/7Bfi8j5e7b9uLD0dIIPsvzrKCN0yi+u/CVE1rnF36r/vkR0q80jpv9vFDe7oAOi/zjt/Zp6g5r/wskCAdynlvwus3UDvnOO/7QCwR5b84b/joh45EUrgvw==",
                                        "dtype": "f8"
                                    }
                                },
                                {
                                    "mode": "lines",
                                    "type": "scatter3d",
                                    "x": {
                                        "bdata": "AAAAAAAAAAB7FK5H4XqUP3sUrkfheqQ/uB6F61G4rj97FK5H4Xq0P5qZmZmZmbk/uB6F61G4vj/sUbgehevBP3sUrkfhesQ/CtejcD0Kxz+amZmZmZnJPylcj8L1KMw/uB6F61G4zj+kcD0K16PQP+xRuB6F69E/MzMzMzMz0z97FK5H4XrUP8P1KFyPwtU/CtejcD0K1z9SuB6F61HYP5qZmZmZmdk/4XoUrkfh2j8pXI/C9SjcP3E9CtejcN0/uB6F61G43j8AAAAAAADgP6RwPQrXo+A/SOF6FK5H4T/sUbgehevhP4/C9Shcj+I/MzMzMzMz4z/Xo3A9CtfjP3sUrkfheuQ/H4XrUbge5T/D9Shcj8LlP2dmZmZmZuY/CtejcD0K5z+uR+F6FK7nP1K4HoXrUeg/9ihcj8L16D+amZmZmZnpPz4K16NwPeo/4XoUrkfh6j+F61G4HoXrPylcj8L1KOw/zczMzMzM7D9xPQrXo3DtPxWuR+F6FO4/uB6F61G47j9cj8L1KFzvPwAAAAAAAPA/UrgehetR8D+kcD0K16PwP/YoXI/C9fA/SOF6FK5H8T+amZmZmZnxP+xRuB6F6/E/PgrXo3A98j+PwvUoXI/yP+F6FK5H4fI/MzMzMzMz8z+F61G4HoXzP9ejcD0K1/M/KVyPwvUo9D97FK5H4Xr0P83MzMzMzPQ/H4XrUbge9T9xPQrXo3D1P8P1KFyPwvU/Fa5H4XoU9j9nZmZmZmb2P7gehetRuPY/CtejcD0K9z9cj8L1KFz3P65H4XoUrvc/AAAAAAAA+D9SuB6F61H4P6RwPQrXo/g/9ihcj8L1+D9I4XoUrkf5P5qZmZmZmfk/7FG4HoXr+T8+CtejcD36P5DC9Shcj/o/4XoUrkfh+j8zMzMzMzP7P4XrUbgehfs/16NwPQrX+z8pXI/C9Sj8P3sUrkfhevw/zczMzMzM/D8fhetRuB79P3E9CtejcP0/w/UoXI/C/T8VrkfhehT+P2dmZmZmZv4/uB6F61G4/j8K16NwPQr/P1yPwvUoXP8/rkfhehSu/z8AAAAAAAAAQA==",
                                        "dtype": "f8"
                                    },
                                    "y": {
                                        "bdata": "CtejcD0Kxz8K16NwPQrHPwrXo3A9Csc/CtejcD0Kxz8K16NwPQrHPwrXo3A9Csc/CtejcD0Kxz8K16NwPQrHPwrXo3A9Csc/CtejcD0Kxz8K16NwPQrHPwrXo3A9Csc/CtejcD0Kxz8K16NwPQrHPwrXo3A9Csc/CtejcD0Kxz8K16NwPQrHPwrXo3A9Csc/CtejcD0Kxz8K16NwPQrHPwrXo3A9Csc/CtejcD0Kxz8K16NwPQrHPwrXo3A9Csc/CtejcD0Kxz8K16NwPQrHPwrXo3A9Csc/CtejcD0Kxz8K16NwPQrHPwrXo3A9Csc/CtejcD0Kxz8K16NwPQrHPwrXo3A9Csc/CtejcD0Kxz8K16NwPQrHPwrXo3A9Csc/CtejcD0Kxz8K16NwPQrHPwrXo3A9Csc/CtejcD0Kxz8K16NwPQrHPwrXo3A9Csc/CtejcD0Kxz8K16NwPQrHPwrXo3A9Csc/CtejcD0Kxz8K16NwPQrHPwrXo3A9Csc/CtejcD0Kxz8K16NwPQrHPwrXo3A9Csc/CtejcD0Kxz8K16NwPQrHPwrXo3A9Csc/CtejcD0Kxz8K16NwPQrHPwrXo3A9Csc/CtejcD0Kxz8K16NwPQrHPwrXo3A9Csc/CtejcD0Kxz8K16NwPQrHPwrXo3A9Csc/CtejcD0Kxz8K16NwPQrHPwrXo3A9Csc/CtejcD0Kxz8K16NwPQrHPwrXo3A9Csc/CtejcD0Kxz8K16NwPQrHPwrXo3A9Csc/CtejcD0Kxz8K16NwPQrHPwrXo3A9Csc/CtejcD0Kxz8K16NwPQrHPwrXo3A9Csc/CtejcD0Kxz8K16NwPQrHPwrXo3A9Csc/CtejcD0Kxz8K16NwPQrHPwrXo3A9Csc/CtejcD0Kxz8K16NwPQrHPwrXo3A9Csc/CtejcD0Kxz8K16NwPQrHPwrXo3A9Csc/CtejcD0Kxz8K16NwPQrHPwrXo3A9Csc/CtejcD0Kxz8K16NwPQrHPwrXo3A9Csc/CtejcD0Kxz8K16NwPQrHPwrXo3A9Csc/CtejcD0Kxz8K16NwPQrHPw==",
                                        "dtype": "f8"
                                    },
                                    "z": {
                                        "bdata": "USsYPH4l4b9Sqb9cDdXev5uBJcn3P9u/GKmoSFqP179P6S8378bTv5QHHPoR1c+/eHoDZRz8x7/dW6Fd6wrAv3aT4BsKE7C/AAAAAAAAAAB9k+AbChOwP+BboV3rCsA/eHoDZRz8xz+WBxz6EdXPP1HpLzfvxtM/GKmoSFqP1z+dgSXJ9z/bP1Kpv1wN1d4/USsYPH4l4T9eWnUEI8/iP7wBtf7GZeQ/EyARVc/n5T8WuNIDtlPnP+prW2MLqOg/qPSXm3fj6T+GLmT/uwTrP1rAgU60Cuw/jBXc3Ff07D/lWu+dusDtP/9URBMOb+4/4B4QHaL+7j/+CSWs5W7vPwPZgFRnv+8//kPkv9Xv7z8AAAAAAADwP/5D5L/V7+8/AtmAVGe/7z/+CSWs5W7vP+AeEB2i/u4//1REEw5v7j/kWu+dusDtP4sV3NxX9Ow/WsCBTrQK7D+HLmT/uwTrP6j0l5t34+k/6mtbYwuo6D8VuNIDtlPnPxUgEVXP5+U/vQG1/sZl5D9fWnUEI8/iP1ErGDx+JeE/UKm/XA3V3j+ZgSXJ9z/bPxWpqEhaj9c/SukvN+/G0z+HBxz6EdXPP2d6A2Uc/Mc/yluhXesKwD+Ik+AbChOwPwdcFDMmpqE8d5PgGwoTsL/hW6Fd6wrAv356A2Uc/Me/ngcc+hHVz79V6S8378bTvx+pqEhaj9e/nIElyfc/279Tqb9cDdXev1IrGDx+JeG/YFp1BCPP4r++AbX+xmXkvxQgEVXP5+W/FLjSA7ZT57/ra1tjC6jov6f0l5t34+m/iC5k/7sE679ZwIFOtArsv44V3NxX9Oy/5VrvnbrA7b//VEQTDm/uv+EeEB2i/u6//wklrOVu778D2YBUZ7/vv/5D5L/V7++/AAAAAAAA8L/+Q+S/1e/vvwPZgFRnv++//wklrOVu77/gHhAdov7uvwBVRBMOb+6/41rvnbrA7b+MFdzcV/Tsv1fAgU60Cuy/hS5k/7sE67+k9Jebd+Ppv+hrW2MLqOi/FrjSA7ZT578WIBFVz+flv7sBtf7GZeS/YFp1BCPP4r9OKxg8fiXhvw==",
                                        "dtype": "f8"
                                    }
                                },
                                {
                                    "mode": "lines",
                                    "type": "scatter3d",
                                    "x": {
                                        "bdata": "AAAAAAAAAAB7FK5H4XqUP3sUrkfheqQ/uB6F61G4rj97FK5H4Xq0P5qZmZmZmbk/uB6F61G4vj/sUbgehevBP3sUrkfhesQ/CtejcD0Kxz+amZmZmZnJPylcj8L1KMw/uB6F61G4zj+kcD0K16PQP+xRuB6F69E/MzMzMzMz0z97FK5H4XrUP8P1KFyPwtU/CtejcD0K1z9SuB6F61HYP5qZmZmZmdk/4XoUrkfh2j8pXI/C9SjcP3E9CtejcN0/uB6F61G43j8AAAAAAADgP6RwPQrXo+A/SOF6FK5H4T/sUbgehevhP4/C9Shcj+I/MzMzMzMz4z/Xo3A9CtfjP3sUrkfheuQ/H4XrUbge5T/D9Shcj8LlP2dmZmZmZuY/CtejcD0K5z+uR+F6FK7nP1K4HoXrUeg/9ihcj8L16D+amZmZmZnpPz4K16NwPeo/4XoUrkfh6j+F61G4HoXrPylcj8L1KOw/zczMzMzM7D9xPQrXo3DtPxWuR+F6FO4/uB6F61G47j9cj8L1KFzvPwAAAAAAAPA/UrgehetR8D+kcD0K16PwP/YoXI/C9fA/SOF6FK5H8T+amZmZmZnxP+xRuB6F6/E/PgrXo3A98j+PwvUoXI/yP+F6FK5H4fI/MzMzMzMz8z+F61G4HoXzP9ejcD0K1/M/KVyPwvUo9D97FK5H4Xr0P83MzMzMzPQ/H4XrUbge9T9xPQrXo3D1P8P1KFyPwvU/Fa5H4XoU9j9nZmZmZmb2P7gehetRuPY/CtejcD0K9z9cj8L1KFz3P65H4XoUrvc/AAAAAAAA+D9SuB6F61H4P6RwPQrXo/g/9ihcj8L1+D9I4XoUrkf5P5qZmZmZmfk/7FG4HoXr+T8+CtejcD36P5DC9Shcj/o/4XoUrkfh+j8zMzMzMzP7P4XrUbgehfs/16NwPQrX+z8pXI/C9Sj8P3sUrkfhevw/zczMzMzM/D8fhetRuB79P3E9CtejcP0/w/UoXI/C/T8VrkfhehT+P2dmZmZmZv4/uB6F61G4/j8K16NwPQr/P1yPwvUoXP8/rkfhehSu/z8AAAAAAAAAQA==",
                                        "dtype": "f8"
                                    },
                                    "y": {
                                        "bdata": "UrgehetRyD9SuB6F61HIP1K4HoXrUcg/UrgehetRyD9SuB6F61HIP1K4HoXrUcg/UrgehetRyD9SuB6F61HIP1K4HoXrUcg/UrgehetRyD9SuB6F61HIP1K4HoXrUcg/UrgehetRyD9SuB6F61HIP1K4HoXrUcg/UrgehetRyD9SuB6F61HIP1K4HoXrUcg/UrgehetRyD9SuB6F61HIP1K4HoXrUcg/UrgehetRyD9SuB6F61HIP1K4HoXrUcg/UrgehetRyD9SuB6F61HIP1K4HoXrUcg/UrgehetRyD9SuB6F61HIP1K4HoXrUcg/UrgehetRyD9SuB6F61HIP1K4HoXrUcg/UrgehetRyD9SuB6F61HIP1K4HoXrUcg/UrgehetRyD9SuB6F61HIP1K4HoXrUcg/UrgehetRyD9SuB6F61HIP1K4HoXrUcg/UrgehetRyD9SuB6F61HIP1K4HoXrUcg/UrgehetRyD9SuB6F61HIP1K4HoXrUcg/UrgehetRyD9SuB6F61HIP1K4HoXrUcg/UrgehetRyD9SuB6F61HIP1K4HoXrUcg/UrgehetRyD9SuB6F61HIP1K4HoXrUcg/UrgehetRyD9SuB6F61HIP1K4HoXrUcg/UrgehetRyD9SuB6F61HIP1K4HoXrUcg/UrgehetRyD9SuB6F61HIP1K4HoXrUcg/UrgehetRyD9SuB6F61HIP1K4HoXrUcg/UrgehetRyD9SuB6F61HIP1K4HoXrUcg/UrgehetRyD9SuB6F61HIP1K4HoXrUcg/UrgehetRyD9SuB6F61HIP1K4HoXrUcg/UrgehetRyD9SuB6F61HIP1K4HoXrUcg/UrgehetRyD9SuB6F61HIP1K4HoXrUcg/UrgehetRyD9SuB6F61HIP1K4HoXrUcg/UrgehetRyD9SuB6F61HIP1K4HoXrUcg/UrgehetRyD9SuB6F61HIP1K4HoXrUcg/UrgehetRyD9SuB6F61HIP1K4HoXrUcg/UrgehetRyD9SuB6F61HIP1K4HoXrUcg/UrgehetRyD9SuB6F61HIPw==",
                                        "dtype": "f8"
                                    },
                                    "z": {
                                        "bdata": "6gCwR5b84b/koh45EUrgvwDeRCsuDt2/wul8/N5q2b/cllfQ4a3Vvw4OFIP92tG/ah/SIx7sy790U6hnCwbEv+8X/H97F7i/ZFj3LRIVoL9kWPctEhWgP+8X/H97F7g/dFOoZwsGxD9qH9IjHuzLPw8OFIP92tE/25ZX0OGt1T/C6Xz83mrZPwHeRCsuDt0/46IeORFK4D/qALBHlvzhPwus3UDvnOM/7LJAgHcp5T/NO39mnqDmP9zFDe7oAOg/8ZEdKvNI6T8JUTWucXfqPzzKCN0yi+s/bCw9HSCD7D/tF+LyPl7tP9f/gvyxG+4/cTXR0rm67j/3pATKtTrvP1zkL5Qkm+8/XJPjw6Tb7z+GEJ0u9fvvP4YQnS71++8/XJPjw6Tb7z9b5C+UJJvvP/ikBMq1Ou8/cjXR0rm67j/X/4L8sRvuP+wX4vI+Xu0/byw9HSCD7D8+ygjdMovrPwtRNa5xd+o/85EdKvNI6T/cxQ3u6ADoP807f2aeoOY/7LJAgHcp5T8KrN1A75zjP+kAsEeW/OE/4qIeORFK4D/73UQrLg7dP7vpfPzeatk/25ZX0OGt1T8LDhSD/drRP2Ef0iMe7Ms/aVOoZwsGxD/yF/x/exe4P1hY9y0SFaA/NVj3LRIVoL/gF/x/exe4v3BTqGcLBsS/aB/SIx7sy78ODhSD/drRv96WV9DhrdW/xel8/N5q2b8G3kQrLg7dv+eiHjkRSuC/7gCwR5b84b8PrN1A75zjv+uyQIB3KeW/zDt/Zp6g5r/bxQ3u6ADov/KRHSrzSOm/B1E1rnF36r89ygjdMovrv2wsPR0gg+y/7hfi8j5e7b/X/4L8sRvuv3M10dK5uu6/+KQEyrU6779d5C+UJJvvv1yT48Ok2++/hhCdLvX777+GEJ0u9fvvv1yT48Ok2++/XOQvlCSb77/3pATKtTrvv3I10dK5uu6/1v+C/LEb7r/sF+LyPl7tv24sPR0gg+y/OsoI3TKL678JUTWucXfqv++RHSrzSOm/28UN7ugA6L/OO39mnqDmv/CyQIB3KeW/C6zdQO+c47/tALBHlvzhvw==",
                                        "dtype": "f8"
                                    }
                                },
                                {
                                    "mode": "lines",
                                    "type": "scatter3d",
                                    "x": {
                                        "bdata": "AAAAAAAAAAB7FK5H4XqUP3sUrkfheqQ/uB6F61G4rj97FK5H4Xq0P5qZmZmZmbk/uB6F61G4vj/sUbgehevBP3sUrkfhesQ/CtejcD0Kxz+amZmZmZnJPylcj8L1KMw/uB6F61G4zj+kcD0K16PQP+xRuB6F69E/MzMzMzMz0z97FK5H4XrUP8P1KFyPwtU/CtejcD0K1z9SuB6F61HYP5qZmZmZmdk/4XoUrkfh2j8pXI/C9SjcP3E9CtejcN0/uB6F61G43j8AAAAAAADgP6RwPQrXo+A/SOF6FK5H4T/sUbgehevhP4/C9Shcj+I/MzMzMzMz4z/Xo3A9CtfjP3sUrkfheuQ/H4XrUbge5T/D9Shcj8LlP2dmZmZmZuY/CtejcD0K5z+uR+F6FK7nP1K4HoXrUeg/9ihcj8L16D+amZmZmZnpPz4K16NwPeo/4XoUrkfh6j+F61G4HoXrPylcj8L1KOw/zczMzMzM7D9xPQrXo3DtPxWuR+F6FO4/uB6F61G47j9cj8L1KFzvPwAAAAAAAPA/UrgehetR8D+kcD0K16PwP/YoXI/C9fA/SOF6FK5H8T+amZmZmZnxP+xRuB6F6/E/PgrXo3A98j+PwvUoXI/yP+F6FK5H4fI/MzMzMzMz8z+F61G4HoXzP9ejcD0K1/M/KVyPwvUo9D97FK5H4Xr0P83MzMzMzPQ/H4XrUbge9T9xPQrXo3D1P8P1KFyPwvU/Fa5H4XoU9j9nZmZmZmb2P7gehetRuPY/CtejcD0K9z9cj8L1KFz3P65H4XoUrvc/AAAAAAAA+D9SuB6F61H4P6RwPQrXo/g/9ihcj8L1+D9I4XoUrkf5P5qZmZmZmfk/7FG4HoXr+T8+CtejcD36P5DC9Shcj/o/4XoUrkfh+j8zMzMzMzP7P4XrUbgehfs/16NwPQrX+z8pXI/C9Sj8P3sUrkfhevw/zczMzMzM/D8fhetRuB79P3E9CtejcP0/w/UoXI/C/T8VrkfhehT+P2dmZmZmZv4/uB6F61G4/j8K16NwPQr/P1yPwvUoXP8/rkfhehSu/z8AAAAAAAAAQA==",
                                        "dtype": "f8"
                                    },
                                    "y": {
                                        "bdata": "mpmZmZmZyT+amZmZmZnJP5qZmZmZmck/mpmZmZmZyT+amZmZmZnJP5qZmZmZmck/mpmZmZmZyT+amZmZmZnJP5qZmZmZmck/mpmZmZmZyT+amZmZmZnJP5qZmZmZmck/mpmZmZmZyT+amZmZmZnJP5qZmZmZmck/mpmZmZmZyT+amZmZmZnJP5qZmZmZmck/mpmZmZmZyT+amZmZmZnJP5qZmZmZmck/mpmZmZmZyT+amZmZmZnJP5qZmZmZmck/mpmZmZmZyT+amZmZmZnJP5qZmZmZmck/mpmZmZmZyT+amZmZmZnJP5qZmZmZmck/mpmZmZmZyT+amZmZmZnJP5qZmZmZmck/mpmZmZmZyT+amZmZmZnJP5qZmZmZmck/mpmZmZmZyT+amZmZmZnJP5qZmZmZmck/mpmZmZmZyT+amZmZmZnJP5qZmZmZmck/mpmZmZmZyT+amZmZmZnJP5qZmZmZmck/mpmZmZmZyT+amZmZmZnJP5qZmZmZmck/mpmZmZmZyT+amZmZmZnJP5qZmZmZmck/mpmZmZmZyT+amZmZmZnJP5qZmZmZmck/mpmZmZmZyT+amZmZmZnJP5qZmZmZmck/mpmZmZmZyT+amZmZmZnJP5qZmZmZmck/mpmZmZmZyT+amZmZmZnJP5qZmZmZmck/mpmZmZmZyT+amZmZmZnJP5qZmZmZmck/mpmZmZmZyT+amZmZmZnJP5qZmZmZmck/mpmZmZmZyT+amZmZmZnJP5qZmZmZmck/mpmZmZmZyT+amZmZmZnJP5qZmZmZmck/mpmZmZmZyT+amZmZmZnJP5qZmZmZmck/mpmZmZmZyT+amZmZmZnJP5qZmZmZmck/mpmZmZmZyT+amZmZmZnJP5qZmZmZmck/mpmZmZmZyT+amZmZmZnJP5qZmZmZmck/mpmZmZmZyT+amZmZmZnJP5qZmZmZmck/mpmZmZmZyT+amZmZmZnJP5qZmZmZmck/mpmZmZmZyT+amZmZmZnJP5qZmZmZmck/mpmZmZmZyT+amZmZmZnJP5qZmZmZmck/mpmZmZmZyT+amZmZmZnJPw==",
                                        "dtype": "f8"
                                    },
                                    "z": {
                                        "bdata": "Xlp1BCPP4r9RKxg8fiXhv1Kpv1wN1d6/nYElyfc/278ZqahIWo/Xv0/pLzfvxtO/lgcc+hHVz794egNlHPzHv+BboV3rCsC/fZPgGwoTsL8AAAAAAAAAAHaT4BsKE7A/3VuhXesKwD94egNlHPzHP5YHHPoR1c8/TukvN+/G0z8YqahIWo/XP52BJcn3P9s/UKm/XA3V3j9RKxg8fiXhP15adQQjz+I/uwG1/sZl5D8TIBFVz+flPxa40gO2U+c/6WtbYwuo6D+o9Jebd+PpP4YuZP+7BOs/WsCBTrQK7D+MFdzcV/TsP+Ra7526wO0//1REEw5v7j/gHhAdov7uP/4JJazlbu8/A9mAVGe/7z/+Q+S/1e/vPwAAAAAAAPA//kPkv9Xv7z8C2YBUZ7/vP/4JJazlbu8/4B4QHaL+7j//VEQTDm/uP+Ra7526wO0/jRXc3Ff07D9awIFOtArsP4cuZP+7BOs/qPSXm3fj6T/qa1tjC6joPxW40gO2U+c/FSARVc/n5T+9AbX+xmXkP19adQQjz+I/USsYPH4l4T9Qqb9cDdXeP5mBJcn3P9s/FamoSFqP1z9K6S8378bTP4cHHPoR1c8/Z3oDZRz8xz/qW6Fd6wrAP4iT4BsKE7A/B1wUMyamoTx3k+AbChOwv+FboV3rCsC/fnoDZRz8x7+eBxz6EdXPv1XpLzfvxtO/H6moSFqP17+cgSXJ9z/bv1Opv1wN1d6/UisYPH4l4b9gWnUEI8/iv7sBtf7GZeS/FCARVc/n5b8UuNIDtlPnv+trW2MLqOi/p/SXm3fj6b+ILmT/uwTrv1nAgU60Cuy/jhXc3Ff07L/lWu+dusDtv/9URBMOb+6/4R4QHaL+7r//CSWs5W7vvwPZgFRnv++//kPkv9Xv778AAAAAAADwv/5D5L/V7++/A9mAVGe/77//CSWs5W7vv+AeEB2i/u6/AFVEEw5v7r/jWu+dusDtv4wV3NxX9Oy/V8CBTrQK7L+FLmT/uwTrv6T0l5t34+m/7WtbYwuo6L8WuNIDtlPnvxYgEVXP5+W/uwG1/sZl5L9gWnUEI8/ivw==",
                                        "dtype": "f8"
                                    }
                                },
                                {
                                    "mode": "lines",
                                    "type": "scatter3d",
                                    "x": {
                                        "bdata": "AAAAAAAAAAB7FK5H4XqUP3sUrkfheqQ/uB6F61G4rj97FK5H4Xq0P5qZmZmZmbk/uB6F61G4vj/sUbgehevBP3sUrkfhesQ/CtejcD0Kxz+amZmZmZnJPylcj8L1KMw/uB6F61G4zj+kcD0K16PQP+xRuB6F69E/MzMzMzMz0z97FK5H4XrUP8P1KFyPwtU/CtejcD0K1z9SuB6F61HYP5qZmZmZmdk/4XoUrkfh2j8pXI/C9SjcP3E9CtejcN0/uB6F61G43j8AAAAAAADgP6RwPQrXo+A/SOF6FK5H4T/sUbgehevhP4/C9Shcj+I/MzMzMzMz4z/Xo3A9CtfjP3sUrkfheuQ/H4XrUbge5T/D9Shcj8LlP2dmZmZmZuY/CtejcD0K5z+uR+F6FK7nP1K4HoXrUeg/9ihcj8L16D+amZmZmZnpPz4K16NwPeo/4XoUrkfh6j+F61G4HoXrPylcj8L1KOw/zczMzMzM7D9xPQrXo3DtPxWuR+F6FO4/uB6F61G47j9cj8L1KFzvPwAAAAAAAPA/UrgehetR8D+kcD0K16PwP/YoXI/C9fA/SOF6FK5H8T+amZmZmZnxP+xRuB6F6/E/PgrXo3A98j+PwvUoXI/yP+F6FK5H4fI/MzMzMzMz8z+F61G4HoXzP9ejcD0K1/M/KVyPwvUo9D97FK5H4Xr0P83MzMzMzPQ/H4XrUbge9T9xPQrXo3D1P8P1KFyPwvU/Fa5H4XoU9j9nZmZmZmb2P7gehetRuPY/CtejcD0K9z9cj8L1KFz3P65H4XoUrvc/AAAAAAAA+D9SuB6F61H4P6RwPQrXo/g/9ihcj8L1+D9I4XoUrkf5P5qZmZmZmfk/7FG4HoXr+T8+CtejcD36P5DC9Shcj/o/4XoUrkfh+j8zMzMzMzP7P4XrUbgehfs/16NwPQrX+z8pXI/C9Sj8P3sUrkfhevw/zczMzMzM/D8fhetRuB79P3E9CtejcP0/w/UoXI/C/T8VrkfhehT+P2dmZmZmZv4/uB6F61G4/j8K16NwPQr/P1yPwvUoXP8/rkfhehSu/z8AAAAAAAAAQA==",
                                        "dtype": "f8"
                                    },
                                    "y": {
                                        "bdata": "4XoUrkfhyj/hehSuR+HKP+F6FK5H4co/4XoUrkfhyj/hehSuR+HKP+F6FK5H4co/4XoUrkfhyj/hehSuR+HKP+F6FK5H4co/4XoUrkfhyj/hehSuR+HKP+F6FK5H4co/4XoUrkfhyj/hehSuR+HKP+F6FK5H4co/4XoUrkfhyj/hehSuR+HKP+F6FK5H4co/4XoUrkfhyj/hehSuR+HKP+F6FK5H4co/4XoUrkfhyj/hehSuR+HKP+F6FK5H4co/4XoUrkfhyj/hehSuR+HKP+F6FK5H4co/4XoUrkfhyj/hehSuR+HKP+F6FK5H4co/4XoUrkfhyj/hehSuR+HKP+F6FK5H4co/4XoUrkfhyj/hehSuR+HKP+F6FK5H4co/4XoUrkfhyj/hehSuR+HKP+F6FK5H4co/4XoUrkfhyj/hehSuR+HKP+F6FK5H4co/4XoUrkfhyj/hehSuR+HKP+F6FK5H4co/4XoUrkfhyj/hehSuR+HKP+F6FK5H4co/4XoUrkfhyj/hehSuR+HKP+F6FK5H4co/4XoUrkfhyj/hehSuR+HKP+F6FK5H4co/4XoUrkfhyj/hehSuR+HKP+F6FK5H4co/4XoUrkfhyj/hehSuR+HKP+F6FK5H4co/4XoUrkfhyj/hehSuR+HKP+F6FK5H4co/4XoUrkfhyj/hehSuR+HKP+F6FK5H4co/4XoUrkfhyj/hehSuR+HKP+F6FK5H4co/4XoUrkfhyj/hehSuR+HKP+F6FK5H4co/4XoUrkfhyj/hehSuR+HKP+F6FK5H4co/4XoUrkfhyj/hehSuR+HKP+F6FK5H4co/4XoUrkfhyj/hehSuR+HKP+F6FK5H4co/4XoUrkfhyj/hehSuR+HKP+F6FK5H4co/4XoUrkfhyj/hehSuR+HKP+F6FK5H4co/4XoUrkfhyj/hehSuR+HKP+F6FK5H4co/4XoUrkfhyj/hehSuR+HKP+F6FK5H4co/4XoUrkfhyj/hehSuR+HKP+F6FK5H4co/4XoUrkfhyj/hehSuR+HKP+F6FK5H4co/4XoUrkfhyj/hehSuR+HKPw==",
                                        "dtype": "f8"
                                    },
                                    "z": {
                                        "bdata": "CqzdQO+c47/qALBHlvzhv+OiHjkRSuC/AN5EKy4O3b/C6Xz83mrZv9uWV9DhrdW/Dg4Ug/3a0b9nH9IjHuzLv3RTqGcLBsS/7xf8f3sXuL9YWPctEhWgv2RY9y0SFaA/7xf8f3sXuD93U6hnCwbEP20f0iMe7Ms/Dg4Ug/3a0T/dllfQ4a3VP8PpfPzeatk/AN5EKy4O3T/koh45EUrgP+oAsEeW/OE/CqzdQO+c4z/sskCAdynlP807f2aeoOY/3MUN7ugA6D/ykR0q80jpPwlRNa5xd+o/PMoI3TKL6z9tLD0dIIPsP+0X4vI+Xu0/1/+C/LEb7j9yNdHSubruP/ikBMq1Ou8/XOQvlCSb7z9ck+PDpNvvP4YQnS71++8/hhCdLvX77z9ck+PDpNvvP1vkL5Qkm+8/+KQEyrU67z9yNdHSubruP9f/gvyxG+4/7hfi8j5e7T9tLD0dIIPsPzzKCN0yi+s/CFE1rnF36j/xkR0q80jpP9rFDe7oAOg/zTt/Zp6g5j/sskCAdynlPwqs3UDvnOM/6QCwR5b84T/ioh45EUrgP/vdRCsuDt0/u+l8/N5q2T/bllfQ4a3VPwsOFIP92tE/YR/SIx7syz95U6hnCwbEP/IX/H97F7g/WFj3LRIVoD81WPctEhWgv+AX/H97F7i/cFOoZwsGxL9oH9IjHuzLvw4OFIP92tG/3pZX0OGt1b/F6Xz83mrZvwbeRCsuDt2/56IeORFK4L/uALBHlvzhvwms3UDvnOO/67JAgHcp5b/MO39mnqDmv9vFDe7oAOi/8pEdKvNI6b8HUTWucXfqvz3KCN0yi+u/bCw9HSCD7L/uF+LyPl7tv9f/gvyxG+6/czXR0rm67r/4pATKtTrvv13kL5Qkm++/XJPjw6Tb77+GEJ0u9fvvv4YQnS71+++/XJPjw6Tb779c5C+UJJvvv/ekBMq1Ou+/cjXR0rm67r/W/4L8sRvuv+wX4vI+Xu2/biw9HSCD7L86ygjdMovrvwlRNa5xd+q/9JEdKvNI6b/bxQ3u6ADov847f2aeoOa/8LJAgHcp5b8LrN1A75zjvw==",
                                        "dtype": "f8"
                                    }
                                },
                                {
                                    "mode": "lines",
                                    "type": "scatter3d",
                                    "x": {
                                        "bdata": "AAAAAAAAAAB7FK5H4XqUP3sUrkfheqQ/uB6F61G4rj97FK5H4Xq0P5qZmZmZmbk/uB6F61G4vj/sUbgehevBP3sUrkfhesQ/CtejcD0Kxz+amZmZmZnJPylcj8L1KMw/uB6F61G4zj+kcD0K16PQP+xRuB6F69E/MzMzMzMz0z97FK5H4XrUP8P1KFyPwtU/CtejcD0K1z9SuB6F61HYP5qZmZmZmdk/4XoUrkfh2j8pXI/C9SjcP3E9CtejcN0/uB6F61G43j8AAAAAAADgP6RwPQrXo+A/SOF6FK5H4T/sUbgehevhP4/C9Shcj+I/MzMzMzMz4z/Xo3A9CtfjP3sUrkfheuQ/H4XrUbge5T/D9Shcj8LlP2dmZmZmZuY/CtejcD0K5z+uR+F6FK7nP1K4HoXrUeg/9ihcj8L16D+amZmZmZnpPz4K16NwPeo/4XoUrkfh6j+F61G4HoXrPylcj8L1KOw/zczMzMzM7D9xPQrXo3DtPxWuR+F6FO4/uB6F61G47j9cj8L1KFzvPwAAAAAAAPA/UrgehetR8D+kcD0K16PwP/YoXI/C9fA/SOF6FK5H8T+amZmZmZnxP+xRuB6F6/E/PgrXo3A98j+PwvUoXI/yP+F6FK5H4fI/MzMzMzMz8z+F61G4HoXzP9ejcD0K1/M/KVyPwvUo9D97FK5H4Xr0P83MzMzMzPQ/H4XrUbge9T9xPQrXo3D1P8P1KFyPwvU/Fa5H4XoU9j9nZmZmZmb2P7gehetRuPY/CtejcD0K9z9cj8L1KFz3P65H4XoUrvc/AAAAAAAA+D9SuB6F61H4P6RwPQrXo/g/9ihcj8L1+D9I4XoUrkf5P5qZmZmZmfk/7FG4HoXr+T8+CtejcD36P5DC9Shcj/o/4XoUrkfh+j8zMzMzMzP7P4XrUbgehfs/16NwPQrX+z8pXI/C9Sj8P3sUrkfhevw/zczMzMzM/D8fhetRuB79P3E9CtejcP0/w/UoXI/C/T8VrkfhehT+P2dmZmZmZv4/uB6F61G4/j8K16NwPQr/P1yPwvUoXP8/rkfhehSu/z8AAAAAAAAAQA==",
                                        "dtype": "f8"
                                    },
                                    "y": {
                                        "bdata": "KVyPwvUozD8pXI/C9SjMPylcj8L1KMw/KVyPwvUozD8pXI/C9SjMPylcj8L1KMw/KVyPwvUozD8pXI/C9SjMPylcj8L1KMw/KVyPwvUozD8pXI/C9SjMPylcj8L1KMw/KVyPwvUozD8pXI/C9SjMPylcj8L1KMw/KVyPwvUozD8pXI/C9SjMPylcj8L1KMw/KVyPwvUozD8pXI/C9SjMPylcj8L1KMw/KVyPwvUozD8pXI/C9SjMPylcj8L1KMw/KVyPwvUozD8pXI/C9SjMPylcj8L1KMw/KVyPwvUozD8pXI/C9SjMPylcj8L1KMw/KVyPwvUozD8pXI/C9SjMPylcj8L1KMw/KVyPwvUozD8pXI/C9SjMPylcj8L1KMw/KVyPwvUozD8pXI/C9SjMPylcj8L1KMw/KVyPwvUozD8pXI/C9SjMPylcj8L1KMw/KVyPwvUozD8pXI/C9SjMPylcj8L1KMw/KVyPwvUozD8pXI/C9SjMPylcj8L1KMw/KVyPwvUozD8pXI/C9SjMPylcj8L1KMw/KVyPwvUozD8pXI/C9SjMPylcj8L1KMw/KVyPwvUozD8pXI/C9SjMPylcj8L1KMw/KVyPwvUozD8pXI/C9SjMPylcj8L1KMw/KVyPwvUozD8pXI/C9SjMPylcj8L1KMw/KVyPwvUozD8pXI/C9SjMPylcj8L1KMw/KVyPwvUozD8pXI/C9SjMPylcj8L1KMw/KVyPwvUozD8pXI/C9SjMPylcj8L1KMw/KVyPwvUozD8pXI/C9SjMPylcj8L1KMw/KVyPwvUozD8pXI/C9SjMPylcj8L1KMw/KVyPwvUozD8pXI/C9SjMPylcj8L1KMw/KVyPwvUozD8pXI/C9SjMPylcj8L1KMw/KVyPwvUozD8pXI/C9SjMPylcj8L1KMw/KVyPwvUozD8pXI/C9SjMPylcj8L1KMw/KVyPwvUozD8pXI/C9SjMPylcj8L1KMw/KVyPwvUozD8pXI/C9SjMPylcj8L1KMw/KVyPwvUozD8pXI/C9SjMPylcj8L1KMw/KVyPwvUozD8pXI/C9SjMPw==",
                                        "dtype": "f8"
                                    },
                                    "z": {
                                        "bdata": "uwG1/sZl5L9eWnUEI8/iv1ErGDx+JeG/Uqm/XA3V3r+dgSXJ9z/bvxipqEhaj9e/T+kvN+/G07+UBxz6EdXPv3h6A2Uc/Me/4FuhXesKwL92k+AbChOwvwAAAAAAAAAAdpPgGwoTsD/gW6Fd6wrAP3t6A2Uc/Mc/lAcc+hHVzz9P6S8378bTPxqpqEhaj9c/m4Elyfc/2z9Sqb9cDdXeP1ErGDx+JeE/Xlp1BCPP4j+7AbX+xmXkPxQgEVXP5+U/FrjSA7ZT5z/qa1tjC6joP6j0l5t34+k/hi5k/7sE6z9awIFOtArsP4wV3NxX9Ow/5FrvnbrA7T//VEQTDm/uP+AeEB2i/u4//wklrOVu7z8D2YBUZ7/vP/5D5L/V7+8/AAAAAAAA8D/+Q+S/1e/vPwLZgFRnv+8//gklrOVu7z/gHhAdov7uP/9URBMOb+4/5VrvnbrA7T+LFdzcV/TsP1jAgU60Cuw/hS5k/7sE6z+o9Jebd+PpP+prW2MLqOg/FbjSA7ZT5z8VIBFVz+flP70Btf7GZeQ/X1p1BCPP4j9RKxg8fiXhP1Cpv1wN1d4/mYElyfc/2z8VqahIWo/XP0rpLzfvxtM/hwcc+hHVzz+HegNlHPzHP+pboV3rCsA/iJPgGwoTsD8HXBQzJqahPHeT4BsKE7C/4VuhXesKwL9+egNlHPzHv54HHPoR1c+/VekvN+/G078fqahIWo/Xv5yBJcn3P9u/U6m/XA3V3r9SKxg8fiXhv11adQQjz+K/uwG1/sZl5L8UIBFVz+flvxS40gO2U+e/62tbYwuo6L+n9Jebd+Ppv4guZP+7BOu/WcCBTrQK7L+OFdzcV/Tsv+Va7526wO2//1REEw5v7r/hHhAdov7uv/8JJazlbu+/AtmAVGe/77/+Q+S/1e/vvwAAAAAAAPC//kPkv9Xv778D2YBUZ7/vv/8JJazlbu+/4B4QHaL+7r8AVUQTDm/uv+Na7526wO2/jBXc3Ff07L9XwIFOtArsv4UuZP+7BOu/qfSXm3fj6b/ta1tjC6jovxa40gO2U+e/FiARVc/n5b+7AbX+xmXkvw==",
                                        "dtype": "f8"
                                    }
                                },
                                {
                                    "mode": "lines",
                                    "type": "scatter3d",
                                    "x": {
                                        "bdata": "AAAAAAAAAAB7FK5H4XqUP3sUrkfheqQ/uB6F61G4rj97FK5H4Xq0P5qZmZmZmbk/uB6F61G4vj/sUbgehevBP3sUrkfhesQ/CtejcD0Kxz+amZmZmZnJPylcj8L1KMw/uB6F61G4zj+kcD0K16PQP+xRuB6F69E/MzMzMzMz0z97FK5H4XrUP8P1KFyPwtU/CtejcD0K1z9SuB6F61HYP5qZmZmZmdk/4XoUrkfh2j8pXI/C9SjcP3E9CtejcN0/uB6F61G43j8AAAAAAADgP6RwPQrXo+A/SOF6FK5H4T/sUbgehevhP4/C9Shcj+I/MzMzMzMz4z/Xo3A9CtfjP3sUrkfheuQ/H4XrUbge5T/D9Shcj8LlP2dmZmZmZuY/CtejcD0K5z+uR+F6FK7nP1K4HoXrUeg/9ihcj8L16D+amZmZmZnpPz4K16NwPeo/4XoUrkfh6j+F61G4HoXrPylcj8L1KOw/zczMzMzM7D9xPQrXo3DtPxWuR+F6FO4/uB6F61G47j9cj8L1KFzvPwAAAAAAAPA/UrgehetR8D+kcD0K16PwP/YoXI/C9fA/SOF6FK5H8T+amZmZmZnxP+xRuB6F6/E/PgrXo3A98j+PwvUoXI/yP+F6FK5H4fI/MzMzMzMz8z+F61G4HoXzP9ejcD0K1/M/KVyPwvUo9D97FK5H4Xr0P83MzMzMzPQ/H4XrUbge9T9xPQrXo3D1P8P1KFyPwvU/Fa5H4XoU9j9nZmZmZmb2P7gehetRuPY/CtejcD0K9z9cj8L1KFz3P65H4XoUrvc/AAAAAAAA+D9SuB6F61H4P6RwPQrXo/g/9ihcj8L1+D9I4XoUrkf5P5qZmZmZmfk/7FG4HoXr+T8+CtejcD36P5DC9Shcj/o/4XoUrkfh+j8zMzMzMzP7P4XrUbgehfs/16NwPQrX+z8pXI/C9Sj8P3sUrkfhevw/zczMzMzM/D8fhetRuB79P3E9CtejcP0/w/UoXI/C/T8VrkfhehT+P2dmZmZmZv4/uB6F61G4/j8K16NwPQr/P1yPwvUoXP8/rkfhehSu/z8AAAAAAAAAQA==",
                                        "dtype": "f8"
                                    },
                                    "y": {
                                        "bdata": "cT0K16NwzT9xPQrXo3DNP3E9CtejcM0/cT0K16NwzT9xPQrXo3DNP3E9CtejcM0/cT0K16NwzT9xPQrXo3DNP3E9CtejcM0/cT0K16NwzT9xPQrXo3DNP3E9CtejcM0/cT0K16NwzT9xPQrXo3DNP3E9CtejcM0/cT0K16NwzT9xPQrXo3DNP3E9CtejcM0/cT0K16NwzT9xPQrXo3DNP3E9CtejcM0/cT0K16NwzT9xPQrXo3DNP3E9CtejcM0/cT0K16NwzT9xPQrXo3DNP3E9CtejcM0/cT0K16NwzT9xPQrXo3DNP3E9CtejcM0/cT0K16NwzT9xPQrXo3DNP3E9CtejcM0/cT0K16NwzT9xPQrXo3DNP3E9CtejcM0/cT0K16NwzT9xPQrXo3DNP3E9CtejcM0/cT0K16NwzT9xPQrXo3DNP3E9CtejcM0/cT0K16NwzT9xPQrXo3DNP3E9CtejcM0/cT0K16NwzT9xPQrXo3DNP3E9CtejcM0/cT0K16NwzT9xPQrXo3DNP3E9CtejcM0/cT0K16NwzT9xPQrXo3DNP3E9CtejcM0/cT0K16NwzT9xPQrXo3DNP3E9CtejcM0/cT0K16NwzT9xPQrXo3DNP3E9CtejcM0/cT0K16NwzT9xPQrXo3DNP3E9CtejcM0/cT0K16NwzT9xPQrXo3DNP3E9CtejcM0/cT0K16NwzT9xPQrXo3DNP3E9CtejcM0/cT0K16NwzT9xPQrXo3DNP3E9CtejcM0/cT0K16NwzT9xPQrXo3DNP3E9CtejcM0/cT0K16NwzT9xPQrXo3DNP3E9CtejcM0/cT0K16NwzT9xPQrXo3DNP3E9CtejcM0/cT0K16NwzT9xPQrXo3DNP3E9CtejcM0/cT0K16NwzT9xPQrXo3DNP3E9CtejcM0/cT0K16NwzT9xPQrXo3DNP3E9CtejcM0/cT0K16NwzT9xPQrXo3DNP3E9CtejcM0/cT0K16NwzT9xPQrXo3DNP3E9CtejcM0/cT0K16NwzT9xPQrXo3DNP3E9CtejcM0/cT0K16NwzT9xPQrXo3DNPw==",
                                        "dtype": "f8"
                                    },
                                    "z": {
                                        "bdata": "7LJAgHcp5b8LrN1A75zjv+oAsEeW/OG/5KIeORFK4L8B3kQrLg7dv8LpfPzeatm/3ZZX0OGt1b8ODhSD/drRv2of0iMe7Mu/d1OoZwsGxL/vF/x/exe4v2RY9y0SFaC/WFj3LRIVoD/vF/x/exe4P3dTqGcLBsQ/Zx/SIx7syz8ODhSD/drRP92WV9DhrdU/wOl8/N5q2T8A3kQrLg7dP+SiHjkRSuA/6gCwR5b84T8KrN1A75zjP+yyQIB3KeU/zDt/Zp6g5j/cxQ3u6ADoP/KRHSrzSOk/CVE1rnF36j88ygjdMovrP2wsPR0gg+w/7Rfi8j5e7T/X/4L8sRvuP3I10dK5uu4/+KQEyrU67z9c5C+UJJvvP1yT48Ok2+8/hhCdLvX77z+GEJ0u9fvvP1yT48Ok2+8/W+QvlCSb7z/4pATKtTrvP3I10dK5uu4/1/+C/LEb7j/uF+LyPl7tP20sPR0gg+w/PMoI3TKL6z8IUTWucXfqP/GRHSrzSOk/3MUN7ugA6D/NO39mnqDmP+yyQIB3KeU/CqzdQO+c4z/pALBHlvzhP+KiHjkRSuA/+91EKy4O3T+76Xz83mrZP9uWV9DhrdU/Cw4Ug/3a0T9xH9IjHuzLP3lTqGcLBsQ/8hf8f3sXuD9YWPctEhWgPzVY9y0SFaC/4Bf8f3sXuL9wU6hnCwbEv2gf0iMe7Mu/Dg4Ug/3a0b/ellfQ4a3Vv8XpfPzeatm/Bt5EKy4O3b/noh45EUrgv+cAsEeW/OG/CazdQO+c47/rskCAdynlv8w7f2aeoOa/28UN7ugA6L/ykR0q80jpvwdRNa5xd+q/PcoI3TKL679sLD0dIIPsv+4X4vI+Xu2/1/+C/LEb7r9zNdHSubruv/ikBMq1Ou+/W+QvlCSb779ck+PDpNvvv4YQnS71+++/hhCdLvX7779ck+PDpNvvv1zkL5Qkm++/96QEyrU6779yNdHSubruv9b/gvyxG+6/7Bfi8j5e7b9uLD0dIIPsvzrKCN0yi+u/CVE1rnF36r/0kR0q80jpv9vFDe7oAOi/zjt/Zp6g5r/wskCAdynlvw==",
                                        "dtype": "f8"
                                    }
                                },
                                {
                                    "mode": "lines",
                                    "type": "scatter3d",
                                    "x": {
                                        "bdata": "AAAAAAAAAAB7FK5H4XqUP3sUrkfheqQ/uB6F61G4rj97FK5H4Xq0P5qZmZmZmbk/uB6F61G4vj/sUbgehevBP3sUrkfhesQ/CtejcD0Kxz+amZmZmZnJPylcj8L1KMw/uB6F61G4zj+kcD0K16PQP+xRuB6F69E/MzMzMzMz0z97FK5H4XrUP8P1KFyPwtU/CtejcD0K1z9SuB6F61HYP5qZmZmZmdk/4XoUrkfh2j8pXI/C9SjcP3E9CtejcN0/uB6F61G43j8AAAAAAADgP6RwPQrXo+A/SOF6FK5H4T/sUbgehevhP4/C9Shcj+I/MzMzMzMz4z/Xo3A9CtfjP3sUrkfheuQ/H4XrUbge5T/D9Shcj8LlP2dmZmZmZuY/CtejcD0K5z+uR+F6FK7nP1K4HoXrUeg/9ihcj8L16D+amZmZmZnpPz4K16NwPeo/4XoUrkfh6j+F61G4HoXrPylcj8L1KOw/zczMzMzM7D9xPQrXo3DtPxWuR+F6FO4/uB6F61G47j9cj8L1KFzvPwAAAAAAAPA/UrgehetR8D+kcD0K16PwP/YoXI/C9fA/SOF6FK5H8T+amZmZmZnxP+xRuB6F6/E/PgrXo3A98j+PwvUoXI/yP+F6FK5H4fI/MzMzMzMz8z+F61G4HoXzP9ejcD0K1/M/KVyPwvUo9D97FK5H4Xr0P83MzMzMzPQ/H4XrUbge9T9xPQrXo3D1P8P1KFyPwvU/Fa5H4XoU9j9nZmZmZmb2P7gehetRuPY/CtejcD0K9z9cj8L1KFz3P65H4XoUrvc/AAAAAAAA+D9SuB6F61H4P6RwPQrXo/g/9ihcj8L1+D9I4XoUrkf5P5qZmZmZmfk/7FG4HoXr+T8+CtejcD36P5DC9Shcj/o/4XoUrkfh+j8zMzMzMzP7P4XrUbgehfs/16NwPQrX+z8pXI/C9Sj8P3sUrkfhevw/zczMzMzM/D8fhetRuB79P3E9CtejcP0/w/UoXI/C/T8VrkfhehT+P2dmZmZmZv4/uB6F61G4/j8K16NwPQr/P1yPwvUoXP8/rkfhehSu/z8AAAAAAAAAQA==",
                                        "dtype": "f8"
                                    },
                                    "y": {
                                        "bdata": "uB6F61G4zj+4HoXrUbjOP7gehetRuM4/uB6F61G4zj+4HoXrUbjOP7gehetRuM4/uB6F61G4zj+4HoXrUbjOP7gehetRuM4/uB6F61G4zj+4HoXrUbjOP7gehetRuM4/uB6F61G4zj+4HoXrUbjOP7gehetRuM4/uB6F61G4zj+4HoXrUbjOP7gehetRuM4/uB6F61G4zj+4HoXrUbjOP7gehetRuM4/uB6F61G4zj+4HoXrUbjOP7gehetRuM4/uB6F61G4zj+4HoXrUbjOP7gehetRuM4/uB6F61G4zj+4HoXrUbjOP7gehetRuM4/uB6F61G4zj+4HoXrUbjOP7gehetRuM4/uB6F61G4zj+4HoXrUbjOP7gehetRuM4/uB6F61G4zj+4HoXrUbjOP7gehetRuM4/uB6F61G4zj+4HoXrUbjOP7gehetRuM4/uB6F61G4zj+4HoXrUbjOP7gehetRuM4/uB6F61G4zj+4HoXrUbjOP7gehetRuM4/uB6F61G4zj+4HoXrUbjOP7gehetRuM4/uB6F61G4zj+4HoXrUbjOP7gehetRuM4/uB6F61G4zj+4HoXrUbjOP7gehetRuM4/uB6F61G4zj+4HoXrUbjOP7gehetRuM4/uB6F61G4zj+4HoXrUbjOP7gehetRuM4/uB6F61G4zj+4HoXrUbjOP7gehetRuM4/uB6F61G4zj+4HoXrUbjOP7gehetRuM4/uB6F61G4zj+4HoXrUbjOP7gehetRuM4/uB6F61G4zj+4HoXrUbjOP7gehetRuM4/uB6F61G4zj+4HoXrUbjOP7gehetRuM4/uB6F61G4zj+4HoXrUbjOP7gehetRuM4/uB6F61G4zj+4HoXrUbjOP7gehetRuM4/uB6F61G4zj+4HoXrUbjOP7gehetRuM4/uB6F61G4zj+4HoXrUbjOP7gehetRuM4/uB6F61G4zj+4HoXrUbjOP7gehetRuM4/uB6F61G4zj+4HoXrUbjOP7gehetRuM4/uB6F61G4zj+4HoXrUbjOP7gehetRuM4/uB6F61G4zj+4HoXrUbjOPw==",
                                        "dtype": "f8"
                                    },
                                    "z": {
                                        "bdata": "EyARVc/n5b+7AbX+xmXkv15adQQjz+K/USsYPH4l4b9Qqb9cDdXev5uBJcn3P9u/GKmoSFqP179O6S8378bTv5QHHPoR1c+/eHoDZRz8x7/dW6Fd6wrAv3aT4BsKE7C/AAAAAAAAAAB9k+AbChOwP+RboV3rCsA/eHoDZRz8xz+WBxz6EdXPP1HpLzfvxtM/GKmoSFqP1z+dgSXJ9z/bP1Kpv1wN1d4/USsYPH4l4T9eWnUEI8/iP7wBtf7GZeQ/EyARVc/n5T8WuNIDtlPnP+prW2MLqOg/qPSXm3fj6T+GLmT/uwTrP1nAgU60Cuw/jBXc3Ff07D/kWu+dusDtP/9URBMOb+4/4B4QHaL+7j//CSWs5W7vPwPZgFRnv+8//kPkv9Xv7z8AAAAAAADwP/5D5L/V7+8/AtmAVGe/7z/+CSWs5W7vP+AeEB2i/u4/AFVEEw5v7j/lWu+dusDtP4sV3NxX9Ow/WMCBTrQK7D+FLmT/uwTrP6j0l5t34+k/6mtbYwuo6D8VuNIDtlPnPxUgEVXP5+U/vQG1/sZl5D9fWnUEI8/iP1ErGDx+JeE/UKm/XA3V3j+ZgSXJ9z/bPxWpqEhaj9c/SukvN+/G0z+mBxz6EdXPP4d6A2Uc/Mc/6luhXesKwD+Ik+AbChOwPwdcFDMmpqE8d5PgGwoTsL/hW6Fd6wrAv356A2Uc/Me/ngcc+hHVz79V6S8378bTvx+pqEhaj9e/nIElyfc/279Tqb9cDdXev08rGDx+JeG/XVp1BCPP4r+7AbX+xmXkvxQgEVXP5+W/FLjSA7ZT57/ra1tjC6jov6f0l5t34+m/iC5k/7sE679ZwIFOtArsv44V3NxX9Oy/5VrvnbrA7b//VEQTDm/uv+EeEB2i/u6//wklrOVu778C2YBUZ7/vv/5D5L/V7++/AAAAAAAA8L/+Q+S/1e/vvwPZgFRnv++//wklrOVu77/gHhAdov7uvwBVRBMOb+6/41rvnbrA7b+MFdzcV/Tsv1fAgU60Cuy/ii5k/7sE67+p9Jebd+Ppv+1rW2MLqOi/FrjSA7ZT578WIBFVz+flvw==",
                                        "dtype": "f8"
                                    }
                                },
                                {
                                    "mode": "lines",
                                    "type": "scatter3d",
                                    "x": {
                                        "bdata": "AAAAAAAAAAB7FK5H4XqUP3sUrkfheqQ/uB6F61G4rj97FK5H4Xq0P5qZmZmZmbk/uB6F61G4vj/sUbgehevBP3sUrkfhesQ/CtejcD0Kxz+amZmZmZnJPylcj8L1KMw/uB6F61G4zj+kcD0K16PQP+xRuB6F69E/MzMzMzMz0z97FK5H4XrUP8P1KFyPwtU/CtejcD0K1z9SuB6F61HYP5qZmZmZmdk/4XoUrkfh2j8pXI/C9SjcP3E9CtejcN0/uB6F61G43j8AAAAAAADgP6RwPQrXo+A/SOF6FK5H4T/sUbgehevhP4/C9Shcj+I/MzMzMzMz4z/Xo3A9CtfjP3sUrkfheuQ/H4XrUbge5T/D9Shcj8LlP2dmZmZmZuY/CtejcD0K5z+uR+F6FK7nP1K4HoXrUeg/9ihcj8L16D+amZmZmZnpPz4K16NwPeo/4XoUrkfh6j+F61G4HoXrPylcj8L1KOw/zczMzMzM7D9xPQrXo3DtPxWuR+F6FO4/uB6F61G47j9cj8L1KFzvPwAAAAAAAPA/UrgehetR8D+kcD0K16PwP/YoXI/C9fA/SOF6FK5H8T+amZmZmZnxP+xRuB6F6/E/PgrXo3A98j+PwvUoXI/yP+F6FK5H4fI/MzMzMzMz8z+F61G4HoXzP9ejcD0K1/M/KVyPwvUo9D97FK5H4Xr0P83MzMzMzPQ/H4XrUbge9T9xPQrXo3D1P8P1KFyPwvU/Fa5H4XoU9j9nZmZmZmb2P7gehetRuPY/CtejcD0K9z9cj8L1KFz3P65H4XoUrvc/AAAAAAAA+D9SuB6F61H4P6RwPQrXo/g/9ihcj8L1+D9I4XoUrkf5P5qZmZmZmfk/7FG4HoXr+T8+CtejcD36P5DC9Shcj/o/4XoUrkfh+j8zMzMzMzP7P4XrUbgehfs/16NwPQrX+z8pXI/C9Sj8P3sUrkfhevw/zczMzMzM/D8fhetRuB79P3E9CtejcP0/w/UoXI/C/T8VrkfhehT+P2dmZmZmZv4/uB6F61G4/j8K16NwPQr/P1yPwvUoXP8/rkfhehSu/z8AAAAAAAAAQA==",
                                        "dtype": "f8"
                                    },
                                    "y": {
                                        "bdata": "AAAAAAAA0D8AAAAAAADQPwAAAAAAANA/AAAAAAAA0D8AAAAAAADQPwAAAAAAANA/AAAAAAAA0D8AAAAAAADQPwAAAAAAANA/AAAAAAAA0D8AAAAAAADQPwAAAAAAANA/AAAAAAAA0D8AAAAAAADQPwAAAAAAANA/AAAAAAAA0D8AAAAAAADQPwAAAAAAANA/AAAAAAAA0D8AAAAAAADQPwAAAAAAANA/AAAAAAAA0D8AAAAAAADQPwAAAAAAANA/AAAAAAAA0D8AAAAAAADQPwAAAAAAANA/AAAAAAAA0D8AAAAAAADQPwAAAAAAANA/AAAAAAAA0D8AAAAAAADQPwAAAAAAANA/AAAAAAAA0D8AAAAAAADQPwAAAAAAANA/AAAAAAAA0D8AAAAAAADQPwAAAAAAANA/AAAAAAAA0D8AAAAAAADQPwAAAAAAANA/AAAAAAAA0D8AAAAAAADQPwAAAAAAANA/AAAAAAAA0D8AAAAAAADQPwAAAAAAANA/AAAAAAAA0D8AAAAAAADQPwAAAAAAANA/AAAAAAAA0D8AAAAAAADQPwAAAAAAANA/AAAAAAAA0D8AAAAAAADQPwAAAAAAANA/AAAAAAAA0D8AAAAAAADQPwAAAAAAANA/AAAAAAAA0D8AAAAAAADQPwAAAAAAANA/AAAAAAAA0D8AAAAAAADQPwAAAAAAANA/AAAAAAAA0D8AAAAAAADQPwAAAAAAANA/AAAAAAAA0D8AAAAAAADQPwAAAAAAANA/AAAAAAAA0D8AAAAAAADQPwAAAAAAANA/AAAAAAAA0D8AAAAAAADQPwAAAAAAANA/AAAAAAAA0D8AAAAAAADQPwAAAAAAANA/AAAAAAAA0D8AAAAAAADQPwAAAAAAANA/AAAAAAAA0D8AAAAAAADQPwAAAAAAANA/AAAAAAAA0D8AAAAAAADQPwAAAAAAANA/AAAAAAAA0D8AAAAAAADQPwAAAAAAANA/AAAAAAAA0D8AAAAAAADQPwAAAAAAANA/AAAAAAAA0D8AAAAAAADQPwAAAAAAANA/AAAAAAAA0D8AAAAAAADQPw==",
                                        "dtype": "f8"
                                    },
                                    "z": {
                                        "bdata": "zTt/Zp6g5r/sskCAdynlvwqs3UDvnOO/6gCwR5b84b/joh45EUrgvwDeRCsuDt2/wul8/N5q2b/bllfQ4a3Vvw4OFIP92tG/ah/SIx7sy790U6hnCwbEv+8X/H97F7i/ZFj3LRIVoL9kWPctEhWgP/UX/H97F7g/dFOoZwsGxD9qH9IjHuzLPw8OFIP92tE/25ZX0OGt1T/C6Xz83mrZPwHeRCsuDt0/46IeORFK4D/qALBHlvzhPwus3UDvnOM/7LJAgHcp5T/NO39mnqDmP9zFDe7oAOg/8pEdKvNI6T8JUTWucXfqPzvKCN0yi+s/bCw9HSCD7D/tF+LyPl7tP9f/gvyxG+4/cjXR0rm67j/4pATKtTrvP1zkL5Qkm+8/XJPjw6Tb7z+GEJ0u9fvvP4YQnS71++8/XJPjw6Tb7z9b5C+UJJvvP/ikBMq1Ou8/cjXR0rm67j/X/4L8sRvuP+4X4vI+Xu0/bSw9HSCD7D88ygjdMovrPwhRNa5xd+o/85EdKvNI6T/cxQ3u6ADoP807f2aeoOY/7LJAgHcp5T8KrN1A75zjP+kAsEeW/OE/4qIeORFK4D/73UQrLg7dP7vpfPzeatk/25ZX0OGt1T8TDhSD/drRP3Ef0iMe7Ms/eVOoZwsGxD/yF/x/exe4P1hY9y0SFaA/NVj3LRIVoL/gF/x/exe4v3BTqGcLBsS/aB/SIx7sy78ODhSD/drRv96WV9DhrdW/xel8/N5q2b8G3kQrLg7dv+CiHjkRSuC/5wCwR5b84b8JrN1A75zjv+uyQIB3KeW/zDt/Zp6g5r/bxQ3u6ADov/KRHSrzSOm/B1E1rnF36r89ygjdMovrv2wsPR0gg+y/7hfi8j5e7b/X/4L8sRvuv3M10dK5uu6/9qQEyrU6779b5C+UJJvvv1yT48Ok2++/hhCdLvX777+GEJ0u9fvvv1yT48Ok2++/XOQvlCSb77/3pATKtTrvv3I10dK5uu6/1v+C/LEb7r/sF+LyPl7tv24sPR0gg+y/PsoI3TKL678JUTWucXfqv/SRHSrzSOm/28UN7ugA6L/OO39mnqDmvw==",
                                        "dtype": "f8"
                                    }
                                },
                                {
                                    "mode": "lines",
                                    "type": "scatter3d",
                                    "x": {
                                        "bdata": "AAAAAAAAAAB7FK5H4XqUP3sUrkfheqQ/uB6F61G4rj97FK5H4Xq0P5qZmZmZmbk/uB6F61G4vj/sUbgehevBP3sUrkfhesQ/CtejcD0Kxz+amZmZmZnJPylcj8L1KMw/uB6F61G4zj+kcD0K16PQP+xRuB6F69E/MzMzMzMz0z97FK5H4XrUP8P1KFyPwtU/CtejcD0K1z9SuB6F61HYP5qZmZmZmdk/4XoUrkfh2j8pXI/C9SjcP3E9CtejcN0/uB6F61G43j8AAAAAAADgP6RwPQrXo+A/SOF6FK5H4T/sUbgehevhP4/C9Shcj+I/MzMzMzMz4z/Xo3A9CtfjP3sUrkfheuQ/H4XrUbge5T/D9Shcj8LlP2dmZmZmZuY/CtejcD0K5z+uR+F6FK7nP1K4HoXrUeg/9ihcj8L16D+amZmZmZnpPz4K16NwPeo/4XoUrkfh6j+F61G4HoXrPylcj8L1KOw/zczMzMzM7D9xPQrXo3DtPxWuR+F6FO4/uB6F61G47j9cj8L1KFzvPwAAAAAAAPA/UrgehetR8D+kcD0K16PwP/YoXI/C9fA/SOF6FK5H8T+amZmZmZnxP+xRuB6F6/E/PgrXo3A98j+PwvUoXI/yP+F6FK5H4fI/MzMzMzMz8z+F61G4HoXzP9ejcD0K1/M/KVyPwvUo9D97FK5H4Xr0P83MzMzMzPQ/H4XrUbge9T9xPQrXo3D1P8P1KFyPwvU/Fa5H4XoU9j9nZmZmZmb2P7gehetRuPY/CtejcD0K9z9cj8L1KFz3P65H4XoUrvc/AAAAAAAA+D9SuB6F61H4P6RwPQrXo/g/9ihcj8L1+D9I4XoUrkf5P5qZmZmZmfk/7FG4HoXr+T8+CtejcD36P5DC9Shcj/o/4XoUrkfh+j8zMzMzMzP7P4XrUbgehfs/16NwPQrX+z8pXI/C9Sj8P3sUrkfhevw/zczMzMzM/D8fhetRuB79P3E9CtejcP0/w/UoXI/C/T8VrkfhehT+P2dmZmZmZv4/uB6F61G4/j8K16NwPQr/P1yPwvUoXP8/rkfhehSu/z8AAAAAAAAAQA==",
                                        "dtype": "f8"
                                    },
                                    "y": {
                                        "bdata": "pHA9Ctej0D+kcD0K16PQP6RwPQrXo9A/pHA9Ctej0D+kcD0K16PQP6RwPQrXo9A/pHA9Ctej0D+kcD0K16PQP6RwPQrXo9A/pHA9Ctej0D+kcD0K16PQP6RwPQrXo9A/pHA9Ctej0D+kcD0K16PQP6RwPQrXo9A/pHA9Ctej0D+kcD0K16PQP6RwPQrXo9A/pHA9Ctej0D+kcD0K16PQP6RwPQrXo9A/pHA9Ctej0D+kcD0K16PQP6RwPQrXo9A/pHA9Ctej0D+kcD0K16PQP6RwPQrXo9A/pHA9Ctej0D+kcD0K16PQP6RwPQrXo9A/pHA9Ctej0D+kcD0K16PQP6RwPQrXo9A/pHA9Ctej0D+kcD0K16PQP6RwPQrXo9A/pHA9Ctej0D+kcD0K16PQP6RwPQrXo9A/pHA9Ctej0D+kcD0K16PQP6RwPQrXo9A/pHA9Ctej0D+kcD0K16PQP6RwPQrXo9A/pHA9Ctej0D+kcD0K16PQP6RwPQrXo9A/pHA9Ctej0D+kcD0K16PQP6RwPQrXo9A/pHA9Ctej0D+kcD0K16PQP6RwPQrXo9A/pHA9Ctej0D+kcD0K16PQP6RwPQrXo9A/pHA9Ctej0D+kcD0K16PQP6RwPQrXo9A/pHA9Ctej0D+kcD0K16PQP6RwPQrXo9A/pHA9Ctej0D+kcD0K16PQP6RwPQrXo9A/pHA9Ctej0D+kcD0K16PQP6RwPQrXo9A/pHA9Ctej0D+kcD0K16PQP6RwPQrXo9A/pHA9Ctej0D+kcD0K16PQP6RwPQrXo9A/pHA9Ctej0D+kcD0K16PQP6RwPQrXo9A/pHA9Ctej0D+kcD0K16PQP6RwPQrXo9A/pHA9Ctej0D+kcD0K16PQP6RwPQrXo9A/pHA9Ctej0D+kcD0K16PQP6RwPQrXo9A/pHA9Ctej0D+kcD0K16PQP6RwPQrXo9A/pHA9Ctej0D+kcD0K16PQP6RwPQrXo9A/pHA9Ctej0D+kcD0K16PQP6RwPQrXo9A/pHA9Ctej0D+kcD0K16PQP6RwPQrXo9A/pHA9Ctej0D+kcD0K16PQPw==",
                                        "dtype": "f8"
                                    },
                                    "z": {
                                        "bdata": "FrjSA7ZT578UIBFVz+flv7sBtf7GZeS/Xlp1BCPP4r9RKxg8fiXhv1Kpv1wN1d6/nYElyfc/278YqahIWo/Xv0/pLzfvxtO/lgcc+hHVz794egNlHPzHv+BboV3rCsC/fZPgGwoTsL8AAAAAAAAAAH2T4BsKE7A/3VuhXesKwD94egNlHPzHP5YHHPoR1c8/TukvN+/G0z8YqahIWo/XP52BJcn3P9s/UKm/XA3V3j9RKxg8fiXhP15adQQjz+I/uwG1/sZl5D8TIBFVz+flPxa40gO2U+c/6mtbYwuo6D+o9Jebd+PpP4UuZP+7BOs/WcCBTrQK7D+MFdzcV/TsP+Ra7526wO0//1REEw5v7j/gHhAdov7uP/8JJazlbu8/AtmAVGe/7z/+Q+S/1e/vPwAAAAAAAPA//kPkv9Xv7z8C2YBUZ7/vP/4JJazlbu8/4R4QHaL+7j8AVUQTDm/uP+Va7526wO0/ixXc3Ff07D9YwIFOtArsP4UuZP+7BOs/qPSXm3fj6T/qa1tjC6joPxW40gO2U+c/FSARVc/n5T+9AbX+xmXkP19adQQjz+I/USsYPH4l4T9Qqb9cDdXeP5mBJcn3P9s/FamoSFqP1z9Z6S8378bTP6YHHPoR1c8/h3oDZRz8xz/qW6Fd6wrAP4iT4BsKE7A/B1wUMyamoTx3k+AbChOwv+FboV3rCsC/fnoDZRz8x7+eBxz6EdXPv1XpLzfvxtO/H6moSFqP17+cgSXJ9z/bv0ypv1wN1d6/TysYPH4l4b9dWnUEI8/iv7sBtf7GZeS/FCARVc/n5b8UuNIDtlPnv+trW2MLqOi/p/SXm3fj6b+ILmT/uwTrv1nAgU60Cuy/jhXc3Ff07L/lWu+dusDtv/9URBMOb+6/3x4QHaL+7r//CSWs5W7vvwLZgFRnv++//kPkv9Xv778AAAAAAADwv/5D5L/V7++/A9mAVGe/77//CSWs5W7vv+AeEB2i/u6/AFVEEw5v7r/jWu+dusDtv4wV3NxX9Oy/W8CBTrQK7L+KLmT/uwTrv6n0l5t34+m/7WtbYwuo6L8WuNIDtlPnvw==",
                                        "dtype": "f8"
                                    }
                                },
                                {
                                    "mode": "lines",
                                    "type": "scatter3d",
                                    "x": {
                                        "bdata": "AAAAAAAAAAB7FK5H4XqUP3sUrkfheqQ/uB6F61G4rj97FK5H4Xq0P5qZmZmZmbk/uB6F61G4vj/sUbgehevBP3sUrkfhesQ/CtejcD0Kxz+amZmZmZnJPylcj8L1KMw/uB6F61G4zj+kcD0K16PQP+xRuB6F69E/MzMzMzMz0z97FK5H4XrUP8P1KFyPwtU/CtejcD0K1z9SuB6F61HYP5qZmZmZmdk/4XoUrkfh2j8pXI/C9SjcP3E9CtejcN0/uB6F61G43j8AAAAAAADgP6RwPQrXo+A/SOF6FK5H4T/sUbgehevhP4/C9Shcj+I/MzMzMzMz4z/Xo3A9CtfjP3sUrkfheuQ/H4XrUbge5T/D9Shcj8LlP2dmZmZmZuY/CtejcD0K5z+uR+F6FK7nP1K4HoXrUeg/9ihcj8L16D+amZmZmZnpPz4K16NwPeo/4XoUrkfh6j+F61G4HoXrPylcj8L1KOw/zczMzMzM7D9xPQrXo3DtPxWuR+F6FO4/uB6F61G47j9cj8L1KFzvPwAAAAAAAPA/UrgehetR8D+kcD0K16PwP/YoXI/C9fA/SOF6FK5H8T+amZmZmZnxP+xRuB6F6/E/PgrXo3A98j+PwvUoXI/yP+F6FK5H4fI/MzMzMzMz8z+F61G4HoXzP9ejcD0K1/M/KVyPwvUo9D97FK5H4Xr0P83MzMzMzPQ/H4XrUbge9T9xPQrXo3D1P8P1KFyPwvU/Fa5H4XoU9j9nZmZmZmb2P7gehetRuPY/CtejcD0K9z9cj8L1KFz3P65H4XoUrvc/AAAAAAAA+D9SuB6F61H4P6RwPQrXo/g/9ihcj8L1+D9I4XoUrkf5P5qZmZmZmfk/7FG4HoXr+T8+CtejcD36P5DC9Shcj/o/4XoUrkfh+j8zMzMzMzP7P4XrUbgehfs/16NwPQrX+z8pXI/C9Sj8P3sUrkfhevw/zczMzMzM/D8fhetRuB79P3E9CtejcP0/w/UoXI/C/T8VrkfhehT+P2dmZmZmZv4/uB6F61G4/j8K16NwPQr/P1yPwvUoXP8/rkfhehSu/z8AAAAAAAAAQA==",
                                        "dtype": "f8"
                                    },
                                    "y": {
                                        "bdata": "SOF6FK5H0T9I4XoUrkfRP0jhehSuR9E/SOF6FK5H0T9I4XoUrkfRP0jhehSuR9E/SOF6FK5H0T9I4XoUrkfRP0jhehSuR9E/SOF6FK5H0T9I4XoUrkfRP0jhehSuR9E/SOF6FK5H0T9I4XoUrkfRP0jhehSuR9E/SOF6FK5H0T9I4XoUrkfRP0jhehSuR9E/SOF6FK5H0T9I4XoUrkfRP0jhehSuR9E/SOF6FK5H0T9I4XoUrkfRP0jhehSuR9E/SOF6FK5H0T9I4XoUrkfRP0jhehSuR9E/SOF6FK5H0T9I4XoUrkfRP0jhehSuR9E/SOF6FK5H0T9I4XoUrkfRP0jhehSuR9E/SOF6FK5H0T9I4XoUrkfRP0jhehSuR9E/SOF6FK5H0T9I4XoUrkfRP0jhehSuR9E/SOF6FK5H0T9I4XoUrkfRP0jhehSuR9E/SOF6FK5H0T9I4XoUrkfRP0jhehSuR9E/SOF6FK5H0T9I4XoUrkfRP0jhehSuR9E/SOF6FK5H0T9I4XoUrkfRP0jhehSuR9E/SOF6FK5H0T9I4XoUrkfRP0jhehSuR9E/SOF6FK5H0T9I4XoUrkfRP0jhehSuR9E/SOF6FK5H0T9I4XoUrkfRP0jhehSuR9E/SOF6FK5H0T9I4XoUrkfRP0jhehSuR9E/SOF6FK5H0T9I4XoUrkfRP0jhehSuR9E/SOF6FK5H0T9I4XoUrkfRP0jhehSuR9E/SOF6FK5H0T9I4XoUrkfRP0jhehSuR9E/SOF6FK5H0T9I4XoUrkfRP0jhehSuR9E/SOF6FK5H0T9I4XoUrkfRP0jhehSuR9E/SOF6FK5H0T9I4XoUrkfRP0jhehSuR9E/SOF6FK5H0T9I4XoUrkfRP0jhehSuR9E/SOF6FK5H0T9I4XoUrkfRP0jhehSuR9E/SOF6FK5H0T9I4XoUrkfRP0jhehSuR9E/SOF6FK5H0T9I4XoUrkfRP0jhehSuR9E/SOF6FK5H0T9I4XoUrkfRP0jhehSuR9E/SOF6FK5H0T9I4XoUrkfRP0jhehSuR9E/SOF6FK5H0T9I4XoUrkfRPw==",
                                        "dtype": "f8"
                                    },
                                    "z": {
                                        "bdata": "3MUN7ugA6L/NO39mnqDmv+yyQIB3KeW/C6zdQO+c47/qALBHlvzhv+SiHjkRSuC/Ad5EKy4O3b/C6Xz83mrZv92WV9DhrdW/Dw4Ug/3a0b9qH9IjHuzLv3dTqGcLBsS/9Rf8f3sXuL9kWPctEhWgv2RY9y0SFaA/6Rf8f3sXuD90U6hnCwbEP2of0iMe7Ms/DA4Ug/3a0T/bllfQ4a3VP8LpfPzeatk//91EKy4O3T/joh45EUrgP+oAsEeW/OE/CqzdQO+c4z/sskCAdynlP807f2aeoOY/3MUN7ugA6D/ykR0q80jpPwhRNa5xd+o/O8oI3TKL6z9sLD0dIIPsP+0X4vI+Xu0/1/+C/LEb7j9yNdHSubruP/ikBMq1Ou8/W+QvlCSb7z9ck+PDpNvvP4YQnS71++8/hhCdLvX77z9ck+PDpNvvP1vkL5Qkm+8/+KQEyrU67z9yNdHSubruP9f/gvyxG+4/7hfi8j5e7T9tLD0dIIPsPzzKCN0yi+s/C1E1rnF36j/zkR0q80jpP9zFDe7oAOg/zTt/Zp6g5j/sskCAdynlPwqs3UDvnOM/6QCwR5b84T/ioh45EUrgP/vdRCsuDt0/u+l8/N5q2T/jllfQ4a3VPxMOFIP92tE/cR/SIx7syz95U6hnCwbEP/IX/H97F7g/WFj3LRIVoD81WPctEhWgv+AX/H97F7i/cFOoZwsGxL9oH9IjHuzLvw4OFIP92tG/3pZX0OGt1b/F6Xz83mrZv/fdRCsuDt2/4KIeORFK4L/nALBHlvzhvwms3UDvnOO/67JAgHcp5b/MO39mnqDmv9vFDe7oAOi/8pEdKvNI6b8HUTWucXfqvz3KCN0yi+u/bCw9HSCD7L/uF+LyPl7tv9f/gvyxG+6/cTXR0rm67r/2pATKtTrvv1vkL5Qkm++/XJPjw6Tb77+GEJ0u9fvvv4YQnS71+++/XJPjw6Tb779c5C+UJJvvv/ekBMq1Ou+/cjXR0rm67r/W/4L8sRvuv+wX4vI+Xu2/biw9HSCD7L8+ygjdMovrvwlRNa5xd+q/9JEdKvNI6b/bxQ3u6ADovw==",
                                        "dtype": "f8"
                                    }
                                },
                                {
                                    "mode": "lines",
                                    "type": "scatter3d",
                                    "x": {
                                        "bdata": "AAAAAAAAAAB7FK5H4XqUP3sUrkfheqQ/uB6F61G4rj97FK5H4Xq0P5qZmZmZmbk/uB6F61G4vj/sUbgehevBP3sUrkfhesQ/CtejcD0Kxz+amZmZmZnJPylcj8L1KMw/uB6F61G4zj+kcD0K16PQP+xRuB6F69E/MzMzMzMz0z97FK5H4XrUP8P1KFyPwtU/CtejcD0K1z9SuB6F61HYP5qZmZmZmdk/4XoUrkfh2j8pXI/C9SjcP3E9CtejcN0/uB6F61G43j8AAAAAAADgP6RwPQrXo+A/SOF6FK5H4T/sUbgehevhP4/C9Shcj+I/MzMzMzMz4z/Xo3A9CtfjP3sUrkfheuQ/H4XrUbge5T/D9Shcj8LlP2dmZmZmZuY/CtejcD0K5z+uR+F6FK7nP1K4HoXrUeg/9ihcj8L16D+amZmZmZnpPz4K16NwPeo/4XoUrkfh6j+F61G4HoXrPylcj8L1KOw/zczMzMzM7D9xPQrXo3DtPxWuR+F6FO4/uB6F61G47j9cj8L1KFzvPwAAAAAAAPA/UrgehetR8D+kcD0K16PwP/YoXI/C9fA/SOF6FK5H8T+amZmZmZnxP+xRuB6F6/E/PgrXo3A98j+PwvUoXI/yP+F6FK5H4fI/MzMzMzMz8z+F61G4HoXzP9ejcD0K1/M/KVyPwvUo9D97FK5H4Xr0P83MzMzMzPQ/H4XrUbge9T9xPQrXo3D1P8P1KFyPwvU/Fa5H4XoU9j9nZmZmZmb2P7gehetRuPY/CtejcD0K9z9cj8L1KFz3P65H4XoUrvc/AAAAAAAA+D9SuB6F61H4P6RwPQrXo/g/9ihcj8L1+D9I4XoUrkf5P5qZmZmZmfk/7FG4HoXr+T8+CtejcD36P5DC9Shcj/o/4XoUrkfh+j8zMzMzMzP7P4XrUbgehfs/16NwPQrX+z8pXI/C9Sj8P3sUrkfhevw/zczMzMzM/D8fhetRuB79P3E9CtejcP0/w/UoXI/C/T8VrkfhehT+P2dmZmZmZv4/uB6F61G4/j8K16NwPQr/P1yPwvUoXP8/rkfhehSu/z8AAAAAAAAAQA==",
                                        "dtype": "f8"
                                    },
                                    "y": {
                                        "bdata": "7FG4HoXr0T/sUbgehevRP+xRuB6F69E/7FG4HoXr0T/sUbgehevRP+xRuB6F69E/7FG4HoXr0T/sUbgehevRP+xRuB6F69E/7FG4HoXr0T/sUbgehevRP+xRuB6F69E/7FG4HoXr0T/sUbgehevRP+xRuB6F69E/7FG4HoXr0T/sUbgehevRP+xRuB6F69E/7FG4HoXr0T/sUbgehevRP+xRuB6F69E/7FG4HoXr0T/sUbgehevRP+xRuB6F69E/7FG4HoXr0T/sUbgehevRP+xRuB6F69E/7FG4HoXr0T/sUbgehevRP+xRuB6F69E/7FG4HoXr0T/sUbgehevRP+xRuB6F69E/7FG4HoXr0T/sUbgehevRP+xRuB6F69E/7FG4HoXr0T/sUbgehevRP+xRuB6F69E/7FG4HoXr0T/sUbgehevRP+xRuB6F69E/7FG4HoXr0T/sUbgehevRP+xRuB6F69E/7FG4HoXr0T/sUbgehevRP+xRuB6F69E/7FG4HoXr0T/sUbgehevRP+xRuB6F69E/7FG4HoXr0T/sUbgehevRP+xRuB6F69E/7FG4HoXr0T/sUbgehevRP+xRuB6F69E/7FG4HoXr0T/sUbgehevRP+xRuB6F69E/7FG4HoXr0T/sUbgehevRP+xRuB6F69E/7FG4HoXr0T/sUbgehevRP+xRuB6F69E/7FG4HoXr0T/sUbgehevRP+xRuB6F69E/7FG4HoXr0T/sUbgehevRP+xRuB6F69E/7FG4HoXr0T/sUbgehevRP+xRuB6F69E/7FG4HoXr0T/sUbgehevRP+xRuB6F69E/7FG4HoXr0T/sUbgehevRP+xRuB6F69E/7FG4HoXr0T/sUbgehevRP+xRuB6F69E/7FG4HoXr0T/sUbgehevRP+xRuB6F69E/7FG4HoXr0T/sUbgehevRP+xRuB6F69E/7FG4HoXr0T/sUbgehevRP+xRuB6F69E/7FG4HoXr0T/sUbgehevRP+xRuB6F69E/7FG4HoXr0T/sUbgehevRP+xRuB6F69E/7FG4HoXr0T/sUbgehevRPw==",
                                        "dtype": "f8"
                                    },
                                    "z": {
                                        "bdata": "6mtbYwuo6L8WuNIDtlPnvxQgEVXP5+W/vAG1/sZl5L9eWnUEI8/iv1ErGDx+JeG/Uqm/XA3V3r+dgSXJ9z/bvxqpqEhaj9e/UekvN+/G07+WBxz6EdXPv3t6A2Uc/Me/5FuhXesKwL99k+AbChOwvwAAAAAAAAAAcJPgGwoTsD/dW6Fd6wrAP3h6A2Uc/Mc/kAcc+hHVzz9O6S8378bTPxipqEhaj9c/mYElyfc/2z9Qqb9cDdXeP1ErGDx+JeE/XVp1BCPP4j+7AbX+xmXkPxMgEVXP5+U/FrjSA7ZT5z/qa1tjC6joP6b0l5t34+k/hS5k/7sE6z9ZwIFOtArsP4wV3NxX9Ow/5FrvnbrA7T//VEQTDm/uP+AeEB2i/u4//gklrOVu7z8C2YBUZ7/vP/5D5L/V7+8/AAAAAAAA8D/+Q+S/1e/vPwLZgFRnv+8//wklrOVu7z/hHhAdov7uPwBVRBMOb+4/5VrvnbrA7T+LFdzcV/TsP1jAgU60Cuw/hy5k/7sE6z+o9Jebd+PpP+prW2MLqOg/FbjSA7ZT5z8VIBFVz+flP70Btf7GZeQ/X1p1BCPP4j9RKxg8fiXhP1Cpv1wN1d4/mYElyfc/2z8jqahIWo/XP1npLzfvxtM/pgcc+hHVzz+HegNlHPzHP+pboV3rCsA/iJPgGwoTsD8HXBQzJqahPHeT4BsKE7C/4VuhXesKwL9+egNlHPzHv54HHPoR1c+/VekvN+/G078fqahIWo/Xv5WBJcn3P9u/TKm/XA3V3r9PKxg8fiXhv11adQQjz+K/uwG1/sZl5L8UIBFVz+flvxS40gO2U+e/62tbYwuo6L+n9Jebd+Ppv4guZP+7BOu/WcCBTrQK7L+OFdzcV/Tsv+Va7526wO2//1REEw5v7r/fHhAdov7uv/8JJazlbu+/AtmAVGe/77/+Q+S/1e/vvwAAAAAAAPC//kPkv9Xv778D2YBUZ7/vv/8JJazlbu+/4B4QHaL+7r8AVUQTDm/uv+Na7526wO2/jxXc3Ff07L9bwIFOtArsv4ouZP+7BOu/qfSXm3fj6b/ta1tjC6jovw==",
                                        "dtype": "f8"
                                    }
                                },
                                {
                                    "mode": "lines",
                                    "type": "scatter3d",
                                    "x": {
                                        "bdata": "AAAAAAAAAAB7FK5H4XqUP3sUrkfheqQ/uB6F61G4rj97FK5H4Xq0P5qZmZmZmbk/uB6F61G4vj/sUbgehevBP3sUrkfhesQ/CtejcD0Kxz+amZmZmZnJPylcj8L1KMw/uB6F61G4zj+kcD0K16PQP+xRuB6F69E/MzMzMzMz0z97FK5H4XrUP8P1KFyPwtU/CtejcD0K1z9SuB6F61HYP5qZmZmZmdk/4XoUrkfh2j8pXI/C9SjcP3E9CtejcN0/uB6F61G43j8AAAAAAADgP6RwPQrXo+A/SOF6FK5H4T/sUbgehevhP4/C9Shcj+I/MzMzMzMz4z/Xo3A9CtfjP3sUrkfheuQ/H4XrUbge5T/D9Shcj8LlP2dmZmZmZuY/CtejcD0K5z+uR+F6FK7nP1K4HoXrUeg/9ihcj8L16D+amZmZmZnpPz4K16NwPeo/4XoUrkfh6j+F61G4HoXrPylcj8L1KOw/zczMzMzM7D9xPQrXo3DtPxWuR+F6FO4/uB6F61G47j9cj8L1KFzvPwAAAAAAAPA/UrgehetR8D+kcD0K16PwP/YoXI/C9fA/SOF6FK5H8T+amZmZmZnxP+xRuB6F6/E/PgrXo3A98j+PwvUoXI/yP+F6FK5H4fI/MzMzMzMz8z+F61G4HoXzP9ejcD0K1/M/KVyPwvUo9D97FK5H4Xr0P83MzMzMzPQ/H4XrUbge9T9xPQrXo3D1P8P1KFyPwvU/Fa5H4XoU9j9nZmZmZmb2P7gehetRuPY/CtejcD0K9z9cj8L1KFz3P65H4XoUrvc/AAAAAAAA+D9SuB6F61H4P6RwPQrXo/g/9ihcj8L1+D9I4XoUrkf5P5qZmZmZmfk/7FG4HoXr+T8+CtejcD36P5DC9Shcj/o/4XoUrkfh+j8zMzMzMzP7P4XrUbgehfs/16NwPQrX+z8pXI/C9Sj8P3sUrkfhevw/zczMzMzM/D8fhetRuB79P3E9CtejcP0/w/UoXI/C/T8VrkfhehT+P2dmZmZmZv4/uB6F61G4/j8K16NwPQr/P1yPwvUoXP8/rkfhehSu/z8AAAAAAAAAQA==",
                                        "dtype": "f8"
                                    },
                                    "y": {
                                        "bdata": "j8L1KFyP0j+PwvUoXI/SP4/C9Shcj9I/j8L1KFyP0j+PwvUoXI/SP4/C9Shcj9I/j8L1KFyP0j+PwvUoXI/SP4/C9Shcj9I/j8L1KFyP0j+PwvUoXI/SP4/C9Shcj9I/j8L1KFyP0j+PwvUoXI/SP4/C9Shcj9I/j8L1KFyP0j+PwvUoXI/SP4/C9Shcj9I/j8L1KFyP0j+PwvUoXI/SP4/C9Shcj9I/j8L1KFyP0j+PwvUoXI/SP4/C9Shcj9I/j8L1KFyP0j+PwvUoXI/SP4/C9Shcj9I/j8L1KFyP0j+PwvUoXI/SP4/C9Shcj9I/j8L1KFyP0j+PwvUoXI/SP4/C9Shcj9I/j8L1KFyP0j+PwvUoXI/SP4/C9Shcj9I/j8L1KFyP0j+PwvUoXI/SP4/C9Shcj9I/j8L1KFyP0j+PwvUoXI/SP4/C9Shcj9I/j8L1KFyP0j+PwvUoXI/SP4/C9Shcj9I/j8L1KFyP0j+PwvUoXI/SP4/C9Shcj9I/j8L1KFyP0j+PwvUoXI/SP4/C9Shcj9I/j8L1KFyP0j+PwvUoXI/SP4/C9Shcj9I/j8L1KFyP0j+PwvUoXI/SP4/C9Shcj9I/j8L1KFyP0j+PwvUoXI/SP4/C9Shcj9I/j8L1KFyP0j+PwvUoXI/SP4/C9Shcj9I/j8L1KFyP0j+PwvUoXI/SP4/C9Shcj9I/j8L1KFyP0j+PwvUoXI/SP4/C9Shcj9I/j8L1KFyP0j+PwvUoXI/SP4/C9Shcj9I/j8L1KFyP0j+PwvUoXI/SP4/C9Shcj9I/j8L1KFyP0j+PwvUoXI/SP4/C9Shcj9I/j8L1KFyP0j+PwvUoXI/SP4/C9Shcj9I/j8L1KFyP0j+PwvUoXI/SP4/C9Shcj9I/j8L1KFyP0j+PwvUoXI/SP4/C9Shcj9I/j8L1KFyP0j+PwvUoXI/SP4/C9Shcj9I/j8L1KFyP0j+PwvUoXI/SP4/C9Shcj9I/j8L1KFyP0j+PwvUoXI/SP4/C9Shcj9I/j8L1KFyP0j+PwvUoXI/SP4/C9Shcj9I/j8L1KFyP0j+PwvUoXI/SPw==",
                                        "dtype": "f8"
                                    },
                                    "z": {
                                        "bdata": "8ZEdKvNI6b/axQ3u6ADov8w7f2aeoOa/7LJAgHcp5b8KrN1A75zjv+oAsEeW/OG/46IeORFK4L//3UQrLg7dv8DpfPzeatm/25ZX0OGt1b8MDhSD/drRv2cf0iMe7Mu/dFOoZwsGxL/pF/x/exe4v0tY9y0SFaC/ZFj3LRIVoD/1F/x/exe4P3pTqGcLBsQ/ah/SIx7syz8PDhSD/drRP9+WV9DhrdU/wul8/N5q2T8B3kQrLg7dP+SiHjkRSuA/6gCwR5b84T8LrN1A75zjP+2yQIB3KeU/zjt/Zp6g5j/dxQ3u6ADoP/GRHSrzSOk/CVE1rnF36j88ygjdMovrP2wsPR0gg+w/7Rfi8j5e7T/Y/4L8sRvuP3M10dK5uu4/96QEyrU67z9c5C+UJJvvP1yT48Ok2+8/hhCdLvX77z+GEJ0u9fvvP1yT48Ok2+8/W+QvlCSb7z/4pATKtTrvP3I10dK5uu4/1/+C/LEb7j/sF+LyPl7tP2ssPR0gg+w/PsoI3TKL6z8LUTWucXfqP/ORHSrzSOk/3MUN7ugA6D/NO39mnqDmP+yyQIB3KeU/CqzdQO+c4z/pALBHlvzhP+KiHjkRSuA/+91EKy4O3T/K6Xz83mrZP+OWV9DhrdU/Ew4Ug/3a0T9xH9IjHuzLP3lTqGcLBsQ/8hf8f3sXuD9YWPctEhWgPzVY9y0SFaC/4Bf8f3sXuL9wU6hnCwbEv2gf0iMe7Mu/Dg4Ug/3a0b/ellfQ4a3Vv7fpfPzeatm/991EKy4O3b/goh45EUrgv+cAsEeW/OG/CazdQO+c47/rskCAdynlv8w7f2aeoOa/28UN7ugA6L/ykR0q80jpvwdRNa5xd+q/PcoI3TKL679sLD0dIIPsv+4X4vI+Xu2/1P+C/LEb7r9xNdHSubruv/akBMq1Ou+/W+QvlCSb779ck+PDpNvvv4YQnS71+++/hhCdLvX7779ck+PDpNvvv1zkL5Qkm++/96QEyrU6779yNdHSubruv9b/gvyxG+6/8Bfi8j5e7b9uLD0dIIPsvz7KCN0yi+u/CVE1rnF36r/0kR0q80jpvw==",
                                        "dtype": "f8"
                                    }
                                },
                                {
                                    "mode": "lines",
                                    "type": "scatter3d",
                                    "x": {
                                        "bdata": "AAAAAAAAAAB7FK5H4XqUP3sUrkfheqQ/uB6F61G4rj97FK5H4Xq0P5qZmZmZmbk/uB6F61G4vj/sUbgehevBP3sUrkfhesQ/CtejcD0Kxz+amZmZmZnJPylcj8L1KMw/uB6F61G4zj+kcD0K16PQP+xRuB6F69E/MzMzMzMz0z97FK5H4XrUP8P1KFyPwtU/CtejcD0K1z9SuB6F61HYP5qZmZmZmdk/4XoUrkfh2j8pXI/C9SjcP3E9CtejcN0/uB6F61G43j8AAAAAAADgP6RwPQrXo+A/SOF6FK5H4T/sUbgehevhP4/C9Shcj+I/MzMzMzMz4z/Xo3A9CtfjP3sUrkfheuQ/H4XrUbge5T/D9Shcj8LlP2dmZmZmZuY/CtejcD0K5z+uR+F6FK7nP1K4HoXrUeg/9ihcj8L16D+amZmZmZnpPz4K16NwPeo/4XoUrkfh6j+F61G4HoXrPylcj8L1KOw/zczMzMzM7D9xPQrXo3DtPxWuR+F6FO4/uB6F61G47j9cj8L1KFzvPwAAAAAAAPA/UrgehetR8D+kcD0K16PwP/YoXI/C9fA/SOF6FK5H8T+amZmZmZnxP+xRuB6F6/E/PgrXo3A98j+PwvUoXI/yP+F6FK5H4fI/MzMzMzMz8z+F61G4HoXzP9ejcD0K1/M/KVyPwvUo9D97FK5H4Xr0P83MzMzMzPQ/H4XrUbge9T9xPQrXo3D1P8P1KFyPwvU/Fa5H4XoU9j9nZmZmZmb2P7gehetRuPY/CtejcD0K9z9cj8L1KFz3P65H4XoUrvc/AAAAAAAA+D9SuB6F61H4P6RwPQrXo/g/9ihcj8L1+D9I4XoUrkf5P5qZmZmZmfk/7FG4HoXr+T8+CtejcD36P5DC9Shcj/o/4XoUrkfh+j8zMzMzMzP7P4XrUbgehfs/16NwPQrX+z8pXI/C9Sj8P3sUrkfhevw/zczMzMzM/D8fhetRuB79P3E9CtejcP0/w/UoXI/C/T8VrkfhehT+P2dmZmZmZv4/uB6F61G4/j8K16NwPQr/P1yPwvUoXP8/rkfhehSu/z8AAAAAAAAAQA==",
                                        "dtype": "f8"
                                    },
                                    "y": {
                                        "bdata": "MzMzMzMz0z8zMzMzMzPTPzMzMzMzM9M/MzMzMzMz0z8zMzMzMzPTPzMzMzMzM9M/MzMzMzMz0z8zMzMzMzPTPzMzMzMzM9M/MzMzMzMz0z8zMzMzMzPTPzMzMzMzM9M/MzMzMzMz0z8zMzMzMzPTPzMzMzMzM9M/MzMzMzMz0z8zMzMzMzPTPzMzMzMzM9M/MzMzMzMz0z8zMzMzMzPTPzMzMzMzM9M/MzMzMzMz0z8zMzMzMzPTPzMzMzMzM9M/MzMzMzMz0z8zMzMzMzPTPzMzMzMzM9M/MzMzMzMz0z8zMzMzMzPTPzMzMzMzM9M/MzMzMzMz0z8zMzMzMzPTPzMzMzMzM9M/MzMzMzMz0z8zMzMzMzPTPzMzMzMzM9M/MzMzMzMz0z8zMzMzMzPTPzMzMzMzM9M/MzMzMzMz0z8zMzMzMzPTPzMzMzMzM9M/MzMzMzMz0z8zMzMzMzPTPzMzMzMzM9M/MzMzMzMz0z8zMzMzMzPTPzMzMzMzM9M/MzMzMzMz0z8zMzMzMzPTPzMzMzMzM9M/MzMzMzMz0z8zMzMzMzPTPzMzMzMzM9M/MzMzMzMz0z8zMzMzMzPTPzMzMzMzM9M/MzMzMzMz0z8zMzMzMzPTPzMzMzMzM9M/MzMzMzMz0z8zMzMzMzPTPzMzMzMzM9M/MzMzMzMz0z8zMzMzMzPTPzMzMzMzM9M/MzMzMzMz0z8zMzMzMzPTPzMzMzMzM9M/MzMzMzMz0z8zMzMzMzPTPzMzMzMzM9M/MzMzMzMz0z8zMzMzMzPTPzMzMzMzM9M/MzMzMzMz0z8zMzMzMzPTPzMzMzMzM9M/MzMzMzMz0z8zMzMzMzPTPzMzMzMzM9M/MzMzMzMz0z8zMzMzMzPTPzMzMzMzM9M/MzMzMzMz0z8zMzMzMzPTPzMzMzMzM9M/MzMzMzMz0z8zMzMzMzPTPzMzMzMzM9M/MzMzMzMz0z8zMzMzMzPTPzMzMzMzM9M/MzMzMzMz0z8zMzMzMzPTPzMzMzMzM9M/MzMzMzMz0z8zMzMzMzPTPzMzMzMzM9M/MzMzMzMz0z8zMzMzMzPTPw==",
                                        "dtype": "f8"
                                    },
                                    "z": {
                                        "bdata": "qPSXm3fj6b/pa1tjC6jovxa40gO2U+e/EyARVc/n5b+7AbX+xmXkv15adQQjz+K/USsYPH4l4b9Qqb9cDdXev5uBJcn3P9u/GKmoSFqP179O6S8378bTv5QHHPoR1c+/eHoDZRz8x7/dW6Fd6wrAv3CT4BsKE7C/AAAAAAAAAAB9k+AbChOwP+RboV3rCsA/eHoDZRz8xz+WBxz6EdXPP1HpLzfvxtM/GKmoSFqP1z+dgSXJ9z/bP1Kpv1wN1d4/USsYPH4l4T9eWnUEI8/iP7wBtf7GZeQ/FCARVc/n5T8WuNIDtlPnP+lrW2MLqOg/qPSXm3fj6T+GLmT/uwTrP1rAgU60Cuw/jBXc3Ff07D/lWu+dusDtPwBVRBMOb+4/4B4QHaL+7j/+CSWs5W7vPwPZgFRnv+8//kPkv9Xv7z8AAAAAAADwP/5D5L/V7+8/AtmAVGe/7z/+CSWs5W7vP+AeEB2i/u4//1REEw5v7j/kWu+dusDtP4sV3NxX9Ow/WsCBTrQK7D+HLmT/uwTrP6j0l5t34+k/6mtbYwuo6D8VuNIDtlPnPxUgEVXP5+U/vQG1/sZl5D9fWnUEI8/iP1ErGDx+JeE/UKm/XA3V3j+ggSXJ9z/bPyOpqEhaj9c/WekvN+/G0z+mBxz6EdXPP4d6A2Uc/Mc/6luhXesKwD+Ik+AbChOwPwdcFDMmpqE8d5PgGwoTsL/hW6Fd6wrAv356A2Uc/Me/ngcc+hHVz79V6S8378bTvxCpqEhaj9e/lYElyfc/279Mqb9cDdXev08rGDx+JeG/XVp1BCPP4r+7AbX+xmXkvxQgEVXP5+W/FLjSA7ZT57/ra1tjC6jov6f0l5t34+m/iC5k/7sE679ZwIFOtArsv44V3NxX9Oy/4lrvnbrA7b//VEQTDm/uv98eEB2i/u6//wklrOVu778C2YBUZ7/vv/5D5L/V7++/AAAAAAAA8L/+Q+S/1e/vvwPZgFRnv++//wklrOVu77/gHhAdov7uvwBVRBMOb+6/5lrvnbrA7b+PFdzcV/Tsv1vAgU60Cuy/ii5k/7sE67+p9Jebd+Ppvw==",
                                        "dtype": "f8"
                                    }
                                },
                                {
                                    "mode": "lines",
                                    "type": "scatter3d",
                                    "x": {
                                        "bdata": "AAAAAAAAAAB7FK5H4XqUP3sUrkfheqQ/uB6F61G4rj97FK5H4Xq0P5qZmZmZmbk/uB6F61G4vj/sUbgehevBP3sUrkfhesQ/CtejcD0Kxz+amZmZmZnJPylcj8L1KMw/uB6F61G4zj+kcD0K16PQP+xRuB6F69E/MzMzMzMz0z97FK5H4XrUP8P1KFyPwtU/CtejcD0K1z9SuB6F61HYP5qZmZmZmdk/4XoUrkfh2j8pXI/C9SjcP3E9CtejcN0/uB6F61G43j8AAAAAAADgP6RwPQrXo+A/SOF6FK5H4T/sUbgehevhP4/C9Shcj+I/MzMzMzMz4z/Xo3A9CtfjP3sUrkfheuQ/H4XrUbge5T/D9Shcj8LlP2dmZmZmZuY/CtejcD0K5z+uR+F6FK7nP1K4HoXrUeg/9ihcj8L16D+amZmZmZnpPz4K16NwPeo/4XoUrkfh6j+F61G4HoXrPylcj8L1KOw/zczMzMzM7D9xPQrXo3DtPxWuR+F6FO4/uB6F61G47j9cj8L1KFzvPwAAAAAAAPA/UrgehetR8D+kcD0K16PwP/YoXI/C9fA/SOF6FK5H8T+amZmZmZnxP+xRuB6F6/E/PgrXo3A98j+PwvUoXI/yP+F6FK5H4fI/MzMzMzMz8z+F61G4HoXzP9ejcD0K1/M/KVyPwvUo9D97FK5H4Xr0P83MzMzMzPQ/H4XrUbge9T9xPQrXo3D1P8P1KFyPwvU/Fa5H4XoU9j9nZmZmZmb2P7gehetRuPY/CtejcD0K9z9cj8L1KFz3P65H4XoUrvc/AAAAAAAA+D9SuB6F61H4P6RwPQrXo/g/9ihcj8L1+D9I4XoUrkf5P5qZmZmZmfk/7FG4HoXr+T8+CtejcD36P5DC9Shcj/o/4XoUrkfh+j8zMzMzMzP7P4XrUbgehfs/16NwPQrX+z8pXI/C9Sj8P3sUrkfhevw/zczMzMzM/D8fhetRuB79P3E9CtejcP0/w/UoXI/C/T8VrkfhehT+P2dmZmZmZv4/uB6F61G4/j8K16NwPQr/P1yPwvUoXP8/rkfhehSu/z8AAAAAAAAAQA==",
                                        "dtype": "f8"
                                    },
                                    "y": {
                                        "bdata": "16NwPQrX0z/Xo3A9CtfTP9ejcD0K19M/16NwPQrX0z/Xo3A9CtfTP9ejcD0K19M/16NwPQrX0z/Xo3A9CtfTP9ejcD0K19M/16NwPQrX0z/Xo3A9CtfTP9ejcD0K19M/16NwPQrX0z/Xo3A9CtfTP9ejcD0K19M/16NwPQrX0z/Xo3A9CtfTP9ejcD0K19M/16NwPQrX0z/Xo3A9CtfTP9ejcD0K19M/16NwPQrX0z/Xo3A9CtfTP9ejcD0K19M/16NwPQrX0z/Xo3A9CtfTP9ejcD0K19M/16NwPQrX0z/Xo3A9CtfTP9ejcD0K19M/16NwPQrX0z/Xo3A9CtfTP9ejcD0K19M/16NwPQrX0z/Xo3A9CtfTP9ejcD0K19M/16NwPQrX0z/Xo3A9CtfTP9ejcD0K19M/16NwPQrX0z/Xo3A9CtfTP9ejcD0K19M/16NwPQrX0z/Xo3A9CtfTP9ejcD0K19M/16NwPQrX0z/Xo3A9CtfTP9ejcD0K19M/16NwPQrX0z/Xo3A9CtfTP9ejcD0K19M/16NwPQrX0z/Xo3A9CtfTP9ejcD0K19M/16NwPQrX0z/Xo3A9CtfTP9ejcD0K19M/16NwPQrX0z/Xo3A9CtfTP9ejcD0K19M/16NwPQrX0z/Xo3A9CtfTP9ejcD0K19M/16NwPQrX0z/Xo3A9CtfTP9ejcD0K19M/16NwPQrX0z/Xo3A9CtfTP9ejcD0K19M/16NwPQrX0z/Xo3A9CtfTP9ejcD0K19M/16NwPQrX0z/Xo3A9CtfTP9ejcD0K19M/16NwPQrX0z/Xo3A9CtfTP9ejcD0K19M/16NwPQrX0z/Xo3A9CtfTP9ejcD0K19M/16NwPQrX0z/Xo3A9CtfTP9ejcD0K19M/16NwPQrX0z/Xo3A9CtfTP9ejcD0K19M/16NwPQrX0z/Xo3A9CtfTP9ejcD0K19M/16NwPQrX0z/Xo3A9CtfTP9ejcD0K19M/16NwPQrX0z/Xo3A9CtfTP9ejcD0K19M/16NwPQrX0z/Xo3A9CtfTP9ejcD0K19M/16NwPQrX0z/Xo3A9CtfTPw==",
                                        "dtype": "f8"
                                    },
                                    "z": {
                                        "bdata": "CVE1rnF36r/xkR0q80jpv9zFDe7oAOi/zTt/Zp6g5r/sskCAdynlvwqs3UDvnOO/6gCwR5b84b/joh45EUrgvwDeRCsuDt2/wul8/N5q2b/bllfQ4a3Vvw4OFIP92tG/ah/SIx7sy790U6hnCwbEv+kX/H97F7i/ZFj3LRIVoL9kWPctEhWgP/UX/H97F7g/dFOoZwsGxD9qH9IjHuzLPw8OFIP92tE/25ZX0OGt1T/C6Xz83mrZPwHeRCsuDt0/46IeORFK4D/qALBHlvzhPwus3UDvnOM/7bJAgHcp5T/OO39mnqDmP9rFDe7oAOg/8ZEdKvNI6T8JUTWucXfqPzzKCN0yi+s/bCw9HSCD7D/tF+LyPl7tP9j/gvyxG+4/cTXR0rm67j/3pATKtTrvP1zkL5Qkm+8/XJPjw6Tb7z+GEJ0u9fvvP4YQnS71++8/XJPjw6Tb7z9b5C+UJJvvP/ikBMq1Ou8/cjXR0rm67j/X/4L8sRvuP+wX4vI+Xu0/byw9HSCD7D8+ygjdMovrPwtRNa5xd+o/85EdKvNI6T/cxQ3u6ADoP807f2aeoOY/7LJAgHcp5T8KrN1A75zjP+kAsEeW/OE/4qIeORFK4D8K3kQrLg7dP8rpfPzeatk/45ZX0OGt1T8TDhSD/drRP3Ef0iMe7Ms/eVOoZwsGxD/yF/x/exe4P1hY9y0SFaA/NVj3LRIVoL/gF/x/exe4v3BTqGcLBsS/aB/SIx7sy78ODhSD/drRv9eWV9DhrdW/t+l8/N5q2b/33UQrLg7dv+CiHjkRSuC/5wCwR5b84b8JrN1A75zjv+uyQIB3KeW/zDt/Zp6g5r/bxQ3u6ADov/KRHSrzSOm/B1E1rnF36r89ygjdMovrv2wsPR0gg+y/6xfi8j5e7b/U/4L8sRvuv3E10dK5uu6/9qQEyrU6779b5C+UJJvvv1yT48Ok2++/hhCdLvX777+GEJ0u9fvvv1yT48Ok2++/XOQvlCSb77/3pATKtTrvv3I10dK5uu6/2P+C/LEb7r/wF+LyPl7tv24sPR0gg+y/PsoI3TKL678JUTWucXfqvw==",
                                        "dtype": "f8"
                                    }
                                },
                                {
                                    "mode": "lines",
                                    "type": "scatter3d",
                                    "x": {
                                        "bdata": "AAAAAAAAAAB7FK5H4XqUP3sUrkfheqQ/uB6F61G4rj97FK5H4Xq0P5qZmZmZmbk/uB6F61G4vj/sUbgehevBP3sUrkfhesQ/CtejcD0Kxz+amZmZmZnJPylcj8L1KMw/uB6F61G4zj+kcD0K16PQP+xRuB6F69E/MzMzMzMz0z97FK5H4XrUP8P1KFyPwtU/CtejcD0K1z9SuB6F61HYP5qZmZmZmdk/4XoUrkfh2j8pXI/C9SjcP3E9CtejcN0/uB6F61G43j8AAAAAAADgP6RwPQrXo+A/SOF6FK5H4T/sUbgehevhP4/C9Shcj+I/MzMzMzMz4z/Xo3A9CtfjP3sUrkfheuQ/H4XrUbge5T/D9Shcj8LlP2dmZmZmZuY/CtejcD0K5z+uR+F6FK7nP1K4HoXrUeg/9ihcj8L16D+amZmZmZnpPz4K16NwPeo/4XoUrkfh6j+F61G4HoXrPylcj8L1KOw/zczMzMzM7D9xPQrXo3DtPxWuR+F6FO4/uB6F61G47j9cj8L1KFzvPwAAAAAAAPA/UrgehetR8D+kcD0K16PwP/YoXI/C9fA/SOF6FK5H8T+amZmZmZnxP+xRuB6F6/E/PgrXo3A98j+PwvUoXI/yP+F6FK5H4fI/MzMzMzMz8z+F61G4HoXzP9ejcD0K1/M/KVyPwvUo9D97FK5H4Xr0P83MzMzMzPQ/H4XrUbge9T9xPQrXo3D1P8P1KFyPwvU/Fa5H4XoU9j9nZmZmZmb2P7gehetRuPY/CtejcD0K9z9cj8L1KFz3P65H4XoUrvc/AAAAAAAA+D9SuB6F61H4P6RwPQrXo/g/9ihcj8L1+D9I4XoUrkf5P5qZmZmZmfk/7FG4HoXr+T8+CtejcD36P5DC9Shcj/o/4XoUrkfh+j8zMzMzMzP7P4XrUbgehfs/16NwPQrX+z8pXI/C9Sj8P3sUrkfhevw/zczMzMzM/D8fhetRuB79P3E9CtejcP0/w/UoXI/C/T8VrkfhehT+P2dmZmZmZv4/uB6F61G4/j8K16NwPQr/P1yPwvUoXP8/rkfhehSu/z8AAAAAAAAAQA==",
                                        "dtype": "f8"
                                    },
                                    "y": {
                                        "bdata": "exSuR+F61D97FK5H4XrUP3sUrkfhetQ/exSuR+F61D97FK5H4XrUP3sUrkfhetQ/exSuR+F61D97FK5H4XrUP3sUrkfhetQ/exSuR+F61D97FK5H4XrUP3sUrkfhetQ/exSuR+F61D97FK5H4XrUP3sUrkfhetQ/exSuR+F61D97FK5H4XrUP3sUrkfhetQ/exSuR+F61D97FK5H4XrUP3sUrkfhetQ/exSuR+F61D97FK5H4XrUP3sUrkfhetQ/exSuR+F61D97FK5H4XrUP3sUrkfhetQ/exSuR+F61D97FK5H4XrUP3sUrkfhetQ/exSuR+F61D97FK5H4XrUP3sUrkfhetQ/exSuR+F61D97FK5H4XrUP3sUrkfhetQ/exSuR+F61D97FK5H4XrUP3sUrkfhetQ/exSuR+F61D97FK5H4XrUP3sUrkfhetQ/exSuR+F61D97FK5H4XrUP3sUrkfhetQ/exSuR+F61D97FK5H4XrUP3sUrkfhetQ/exSuR+F61D97FK5H4XrUP3sUrkfhetQ/exSuR+F61D97FK5H4XrUP3sUrkfhetQ/exSuR+F61D97FK5H4XrUP3sUrkfhetQ/exSuR+F61D97FK5H4XrUP3sUrkfhetQ/exSuR+F61D97FK5H4XrUP3sUrkfhetQ/exSuR+F61D97FK5H4XrUP3sUrkfhetQ/exSuR+F61D97FK5H4XrUP3sUrkfhetQ/exSuR+F61D97FK5H4XrUP3sUrkfhetQ/exSuR+F61D97FK5H4XrUP3sUrkfhetQ/exSuR+F61D97FK5H4XrUP3sUrkfhetQ/exSuR+F61D97FK5H4XrUP3sUrkfhetQ/exSuR+F61D97FK5H4XrUP3sUrkfhetQ/exSuR+F61D97FK5H4XrUP3sUrkfhetQ/exSuR+F61D97FK5H4XrUP3sUrkfhetQ/exSuR+F61D97FK5H4XrUP3sUrkfhetQ/exSuR+F61D97FK5H4XrUP3sUrkfhetQ/exSuR+F61D97FK5H4XrUP3sUrkfhetQ/exSuR+F61D97FK5H4XrUPw==",
                                        "dtype": "f8"
                                    },
                                    "z": {
                                        "bdata": "hi5k/7sE67+o9Jebd+Ppv+prW2MLqOi/FrjSA7ZT578TIBFVz+flv7sBtf7GZeS/Xlp1BCPP4r9RKxg8fiXhv1Kpv1wN1d6/nYElyfc/278YqahIWo/Xv0/pLzfvxtO/lgcc+hHVz794egNlHPzHv91boV3rCsC/fZPgGwoTsL8AAAAAAAAAAH2T4BsKE7A/3VuhXesKwD94egNlHPzHP5YHHPoR1c8/TukvN+/G0z8YqahIWo/XP52BJcn3P9s/UKm/XA3V3j9RKxg8fiXhP15adQQjz+I/vAG1/sZl5D8UIBFVz+flPxW40gO2U+c/6WtbYwuo6D+o9Jebd+PpP4YuZP+7BOs/WsCBTrQK7D+MFdzcV/TsP+Va7526wO0//1REEw5v7j/gHhAdov7uP/4JJazlbu8/A9mAVGe/7z/+Q+S/1e/vPwAAAAAAAPA//kPkv9Xv7z8C2YBUZ7/vP/4JJazlbu8/4B4QHaL+7j//VEQTDm/uP+Ra7526wO0/jRXc3Ff07D9awIFOtArsP4cuZP+7BOs/qPSXm3fj6T/qa1tjC6joPxW40gO2U+c/FSARVc/n5T+9AbX+xmXkP19adQQjz+I/USsYPH4l4T9Xqb9cDdXeP6CBJcn3P9s/I6moSFqP1z9Z6S8378bTP6YHHPoR1c8/h3oDZRz8xz/qW6Fd6wrAP4iT4BsKE7A/B1wUMyamoTx3k+AbChOwv+FboV3rCsC/fnoDZRz8x7+eBxz6EdXPv0bpLzfvxtO/EKmoSFqP17+VgSXJ9z/bv0ypv1wN1d6/TysYPH4l4b9dWnUEI8/iv7sBtf7GZeS/FCARVc/n5b8UuNIDtlPnv+trW2MLqOi/p/SXm3fj6b+ILmT/uwTrv1nAgU60Cuy/ihXc3Ff07L/iWu+dusDtv/9URBMOb+6/3x4QHaL+7r//CSWs5W7vvwLZgFRnv++//kPkv9Xv778AAAAAAADwv/5D5L/V7++/A9mAVGe/77//CSWs5W7vv+AeEB2i/u6/AFVEEw5v7r/mWu+dusDtv48V3NxX9Oy/W8CBTrQK7L+KLmT/uwTrvw==",
                                        "dtype": "f8"
                                    }
                                },
                                {
                                    "mode": "lines",
                                    "type": "scatter3d",
                                    "x": {
                                        "bdata": "AAAAAAAAAAB7FK5H4XqUP3sUrkfheqQ/uB6F61G4rj97FK5H4Xq0P5qZmZmZmbk/uB6F61G4vj/sUbgehevBP3sUrkfhesQ/CtejcD0Kxz+amZmZmZnJPylcj8L1KMw/uB6F61G4zj+kcD0K16PQP+xRuB6F69E/MzMzMzMz0z97FK5H4XrUP8P1KFyPwtU/CtejcD0K1z9SuB6F61HYP5qZmZmZmdk/4XoUrkfh2j8pXI/C9SjcP3E9CtejcN0/uB6F61G43j8AAAAAAADgP6RwPQrXo+A/SOF6FK5H4T/sUbgehevhP4/C9Shcj+I/MzMzMzMz4z/Xo3A9CtfjP3sUrkfheuQ/H4XrUbge5T/D9Shcj8LlP2dmZmZmZuY/CtejcD0K5z+uR+F6FK7nP1K4HoXrUeg/9ihcj8L16D+amZmZmZnpPz4K16NwPeo/4XoUrkfh6j+F61G4HoXrPylcj8L1KOw/zczMzMzM7D9xPQrXo3DtPxWuR+F6FO4/uB6F61G47j9cj8L1KFzvPwAAAAAAAPA/UrgehetR8D+kcD0K16PwP/YoXI/C9fA/SOF6FK5H8T+amZmZmZnxP+xRuB6F6/E/PgrXo3A98j+PwvUoXI/yP+F6FK5H4fI/MzMzMzMz8z+F61G4HoXzP9ejcD0K1/M/KVyPwvUo9D97FK5H4Xr0P83MzMzMzPQ/H4XrUbge9T9xPQrXo3D1P8P1KFyPwvU/Fa5H4XoU9j9nZmZmZmb2P7gehetRuPY/CtejcD0K9z9cj8L1KFz3P65H4XoUrvc/AAAAAAAA+D9SuB6F61H4P6RwPQrXo/g/9ihcj8L1+D9I4XoUrkf5P5qZmZmZmfk/7FG4HoXr+T8+CtejcD36P5DC9Shcj/o/4XoUrkfh+j8zMzMzMzP7P4XrUbgehfs/16NwPQrX+z8pXI/C9Sj8P3sUrkfhevw/zczMzMzM/D8fhetRuB79P3E9CtejcP0/w/UoXI/C/T8VrkfhehT+P2dmZmZmZv4/uB6F61G4/j8K16NwPQr/P1yPwvUoXP8/rkfhehSu/z8AAAAAAAAAQA==",
                                        "dtype": "f8"
                                    },
                                    "y": {
                                        "bdata": "H4XrUbge1T8fhetRuB7VPx+F61G4HtU/H4XrUbge1T8fhetRuB7VPx+F61G4HtU/H4XrUbge1T8fhetRuB7VPx+F61G4HtU/H4XrUbge1T8fhetRuB7VPx+F61G4HtU/H4XrUbge1T8fhetRuB7VPx+F61G4HtU/H4XrUbge1T8fhetRuB7VPx+F61G4HtU/H4XrUbge1T8fhetRuB7VPx+F61G4HtU/H4XrUbge1T8fhetRuB7VPx+F61G4HtU/H4XrUbge1T8fhetRuB7VPx+F61G4HtU/H4XrUbge1T8fhetRuB7VPx+F61G4HtU/H4XrUbge1T8fhetRuB7VPx+F61G4HtU/H4XrUbge1T8fhetRuB7VPx+F61G4HtU/H4XrUbge1T8fhetRuB7VPx+F61G4HtU/H4XrUbge1T8fhetRuB7VPx+F61G4HtU/H4XrUbge1T8fhetRuB7VPx+F61G4HtU/H4XrUbge1T8fhetRuB7VPx+F61G4HtU/H4XrUbge1T8fhetRuB7VPx+F61G4HtU/H4XrUbge1T8fhetRuB7VPx+F61G4HtU/H4XrUbge1T8fhetRuB7VPx+F61G4HtU/H4XrUbge1T8fhetRuB7VPx+F61G4HtU/H4XrUbge1T8fhetRuB7VPx+F61G4HtU/H4XrUbge1T8fhetRuB7VPx+F61G4HtU/H4XrUbge1T8fhetRuB7VPx+F61G4HtU/H4XrUbge1T8fhetRuB7VPx+F61G4HtU/H4XrUbge1T8fhetRuB7VPx+F61G4HtU/H4XrUbge1T8fhetRuB7VPx+F61G4HtU/H4XrUbge1T8fhetRuB7VPx+F61G4HtU/H4XrUbge1T8fhetRuB7VPx+F61G4HtU/H4XrUbge1T8fhetRuB7VPx+F61G4HtU/H4XrUbge1T8fhetRuB7VPx+F61G4HtU/H4XrUbge1T8fhetRuB7VPx+F61G4HtU/H4XrUbge1T8fhetRuB7VPx+F61G4HtU/H4XrUbge1T8fhetRuB7VPx+F61G4HtU/H4XrUbge1T8fhetRuB7VPw==",
                                        "dtype": "f8"
                                    },
                                    "z": {
                                        "bdata": "PMoI3TKL678JUTWucXfqv/KRHSrzSOm/3MUN7ugA6L/NO39mnqDmv+yyQIB3KeW/C6zdQO+c47/qALBHlvzhv+SiHjkRSuC/Ad5EKy4O3b/C6Xz83mrZv92WV9DhrdW/Dw4Ug/3a0b9qH9IjHuzLv3RTqGcLBsS/9Rf8f3sXuL9kWPctEhWgv2RY9y0SFaA/6Rf8f3sXuD90U6hnCwbEP2of0iMe7Ms/DA4Ug/3a0T/bllfQ4a3VP8LpfPzeatk//91EKy4O3T/joh45EUrgP+oAsEeW/OE/C6zdQO+c4z/tskCAdynlP8s7f2aeoOY/2sUN7ugA6D/xkR0q80jpPwlRNa5xd+o/PMoI3TKL6z9sLD0dIIPsP+0X4vI+Xu0/1/+C/LEb7j9xNdHSubruP/ekBMq1Ou8/XOQvlCSb7z9ck+PDpNvvP4YQnS71++8/hhCdLvX77z9ck+PDpNvvP1vkL5Qkm+8/+KQEyrU67z9yNdHSubruP9f/gvyxG+4/7hfi8j5e7T9vLD0dIIPsPz7KCN0yi+s/C1E1rnF36j/zkR0q80jpP9zFDe7oAOg/zTt/Zp6g5j/sskCAdynlPwqs3UDvnOM/6QCwR5b84T/poh45EUrgPwreRCsuDt0/yul8/N5q2T/jllfQ4a3VPxMOFIP92tE/cR/SIx7syz95U6hnCwbEP/IX/H97F7g/WFj3LRIVoD81WPctEhWgv+AX/H97F7i/cFOoZwsGxL9oH9IjHuzLvwcOFIP92tG/15ZX0OGt1b+36Xz83mrZv/fdRCsuDt2/4KIeORFK4L/nALBHlvzhvwms3UDvnOO/67JAgHcp5b/MO39mnqDmv9vFDe7oAOi/8pEdKvNI6b8HUTWucXfqvz3KCN0yi+u/bCw9HSCD7L/rF+LyPl7tv9T/gvyxG+6/cTXR0rm67r/2pATKtTrvv1vkL5Qkm++/XJPjw6Tb77+GEJ0u9fvvv4YQnS71+++/XJPjw6Tb779c5C+UJJvvv/ekBMq1Ou+/dDXR0rm67r/Y/4L8sRvuv/AX4vI+Xu2/biw9HSCD7L8+ygjdMovrvw==",
                                        "dtype": "f8"
                                    }
                                },
                                {
                                    "mode": "lines",
                                    "type": "scatter3d",
                                    "x": {
                                        "bdata": "AAAAAAAAAAB7FK5H4XqUP3sUrkfheqQ/uB6F61G4rj97FK5H4Xq0P5qZmZmZmbk/uB6F61G4vj/sUbgehevBP3sUrkfhesQ/CtejcD0Kxz+amZmZmZnJPylcj8L1KMw/uB6F61G4zj+kcD0K16PQP+xRuB6F69E/MzMzMzMz0z97FK5H4XrUP8P1KFyPwtU/CtejcD0K1z9SuB6F61HYP5qZmZmZmdk/4XoUrkfh2j8pXI/C9SjcP3E9CtejcN0/uB6F61G43j8AAAAAAADgP6RwPQrXo+A/SOF6FK5H4T/sUbgehevhP4/C9Shcj+I/MzMzMzMz4z/Xo3A9CtfjP3sUrkfheuQ/H4XrUbge5T/D9Shcj8LlP2dmZmZmZuY/CtejcD0K5z+uR+F6FK7nP1K4HoXrUeg/9ihcj8L16D+amZmZmZnpPz4K16NwPeo/4XoUrkfh6j+F61G4HoXrPylcj8L1KOw/zczMzMzM7D9xPQrXo3DtPxWuR+F6FO4/uB6F61G47j9cj8L1KFzvPwAAAAAAAPA/UrgehetR8D+kcD0K16PwP/YoXI/C9fA/SOF6FK5H8T+amZmZmZnxP+xRuB6F6/E/PgrXo3A98j+PwvUoXI/yP+F6FK5H4fI/MzMzMzMz8z+F61G4HoXzP9ejcD0K1/M/KVyPwvUo9D97FK5H4Xr0P83MzMzMzPQ/H4XrUbge9T9xPQrXo3D1P8P1KFyPwvU/Fa5H4XoU9j9nZmZmZmb2P7gehetRuPY/CtejcD0K9z9cj8L1KFz3P65H4XoUrvc/AAAAAAAA+D9SuB6F61H4P6RwPQrXo/g/9ihcj8L1+D9I4XoUrkf5P5qZmZmZmfk/7FG4HoXr+T8+CtejcD36P5DC9Shcj/o/4XoUrkfh+j8zMzMzMzP7P4XrUbgehfs/16NwPQrX+z8pXI/C9Sj8P3sUrkfhevw/zczMzMzM/D8fhetRuB79P3E9CtejcP0/w/UoXI/C/T8VrkfhehT+P2dmZmZmZv4/uB6F61G4/j8K16NwPQr/P1yPwvUoXP8/rkfhehSu/z8AAAAAAAAAQA==",
                                        "dtype": "f8"
                                    },
                                    "y": {
                                        "bdata": "w/UoXI/C1T/D9Shcj8LVP8P1KFyPwtU/w/UoXI/C1T/D9Shcj8LVP8P1KFyPwtU/w/UoXI/C1T/D9Shcj8LVP8P1KFyPwtU/w/UoXI/C1T/D9Shcj8LVP8P1KFyPwtU/w/UoXI/C1T/D9Shcj8LVP8P1KFyPwtU/w/UoXI/C1T/D9Shcj8LVP8P1KFyPwtU/w/UoXI/C1T/D9Shcj8LVP8P1KFyPwtU/w/UoXI/C1T/D9Shcj8LVP8P1KFyPwtU/w/UoXI/C1T/D9Shcj8LVP8P1KFyPwtU/w/UoXI/C1T/D9Shcj8LVP8P1KFyPwtU/w/UoXI/C1T/D9Shcj8LVP8P1KFyPwtU/w/UoXI/C1T/D9Shcj8LVP8P1KFyPwtU/w/UoXI/C1T/D9Shcj8LVP8P1KFyPwtU/w/UoXI/C1T/D9Shcj8LVP8P1KFyPwtU/w/UoXI/C1T/D9Shcj8LVP8P1KFyPwtU/w/UoXI/C1T/D9Shcj8LVP8P1KFyPwtU/w/UoXI/C1T/D9Shcj8LVP8P1KFyPwtU/w/UoXI/C1T/D9Shcj8LVP8P1KFyPwtU/w/UoXI/C1T/D9Shcj8LVP8P1KFyPwtU/w/UoXI/C1T/D9Shcj8LVP8P1KFyPwtU/w/UoXI/C1T/D9Shcj8LVP8P1KFyPwtU/w/UoXI/C1T/D9Shcj8LVP8P1KFyPwtU/w/UoXI/C1T/D9Shcj8LVP8P1KFyPwtU/w/UoXI/C1T/D9Shcj8LVP8P1KFyPwtU/w/UoXI/C1T/D9Shcj8LVP8P1KFyPwtU/w/UoXI/C1T/D9Shcj8LVP8P1KFyPwtU/w/UoXI/C1T/D9Shcj8LVP8P1KFyPwtU/w/UoXI/C1T/D9Shcj8LVP8P1KFyPwtU/w/UoXI/C1T/D9Shcj8LVP8P1KFyPwtU/w/UoXI/C1T/D9Shcj8LVP8P1KFyPwtU/w/UoXI/C1T/D9Shcj8LVP8P1KFyPwtU/w/UoXI/C1T/D9Shcj8LVP8P1KFyPwtU/w/UoXI/C1T/D9Shcj8LVP8P1KFyPwtU/w/UoXI/C1T/D9Shcj8LVPw==",
                                        "dtype": "f8"
                                    },
                                    "z": {
                                        "bdata": "WsCBTrQK7L+GLmT/uwTrv6j0l5t34+m/6mtbYwuo6L8WuNIDtlPnvxQgEVXP5+W/vAG1/sZl5L9eWnUEI8/iv1ErGDx+JeG/Uqm/XA3V3r+dgSXJ9z/bvxqpqEhaj9e/UekvN+/G07+WBxz6EdXPv3h6A2Uc/Me/5FuhXesKwL99k+AbChOwvwAAAAAAAAAAcJPgGwoTsD/dW6Fd6wrAP3h6A2Uc/Mc/kAcc+hHVzz9O6S8378bTPxipqEhaj9c/mYElyfc/2z9Qqb9cDdXeP1ErGDx+JeE/Xlp1BCPP4j+8AbX+xmXkPxIgEVXP5+U/FbjSA7ZT5z/pa1tjC6joP6j0l5t34+k/hi5k/7sE6z9awIFOtArsP4wV3NxX9Ow/5FrvnbrA7T//VEQTDm/uP+AeEB2i/u4//gklrOVu7z8D2YBUZ7/vP/5D5L/V7+8/AAAAAAAA8D/+Q+S/1e/vPwLZgFRnv+8//gklrOVu7z/gHhAdov7uP/9URBMOb+4/5lrvnbrA7T+NFdzcV/TsP1rAgU60Cuw/hy5k/7sE6z+o9Jebd+PpP+prW2MLqOg/FbjSA7ZT5z8VIBFVz+flP70Btf7GZeQ/X1p1BCPP4j9UKxg8fiXhP1epv1wN1d4/oIElyfc/2z8jqahIWo/XP1npLzfvxtM/pgcc+hHVzz+HegNlHPzHP+pboV3rCsA/iJPgGwoTsD8HXBQzJqahPHeT4BsKE7C/4VuhXesKwL9+egNlHPzHv38HHPoR1c+/RukvN+/G078QqahIWo/Xv5WBJcn3P9u/TKm/XA3V3r9PKxg8fiXhv11adQQjz+K/uwG1/sZl5L8UIBFVz+flvxS40gO2U+e/62tbYwuo6L+n9Jebd+Ppv4guZP+7BOu/VcCBTrQK7L+KFdzcV/Tsv+Ja7526wO2//1REEw5v7r/fHhAdov7uv/8JJazlbu+/AtmAVGe/77/+Q+S/1e/vvwAAAAAAAPC//kPkv9Xv778D2YBUZ7/vv/8JJazlbu+/4h4QHaL+7r8AVUQTDm/uv+Za7526wO2/jxXc3Ff07L9bwIFOtArsvw==",
                                        "dtype": "f8"
                                    }
                                },
                                {
                                    "mode": "lines",
                                    "type": "scatter3d",
                                    "x": {
                                        "bdata": "AAAAAAAAAAB7FK5H4XqUP3sUrkfheqQ/uB6F61G4rj97FK5H4Xq0P5qZmZmZmbk/uB6F61G4vj/sUbgehevBP3sUrkfhesQ/CtejcD0Kxz+amZmZmZnJPylcj8L1KMw/uB6F61G4zj+kcD0K16PQP+xRuB6F69E/MzMzMzMz0z97FK5H4XrUP8P1KFyPwtU/CtejcD0K1z9SuB6F61HYP5qZmZmZmdk/4XoUrkfh2j8pXI/C9SjcP3E9CtejcN0/uB6F61G43j8AAAAAAADgP6RwPQrXo+A/SOF6FK5H4T/sUbgehevhP4/C9Shcj+I/MzMzMzMz4z/Xo3A9CtfjP3sUrkfheuQ/H4XrUbge5T/D9Shcj8LlP2dmZmZmZuY/CtejcD0K5z+uR+F6FK7nP1K4HoXrUeg/9ihcj8L16D+amZmZmZnpPz4K16NwPeo/4XoUrkfh6j+F61G4HoXrPylcj8L1KOw/zczMzMzM7D9xPQrXo3DtPxWuR+F6FO4/uB6F61G47j9cj8L1KFzvPwAAAAAAAPA/UrgehetR8D+kcD0K16PwP/YoXI/C9fA/SOF6FK5H8T+amZmZmZnxP+xRuB6F6/E/PgrXo3A98j+PwvUoXI/yP+F6FK5H4fI/MzMzMzMz8z+F61G4HoXzP9ejcD0K1/M/KVyPwvUo9D97FK5H4Xr0P83MzMzMzPQ/H4XrUbge9T9xPQrXo3D1P8P1KFyPwvU/Fa5H4XoU9j9nZmZmZmb2P7gehetRuPY/CtejcD0K9z9cj8L1KFz3P65H4XoUrvc/AAAAAAAA+D9SuB6F61H4P6RwPQrXo/g/9ihcj8L1+D9I4XoUrkf5P5qZmZmZmfk/7FG4HoXr+T8+CtejcD36P5DC9Shcj/o/4XoUrkfh+j8zMzMzMzP7P4XrUbgehfs/16NwPQrX+z8pXI/C9Sj8P3sUrkfhevw/zczMzMzM/D8fhetRuB79P3E9CtejcP0/w/UoXI/C/T8VrkfhehT+P2dmZmZmZv4/uB6F61G4/j8K16NwPQr/P1yPwvUoXP8/rkfhehSu/z8AAAAAAAAAQA==",
                                        "dtype": "f8"
                                    },
                                    "y": {
                                        "bdata": "Z2ZmZmZm1j9nZmZmZmbWP2dmZmZmZtY/Z2ZmZmZm1j9nZmZmZmbWP2dmZmZmZtY/Z2ZmZmZm1j9nZmZmZmbWP2dmZmZmZtY/Z2ZmZmZm1j9nZmZmZmbWP2dmZmZmZtY/Z2ZmZmZm1j9nZmZmZmbWP2dmZmZmZtY/Z2ZmZmZm1j9nZmZmZmbWP2dmZmZmZtY/Z2ZmZmZm1j9nZmZmZmbWP2dmZmZmZtY/Z2ZmZmZm1j9nZmZmZmbWP2dmZmZmZtY/Z2ZmZmZm1j9nZmZmZmbWP2dmZmZmZtY/Z2ZmZmZm1j9nZmZmZmbWP2dmZmZmZtY/Z2ZmZmZm1j9nZmZmZmbWP2dmZmZmZtY/Z2ZmZmZm1j9nZmZmZmbWP2dmZmZmZtY/Z2ZmZmZm1j9nZmZmZmbWP2dmZmZmZtY/Z2ZmZmZm1j9nZmZmZmbWP2dmZmZmZtY/Z2ZmZmZm1j9nZmZmZmbWP2dmZmZmZtY/Z2ZmZmZm1j9nZmZmZmbWP2dmZmZmZtY/Z2ZmZmZm1j9nZmZmZmbWP2dmZmZmZtY/Z2ZmZmZm1j9nZmZmZmbWP2dmZmZmZtY/Z2ZmZmZm1j9nZmZmZmbWP2dmZmZmZtY/Z2ZmZmZm1j9nZmZmZmbWP2dmZmZmZtY/Z2ZmZmZm1j9nZmZmZmbWP2dmZmZmZtY/Z2ZmZmZm1j9nZmZmZmbWP2dmZmZmZtY/Z2ZmZmZm1j9nZmZmZmbWP2dmZmZmZtY/Z2ZmZmZm1j9nZmZmZmbWP2dmZmZmZtY/Z2ZmZmZm1j9nZmZmZmbWP2dmZmZmZtY/Z2ZmZmZm1j9nZmZmZmbWP2dmZmZmZtY/Z2ZmZmZm1j9nZmZmZmbWP2dmZmZmZtY/Z2ZmZmZm1j9nZmZmZmbWP2dmZmZmZtY/Z2ZmZmZm1j9nZmZmZmbWP2dmZmZmZtY/Z2ZmZmZm1j9nZmZmZmbWP2dmZmZmZtY/Z2ZmZmZm1j9nZmZmZmbWP2dmZmZmZtY/Z2ZmZmZm1j9nZmZmZmbWP2dmZmZmZtY/Z2ZmZmZm1j9nZmZmZmbWP2dmZmZmZtY/Z2ZmZmZm1j9nZmZmZmbWPw==",
                                        "dtype": "f8"
                                    },
                                    "z": {
                                        "bdata": "bCw9HSCD7L88ygjdMovrvwlRNa5xd+q/8pEdKvNI6b/cxQ3u6ADov807f2aeoOa/7bJAgHcp5b8LrN1A75zjv+oAsEeW/OG/5KIeORFK4L8B3kQrLg7dv8PpfPzeatm/35ZX0OGt1b8PDhSD/drRv2of0iMe7Mu/elOoZwsGxL/1F/x/exe4v2RY9y0SFaC/S1j3LRIVoD/pF/x/exe4P3RTqGcLBsQ/ZB/SIx7syz8MDhSD/drRP9uWV9DhrdU/v+l8/N5q2T//3UQrLg7dP+OiHjkRSuA/6gCwR5b84T8LrN1A75zjP+uyQIB3KeU/yzt/Zp6g5j/axQ3u6ADoP/GRHSrzSOk/CVE1rnF36j88ygjdMovrP2wsPR0gg+w/7Bfi8j5e7T/X/4L8sRvuP3E10dK5uu4/96QEyrU67z9c5C+UJJvvP1yT48Ok2+8/hhCdLvX77z+GEJ0u9fvvP1yT48Ok2+8/W+QvlCSb7z/4pATKtTrvP3I10dK5uu4/2f+C/LEb7j/uF+LyPl7tP28sPR0gg+w/PsoI3TKL6z8LUTWucXfqP/ORHSrzSOk/3MUN7ugA6D/NO39mnqDmP+yyQIB3KeU/CqzdQO+c4z/wALBHlvzhP+miHjkRSuA/Ct5EKy4O3T/K6Xz83mrZP+OWV9DhrdU/Ew4Ug/3a0T9xH9IjHuzLP3lTqGcLBsQ/8hf8f3sXuD9YWPctEhWgPzVY9y0SFaC/4Bf8f3sXuL9wU6hnCwbEv1gf0iMe7Mu/Bw4Ug/3a0b/XllfQ4a3Vv7fpfPzeatm/991EKy4O3b/goh45EUrgv+cAsEeW/OG/CazdQO+c47/rskCAdynlv8w7f2aeoOa/28UN7ugA6L/ykR0q80jpvwdRNa5xd+q/OcoI3TKL679sLD0dIIPsv+sX4vI+Xu2/1P+C/LEb7r9xNdHSubruv/akBMq1Ou+/W+QvlCSb779ck+PDpNvvv4YQnS71+++/hhCdLvX7779ck+PDpNvvv1zkL5Qkm++/+aQEyrU67790NdHSubruv9j/gvyxG+6/8Bfi8j5e7b9uLD0dIIPsvw==",
                                        "dtype": "f8"
                                    }
                                },
                                {
                                    "mode": "lines",
                                    "type": "scatter3d",
                                    "x": {
                                        "bdata": "AAAAAAAAAAB7FK5H4XqUP3sUrkfheqQ/uB6F61G4rj97FK5H4Xq0P5qZmZmZmbk/uB6F61G4vj/sUbgehevBP3sUrkfhesQ/CtejcD0Kxz+amZmZmZnJPylcj8L1KMw/uB6F61G4zj+kcD0K16PQP+xRuB6F69E/MzMzMzMz0z97FK5H4XrUP8P1KFyPwtU/CtejcD0K1z9SuB6F61HYP5qZmZmZmdk/4XoUrkfh2j8pXI/C9SjcP3E9CtejcN0/uB6F61G43j8AAAAAAADgP6RwPQrXo+A/SOF6FK5H4T/sUbgehevhP4/C9Shcj+I/MzMzMzMz4z/Xo3A9CtfjP3sUrkfheuQ/H4XrUbge5T/D9Shcj8LlP2dmZmZmZuY/CtejcD0K5z+uR+F6FK7nP1K4HoXrUeg/9ihcj8L16D+amZmZmZnpPz4K16NwPeo/4XoUrkfh6j+F61G4HoXrPylcj8L1KOw/zczMzMzM7D9xPQrXo3DtPxWuR+F6FO4/uB6F61G47j9cj8L1KFzvPwAAAAAAAPA/UrgehetR8D+kcD0K16PwP/YoXI/C9fA/SOF6FK5H8T+amZmZmZnxP+xRuB6F6/E/PgrXo3A98j+PwvUoXI/yP+F6FK5H4fI/MzMzMzMz8z+F61G4HoXzP9ejcD0K1/M/KVyPwvUo9D97FK5H4Xr0P83MzMzMzPQ/H4XrUbge9T9xPQrXo3D1P8P1KFyPwvU/Fa5H4XoU9j9nZmZmZmb2P7gehetRuPY/CtejcD0K9z9cj8L1KFz3P65H4XoUrvc/AAAAAAAA+D9SuB6F61H4P6RwPQrXo/g/9ihcj8L1+D9I4XoUrkf5P5qZmZmZmfk/7FG4HoXr+T8+CtejcD36P5DC9Shcj/o/4XoUrkfh+j8zMzMzMzP7P4XrUbgehfs/16NwPQrX+z8pXI/C9Sj8P3sUrkfhevw/zczMzMzM/D8fhetRuB79P3E9CtejcP0/w/UoXI/C/T8VrkfhehT+P2dmZmZmZv4/uB6F61G4/j8K16NwPQr/P1yPwvUoXP8/rkfhehSu/z8AAAAAAAAAQA==",
                                        "dtype": "f8"
                                    },
                                    "y": {
                                        "bdata": "CtejcD0K1z8K16NwPQrXPwrXo3A9Ctc/CtejcD0K1z8K16NwPQrXPwrXo3A9Ctc/CtejcD0K1z8K16NwPQrXPwrXo3A9Ctc/CtejcD0K1z8K16NwPQrXPwrXo3A9Ctc/CtejcD0K1z8K16NwPQrXPwrXo3A9Ctc/CtejcD0K1z8K16NwPQrXPwrXo3A9Ctc/CtejcD0K1z8K16NwPQrXPwrXo3A9Ctc/CtejcD0K1z8K16NwPQrXPwrXo3A9Ctc/CtejcD0K1z8K16NwPQrXPwrXo3A9Ctc/CtejcD0K1z8K16NwPQrXPwrXo3A9Ctc/CtejcD0K1z8K16NwPQrXPwrXo3A9Ctc/CtejcD0K1z8K16NwPQrXPwrXo3A9Ctc/CtejcD0K1z8K16NwPQrXPwrXo3A9Ctc/CtejcD0K1z8K16NwPQrXPwrXo3A9Ctc/CtejcD0K1z8K16NwPQrXPwrXo3A9Ctc/CtejcD0K1z8K16NwPQrXPwrXo3A9Ctc/CtejcD0K1z8K16NwPQrXPwrXo3A9Ctc/CtejcD0K1z8K16NwPQrXPwrXo3A9Ctc/CtejcD0K1z8K16NwPQrXPwrXo3A9Ctc/CtejcD0K1z8K16NwPQrXPwrXo3A9Ctc/CtejcD0K1z8K16NwPQrXPwrXo3A9Ctc/CtejcD0K1z8K16NwPQrXPwrXo3A9Ctc/CtejcD0K1z8K16NwPQrXPwrXo3A9Ctc/CtejcD0K1z8K16NwPQrXPwrXo3A9Ctc/CtejcD0K1z8K16NwPQrXPwrXo3A9Ctc/CtejcD0K1z8K16NwPQrXPwrXo3A9Ctc/CtejcD0K1z8K16NwPQrXPwrXo3A9Ctc/CtejcD0K1z8K16NwPQrXPwrXo3A9Ctc/CtejcD0K1z8K16NwPQrXPwrXo3A9Ctc/CtejcD0K1z8K16NwPQrXPwrXo3A9Ctc/CtejcD0K1z8K16NwPQrXPwrXo3A9Ctc/CtejcD0K1z8K16NwPQrXPwrXo3A9Ctc/CtejcD0K1z8K16NwPQrXPwrXo3A9Ctc/CtejcD0K1z8K16NwPQrXPw==",
                                        "dtype": "f8"
                                    },
                                    "z": {
                                        "bdata": "jBXc3Ff07L9ZwIFOtArsv4YuZP+7BOu/qPSXm3fj6b/pa1tjC6jovxa40gO2U+e/EyARVc/n5b+7AbX+xmXkv15adQQjz+K/USsYPH4l4b9Qqb9cDdXev5uBJcn3P9u/GKmoSFqP179O6S8378bTv5AHHPoR1c+/eHoDZRz8x7/dW6Fd6wrAv3CT4BsKE7C/AAAAAAAAAAB9k+AbChOwP+RboV3rCsA/eHoDZRz8xz+WBxz6EdXPP1HpLzfvxtM/GKmoSFqP1z+dgSXJ9z/bP1Kpv1wN1d4/USsYPH4l4T9fWnUEI8/iP7sBtf7GZeQ/EyARVc/n5T8WuNIDtlPnP+prW2MLqOg/qPSXm3fj6T+GLmT/uwTrP1rAgU60Cuw/jBXc3Ff07D/kWu+dusDtP/9URBMOb+4/4B4QHaL+7j//CSWs5W7vPwPZgFRnv+8//kPkv9Xv7z8AAAAAAADwP/5D5L/V7+8/AtmAVGe/7z/+CSWs5W7vP+AeEB2i/u4/AFVEEw5v7j/lWu+dusDtP4sV3NxX9Ow/WMCBTrQK7D+FLmT/uwTrP6j0l5t34+k/6mtbYwuo6D8VuNIDtlPnPxIgEVXP5+U/ugG1/sZl5D9fWnUEI8/iP1QrGDx+JeE/V6m/XA3V3j+ggSXJ9z/bPxypqEhaj9c/UekvN+/G0z+XBxz6EdXPP3d6A2Uc/Mc/2luhXesKwD9ok+AbChOwPwdcFDMmpqE8d5PgGwoTsL/hW6Fd6wrAv356A2Uc/Me/ngcc+hHVz79V6S8378bTvx+pqEhaj9e/nIElyfc/279Tqb9cDdXev1IrGDx+JeG/YFp1BCPP4r++AbX+xmXkvxYgEVXP5+W/GbjSA7ZT57/ra1tjC6jov6z0l5t34+m/gy5k/7sE679VwIFOtArsv4oV3NxX9Oy/4lrvnbrA7b//VEQTDm/uv98eEB2i/u6//wklrOVu778C2YBUZ7/vv/5D5L/V7++/AAAAAAAA8L/+Q+S/1e/vvwPZgFRnv++//wklrOVu77/gHhAdov7uvwBVRBMOb+6/41rvnbrA7b+MFdzcV/Tsvw==",
                                        "dtype": "f8"
                                    }
                                },
                                {
                                    "mode": "lines",
                                    "type": "scatter3d",
                                    "x": {
                                        "bdata": "AAAAAAAAAAB7FK5H4XqUP3sUrkfheqQ/uB6F61G4rj97FK5H4Xq0P5qZmZmZmbk/uB6F61G4vj/sUbgehevBP3sUrkfhesQ/CtejcD0Kxz+amZmZmZnJPylcj8L1KMw/uB6F61G4zj+kcD0K16PQP+xRuB6F69E/MzMzMzMz0z97FK5H4XrUP8P1KFyPwtU/CtejcD0K1z9SuB6F61HYP5qZmZmZmdk/4XoUrkfh2j8pXI/C9SjcP3E9CtejcN0/uB6F61G43j8AAAAAAADgP6RwPQrXo+A/SOF6FK5H4T/sUbgehevhP4/C9Shcj+I/MzMzMzMz4z/Xo3A9CtfjP3sUrkfheuQ/H4XrUbge5T/D9Shcj8LlP2dmZmZmZuY/CtejcD0K5z+uR+F6FK7nP1K4HoXrUeg/9ihcj8L16D+amZmZmZnpPz4K16NwPeo/4XoUrkfh6j+F61G4HoXrPylcj8L1KOw/zczMzMzM7D9xPQrXo3DtPxWuR+F6FO4/uB6F61G47j9cj8L1KFzvPwAAAAAAAPA/UrgehetR8D+kcD0K16PwP/YoXI/C9fA/SOF6FK5H8T+amZmZmZnxP+xRuB6F6/E/PgrXo3A98j+PwvUoXI/yP+F6FK5H4fI/MzMzMzMz8z+F61G4HoXzP9ejcD0K1/M/KVyPwvUo9D97FK5H4Xr0P83MzMzMzPQ/H4XrUbge9T9xPQrXo3D1P8P1KFyPwvU/Fa5H4XoU9j9nZmZmZmb2P7gehetRuPY/CtejcD0K9z9cj8L1KFz3P65H4XoUrvc/AAAAAAAA+D9SuB6F61H4P6RwPQrXo/g/9ihcj8L1+D9I4XoUrkf5P5qZmZmZmfk/7FG4HoXr+T8+CtejcD36P5DC9Shcj/o/4XoUrkfh+j8zMzMzMzP7P4XrUbgehfs/16NwPQrX+z8pXI/C9Sj8P3sUrkfhevw/zczMzMzM/D8fhetRuB79P3E9CtejcP0/w/UoXI/C/T8VrkfhehT+P2dmZmZmZv4/uB6F61G4/j8K16NwPQr/P1yPwvUoXP8/rkfhehSu/z8AAAAAAAAAQA==",
                                        "dtype": "f8"
                                    },
                                    "y": {
                                        "bdata": "rkfhehSu1z+uR+F6FK7XP65H4XoUrtc/rkfhehSu1z+uR+F6FK7XP65H4XoUrtc/rkfhehSu1z+uR+F6FK7XP65H4XoUrtc/rkfhehSu1z+uR+F6FK7XP65H4XoUrtc/rkfhehSu1z+uR+F6FK7XP65H4XoUrtc/rkfhehSu1z+uR+F6FK7XP65H4XoUrtc/rkfhehSu1z+uR+F6FK7XP65H4XoUrtc/rkfhehSu1z+uR+F6FK7XP65H4XoUrtc/rkfhehSu1z+uR+F6FK7XP65H4XoUrtc/rkfhehSu1z+uR+F6FK7XP65H4XoUrtc/rkfhehSu1z+uR+F6FK7XP65H4XoUrtc/rkfhehSu1z+uR+F6FK7XP65H4XoUrtc/rkfhehSu1z+uR+F6FK7XP65H4XoUrtc/rkfhehSu1z+uR+F6FK7XP65H4XoUrtc/rkfhehSu1z+uR+F6FK7XP65H4XoUrtc/rkfhehSu1z+uR+F6FK7XP65H4XoUrtc/rkfhehSu1z+uR+F6FK7XP65H4XoUrtc/rkfhehSu1z+uR+F6FK7XP65H4XoUrtc/rkfhehSu1z+uR+F6FK7XP65H4XoUrtc/rkfhehSu1z+uR+F6FK7XP65H4XoUrtc/rkfhehSu1z+uR+F6FK7XP65H4XoUrtc/rkfhehSu1z+uR+F6FK7XP65H4XoUrtc/rkfhehSu1z+uR+F6FK7XP65H4XoUrtc/rkfhehSu1z+uR+F6FK7XP65H4XoUrtc/rkfhehSu1z+uR+F6FK7XP65H4XoUrtc/rkfhehSu1z+uR+F6FK7XP65H4XoUrtc/rkfhehSu1z+uR+F6FK7XP65H4XoUrtc/rkfhehSu1z+uR+F6FK7XP65H4XoUrtc/rkfhehSu1z+uR+F6FK7XP65H4XoUrtc/rkfhehSu1z+uR+F6FK7XP65H4XoUrtc/rkfhehSu1z+uR+F6FK7XP65H4XoUrtc/rkfhehSu1z+uR+F6FK7XP65H4XoUrtc/rkfhehSu1z+uR+F6FK7XP65H4XoUrtc/rkfhehSu1z+uR+F6FK7XPw==",
                                        "dtype": "f8"
                                    },
                                    "z": {
                                        "bdata": "7Rfi8j5e7b9sLD0dIIPsvzzKCN0yi+u/CVE1rnF36r/xkR0q80jpv9zFDe7oAOi/zTt/Zp6g5r/sskCAdynlvwqs3UDvnOO/6gCwR5b84b/joh45EUrgvwDeRCsuDt2/wul8/N5q2b/bllfQ4a3VvwwOFIP92tG/ah/SIx7sy790U6hnCwbEv+kX/H97F7i/ZFj3LRIVoL9kWPctEhWgP/UX/H97F7g/dFOoZwsGxD9qH9IjHuzLPw8OFIP92tE/25ZX0OGt1T/C6Xz83mrZPwHeRCsuDt0/5KIeORFK4D/rALBHlvzhPwqs3UDvnOM/7LJAgHcp5T/NO39mnqDmP9zFDe7oAOg/8pEdKvNI6T8JUTWucXfqPzzKCN0yi+s/bCw9HSCD7D/tF+LyPl7tP9f/gvyxG+4/cjXR0rm67j/4pATKtTrvP1zkL5Qkm+8/XJPjw6Tb7z+GEJ0u9fvvP4YQnS71++8/XJPjw6Tb7z9b5C+UJJvvP/ikBMq1Ou8/cjXR0rm67j/X/4L8sRvuP+4X4vI+Xu0/bSw9HSCD7D88ygjdMovrPwhRNa5xd+o/8ZEdKvNI6T/axQ3u6ADoP8o7f2aeoOY/6rJAgHcp5T8OrN1A75zjP+wAsEeW/OE/5aIeORFK4D8C3kQrLg7dP8LpfPzeatk/25ZX0OGt1T8LDhSD/drRP2Ef0iMe7Ms/eVOoZwsGxD/yF/x/exe4P1hY9y0SFaA/tVj3LRIVoL8gGPx/exe4v2FTqGcLBsS/WB/SIx7sy78HDhSD/drRv9eWV9DhrdW/t+l8/N5q2b/33UQrLg7dv+CiHjkRSuC/5wCwR5b84b8JrN1A75zjv+uyQIB3KeW/zDt/Zp6g5r/bxQ3u6ADov/KRHSrzSOm/B1E1rnF36r89ygjdMovrv2wsPR0gg+y/7hfi8j5e7b/X/4L8sRvuv3M10dK5uu6/+KQEyrU6779d5C+UJJvvv1yT48Ok2++/hhCdLvX777+FEJ0u9fvvv1yT48Ok2++/XeQvlCSb77/5pATKtTrvv3Q10dK5uu6/2P+C/LEb7r/wF+LyPl7tvw==",
                                        "dtype": "f8"
                                    }
                                },
                                {
                                    "mode": "lines",
                                    "type": "scatter3d",
                                    "x": {
                                        "bdata": "AAAAAAAAAAB7FK5H4XqUP3sUrkfheqQ/uB6F61G4rj97FK5H4Xq0P5qZmZmZmbk/uB6F61G4vj/sUbgehevBP3sUrkfhesQ/CtejcD0Kxz+amZmZmZnJPylcj8L1KMw/uB6F61G4zj+kcD0K16PQP+xRuB6F69E/MzMzMzMz0z97FK5H4XrUP8P1KFyPwtU/CtejcD0K1z9SuB6F61HYP5qZmZmZmdk/4XoUrkfh2j8pXI/C9SjcP3E9CtejcN0/uB6F61G43j8AAAAAAADgP6RwPQrXo+A/SOF6FK5H4T/sUbgehevhP4/C9Shcj+I/MzMzMzMz4z/Xo3A9CtfjP3sUrkfheuQ/H4XrUbge5T/D9Shcj8LlP2dmZmZmZuY/CtejcD0K5z+uR+F6FK7nP1K4HoXrUeg/9ihcj8L16D+amZmZmZnpPz4K16NwPeo/4XoUrkfh6j+F61G4HoXrPylcj8L1KOw/zczMzMzM7D9xPQrXo3DtPxWuR+F6FO4/uB6F61G47j9cj8L1KFzvPwAAAAAAAPA/UrgehetR8D+kcD0K16PwP/YoXI/C9fA/SOF6FK5H8T+amZmZmZnxP+xRuB6F6/E/PgrXo3A98j+PwvUoXI/yP+F6FK5H4fI/MzMzMzMz8z+F61G4HoXzP9ejcD0K1/M/KVyPwvUo9D97FK5H4Xr0P83MzMzMzPQ/H4XrUbge9T9xPQrXo3D1P8P1KFyPwvU/Fa5H4XoU9j9nZmZmZmb2P7gehetRuPY/CtejcD0K9z9cj8L1KFz3P65H4XoUrvc/AAAAAAAA+D9SuB6F61H4P6RwPQrXo/g/9ihcj8L1+D9I4XoUrkf5P5qZmZmZmfk/7FG4HoXr+T8+CtejcD36P5DC9Shcj/o/4XoUrkfh+j8zMzMzMzP7P4XrUbgehfs/16NwPQrX+z8pXI/C9Sj8P3sUrkfhevw/zczMzMzM/D8fhetRuB79P3E9CtejcP0/w/UoXI/C/T8VrkfhehT+P2dmZmZmZv4/uB6F61G4/j8K16NwPQr/P1yPwvUoXP8/rkfhehSu/z8AAAAAAAAAQA==",
                                        "dtype": "f8"
                                    },
                                    "y": {
                                        "bdata": "UrgehetR2D9SuB6F61HYP1K4HoXrUdg/UrgehetR2D9SuB6F61HYP1K4HoXrUdg/UrgehetR2D9SuB6F61HYP1K4HoXrUdg/UrgehetR2D9SuB6F61HYP1K4HoXrUdg/UrgehetR2D9SuB6F61HYP1K4HoXrUdg/UrgehetR2D9SuB6F61HYP1K4HoXrUdg/UrgehetR2D9SuB6F61HYP1K4HoXrUdg/UrgehetR2D9SuB6F61HYP1K4HoXrUdg/UrgehetR2D9SuB6F61HYP1K4HoXrUdg/UrgehetR2D9SuB6F61HYP1K4HoXrUdg/UrgehetR2D9SuB6F61HYP1K4HoXrUdg/UrgehetR2D9SuB6F61HYP1K4HoXrUdg/UrgehetR2D9SuB6F61HYP1K4HoXrUdg/UrgehetR2D9SuB6F61HYP1K4HoXrUdg/UrgehetR2D9SuB6F61HYP1K4HoXrUdg/UrgehetR2D9SuB6F61HYP1K4HoXrUdg/UrgehetR2D9SuB6F61HYP1K4HoXrUdg/UrgehetR2D9SuB6F61HYP1K4HoXrUdg/UrgehetR2D9SuB6F61HYP1K4HoXrUdg/UrgehetR2D9SuB6F61HYP1K4HoXrUdg/UrgehetR2D9SuB6F61HYP1K4HoXrUdg/UrgehetR2D9SuB6F61HYP1K4HoXrUdg/UrgehetR2D9SuB6F61HYP1K4HoXrUdg/UrgehetR2D9SuB6F61HYP1K4HoXrUdg/UrgehetR2D9SuB6F61HYP1K4HoXrUdg/UrgehetR2D9SuB6F61HYP1K4HoXrUdg/UrgehetR2D9SuB6F61HYP1K4HoXrUdg/UrgehetR2D9SuB6F61HYP1K4HoXrUdg/UrgehetR2D9SuB6F61HYP1K4HoXrUdg/UrgehetR2D9SuB6F61HYP1K4HoXrUdg/UrgehetR2D9SuB6F61HYP1K4HoXrUdg/UrgehetR2D9SuB6F61HYP1K4HoXrUdg/UrgehetR2D9SuB6F61HYP1K4HoXrUdg/UrgehetR2D9SuB6F61HYPw==",
                                        "dtype": "f8"
                                    },
                                    "z": {
                                        "bdata": "5FrvnbrA7b+MFdzcV/Tsv1rAgU60Cuy/hi5k/7sE67+o9Jebd+Ppv+prW2MLqOi/FrjSA7ZT578TIBFVz+flv7sBtf7GZeS/Xlp1BCPP4r9RKxg8fiXhv1Kpv1wN1d6/nYElyfc/278YqahIWo/Xv07pLzfvxtO/lgcc+hHVz794egNlHPzHv91boV3rCsC/fZPgGwoTsL8AAAAAAAAAAH2T4BsKE7A/3VuhXesKwD94egNlHPzHP5YHHPoR1c8/TukvN+/G0z8YqahIWo/XP52BJcn3P9s/Uqm/XA3V3j9RKxg8fiXhP11adQQjz+I/uwG1/sZl5D8TIBFVz+flPxa40gO2U+c/6mtbYwuo6D+o9Jebd+PpP4YuZP+7BOs/WcCBTrQK7D+MFdzcV/TsP+Ra7526wO0//1REEw5v7j/gHhAdov7uP/8JJazlbu8/AtmAVGe/7z/+Q+S/1e/vPwAAAAAAAPA//kPkv9Xv7z8C2YBUZ7/vP/4JJazlbu8/4R4QHaL+7j8AVUQTDm/uP+Va7526wO0/ixXc3Ff07D9YwIFOtArsP4UuZP+7BOs/qPSXm3fj6T/qa1tjC6joPxW40gO2U+c/EiARVc/n5T+9AbX+xmXkP19adQQjz+I/VCsYPH4l4T9Xqb9cDdXeP6CBJcn3P9s/HKmoSFqP1z9R6S8378bTP5cHHPoR1c8/d3oDZRz8xz/aW6Fd6wrAP2iT4BsKE7A/B1wUMyamoTx3k+AbChOwv+FboV3rCsC/fnoDZRz8x7+eBxz6EdXPv1XpLzfvxtO/H6moSFqP17+cgSXJ9z/bv1Opv1wN1d6/UisYPH4l4b9gWnUEI8/iv74Btf7GZeS/FiARVc/n5b8ZuNIDtlPnv+trW2MLqOi/ovSXm3fj6b+DLmT/uwTrv1XAgU60Cuy/ihXc3Ff07L/iWu+dusDtv/9URBMOb+6/3x4QHaL+7r//CSWs5W7vvwLZgFRnv++//kPkv9Xv778AAAAAAADwv/5D5L/V7++/A9mAVGe/77//CSWs5W7vv+AeEB2i/u6/AFVEEw5v7r/jWu+dusDtvw==",
                                        "dtype": "f8"
                                    }
                                },
                                {
                                    "mode": "lines",
                                    "type": "scatter3d",
                                    "x": {
                                        "bdata": "AAAAAAAAAAB7FK5H4XqUP3sUrkfheqQ/uB6F61G4rj97FK5H4Xq0P5qZmZmZmbk/uB6F61G4vj/sUbgehevBP3sUrkfhesQ/CtejcD0Kxz+amZmZmZnJPylcj8L1KMw/uB6F61G4zj+kcD0K16PQP+xRuB6F69E/MzMzMzMz0z97FK5H4XrUP8P1KFyPwtU/CtejcD0K1z9SuB6F61HYP5qZmZmZmdk/4XoUrkfh2j8pXI/C9SjcP3E9CtejcN0/uB6F61G43j8AAAAAAADgP6RwPQrXo+A/SOF6FK5H4T/sUbgehevhP4/C9Shcj+I/MzMzMzMz4z/Xo3A9CtfjP3sUrkfheuQ/H4XrUbge5T/D9Shcj8LlP2dmZmZmZuY/CtejcD0K5z+uR+F6FK7nP1K4HoXrUeg/9ihcj8L16D+amZmZmZnpPz4K16NwPeo/4XoUrkfh6j+F61G4HoXrPylcj8L1KOw/zczMzMzM7D9xPQrXo3DtPxWuR+F6FO4/uB6F61G47j9cj8L1KFzvPwAAAAAAAPA/UrgehetR8D+kcD0K16PwP/YoXI/C9fA/SOF6FK5H8T+amZmZmZnxP+xRuB6F6/E/PgrXo3A98j+PwvUoXI/yP+F6FK5H4fI/MzMzMzMz8z+F61G4HoXzP9ejcD0K1/M/KVyPwvUo9D97FK5H4Xr0P83MzMzMzPQ/H4XrUbge9T9xPQrXo3D1P8P1KFyPwvU/Fa5H4XoU9j9nZmZmZmb2P7gehetRuPY/CtejcD0K9z9cj8L1KFz3P65H4XoUrvc/AAAAAAAA+D9SuB6F61H4P6RwPQrXo/g/9ihcj8L1+D9I4XoUrkf5P5qZmZmZmfk/7FG4HoXr+T8+CtejcD36P5DC9Shcj/o/4XoUrkfh+j8zMzMzMzP7P4XrUbgehfs/16NwPQrX+z8pXI/C9Sj8P3sUrkfhevw/zczMzMzM/D8fhetRuB79P3E9CtejcP0/w/UoXI/C/T8VrkfhehT+P2dmZmZmZv4/uB6F61G4/j8K16NwPQr/P1yPwvUoXP8/rkfhehSu/z8AAAAAAAAAQA==",
                                        "dtype": "f8"
                                    },
                                    "y": {
                                        "bdata": "9ihcj8L12D/2KFyPwvXYP/YoXI/C9dg/9ihcj8L12D/2KFyPwvXYP/YoXI/C9dg/9ihcj8L12D/2KFyPwvXYP/YoXI/C9dg/9ihcj8L12D/2KFyPwvXYP/YoXI/C9dg/9ihcj8L12D/2KFyPwvXYP/YoXI/C9dg/9ihcj8L12D/2KFyPwvXYP/YoXI/C9dg/9ihcj8L12D/2KFyPwvXYP/YoXI/C9dg/9ihcj8L12D/2KFyPwvXYP/YoXI/C9dg/9ihcj8L12D/2KFyPwvXYP/YoXI/C9dg/9ihcj8L12D/2KFyPwvXYP/YoXI/C9dg/9ihcj8L12D/2KFyPwvXYP/YoXI/C9dg/9ihcj8L12D/2KFyPwvXYP/YoXI/C9dg/9ihcj8L12D/2KFyPwvXYP/YoXI/C9dg/9ihcj8L12D/2KFyPwvXYP/YoXI/C9dg/9ihcj8L12D/2KFyPwvXYP/YoXI/C9dg/9ihcj8L12D/2KFyPwvXYP/YoXI/C9dg/9ihcj8L12D/2KFyPwvXYP/YoXI/C9dg/9ihcj8L12D/2KFyPwvXYP/YoXI/C9dg/9ihcj8L12D/2KFyPwvXYP/YoXI/C9dg/9ihcj8L12D/2KFyPwvXYP/YoXI/C9dg/9ihcj8L12D/2KFyPwvXYP/YoXI/C9dg/9ihcj8L12D/2KFyPwvXYP/YoXI/C9dg/9ihcj8L12D/2KFyPwvXYP/YoXI/C9dg/9ihcj8L12D/2KFyPwvXYP/YoXI/C9dg/9ihcj8L12D/2KFyPwvXYP/YoXI/C9dg/9ihcj8L12D/2KFyPwvXYP/YoXI/C9dg/9ihcj8L12D/2KFyPwvXYP/YoXI/C9dg/9ihcj8L12D/2KFyPwvXYP/YoXI/C9dg/9ihcj8L12D/2KFyPwvXYP/YoXI/C9dg/9ihcj8L12D/2KFyPwvXYP/YoXI/C9dg/9ihcj8L12D/2KFyPwvXYP/YoXI/C9dg/9ihcj8L12D/2KFyPwvXYP/YoXI/C9dg/9ihcj8L12D/2KFyPwvXYP/YoXI/C9dg/9ihcj8L12D/2KFyPwvXYPw==",
                                        "dtype": "f8"
                                    },
                                    "z": {
                                        "bdata": "1/+C/LEb7r/tF+LyPl7tv2wsPR0gg+y/PMoI3TKL678JUTWucXfqv/KRHSrzSOm/3MUN7ugA6L/NO39mnqDmv+yyQIB3KeW/C6zdQO+c47/qALBHlvzhv+SiHjkRSuC/Ad5EKy4O3b/C6Xz83mrZv9uWV9DhrdW/Dw4Ug/3a0b9qH9IjHuzLv3RTqGcLBsS/9Rf8f3sXuL9kWPctEhWgv2RY9y0SFaA/6Rf8f3sXuD90U6hnCwbEP2of0iMe7Ms/DA4Ug/3a0T/bllfQ4a3VP8LpfPzeatk/Ad5EKy4O3T/koh45EUrgP+kAsEeW/OE/CqzdQO+c4z/sskCAdynlP807f2aeoOY/3MUN7ugA6D/ykR0q80jpPwlRNa5xd+o/O8oI3TKL6z9sLD0dIIPsP+0X4vI+Xu0/1/+C/LEb7j9yNdHSubruP/ikBMq1Ou8/W+QvlCSb7z9ck+PDpNvvP4YQnS71++8/hhCdLvX77z9ck+PDpNvvP1vkL5Qkm+8/+KQEyrU67z9yNdHSubruP9f/gvyxG+4/7hfi8j5e7T9tLD0dIIPsPzzKCN0yi+s/CFE1rnF36j/xkR0q80jpP9rFDe7oAOg/yjt/Zp6g5j/wskCAdynlPw6s3UDvnOM/7ACwR5b84T/loh45EUrgPwLeRCsuDt0/wul8/N5q2T/bllfQ4a3VPwsOFIP92tE/YR/SIx7syz95U6hnCwbEP/IX/H97F7g/WFj3LRIVoD+1WPctEhWgv8AX/H97F7i/YVOoZwsGxL9YH9IjHuzLvwcOFIP92tG/15ZX0OGt1b+36Xz83mrZv/fdRCsuDt2/4KIeORFK4L/nALBHlvzhvwms3UDvnOO/67JAgHcp5b/MO39mnqDmv9vFDe7oAOi/8pEdKvNI6b8HUTWucXfqvz3KCN0yi+u/bCw9HSCD7L/uF+LyPl7tv9f/gvyxG+6/czXR0rm67r/4pATKtTrvv13kL5Qkm++/XJPjw6Tb77+GEJ0u9fvvv4UQnS71+++/XZPjw6Tb779d5C+UJJvvv/mkBMq1Ou+/dDXR0rm67r/Y/4L8sRvuvw==",
                                        "dtype": "f8"
                                    }
                                },
                                {
                                    "mode": "lines",
                                    "type": "scatter3d",
                                    "x": {
                                        "bdata": "AAAAAAAAAAB7FK5H4XqUP3sUrkfheqQ/uB6F61G4rj97FK5H4Xq0P5qZmZmZmbk/uB6F61G4vj/sUbgehevBP3sUrkfhesQ/CtejcD0Kxz+amZmZmZnJPylcj8L1KMw/uB6F61G4zj+kcD0K16PQP+xRuB6F69E/MzMzMzMz0z97FK5H4XrUP8P1KFyPwtU/CtejcD0K1z9SuB6F61HYP5qZmZmZmdk/4XoUrkfh2j8pXI/C9SjcP3E9CtejcN0/uB6F61G43j8AAAAAAADgP6RwPQrXo+A/SOF6FK5H4T/sUbgehevhP4/C9Shcj+I/MzMzMzMz4z/Xo3A9CtfjP3sUrkfheuQ/H4XrUbge5T/D9Shcj8LlP2dmZmZmZuY/CtejcD0K5z+uR+F6FK7nP1K4HoXrUeg/9ihcj8L16D+amZmZmZnpPz4K16NwPeo/4XoUrkfh6j+F61G4HoXrPylcj8L1KOw/zczMzMzM7D9xPQrXo3DtPxWuR+F6FO4/uB6F61G47j9cj8L1KFzvPwAAAAAAAPA/UrgehetR8D+kcD0K16PwP/YoXI/C9fA/SOF6FK5H8T+amZmZmZnxP+xRuB6F6/E/PgrXo3A98j+PwvUoXI/yP+F6FK5H4fI/MzMzMzMz8z+F61G4HoXzP9ejcD0K1/M/KVyPwvUo9D97FK5H4Xr0P83MzMzMzPQ/H4XrUbge9T9xPQrXo3D1P8P1KFyPwvU/Fa5H4XoU9j9nZmZmZmb2P7gehetRuPY/CtejcD0K9z9cj8L1KFz3P65H4XoUrvc/AAAAAAAA+D9SuB6F61H4P6RwPQrXo/g/9ihcj8L1+D9I4XoUrkf5P5qZmZmZmfk/7FG4HoXr+T8+CtejcD36P5DC9Shcj/o/4XoUrkfh+j8zMzMzMzP7P4XrUbgehfs/16NwPQrX+z8pXI/C9Sj8P3sUrkfhevw/zczMzMzM/D8fhetRuB79P3E9CtejcP0/w/UoXI/C/T8VrkfhehT+P2dmZmZmZv4/uB6F61G4/j8K16NwPQr/P1yPwvUoXP8/rkfhehSu/z8AAAAAAAAAQA==",
                                        "dtype": "f8"
                                    },
                                    "y": {
                                        "bdata": "mpmZmZmZ2T+amZmZmZnZP5qZmZmZmdk/mpmZmZmZ2T+amZmZmZnZP5qZmZmZmdk/mpmZmZmZ2T+amZmZmZnZP5qZmZmZmdk/mpmZmZmZ2T+amZmZmZnZP5qZmZmZmdk/mpmZmZmZ2T+amZmZmZnZP5qZmZmZmdk/mpmZmZmZ2T+amZmZmZnZP5qZmZmZmdk/mpmZmZmZ2T+amZmZmZnZP5qZmZmZmdk/mpmZmZmZ2T+amZmZmZnZP5qZmZmZmdk/mpmZmZmZ2T+amZmZmZnZP5qZmZmZmdk/mpmZmZmZ2T+amZmZmZnZP5qZmZmZmdk/mpmZmZmZ2T+amZmZmZnZP5qZmZmZmdk/mpmZmZmZ2T+amZmZmZnZP5qZmZmZmdk/mpmZmZmZ2T+amZmZmZnZP5qZmZmZmdk/mpmZmZmZ2T+amZmZmZnZP5qZmZmZmdk/mpmZmZmZ2T+amZmZmZnZP5qZmZmZmdk/mpmZmZmZ2T+amZmZmZnZP5qZmZmZmdk/mpmZmZmZ2T+amZmZmZnZP5qZmZmZmdk/mpmZmZmZ2T+amZmZmZnZP5qZmZmZmdk/mpmZmZmZ2T+amZmZmZnZP5qZmZmZmdk/mpmZmZmZ2T+amZmZmZnZP5qZmZmZmdk/mpmZmZmZ2T+amZmZmZnZP5qZmZmZmdk/mpmZmZmZ2T+amZmZmZnZP5qZmZmZmdk/mpmZmZmZ2T+amZmZmZnZP5qZmZmZmdk/mpmZmZmZ2T+amZmZmZnZP5qZmZmZmdk/mpmZmZmZ2T+amZmZmZnZP5qZmZmZmdk/mpmZmZmZ2T+amZmZmZnZP5qZmZmZmdk/mpmZmZmZ2T+amZmZmZnZP5qZmZmZmdk/mpmZmZmZ2T+amZmZmZnZP5qZmZmZmdk/mpmZmZmZ2T+amZmZmZnZP5qZmZmZmdk/mpmZmZmZ2T+amZmZmZnZP5qZmZmZmdk/mpmZmZmZ2T+amZmZmZnZP5qZmZmZmdk/mpmZmZmZ2T+amZmZmZnZP5qZmZmZmdk/mpmZmZmZ2T+amZmZmZnZP5qZmZmZmdk/mpmZmZmZ2T+amZmZmZnZPw==",
                                        "dtype": "f8"
                                    },
                                    "z": {
                                        "bdata": "/1REEw5v7r/kWu+dusDtv4wV3NxX9Oy/WsCBTrQK7L+GLmT/uwTrv6j0l5t34+m/6mtbYwuo6L8WuNIDtlPnvxQgEVXP5+W/vAG1/sZl5L9eWnUEI8/iv1ErGDx+JeG/Uqm/XA3V3r+dgSXJ9z/bvxipqEhaj9e/UekvN+/G07+WBxz6EdXPv3h6A2Uc/Me/5FuhXesKwL99k+AbChOwvwAAAAAAAAAAcJPgGwoTsD/dW6Fd6wrAP3h6A2Uc/Mc/kAcc+hHVzz9O6S8378bTPxipqEhaj9c/nYElyfc/2z9Sqb9cDdXeP08rGDx+JeE/XVp1BCPP4j+7AbX+xmXkPxMgEVXP5+U/FrjSA7ZT5z/qa1tjC6joP6j0l5t34+k/hS5k/7sE6z9ZwIFOtArsP4wV3NxX9Ow/5FrvnbrA7T//VEQTDm/uP+AeEB2i/u4//gklrOVu7z8C2YBUZ7/vP/5D5L/V7+8/AAAAAAAA8D/+Q+S/1e/vPwLZgFRnv+8//wklrOVu7z/hHhAdov7uPwBVRBMOb+4/5VrvnbrA7T+LFdzcV/TsP1jAgU60Cuw/hS5k/7sE6z+o9Jebd+PpP+prW2MLqOg/FbjSA7ZT5z8VIBFVz+flP70Btf7GZeQ/X1p1BCPP4j9UKxg8fiXhP1epv1wN1d4/oIElyfc/2z8cqahIWo/XP1HpLzfvxtM/lwcc+hHVzz93egNlHPzHP9pboV3rCsA/aJPgGwoTsD8HXBQzJqahPHeT4BsKE7C/4VuhXesKwL9+egNlHPzHv54HHPoR1c+/VekvN+/G078fqahIWo/Xv5yBJcn3P9u/U6m/XA3V3r9SKxg8fiXhv2BadQQjz+K/vgG1/sZl5L8WIBFVz+flvxm40gO2U+e/5mtbYwuo6L+i9Jebd+Ppv4MuZP+7BOu/VcCBTrQK7L+KFdzcV/Tsv+Ja7526wO2//1REEw5v7r/fHhAdov7uv/8JJazlbu+/AtmAVGe/77/+Q+S/1e/vvwAAAAAAAPC//kPkv9Xv778D2YBUZ7/vv/8JJazlbu+/4B4QHaL+7r8AVUQTDm/uvw==",
                                        "dtype": "f8"
                                    }
                                },
                                {
                                    "mode": "lines",
                                    "type": "scatter3d",
                                    "x": {
                                        "bdata": "AAAAAAAAAAB7FK5H4XqUP3sUrkfheqQ/uB6F61G4rj97FK5H4Xq0P5qZmZmZmbk/uB6F61G4vj/sUbgehevBP3sUrkfhesQ/CtejcD0Kxz+amZmZmZnJPylcj8L1KMw/uB6F61G4zj+kcD0K16PQP+xRuB6F69E/MzMzMzMz0z97FK5H4XrUP8P1KFyPwtU/CtejcD0K1z9SuB6F61HYP5qZmZmZmdk/4XoUrkfh2j8pXI/C9SjcP3E9CtejcN0/uB6F61G43j8AAAAAAADgP6RwPQrXo+A/SOF6FK5H4T/sUbgehevhP4/C9Shcj+I/MzMzMzMz4z/Xo3A9CtfjP3sUrkfheuQ/H4XrUbge5T/D9Shcj8LlP2dmZmZmZuY/CtejcD0K5z+uR+F6FK7nP1K4HoXrUeg/9ihcj8L16D+amZmZmZnpPz4K16NwPeo/4XoUrkfh6j+F61G4HoXrPylcj8L1KOw/zczMzMzM7D9xPQrXo3DtPxWuR+F6FO4/uB6F61G47j9cj8L1KFzvPwAAAAAAAPA/UrgehetR8D+kcD0K16PwP/YoXI/C9fA/SOF6FK5H8T+amZmZmZnxP+xRuB6F6/E/PgrXo3A98j+PwvUoXI/yP+F6FK5H4fI/MzMzMzMz8z+F61G4HoXzP9ejcD0K1/M/KVyPwvUo9D97FK5H4Xr0P83MzMzMzPQ/H4XrUbge9T9xPQrXo3D1P8P1KFyPwvU/Fa5H4XoU9j9nZmZmZmb2P7gehetRuPY/CtejcD0K9z9cj8L1KFz3P65H4XoUrvc/AAAAAAAA+D9SuB6F61H4P6RwPQrXo/g/9ihcj8L1+D9I4XoUrkf5P5qZmZmZmfk/7FG4HoXr+T8+CtejcD36P5DC9Shcj/o/4XoUrkfh+j8zMzMzMzP7P4XrUbgehfs/16NwPQrX+z8pXI/C9Sj8P3sUrkfhevw/zczMzMzM/D8fhetRuB79P3E9CtejcP0/w/UoXI/C/T8VrkfhehT+P2dmZmZmZv4/uB6F61G4/j8K16NwPQr/P1yPwvUoXP8/rkfhehSu/z8AAAAAAAAAQA==",
                                        "dtype": "f8"
                                    },
                                    "y": {
                                        "bdata": "PgrXo3A92j8+CtejcD3aPz4K16NwPdo/PgrXo3A92j8+CtejcD3aPz4K16NwPdo/PgrXo3A92j8+CtejcD3aPz4K16NwPdo/PgrXo3A92j8+CtejcD3aPz4K16NwPdo/PgrXo3A92j8+CtejcD3aPz4K16NwPdo/PgrXo3A92j8+CtejcD3aPz4K16NwPdo/PgrXo3A92j8+CtejcD3aPz4K16NwPdo/PgrXo3A92j8+CtejcD3aPz4K16NwPdo/PgrXo3A92j8+CtejcD3aPz4K16NwPdo/PgrXo3A92j8+CtejcD3aPz4K16NwPdo/PgrXo3A92j8+CtejcD3aPz4K16NwPdo/PgrXo3A92j8+CtejcD3aPz4K16NwPdo/PgrXo3A92j8+CtejcD3aPz4K16NwPdo/PgrXo3A92j8+CtejcD3aPz4K16NwPdo/PgrXo3A92j8+CtejcD3aPz4K16NwPdo/PgrXo3A92j8+CtejcD3aPz4K16NwPdo/PgrXo3A92j8+CtejcD3aPz4K16NwPdo/PgrXo3A92j8+CtejcD3aPz4K16NwPdo/PgrXo3A92j8+CtejcD3aPz4K16NwPdo/PgrXo3A92j8+CtejcD3aPz4K16NwPdo/PgrXo3A92j8+CtejcD3aPz4K16NwPdo/PgrXo3A92j8+CtejcD3aPz4K16NwPdo/PgrXo3A92j8+CtejcD3aPz4K16NwPdo/PgrXo3A92j8+CtejcD3aPz4K16NwPdo/PgrXo3A92j8+CtejcD3aPz4K16NwPdo/PgrXo3A92j8+CtejcD3aPz4K16NwPdo/PgrXo3A92j8+CtejcD3aPz4K16NwPdo/PgrXo3A92j8+CtejcD3aPz4K16NwPdo/PgrXo3A92j8+CtejcD3aPz4K16NwPdo/PgrXo3A92j8+CtejcD3aPz4K16NwPdo/PgrXo3A92j8+CtejcD3aPz4K16NwPdo/PgrXo3A92j8+CtejcD3aPz4K16NwPdo/PgrXo3A92j8+CtejcD3aPz4K16NwPdo/PgrXo3A92j8+CtejcD3aPw==",
                                        "dtype": "f8"
                                    },
                                    "z": {
                                        "bdata": "cjXR0rm67r/X/4L8sRvuv+0X4vI+Xu2/bCw9HSCD7L88ygjdMovrvwlRNa5xd+q/8pEdKvNI6b/cxQ3u6ADov807f2aeoOa/7bJAgHcp5b8LrN1A75zjv+oAsEeW/OG/5KIeORFK4L8B3kQrLg7dv8LpfPzeatm/35ZX0OGt1b8PDhSD/drRv2of0iMe7Mu/elOoZwsGxL/1F/x/exe4v2RY9y0SFaC/S1j3LRIVoD/pF/x/exe4P3RTqGcLBsQ/ZB/SIx7syz8MDhSD/drRP9uWV9DhrdU/wul8/N5q2T8B3kQrLg7dP+KiHjkRSuA/6QCwR5b84T8KrN1A75zjP+yyQIB3KeU/zTt/Zp6g5j/cxQ3u6ADoP/KRHSrzSOk/CFE1rnF36j87ygjdMovrP2wsPR0gg+w/7Rfi8j5e7T/X/4L8sRvuP3I10dK5uu4/96QEyrU67z9b5C+UJJvvP1yT48Ok2+8/hhCdLvX77z+GEJ0u9fvvP1yT48Ok2+8/XOQvlCSb7z/4pATKtTrvP3I10dK5uu4/1/+C/LEb7j/uF+LyPl7tP20sPR0gg+w/PMoI3TKL6z8IUTWucXfqP/GRHSrzSOk/2sUN7ugA6D/QO39mnqDmP/CyQIB3KeU/DqzdQO+c4z/sALBHlvzhP+WiHjkRSuA/At5EKy4O3T/C6Xz83mrZP9uWV9DhrdU/Cw4Ug/3a0T9hH9IjHuzLP3lTqGcLBsQ/8hf8f3sXuD9YWPctEhWgP/VX9y0SFaC/wBf8f3sXuL9hU6hnCwbEv1gf0iMe7Mu/Bw4Ug/3a0b/XllfQ4a3Vv7fpfPzeatm/991EKy4O3b/goh45EUrgv+cAsEeW/OG/CazdQO+c47/rskCAdynlv8w7f2aeoOa/28UN7ugA6L/ykR0q80jpvwdRNa5xd+q/PcoI3TKL679sLD0dIIPsv+4X4vI+Xu2/1/+C/LEb7r9zNdHSubruv/ikBMq1Ou+/XeQvlCSb779ck+PDpNvvv4YQnS71+++/hhCdLvX7779dk+PDpNvvv13kL5Qkm++/+aQEyrU67790NdHSubruvw==",
                                        "dtype": "f8"
                                    }
                                },
                                {
                                    "mode": "lines",
                                    "type": "scatter3d",
                                    "x": {
                                        "bdata": "AAAAAAAAAAB7FK5H4XqUP3sUrkfheqQ/uB6F61G4rj97FK5H4Xq0P5qZmZmZmbk/uB6F61G4vj/sUbgehevBP3sUrkfhesQ/CtejcD0Kxz+amZmZmZnJPylcj8L1KMw/uB6F61G4zj+kcD0K16PQP+xRuB6F69E/MzMzMzMz0z97FK5H4XrUP8P1KFyPwtU/CtejcD0K1z9SuB6F61HYP5qZmZmZmdk/4XoUrkfh2j8pXI/C9SjcP3E9CtejcN0/uB6F61G43j8AAAAAAADgP6RwPQrXo+A/SOF6FK5H4T/sUbgehevhP4/C9Shcj+I/MzMzMzMz4z/Xo3A9CtfjP3sUrkfheuQ/H4XrUbge5T/D9Shcj8LlP2dmZmZmZuY/CtejcD0K5z+uR+F6FK7nP1K4HoXrUeg/9ihcj8L16D+amZmZmZnpPz4K16NwPeo/4XoUrkfh6j+F61G4HoXrPylcj8L1KOw/zczMzMzM7D9xPQrXo3DtPxWuR+F6FO4/uB6F61G47j9cj8L1KFzvPwAAAAAAAPA/UrgehetR8D+kcD0K16PwP/YoXI/C9fA/SOF6FK5H8T+amZmZmZnxP+xRuB6F6/E/PgrXo3A98j+PwvUoXI/yP+F6FK5H4fI/MzMzMzMz8z+F61G4HoXzP9ejcD0K1/M/KVyPwvUo9D97FK5H4Xr0P83MzMzMzPQ/H4XrUbge9T9xPQrXo3D1P8P1KFyPwvU/Fa5H4XoU9j9nZmZmZmb2P7gehetRuPY/CtejcD0K9z9cj8L1KFz3P65H4XoUrvc/AAAAAAAA+D9SuB6F61H4P6RwPQrXo/g/9ihcj8L1+D9I4XoUrkf5P5qZmZmZmfk/7FG4HoXr+T8+CtejcD36P5DC9Shcj/o/4XoUrkfh+j8zMzMzMzP7P4XrUbgehfs/16NwPQrX+z8pXI/C9Sj8P3sUrkfhevw/zczMzMzM/D8fhetRuB79P3E9CtejcP0/w/UoXI/C/T8VrkfhehT+P2dmZmZmZv4/uB6F61G4/j8K16NwPQr/P1yPwvUoXP8/rkfhehSu/z8AAAAAAAAAQA==",
                                        "dtype": "f8"
                                    },
                                    "y": {
                                        "bdata": "4XoUrkfh2j/hehSuR+HaP+F6FK5H4do/4XoUrkfh2j/hehSuR+HaP+F6FK5H4do/4XoUrkfh2j/hehSuR+HaP+F6FK5H4do/4XoUrkfh2j/hehSuR+HaP+F6FK5H4do/4XoUrkfh2j/hehSuR+HaP+F6FK5H4do/4XoUrkfh2j/hehSuR+HaP+F6FK5H4do/4XoUrkfh2j/hehSuR+HaP+F6FK5H4do/4XoUrkfh2j/hehSuR+HaP+F6FK5H4do/4XoUrkfh2j/hehSuR+HaP+F6FK5H4do/4XoUrkfh2j/hehSuR+HaP+F6FK5H4do/4XoUrkfh2j/hehSuR+HaP+F6FK5H4do/4XoUrkfh2j/hehSuR+HaP+F6FK5H4do/4XoUrkfh2j/hehSuR+HaP+F6FK5H4do/4XoUrkfh2j/hehSuR+HaP+F6FK5H4do/4XoUrkfh2j/hehSuR+HaP+F6FK5H4do/4XoUrkfh2j/hehSuR+HaP+F6FK5H4do/4XoUrkfh2j/hehSuR+HaP+F6FK5H4do/4XoUrkfh2j/hehSuR+HaP+F6FK5H4do/4XoUrkfh2j/hehSuR+HaP+F6FK5H4do/4XoUrkfh2j/hehSuR+HaP+F6FK5H4do/4XoUrkfh2j/hehSuR+HaP+F6FK5H4do/4XoUrkfh2j/hehSuR+HaP+F6FK5H4do/4XoUrkfh2j/hehSuR+HaP+F6FK5H4do/4XoUrkfh2j/hehSuR+HaP+F6FK5H4do/4XoUrkfh2j/hehSuR+HaP+F6FK5H4do/4XoUrkfh2j/hehSuR+HaP+F6FK5H4do/4XoUrkfh2j/hehSuR+HaP+F6FK5H4do/4XoUrkfh2j/hehSuR+HaP+F6FK5H4do/4XoUrkfh2j/hehSuR+HaP+F6FK5H4do/4XoUrkfh2j/hehSuR+HaP+F6FK5H4do/4XoUrkfh2j/hehSuR+HaP+F6FK5H4do/4XoUrkfh2j/hehSuR+HaP+F6FK5H4do/4XoUrkfh2j/hehSuR+HaP+F6FK5H4do/4XoUrkfh2j/hehSuR+HaPw==",
                                        "dtype": "f8"
                                    },
                                    "z": {
                                        "bdata": "4B4QHaL+7r//VEQTDm/uv+Ra7526wO2/jBXc3Ff07L9ZwIFOtArsv4UuZP+7BOu/qPSXm3fj6b/pa1tjC6jovxa40gO2U+e/EyARVc/n5b+7AbX+xmXkv15adQQjz+K/USsYPH4l4b9Qqb9cDdXev5mBJcn3P9u/GKmoSFqP179O6S8378bTv5AHHPoR1c+/eHoDZRz8x7/dW6Fd6wrAv3CT4BsKE7C/AAAAAAAAAAB9k+AbChOwP+RboV3rCsA/eHoDZRz8xz+WBxz6EdXPP1HpLzfvxtM/G6moSFqP1z+fgSXJ9z/bP1Cpv1wN1d4/USsYPH4l4T9eWnUEI8/iP7wBtf7GZeQ/FCARVc/n5T8WuNIDtlPnP+trW2MLqOg/qPSXm3fj6T+GLmT/uwTrP1rAgU60Cuw/jBXc3Ff07D/lWu+dusDtPwBVRBMOb+4/4B4QHaL+7j/+CSWs5W7vPwPZgFRnv+8//kPkv9Xv7z8AAAAAAADwP/5D5L/V7+8/AtmAVGe/7z/+CSWs5W7vP+AeEB2i/u4//1REEw5v7j/kWu+dusDtP4sV3NxX9Ow/WMCBTrQK7D+FLmT/uwTrP6b0l5t34+k/52tbYwuo6D8VuNIDtlPnPxUgEVXP5+U/vQG1/sZl5D9fWnUEI8/iP1ErGDx+JeE/UKm/XA3V3j+ZgSXJ9z/bPxWpqEhaj9c/SukvN+/G0z+HBxz6EdXPP2d6A2Uc/Mc/yluhXesKwD9Ik+AbChOwPwdcFDMmpqE8d5PgGwoTsL/hW6Fd6wrAv356A2Uc/Me/ngcc+hHVz79V6S8378bTvx+pqEhaj9e/nIElyfc/279Tqb9cDdXev1IrGDx+JeG/YFp1BCPP4r++AbX+xmXkvxYgEVXP5+W/FLjSA7ZT57/ra1tjC6jov6f0l5t34+m/iC5k/7sE679ZwIFOtArsv44V3NxX9Oy/5VrvnbrA7b//VEQTDm/uv+EeEB2i/u6//wklrOVu778D2YBUZ7/vv/5D5L/V7++/AAAAAAAA8L/+Q+S/1e/vvwPZgFRnv++//wklrOVu77/gHhAdov7uvw==",
                                        "dtype": "f8"
                                    }
                                },
                                {
                                    "mode": "lines",
                                    "type": "scatter3d",
                                    "x": {
                                        "bdata": "AAAAAAAAAAB7FK5H4XqUP3sUrkfheqQ/uB6F61G4rj97FK5H4Xq0P5qZmZmZmbk/uB6F61G4vj/sUbgehevBP3sUrkfhesQ/CtejcD0Kxz+amZmZmZnJPylcj8L1KMw/uB6F61G4zj+kcD0K16PQP+xRuB6F69E/MzMzMzMz0z97FK5H4XrUP8P1KFyPwtU/CtejcD0K1z9SuB6F61HYP5qZmZmZmdk/4XoUrkfh2j8pXI/C9SjcP3E9CtejcN0/uB6F61G43j8AAAAAAADgP6RwPQrXo+A/SOF6FK5H4T/sUbgehevhP4/C9Shcj+I/MzMzMzMz4z/Xo3A9CtfjP3sUrkfheuQ/H4XrUbge5T/D9Shcj8LlP2dmZmZmZuY/CtejcD0K5z+uR+F6FK7nP1K4HoXrUeg/9ihcj8L16D+amZmZmZnpPz4K16NwPeo/4XoUrkfh6j+F61G4HoXrPylcj8L1KOw/zczMzMzM7D9xPQrXo3DtPxWuR+F6FO4/uB6F61G47j9cj8L1KFzvPwAAAAAAAPA/UrgehetR8D+kcD0K16PwP/YoXI/C9fA/SOF6FK5H8T+amZmZmZnxP+xRuB6F6/E/PgrXo3A98j+PwvUoXI/yP+F6FK5H4fI/MzMzMzMz8z+F61G4HoXzP9ejcD0K1/M/KVyPwvUo9D97FK5H4Xr0P83MzMzMzPQ/H4XrUbge9T9xPQrXo3D1P8P1KFyPwvU/Fa5H4XoU9j9nZmZmZmb2P7gehetRuPY/CtejcD0K9z9cj8L1KFz3P65H4XoUrvc/AAAAAAAA+D9SuB6F61H4P6RwPQrXo/g/9ihcj8L1+D9I4XoUrkf5P5qZmZmZmfk/7FG4HoXr+T8+CtejcD36P5DC9Shcj/o/4XoUrkfh+j8zMzMzMzP7P4XrUbgehfs/16NwPQrX+z8pXI/C9Sj8P3sUrkfhevw/zczMzMzM/D8fhetRuB79P3E9CtejcP0/w/UoXI/C/T8VrkfhehT+P2dmZmZmZv4/uB6F61G4/j8K16NwPQr/P1yPwvUoXP8/rkfhehSu/z8AAAAAAAAAQA==",
                                        "dtype": "f8"
                                    },
                                    "y": {
                                        "bdata": "hetRuB6F2z+F61G4HoXbP4XrUbgehds/hetRuB6F2z+F61G4HoXbP4XrUbgehds/hetRuB6F2z+F61G4HoXbP4XrUbgehds/hetRuB6F2z+F61G4HoXbP4XrUbgehds/hetRuB6F2z+F61G4HoXbP4XrUbgehds/hetRuB6F2z+F61G4HoXbP4XrUbgehds/hetRuB6F2z+F61G4HoXbP4XrUbgehds/hetRuB6F2z+F61G4HoXbP4XrUbgehds/hetRuB6F2z+F61G4HoXbP4XrUbgehds/hetRuB6F2z+F61G4HoXbP4XrUbgehds/hetRuB6F2z+F61G4HoXbP4XrUbgehds/hetRuB6F2z+F61G4HoXbP4XrUbgehds/hetRuB6F2z+F61G4HoXbP4XrUbgehds/hetRuB6F2z+F61G4HoXbP4XrUbgehds/hetRuB6F2z+F61G4HoXbP4XrUbgehds/hetRuB6F2z+F61G4HoXbP4XrUbgehds/hetRuB6F2z+F61G4HoXbP4XrUbgehds/hetRuB6F2z+F61G4HoXbP4XrUbgehds/hetRuB6F2z+F61G4HoXbP4XrUbgehds/hetRuB6F2z+F61G4HoXbP4XrUbgehds/hetRuB6F2z+F61G4HoXbP4XrUbgehds/hetRuB6F2z+F61G4HoXbP4XrUbgehds/hetRuB6F2z+F61G4HoXbP4XrUbgehds/hetRuB6F2z+F61G4HoXbP4XrUbgehds/hetRuB6F2z+F61G4HoXbP4XrUbgehds/hetRuB6F2z+F61G4HoXbP4XrUbgehds/hetRuB6F2z+F61G4HoXbP4XrUbgehds/hetRuB6F2z+F61G4HoXbP4XrUbgehds/hetRuB6F2z+F61G4HoXbP4XrUbgehds/hetRuB6F2z+F61G4HoXbP4XrUbgehds/hetRuB6F2z+F61G4HoXbP4XrUbgehds/hetRuB6F2z+F61G4HoXbP4XrUbgehds/hetRuB6F2z+F61G4HoXbP4XrUbgehds/hetRuB6F2z+F61G4HoXbPw==",
                                        "dtype": "f8"
                                    },
                                    "z": {
                                        "bdata": "96QEyrU6779xNdHSubruv9f/gvyxG+6/7Rfi8j5e7b9sLD0dIIPsvzvKCN0yi+u/CVE1rnF36r/xkR0q80jpv9zFDe7oAOi/zTt/Zp6g5r/sskCAdynlvwqs3UDvnOO/6gCwR5b84b/joh45EUrgv//dRCsuDt2/wul8/N5q2b/bllfQ4a3VvwwOFIP92tG/ah/SIx7sy790U6hnCwbEv+kX/H97F7i/ZFj3LRIVoL9kWPctEhWgP/UX/H97F7g/dFOoZwsGxD9qH9IjHuzLPw8OFIP92tE/35ZX0OGt1T/F6Xz83mrZP//dRCsuDt0/46IeORFK4D/qALBHlvzhPwus3UDvnOM/7bJAgHcp5T/OO39mnqDmP93FDe7oAOg/8ZEdKvNI6T8JUTWucXfqPzzKCN0yi+s/bCw9HSCD7D/tF+LyPl7tP9j/gvyxG+4/cTXR0rm67j/3pATKtTrvP1zkL5Qkm+8/XJPjw6Tb7z+GEJ0u9fvvP4YQnS71++8/XJPjw6Tb7z9b5C+UJJvvP/ikBMq1Ou8/cjXR0rm67j/X/4L8sRvuP+wX4vI+Xu0/ayw9HSCD7D86ygjdMovrPwZRNa5xd+o/7pEdKvNI6T/cxQ3u6ADoP807f2aeoOY/7LJAgHcp5T8KrN1A75zjP+kAsEeW/OE/4qIeORFK4D/73UQrLg7dP7vpfPzeatk/25ZX0OGt1T8LDhSD/drRP2Ef0iMe7Ms/aVOoZwsGxD/SF/x/exe4P1hY9y0SFaA/NVj3LRIVoL/gF/x/exe4v3BTqGcLBsS/aB/SIx7sy78ODhSD/drRv96WV9DhrdW/xel8/N5q2b8G3kQrLg7dv+eiHjkRSuC/7gCwR5b84b8PrN1A75zjv/GyQIB3KeW/zDt/Zp6g5r/bxQ3u6ADov/KRHSrzSOm/B1E1rnF36r89ygjdMovrv2wsPR0gg+y/7hfi8j5e7b/X/4L8sRvuv3M10dK5uu6/+KQEyrU6779d5C+UJJvvv1yT48Ok2++/hhCdLvX777+GEJ0u9fvvv1yT48Ok2++/XOQvlCSb77/3pATKtTrvvw==",
                                        "dtype": "f8"
                                    }
                                },
                                {
                                    "mode": "lines",
                                    "type": "scatter3d",
                                    "x": {
                                        "bdata": "AAAAAAAAAAB7FK5H4XqUP3sUrkfheqQ/uB6F61G4rj97FK5H4Xq0P5qZmZmZmbk/uB6F61G4vj/sUbgehevBP3sUrkfhesQ/CtejcD0Kxz+amZmZmZnJPylcj8L1KMw/uB6F61G4zj+kcD0K16PQP+xRuB6F69E/MzMzMzMz0z97FK5H4XrUP8P1KFyPwtU/CtejcD0K1z9SuB6F61HYP5qZmZmZmdk/4XoUrkfh2j8pXI/C9SjcP3E9CtejcN0/uB6F61G43j8AAAAAAADgP6RwPQrXo+A/SOF6FK5H4T/sUbgehevhP4/C9Shcj+I/MzMzMzMz4z/Xo3A9CtfjP3sUrkfheuQ/H4XrUbge5T/D9Shcj8LlP2dmZmZmZuY/CtejcD0K5z+uR+F6FK7nP1K4HoXrUeg/9ihcj8L16D+amZmZmZnpPz4K16NwPeo/4XoUrkfh6j+F61G4HoXrPylcj8L1KOw/zczMzMzM7D9xPQrXo3DtPxWuR+F6FO4/uB6F61G47j9cj8L1KFzvPwAAAAAAAPA/UrgehetR8D+kcD0K16PwP/YoXI/C9fA/SOF6FK5H8T+amZmZmZnxP+xRuB6F6/E/PgrXo3A98j+PwvUoXI/yP+F6FK5H4fI/MzMzMzMz8z+F61G4HoXzP9ejcD0K1/M/KVyPwvUo9D97FK5H4Xr0P83MzMzMzPQ/H4XrUbge9T9xPQrXo3D1P8P1KFyPwvU/Fa5H4XoU9j9nZmZmZmb2P7gehetRuPY/CtejcD0K9z9cj8L1KFz3P65H4XoUrvc/AAAAAAAA+D9SuB6F61H4P6RwPQrXo/g/9ihcj8L1+D9I4XoUrkf5P5qZmZmZmfk/7FG4HoXr+T8+CtejcD36P5DC9Shcj/o/4XoUrkfh+j8zMzMzMzP7P4XrUbgehfs/16NwPQrX+z8pXI/C9Sj8P3sUrkfhevw/zczMzMzM/D8fhetRuB79P3E9CtejcP0/w/UoXI/C/T8VrkfhehT+P2dmZmZmZv4/uB6F61G4/j8K16NwPQr/P1yPwvUoXP8/rkfhehSu/z8AAAAAAAAAQA==",
                                        "dtype": "f8"
                                    },
                                    "y": {
                                        "bdata": "KVyPwvUo3D8pXI/C9SjcPylcj8L1KNw/KVyPwvUo3D8pXI/C9SjcPylcj8L1KNw/KVyPwvUo3D8pXI/C9SjcPylcj8L1KNw/KVyPwvUo3D8pXI/C9SjcPylcj8L1KNw/KVyPwvUo3D8pXI/C9SjcPylcj8L1KNw/KVyPwvUo3D8pXI/C9SjcPylcj8L1KNw/KVyPwvUo3D8pXI/C9SjcPylcj8L1KNw/KVyPwvUo3D8pXI/C9SjcPylcj8L1KNw/KVyPwvUo3D8pXI/C9SjcPylcj8L1KNw/KVyPwvUo3D8pXI/C9SjcPylcj8L1KNw/KVyPwvUo3D8pXI/C9SjcPylcj8L1KNw/KVyPwvUo3D8pXI/C9SjcPylcj8L1KNw/KVyPwvUo3D8pXI/C9SjcPylcj8L1KNw/KVyPwvUo3D8pXI/C9SjcPylcj8L1KNw/KVyPwvUo3D8pXI/C9SjcPylcj8L1KNw/KVyPwvUo3D8pXI/C9SjcPylcj8L1KNw/KVyPwvUo3D8pXI/C9SjcPylcj8L1KNw/KVyPwvUo3D8pXI/C9SjcPylcj8L1KNw/KVyPwvUo3D8pXI/C9SjcPylcj8L1KNw/KVyPwvUo3D8pXI/C9SjcPylcj8L1KNw/KVyPwvUo3D8pXI/C9SjcPylcj8L1KNw/KVyPwvUo3D8pXI/C9SjcPylcj8L1KNw/KVyPwvUo3D8pXI/C9SjcPylcj8L1KNw/KVyPwvUo3D8pXI/C9SjcPylcj8L1KNw/KVyPwvUo3D8pXI/C9SjcPylcj8L1KNw/KVyPwvUo3D8pXI/C9SjcPylcj8L1KNw/KVyPwvUo3D8pXI/C9SjcPylcj8L1KNw/KVyPwvUo3D8pXI/C9SjcPylcj8L1KNw/KVyPwvUo3D8pXI/C9SjcPylcj8L1KNw/KVyPwvUo3D8pXI/C9SjcPylcj8L1KNw/KVyPwvUo3D8pXI/C9SjcPylcj8L1KNw/KVyPwvUo3D8pXI/C9SjcPylcj8L1KNw/KVyPwvUo3D8pXI/C9SjcPylcj8L1KNw/KVyPwvUo3D8pXI/C9SjcPw==",
                                        "dtype": "f8"
                                    },
                                    "z": {
                                        "bdata": "/gklrOVu77/gHhAdov7uv/9URBMOb+6/5FrvnbrA7b+MFdzcV/Tsv1nAgU60Cuy/hi5k/7sE67+o9Jebd+Ppv+prW2MLqOi/FrjSA7ZT578TIBFVz+flv7sBtf7GZeS/Xlp1BCPP4r9RKxg8fiXhv1Cpv1wN1d6/nYElyfc/278YqahIWo/Xv07pLzfvxtO/lgcc+hHVz794egNlHPzHv91boV3rCsC/fZPgGwoTsL8AAAAAAAAAAH2T4BsKE7A/3VuhXesKwD94egNlHPzHP5YHHPoR1c8/UekvN+/G0z8bqahIWo/XP5mBJcn3P9s/UKm/XA3V3j9RKxg8fiXhP15adQQjz+I/vAG1/sZl5D8UIBFVz+flPxa40gO2U+c/6WtbYwuo6D+o9Jebd+PpP4YuZP+7BOs/WsCBTrQK7D+MFdzcV/TsP+Va7526wO0//1REEw5v7j/gHhAdov7uP/4JJazlbu8/A9mAVGe/7z/+Q+S/1e/vPwAAAAAAAPA//kPkv9Xv7z8C2YBUZ7/vP/4JJazlbu8/4B4QHaL+7j//VEQTDm/uP+Ra7526wO0/ixXc3Ff07D9YwIFOtArsP4UuZP+7BOs/pvSXm3fj6T/qa1tjC6joPxW40gO2U+c/FSARVc/n5T+9AbX+xmXkP19adQQjz+I/USsYPH4l4T9Qqb9cDdXeP5mBJcn3P9s/FamoSFqP1z9K6S8378bTP4cHHPoR1c8/Z3oDZRz8xz/KW6Fd6wrAP4iT4BsKE7A/B1wUMyamoTx3k+AbChOwv+FboV3rCsC/fnoDZRz8x7+eBxz6EdXPv1XpLzfvxtO/H6moSFqP17+cgSXJ9z/bv1Opv1wN1d6/UisYPH4l4b9gWnUEI8/iv74Btf7GZeS/FCARVc/n5b8UuNIDtlPnv+trW2MLqOi/p/SXm3fj6b+ILmT/uwTrv1nAgU60Cuy/jhXc3Ff07L/lWu+dusDtv/9URBMOb+6/4R4QHaL+7r//CSWs5W7vvwPZgFRnv++//kPkv9Xv778AAAAAAADwv/5D5L/V7++/A9mAVGe/77//CSWs5W7vvw==",
                                        "dtype": "f8"
                                    }
                                },
                                {
                                    "mode": "lines",
                                    "type": "scatter3d",
                                    "x": {
                                        "bdata": "AAAAAAAAAAB7FK5H4XqUP3sUrkfheqQ/uB6F61G4rj97FK5H4Xq0P5qZmZmZmbk/uB6F61G4vj/sUbgehevBP3sUrkfhesQ/CtejcD0Kxz+amZmZmZnJPylcj8L1KMw/uB6F61G4zj+kcD0K16PQP+xRuB6F69E/MzMzMzMz0z97FK5H4XrUP8P1KFyPwtU/CtejcD0K1z9SuB6F61HYP5qZmZmZmdk/4XoUrkfh2j8pXI/C9SjcP3E9CtejcN0/uB6F61G43j8AAAAAAADgP6RwPQrXo+A/SOF6FK5H4T/sUbgehevhP4/C9Shcj+I/MzMzMzMz4z/Xo3A9CtfjP3sUrkfheuQ/H4XrUbge5T/D9Shcj8LlP2dmZmZmZuY/CtejcD0K5z+uR+F6FK7nP1K4HoXrUeg/9ihcj8L16D+amZmZmZnpPz4K16NwPeo/4XoUrkfh6j+F61G4HoXrPylcj8L1KOw/zczMzMzM7D9xPQrXo3DtPxWuR+F6FO4/uB6F61G47j9cj8L1KFzvPwAAAAAAAPA/UrgehetR8D+kcD0K16PwP/YoXI/C9fA/SOF6FK5H8T+amZmZmZnxP+xRuB6F6/E/PgrXo3A98j+PwvUoXI/yP+F6FK5H4fI/MzMzMzMz8z+F61G4HoXzP9ejcD0K1/M/KVyPwvUo9D97FK5H4Xr0P83MzMzMzPQ/H4XrUbge9T9xPQrXo3D1P8P1KFyPwvU/Fa5H4XoU9j9nZmZmZmb2P7gehetRuPY/CtejcD0K9z9cj8L1KFz3P65H4XoUrvc/AAAAAAAA+D9SuB6F61H4P6RwPQrXo/g/9ihcj8L1+D9I4XoUrkf5P5qZmZmZmfk/7FG4HoXr+T8+CtejcD36P5DC9Shcj/o/4XoUrkfh+j8zMzMzMzP7P4XrUbgehfs/16NwPQrX+z8pXI/C9Sj8P3sUrkfhevw/zczMzMzM/D8fhetRuB79P3E9CtejcP0/w/UoXI/C/T8VrkfhehT+P2dmZmZmZv4/uB6F61G4/j8K16NwPQr/P1yPwvUoXP8/rkfhehSu/z8AAAAAAAAAQA==",
                                        "dtype": "f8"
                                    },
                                    "y": {
                                        "bdata": "zczMzMzM3D/NzMzMzMzcP83MzMzMzNw/zczMzMzM3D/NzMzMzMzcP83MzMzMzNw/zczMzMzM3D/NzMzMzMzcP83MzMzMzNw/zczMzMzM3D/NzMzMzMzcP83MzMzMzNw/zczMzMzM3D/NzMzMzMzcP83MzMzMzNw/zczMzMzM3D/NzMzMzMzcP83MzMzMzNw/zczMzMzM3D/NzMzMzMzcP83MzMzMzNw/zczMzMzM3D/NzMzMzMzcP83MzMzMzNw/zczMzMzM3D/NzMzMzMzcP83MzMzMzNw/zczMzMzM3D/NzMzMzMzcP83MzMzMzNw/zczMzMzM3D/NzMzMzMzcP83MzMzMzNw/zczMzMzM3D/NzMzMzMzcP83MzMzMzNw/zczMzMzM3D/NzMzMzMzcP83MzMzMzNw/zczMzMzM3D/NzMzMzMzcP83MzMzMzNw/zczMzMzM3D/NzMzMzMzcP83MzMzMzNw/zczMzMzM3D/NzMzMzMzcP83MzMzMzNw/zczMzMzM3D/NzMzMzMzcP83MzMzMzNw/zczMzMzM3D/NzMzMzMzcP83MzMzMzNw/zczMzMzM3D/NzMzMzMzcP83MzMzMzNw/zczMzMzM3D/NzMzMzMzcP83MzMzMzNw/zczMzMzM3D/NzMzMzMzcP83MzMzMzNw/zczMzMzM3D/NzMzMzMzcP83MzMzMzNw/zczMzMzM3D/NzMzMzMzcP83MzMzMzNw/zczMzMzM3D/NzMzMzMzcP83MzMzMzNw/zczMzMzM3D/NzMzMzMzcP83MzMzMzNw/zczMzMzM3D/NzMzMzMzcP83MzMzMzNw/zczMzMzM3D/NzMzMzMzcP83MzMzMzNw/zczMzMzM3D/NzMzMzMzcP83MzMzMzNw/zczMzMzM3D/NzMzMzMzcP83MzMzMzNw/zczMzMzM3D/NzMzMzMzcP83MzMzMzNw/zczMzMzM3D/NzMzMzMzcP83MzMzMzNw/zczMzMzM3D/NzMzMzMzcP83MzMzMzNw/zczMzMzM3D/NzMzMzMzcP83MzMzMzNw/zczMzMzM3D/NzMzMzMzcPw==",
                                        "dtype": "f8"
                                    },
                                    "z": {
                                        "bdata": "XOQvlCSb77/3pATKtTrvv3I10dK5uu6/1/+C/LEb7r/tF+LyPl7tv2wsPR0gg+y/PMoI3TKL678JUTWucXfqv/KRHSrzSOm/3MUN7ugA6L/NO39mnqDmv+yyQIB3KeW/C6zdQO+c47/qALBHlvzhv+OiHjkRSuC/Ad5EKy4O3b/C6Xz83mrZv9uWV9DhrdW/Dw4Ug/3a0b9qH9IjHuzLv3RTqGcLBsS/9Rf8f3sXuL9kWPctEhWgv2RY9y0SFaA/6Rf8f3sXuD90U6hnCwbEP2of0iMe7Ms/Dw4Ug/3a0T/fllfQ4a3VP7/pfPzeatk//91EKy4O3T/joh45EUrgP+oAsEeW/OE/C6zdQO+c4z/tskCAdynlP847f2aeoOY/2sUN7ugA6D/xkR0q80jpPwlRNa5xd+o/PMoI3TKL6z9sLD0dIIPsP+0X4vI+Xu0/1/+C/LEb7j9xNdHSubruP/ekBMq1Ou8/XOQvlCSb7z9ck+PDpNvvP4YQnS71++8/hhCdLvX77z9ck+PDpNvvP1vkL5Qkm+8/+KQEyrU67z9yNdHSubruP9f/gvyxG+4/7Bfi8j5e7T9rLD0dIIPsPzrKCN0yi+s/BlE1rnF36j/zkR0q80jpP9zFDe7oAOg/zTt/Zp6g5j/sskCAdynlPwqs3UDvnOM/6QCwR5b84T/ioh45EUrgP/vdRCsuDt0/u+l8/N5q2T/bllfQ4a3VPwsOFIP92tE/YR/SIx7syz9pU6hnCwbEP/IX/H97F7g/WFj3LRIVoD81WPctEhWgv+AX/H97F7i/cFOoZwsGxL9oH9IjHuzLvw4OFIP92tG/3pZX0OGt1b/F6Xz83mrZvwbeRCsuDt2/56IeORFK4L/uALBHlvzhvw+s3UDvnOO/67JAgHcp5b/MO39mnqDmv9vFDe7oAOi/8pEdKvNI6b8HUTWucXfqvz3KCN0yi+u/bCw9HSCD7L/uF+LyPl7tv9f/gvyxG+6/czXR0rm67r/4pATKtTrvv13kL5Qkm++/XJPjw6Tb77+GEJ0u9fvvv4YQnS71+++/XJPjw6Tb779c5C+UJJvvvw==",
                                        "dtype": "f8"
                                    }
                                },
                                {
                                    "mode": "lines",
                                    "type": "scatter3d",
                                    "x": {
                                        "bdata": "AAAAAAAAAAB7FK5H4XqUP3sUrkfheqQ/uB6F61G4rj97FK5H4Xq0P5qZmZmZmbk/uB6F61G4vj/sUbgehevBP3sUrkfhesQ/CtejcD0Kxz+amZmZmZnJPylcj8L1KMw/uB6F61G4zj+kcD0K16PQP+xRuB6F69E/MzMzMzMz0z97FK5H4XrUP8P1KFyPwtU/CtejcD0K1z9SuB6F61HYP5qZmZmZmdk/4XoUrkfh2j8pXI/C9SjcP3E9CtejcN0/uB6F61G43j8AAAAAAADgP6RwPQrXo+A/SOF6FK5H4T/sUbgehevhP4/C9Shcj+I/MzMzMzMz4z/Xo3A9CtfjP3sUrkfheuQ/H4XrUbge5T/D9Shcj8LlP2dmZmZmZuY/CtejcD0K5z+uR+F6FK7nP1K4HoXrUeg/9ihcj8L16D+amZmZmZnpPz4K16NwPeo/4XoUrkfh6j+F61G4HoXrPylcj8L1KOw/zczMzMzM7D9xPQrXo3DtPxWuR+F6FO4/uB6F61G47j9cj8L1KFzvPwAAAAAAAPA/UrgehetR8D+kcD0K16PwP/YoXI/C9fA/SOF6FK5H8T+amZmZmZnxP+xRuB6F6/E/PgrXo3A98j+PwvUoXI/yP+F6FK5H4fI/MzMzMzMz8z+F61G4HoXzP9ejcD0K1/M/KVyPwvUo9D97FK5H4Xr0P83MzMzMzPQ/H4XrUbge9T9xPQrXo3D1P8P1KFyPwvU/Fa5H4XoU9j9nZmZmZmb2P7gehetRuPY/CtejcD0K9z9cj8L1KFz3P65H4XoUrvc/AAAAAAAA+D9SuB6F61H4P6RwPQrXo/g/9ihcj8L1+D9I4XoUrkf5P5qZmZmZmfk/7FG4HoXr+T8+CtejcD36P5DC9Shcj/o/4XoUrkfh+j8zMzMzMzP7P4XrUbgehfs/16NwPQrX+z8pXI/C9Sj8P3sUrkfhevw/zczMzMzM/D8fhetRuB79P3E9CtejcP0/w/UoXI/C/T8VrkfhehT+P2dmZmZmZv4/uB6F61G4/j8K16NwPQr/P1yPwvUoXP8/rkfhehSu/z8AAAAAAAAAQA==",
                                        "dtype": "f8"
                                    },
                                    "y": {
                                        "bdata": "cT0K16Nw3T9xPQrXo3DdP3E9CtejcN0/cT0K16Nw3T9xPQrXo3DdP3E9CtejcN0/cT0K16Nw3T9xPQrXo3DdP3E9CtejcN0/cT0K16Nw3T9xPQrXo3DdP3E9CtejcN0/cT0K16Nw3T9xPQrXo3DdP3E9CtejcN0/cT0K16Nw3T9xPQrXo3DdP3E9CtejcN0/cT0K16Nw3T9xPQrXo3DdP3E9CtejcN0/cT0K16Nw3T9xPQrXo3DdP3E9CtejcN0/cT0K16Nw3T9xPQrXo3DdP3E9CtejcN0/cT0K16Nw3T9xPQrXo3DdP3E9CtejcN0/cT0K16Nw3T9xPQrXo3DdP3E9CtejcN0/cT0K16Nw3T9xPQrXo3DdP3E9CtejcN0/cT0K16Nw3T9xPQrXo3DdP3E9CtejcN0/cT0K16Nw3T9xPQrXo3DdP3E9CtejcN0/cT0K16Nw3T9xPQrXo3DdP3E9CtejcN0/cT0K16Nw3T9xPQrXo3DdP3E9CtejcN0/cT0K16Nw3T9xPQrXo3DdP3E9CtejcN0/cT0K16Nw3T9xPQrXo3DdP3E9CtejcN0/cT0K16Nw3T9xPQrXo3DdP3E9CtejcN0/cT0K16Nw3T9xPQrXo3DdP3E9CtejcN0/cT0K16Nw3T9xPQrXo3DdP3E9CtejcN0/cT0K16Nw3T9xPQrXo3DdP3E9CtejcN0/cT0K16Nw3T9xPQrXo3DdP3E9CtejcN0/cT0K16Nw3T9xPQrXo3DdP3E9CtejcN0/cT0K16Nw3T9xPQrXo3DdP3E9CtejcN0/cT0K16Nw3T9xPQrXo3DdP3E9CtejcN0/cT0K16Nw3T9xPQrXo3DdP3E9CtejcN0/cT0K16Nw3T9xPQrXo3DdP3E9CtejcN0/cT0K16Nw3T9xPQrXo3DdP3E9CtejcN0/cT0K16Nw3T9xPQrXo3DdP3E9CtejcN0/cT0K16Nw3T9xPQrXo3DdP3E9CtejcN0/cT0K16Nw3T9xPQrXo3DdP3E9CtejcN0/cT0K16Nw3T9xPQrXo3DdP3E9CtejcN0/cT0K16Nw3T9xPQrXo3DdPw==",
                                        "dtype": "f8"
                                    },
                                    "z": {
                                        "bdata": "A9mAVGe/77/+CSWs5W7vv+AeEB2i/u6//1REEw5v7r/kWu+dusDtv4wV3NxX9Oy/WsCBTrQK7L+GLmT/uwTrv6j0l5t34+m/6mtbYwuo6L8WuNIDtlPnvxQgEVXP5+W/vAG1/sZl5L9eWnUEI8/iv1ErGDx+JeG/Uqm/XA3V3r+dgSXJ9z/bvxipqEhaj9e/UekvN+/G07+WBxz6EdXPv3h6A2Uc/Me/5FuhXesKwL99k+AbChOwvwAAAAAAAAAAcJPgGwoTsD/dW6Fd6wrAP3h6A2Uc/Mc/lgcc+hHVzz9R6S8378bTPxWpqEhaj9c/mYElyfc/2z9Qqb9cDdXeP1ErGDx+JeE/Xlp1BCPP4j+8AbX+xmXkPxQgEVXP5+U/FbjSA7ZT5z/pa1tjC6joP6j0l5t34+k/hi5k/7sE6z9awIFOtArsP4wV3NxX9Ow/5FrvnbrA7T//VEQTDm/uP+AeEB2i/u4//gklrOVu7z8D2YBUZ7/vP/5D5L/V7+8/AAAAAAAA8D/+Q+S/1e/vPwLZgFRnv+8//gklrOVu7z/gHhAdov7uP/9URBMOb+4/5FrvnbrA7T+LFdzcV/TsP1jAgU60Cuw/hS5k/7sE6z+o9Jebd+PpP+prW2MLqOg/FbjSA7ZT5z8VIBFVz+flP70Btf7GZeQ/X1p1BCPP4j9RKxg8fiXhP1Cpv1wN1d4/mYElyfc/2z8VqahIWo/XP0rpLzfvxtM/hwcc+hHVzz9negNlHPzHP+pboV3rCsA/iJPgGwoTsD8HXBQzJqahPHeT4BsKE7C/4VuhXesKwL9+egNlHPzHv54HHPoR1c+/VekvN+/G078fqahIWo/Xv5yBJcn3P9u/U6m/XA3V3r9SKxg8fiXhv2BadQQjz+K/uwG1/sZl5L8UIBFVz+flvxS40gO2U+e/62tbYwuo6L+n9Jebd+Ppv4guZP+7BOu/WcCBTrQK7L+OFdzcV/Tsv+Va7526wO2//1REEw5v7r/hHhAdov7uv/8JJazlbu+/AtmAVGe/77/+Q+S/1e/vvwAAAAAAAPC//kPkv9Xv778D2YBUZ7/vvw==",
                                        "dtype": "f8"
                                    }
                                },
                                {
                                    "mode": "lines",
                                    "type": "scatter3d",
                                    "x": {
                                        "bdata": "AAAAAAAAAAB7FK5H4XqUP3sUrkfheqQ/uB6F61G4rj97FK5H4Xq0P5qZmZmZmbk/uB6F61G4vj/sUbgehevBP3sUrkfhesQ/CtejcD0Kxz+amZmZmZnJPylcj8L1KMw/uB6F61G4zj+kcD0K16PQP+xRuB6F69E/MzMzMzMz0z97FK5H4XrUP8P1KFyPwtU/CtejcD0K1z9SuB6F61HYP5qZmZmZmdk/4XoUrkfh2j8pXI/C9SjcP3E9CtejcN0/uB6F61G43j8AAAAAAADgP6RwPQrXo+A/SOF6FK5H4T/sUbgehevhP4/C9Shcj+I/MzMzMzMz4z/Xo3A9CtfjP3sUrkfheuQ/H4XrUbge5T/D9Shcj8LlP2dmZmZmZuY/CtejcD0K5z+uR+F6FK7nP1K4HoXrUeg/9ihcj8L16D+amZmZmZnpPz4K16NwPeo/4XoUrkfh6j+F61G4HoXrPylcj8L1KOw/zczMzMzM7D9xPQrXo3DtPxWuR+F6FO4/uB6F61G47j9cj8L1KFzvPwAAAAAAAPA/UrgehetR8D+kcD0K16PwP/YoXI/C9fA/SOF6FK5H8T+amZmZmZnxP+xRuB6F6/E/PgrXo3A98j+PwvUoXI/yP+F6FK5H4fI/MzMzMzMz8z+F61G4HoXzP9ejcD0K1/M/KVyPwvUo9D97FK5H4Xr0P83MzMzMzPQ/H4XrUbge9T9xPQrXo3D1P8P1KFyPwvU/Fa5H4XoU9j9nZmZmZmb2P7gehetRuPY/CtejcD0K9z9cj8L1KFz3P65H4XoUrvc/AAAAAAAA+D9SuB6F61H4P6RwPQrXo/g/9ihcj8L1+D9I4XoUrkf5P5qZmZmZmfk/7FG4HoXr+T8+CtejcD36P5DC9Shcj/o/4XoUrkfh+j8zMzMzMzP7P4XrUbgehfs/16NwPQrX+z8pXI/C9Sj8P3sUrkfhevw/zczMzMzM/D8fhetRuB79P3E9CtejcP0/w/UoXI/C/T8VrkfhehT+P2dmZmZmZv4/uB6F61G4/j8K16NwPQr/P1yPwvUoXP8/rkfhehSu/z8AAAAAAAAAQA==",
                                        "dtype": "f8"
                                    },
                                    "y": {
                                        "bdata": "Fa5H4XoU3j8VrkfhehTePxWuR+F6FN4/Fa5H4XoU3j8VrkfhehTePxWuR+F6FN4/Fa5H4XoU3j8VrkfhehTePxWuR+F6FN4/Fa5H4XoU3j8VrkfhehTePxWuR+F6FN4/Fa5H4XoU3j8VrkfhehTePxWuR+F6FN4/Fa5H4XoU3j8VrkfhehTePxWuR+F6FN4/Fa5H4XoU3j8VrkfhehTePxWuR+F6FN4/Fa5H4XoU3j8VrkfhehTePxWuR+F6FN4/Fa5H4XoU3j8VrkfhehTePxWuR+F6FN4/Fa5H4XoU3j8VrkfhehTePxWuR+F6FN4/Fa5H4XoU3j8VrkfhehTePxWuR+F6FN4/Fa5H4XoU3j8VrkfhehTePxWuR+F6FN4/Fa5H4XoU3j8VrkfhehTePxWuR+F6FN4/Fa5H4XoU3j8VrkfhehTePxWuR+F6FN4/Fa5H4XoU3j8VrkfhehTePxWuR+F6FN4/Fa5H4XoU3j8VrkfhehTePxWuR+F6FN4/Fa5H4XoU3j8VrkfhehTePxWuR+F6FN4/Fa5H4XoU3j8VrkfhehTePxWuR+F6FN4/Fa5H4XoU3j8VrkfhehTePxWuR+F6FN4/Fa5H4XoU3j8VrkfhehTePxWuR+F6FN4/Fa5H4XoU3j8VrkfhehTePxWuR+F6FN4/Fa5H4XoU3j8VrkfhehTePxWuR+F6FN4/Fa5H4XoU3j8VrkfhehTePxWuR+F6FN4/Fa5H4XoU3j8VrkfhehTePxWuR+F6FN4/Fa5H4XoU3j8VrkfhehTePxWuR+F6FN4/Fa5H4XoU3j8VrkfhehTePxWuR+F6FN4/Fa5H4XoU3j8VrkfhehTePxWuR+F6FN4/Fa5H4XoU3j8VrkfhehTePxWuR+F6FN4/Fa5H4XoU3j8VrkfhehTePxWuR+F6FN4/Fa5H4XoU3j8VrkfhehTePxWuR+F6FN4/Fa5H4XoU3j8VrkfhehTePxWuR+F6FN4/Fa5H4XoU3j8VrkfhehTePxWuR+F6FN4/Fa5H4XoU3j8VrkfhehTePxWuR+F6FN4/Fa5H4XoU3j8VrkfhehTePw==",
                                        "dtype": "f8"
                                    },
                                    "z": {
                                        "bdata": "XJPjw6Tb779c5C+UJJvvv/ikBMq1Ou+/cjXR0rm67r/X/4L8sRvuv+0X4vI+Xu2/bCw9HSCD7L88ygjdMovrvwlRNa5xd+q/8pEdKvNI6b/cxQ3u6ADov807f2aeoOa/7bJAgHcp5b8LrN1A75zjv+oAsEeW/OG/5KIeORFK4L8B3kQrLg7dv8LpfPzeatm/35ZX0OGt1b8PDhSD/drRv2of0iMe7Mu/elOoZwsGxL/1F/x/exe4v2RY9y0SFaC/S1j3LRIVoD/pF/x/exe4P3RTqGcLBsQ/ah/SIx7syz8PDhSD/drRP9iWV9DhrdU/v+l8/N5q2T//3UQrLg7dP+OiHjkRSuA/6gCwR5b84T8LrN1A75zjP+2yQIB3KeU/yzt/Zp6g5j/axQ3u6ADoP/GRHSrzSOk/CVE1rnF36j88ygjdMovrP2wsPR0gg+w/7Bfi8j5e7T/X/4L8sRvuP3E10dK5uu4/96QEyrU67z9c5C+UJJvvP1yT48Ok2+8/hhCdLvX77z+GEJ0u9fvvP1yT48Ok2+8/W+QvlCSb7z/4pATKtTrvP3I10dK5uu4/1/+C/LEb7j/sF+LyPl7tP2ssPR0gg+w/OsoI3TKL6z8LUTWucXfqP/ORHSrzSOk/3MUN7ugA6D/NO39mnqDmP+yyQIB3KeU/CqzdQO+c4z/pALBHlvzhP+KiHjkRSuA/+91EKy4O3T+76Xz83mrZP9uWV9DhrdU/Cw4Ug/3a0T9hH9IjHuzLP3lTqGcLBsQ/8hf8f3sXuD9YWPctEhWgPzVY9y0SFaC/4Bf8f3sXuL9wU6hnCwbEv2gf0iMe7Mu/Dg4Ug/3a0b/ellfQ4a3Vv8XpfPzeatm/Bt5EKy4O3b/noh45EUrgv+4AsEeW/OG/CazdQO+c47/rskCAdynlv8w7f2aeoOa/28UN7ugA6L/ykR0q80jpvwdRNa5xd+q/PcoI3TKL679sLD0dIIPsv+4X4vI+Xu2/1/+C/LEb7r9zNdHSubruv/ikBMq1Ou+/W+QvlCSb779ck+PDpNvvv4YQnS71+++/hhCdLvX7779ck+PDpNvvvw==",
                                        "dtype": "f8"
                                    }
                                },
                                {
                                    "mode": "lines",
                                    "type": "scatter3d",
                                    "x": {
                                        "bdata": "AAAAAAAAAAB7FK5H4XqUP3sUrkfheqQ/uB6F61G4rj97FK5H4Xq0P5qZmZmZmbk/uB6F61G4vj/sUbgehevBP3sUrkfhesQ/CtejcD0Kxz+amZmZmZnJPylcj8L1KMw/uB6F61G4zj+kcD0K16PQP+xRuB6F69E/MzMzMzMz0z97FK5H4XrUP8P1KFyPwtU/CtejcD0K1z9SuB6F61HYP5qZmZmZmdk/4XoUrkfh2j8pXI/C9SjcP3E9CtejcN0/uB6F61G43j8AAAAAAADgP6RwPQrXo+A/SOF6FK5H4T/sUbgehevhP4/C9Shcj+I/MzMzMzMz4z/Xo3A9CtfjP3sUrkfheuQ/H4XrUbge5T/D9Shcj8LlP2dmZmZmZuY/CtejcD0K5z+uR+F6FK7nP1K4HoXrUeg/9ihcj8L16D+amZmZmZnpPz4K16NwPeo/4XoUrkfh6j+F61G4HoXrPylcj8L1KOw/zczMzMzM7D9xPQrXo3DtPxWuR+F6FO4/uB6F61G47j9cj8L1KFzvPwAAAAAAAPA/UrgehetR8D+kcD0K16PwP/YoXI/C9fA/SOF6FK5H8T+amZmZmZnxP+xRuB6F6/E/PgrXo3A98j+PwvUoXI/yP+F6FK5H4fI/MzMzMzMz8z+F61G4HoXzP9ejcD0K1/M/KVyPwvUo9D97FK5H4Xr0P83MzMzMzPQ/H4XrUbge9T9xPQrXo3D1P8P1KFyPwvU/Fa5H4XoU9j9nZmZmZmb2P7gehetRuPY/CtejcD0K9z9cj8L1KFz3P65H4XoUrvc/AAAAAAAA+D9SuB6F61H4P6RwPQrXo/g/9ihcj8L1+D9I4XoUrkf5P5qZmZmZmfk/7FG4HoXr+T8+CtejcD36P5DC9Shcj/o/4XoUrkfh+j8zMzMzMzP7P4XrUbgehfs/16NwPQrX+z8pXI/C9Sj8P3sUrkfhevw/zczMzMzM/D8fhetRuB79P3E9CtejcP0/w/UoXI/C/T8VrkfhehT+P2dmZmZmZv4/uB6F61G4/j8K16NwPQr/P1yPwvUoXP8/rkfhehSu/z8AAAAAAAAAQA==",
                                        "dtype": "f8"
                                    },
                                    "y": {
                                        "bdata": "uB6F61G43j+4HoXrUbjeP7gehetRuN4/uB6F61G43j+4HoXrUbjeP7gehetRuN4/uB6F61G43j+4HoXrUbjeP7gehetRuN4/uB6F61G43j+4HoXrUbjeP7gehetRuN4/uB6F61G43j+4HoXrUbjeP7gehetRuN4/uB6F61G43j+4HoXrUbjeP7gehetRuN4/uB6F61G43j+4HoXrUbjeP7gehetRuN4/uB6F61G43j+4HoXrUbjeP7gehetRuN4/uB6F61G43j+4HoXrUbjeP7gehetRuN4/uB6F61G43j+4HoXrUbjeP7gehetRuN4/uB6F61G43j+4HoXrUbjeP7gehetRuN4/uB6F61G43j+4HoXrUbjeP7gehetRuN4/uB6F61G43j+4HoXrUbjeP7gehetRuN4/uB6F61G43j+4HoXrUbjeP7gehetRuN4/uB6F61G43j+4HoXrUbjeP7gehetRuN4/uB6F61G43j+4HoXrUbjeP7gehetRuN4/uB6F61G43j+4HoXrUbjeP7gehetRuN4/uB6F61G43j+4HoXrUbjeP7gehetRuN4/uB6F61G43j+4HoXrUbjeP7gehetRuN4/uB6F61G43j+4HoXrUbjeP7gehetRuN4/uB6F61G43j+4HoXrUbjeP7gehetRuN4/uB6F61G43j+4HoXrUbjeP7gehetRuN4/uB6F61G43j+4HoXrUbjeP7gehetRuN4/uB6F61G43j+4HoXrUbjeP7gehetRuN4/uB6F61G43j+4HoXrUbjeP7gehetRuN4/uB6F61G43j+4HoXrUbjeP7gehetRuN4/uB6F61G43j+4HoXrUbjeP7gehetRuN4/uB6F61G43j+4HoXrUbjeP7gehetRuN4/uB6F61G43j+4HoXrUbjeP7gehetRuN4/uB6F61G43j+4HoXrUbjeP7gehetRuN4/uB6F61G43j+4HoXrUbjeP7gehetRuN4/uB6F61G43j+4HoXrUbjeP7gehetRuN4/uB6F61G43j+4HoXrUbjeP7gehetRuN4/uB6F61G43j+4HoXrUbjePw==",
                                        "dtype": "f8"
                                    },
                                    "z": {
                                        "bdata": "/kPkv9Xv778C2YBUZ7/vv/4JJazlbu+/4B4QHaL+7r//VEQTDm/uv+Ra7526wO2/jBXc3Ff07L9ZwIFOtArsv4UuZP+7BOu/qPSXm3fj6b/pa1tjC6jovxa40gO2U+e/EyARVc/n5b+7AbX+xmXkv11adQQjz+K/USsYPH4l4b9Qqb9cDdXev5mBJcn3P9u/GKmoSFqP179O6S8378bTv5AHHPoR1c+/eHoDZRz8x7/dW6Fd6wrAv3CT4BsKE7C/AAAAAAAAAAB9k+AbChOwP+RboV3rCsA/fnoDZRz8xz+eBxz6EdXPP07pLzfvxtM/GKmoSFqP1z+dgSXJ9z/bP1Kpv1wN1d4/USsYPH4l4T9fWnUEI8/iP74Btf7GZeQ/EyARVc/n5T8WuNIDtlPnP+prW2MLqOg/qPSXm3fj6T+GLmT/uwTrP1rAgU60Cuw/jBXc3Ff07D/kWu+dusDtP/9URBMOb+4/4B4QHaL+7j//CSWs5W7vPwPZgFRnv+8//kPkv9Xv7z8AAAAAAADwP/5D5L/V7+8/AtmAVGe/7z/+CSWs5W7vP+AeEB2i/u4//1REEw5v7j/kWu+dusDtP4sV3NxX9Ow/WMCBTrQK7D+HLmT/uwTrP6j0l5t34+k/6mtbYwuo6D8VuNIDtlPnPxUgEVXP5+U/vQG1/sZl5D9fWnUEI8/iP1ErGDx+JeE/UKm/XA3V3j+ZgSXJ9z/bPxWpqEhaj9c/SukvN+/G0z+HBxz6EdXPP4d6A2Uc/Mc/6luhXesKwD+Ik+AbChOwPwdcFDMmpqE8d5PgGwoTsL/hW6Fd6wrAv356A2Uc/Me/ngcc+hHVz79V6S8378bTvx+pqEhaj9e/nIElyfc/279Tqb9cDdXev1IrGDx+JeG/XVp1BCPP4r+7AbX+xmXkvxQgEVXP5+W/FLjSA7ZT57/ra1tjC6jov6f0l5t34+m/iC5k/7sE679ZwIFOtArsv44V3NxX9Oy/5VrvnbrA7b//VEQTDm/uv+EeEB2i/u6//wklrOVu778C2YBUZ7/vv/5D5L/V7++/AAAAAAAA8L/+Q+S/1e/vvw==",
                                        "dtype": "f8"
                                    }
                                },
                                {
                                    "mode": "lines",
                                    "type": "scatter3d",
                                    "x": {
                                        "bdata": "AAAAAAAAAAB7FK5H4XqUP3sUrkfheqQ/uB6F61G4rj97FK5H4Xq0P5qZmZmZmbk/uB6F61G4vj/sUbgehevBP3sUrkfhesQ/CtejcD0Kxz+amZmZmZnJPylcj8L1KMw/uB6F61G4zj+kcD0K16PQP+xRuB6F69E/MzMzMzMz0z97FK5H4XrUP8P1KFyPwtU/CtejcD0K1z9SuB6F61HYP5qZmZmZmdk/4XoUrkfh2j8pXI/C9SjcP3E9CtejcN0/uB6F61G43j8AAAAAAADgP6RwPQrXo+A/SOF6FK5H4T/sUbgehevhP4/C9Shcj+I/MzMzMzMz4z/Xo3A9CtfjP3sUrkfheuQ/H4XrUbge5T/D9Shcj8LlP2dmZmZmZuY/CtejcD0K5z+uR+F6FK7nP1K4HoXrUeg/9ihcj8L16D+amZmZmZnpPz4K16NwPeo/4XoUrkfh6j+F61G4HoXrPylcj8L1KOw/zczMzMzM7D9xPQrXo3DtPxWuR+F6FO4/uB6F61G47j9cj8L1KFzvPwAAAAAAAPA/UrgehetR8D+kcD0K16PwP/YoXI/C9fA/SOF6FK5H8T+amZmZmZnxP+xRuB6F6/E/PgrXo3A98j+PwvUoXI/yP+F6FK5H4fI/MzMzMzMz8z+F61G4HoXzP9ejcD0K1/M/KVyPwvUo9D97FK5H4Xr0P83MzMzMzPQ/H4XrUbge9T9xPQrXo3D1P8P1KFyPwvU/Fa5H4XoU9j9nZmZmZmb2P7gehetRuPY/CtejcD0K9z9cj8L1KFz3P65H4XoUrvc/AAAAAAAA+D9SuB6F61H4P6RwPQrXo/g/9ihcj8L1+D9I4XoUrkf5P5qZmZmZmfk/7FG4HoXr+T8+CtejcD36P5DC9Shcj/o/4XoUrkfh+j8zMzMzMzP7P4XrUbgehfs/16NwPQrX+z8pXI/C9Sj8P3sUrkfhevw/zczMzMzM/D8fhetRuB79P3E9CtejcP0/w/UoXI/C/T8VrkfhehT+P2dmZmZmZv4/uB6F61G4/j8K16NwPQr/P1yPwvUoXP8/rkfhehSu/z8AAAAAAAAAQA==",
                                        "dtype": "f8"
                                    },
                                    "y": {
                                        "bdata": "XI/C9Shc3z9cj8L1KFzfP1yPwvUoXN8/XI/C9Shc3z9cj8L1KFzfP1yPwvUoXN8/XI/C9Shc3z9cj8L1KFzfP1yPwvUoXN8/XI/C9Shc3z9cj8L1KFzfP1yPwvUoXN8/XI/C9Shc3z9cj8L1KFzfP1yPwvUoXN8/XI/C9Shc3z9cj8L1KFzfP1yPwvUoXN8/XI/C9Shc3z9cj8L1KFzfP1yPwvUoXN8/XI/C9Shc3z9cj8L1KFzfP1yPwvUoXN8/XI/C9Shc3z9cj8L1KFzfP1yPwvUoXN8/XI/C9Shc3z9cj8L1KFzfP1yPwvUoXN8/XI/C9Shc3z9cj8L1KFzfP1yPwvUoXN8/XI/C9Shc3z9cj8L1KFzfP1yPwvUoXN8/XI/C9Shc3z9cj8L1KFzfP1yPwvUoXN8/XI/C9Shc3z9cj8L1KFzfP1yPwvUoXN8/XI/C9Shc3z9cj8L1KFzfP1yPwvUoXN8/XI/C9Shc3z9cj8L1KFzfP1yPwvUoXN8/XI/C9Shc3z9cj8L1KFzfP1yPwvUoXN8/XI/C9Shc3z9cj8L1KFzfP1yPwvUoXN8/XI/C9Shc3z9cj8L1KFzfP1yPwvUoXN8/XI/C9Shc3z9cj8L1KFzfP1yPwvUoXN8/XI/C9Shc3z9cj8L1KFzfP1yPwvUoXN8/XI/C9Shc3z9cj8L1KFzfP1yPwvUoXN8/XI/C9Shc3z9cj8L1KFzfP1yPwvUoXN8/XI/C9Shc3z9cj8L1KFzfP1yPwvUoXN8/XI/C9Shc3z9cj8L1KFzfP1yPwvUoXN8/XI/C9Shc3z9cj8L1KFzfP1yPwvUoXN8/XI/C9Shc3z9cj8L1KFzfP1yPwvUoXN8/XI/C9Shc3z9cj8L1KFzfP1yPwvUoXN8/XI/C9Shc3z9cj8L1KFzfP1yPwvUoXN8/XI/C9Shc3z9cj8L1KFzfP1yPwvUoXN8/XI/C9Shc3z9cj8L1KFzfP1yPwvUoXN8/XI/C9Shc3z9cj8L1KFzfP1yPwvUoXN8/XI/C9Shc3z9cj8L1KFzfP1yPwvUoXN8/XI/C9Shc3z9cj8L1KFzfPw==",
                                        "dtype": "f8"
                                    },
                                    "z": {
                                        "bdata": "hhCdLvX7779ck+PDpNvvv1zkL5Qkm++/96QEyrU6779xNdHSubruv9f/gvyxG+6/7Rfi8j5e7b9sLD0dIIPsvzvKCN0yi+u/CVE1rnF36r/xkR0q80jpv9zFDe7oAOi/zTt/Zp6g5r/sskCAdynlvwqs3UDvnOO/6gCwR5b84b/joh45EUrgv//dRCsuDt2/wul8/N5q2b/bllfQ4a3VvwwOFIP92tG/ah/SIx7sy790U6hnCwbEv+kX/H97F7i/ZFj3LRIVoL9kWPctEhWgP/UX/H97F7g/elOoZwsGxD9wH9IjHuzLPwwOFIP92tE/25ZX0OGt1T/C6Xz83mrZPwHeRCsuDt0/5KIeORFK4D/rALBHlvzhPw2s3UDvnOM/7LJAgHcp5T/NO39mnqDmP9zFDe7oAOg/8pEdKvNI6T8JUTWucXfqPzzKCN0yi+s/bCw9HSCD7D/tF+LyPl7tP9f/gvyxG+4/cjXR0rm67j/4pATKtTrvP1zkL5Qkm+8/XJPjw6Tb7z+GEJ0u9fvvP4YQnS71++8/XJPjw6Tb7z9b5C+UJJvvP/ikBMq1Ou8/cjXR0rm67j/X/4L8sRvuP+wX4vI+Xu0/ayw9HSCD7D8+ygjdMovrPwtRNa5xd+o/85EdKvNI6T/cxQ3u6ADoP807f2aeoOY/7LJAgHcp5T8KrN1A75zjP+kAsEeW/OE/4qIeORFK4D/73UQrLg7dP7vpfPzeatk/25ZX0OGt1T8LDhSD/drRP3Ef0iMe7Ms/eVOoZwsGxD/yF/x/exe4P1hY9y0SFaA/NVj3LRIVoL/gF/x/exe4v3BTqGcLBsS/aB/SIx7sy78ODhSD/drRv96WV9DhrdW/xel8/N5q2b8G3kQrLg7dv+eiHjkRSuC/5wCwR5b84b8JrN1A75zjv+uyQIB3KeW/zDt/Zp6g5r/bxQ3u6ADov/KRHSrzSOm/B1E1rnF36r89ygjdMovrv2wsPR0gg+y/7hfi8j5e7b/X/4L8sRvuv3M10dK5uu6/9qQEyrU6779b5C+UJJvvv1yT48Ok2++/hhCdLvX777+GEJ0u9fvvvw==",
                                        "dtype": "f8"
                                    }
                                },
                                {
                                    "mode": "lines",
                                    "type": "scatter3d",
                                    "x": {
                                        "bdata": "AAAAAAAAAAB7FK5H4XqUP3sUrkfheqQ/uB6F61G4rj97FK5H4Xq0P5qZmZmZmbk/uB6F61G4vj/sUbgehevBP3sUrkfhesQ/CtejcD0Kxz+amZmZmZnJPylcj8L1KMw/uB6F61G4zj+kcD0K16PQP+xRuB6F69E/MzMzMzMz0z97FK5H4XrUP8P1KFyPwtU/CtejcD0K1z9SuB6F61HYP5qZmZmZmdk/4XoUrkfh2j8pXI/C9SjcP3E9CtejcN0/uB6F61G43j8AAAAAAADgP6RwPQrXo+A/SOF6FK5H4T/sUbgehevhP4/C9Shcj+I/MzMzMzMz4z/Xo3A9CtfjP3sUrkfheuQ/H4XrUbge5T/D9Shcj8LlP2dmZmZmZuY/CtejcD0K5z+uR+F6FK7nP1K4HoXrUeg/9ihcj8L16D+amZmZmZnpPz4K16NwPeo/4XoUrkfh6j+F61G4HoXrPylcj8L1KOw/zczMzMzM7D9xPQrXo3DtPxWuR+F6FO4/uB6F61G47j9cj8L1KFzvPwAAAAAAAPA/UrgehetR8D+kcD0K16PwP/YoXI/C9fA/SOF6FK5H8T+amZmZmZnxP+xRuB6F6/E/PgrXo3A98j+PwvUoXI/yP+F6FK5H4fI/MzMzMzMz8z+F61G4HoXzP9ejcD0K1/M/KVyPwvUo9D97FK5H4Xr0P83MzMzMzPQ/H4XrUbge9T9xPQrXo3D1P8P1KFyPwvU/Fa5H4XoU9j9nZmZmZmb2P7gehetRuPY/CtejcD0K9z9cj8L1KFz3P65H4XoUrvc/AAAAAAAA+D9SuB6F61H4P6RwPQrXo/g/9ihcj8L1+D9I4XoUrkf5P5qZmZmZmfk/7FG4HoXr+T8+CtejcD36P5DC9Shcj/o/4XoUrkfh+j8zMzMzMzP7P4XrUbgehfs/16NwPQrX+z8pXI/C9Sj8P3sUrkfhevw/zczMzMzM/D8fhetRuB79P3E9CtejcP0/w/UoXI/C/T8VrkfhehT+P2dmZmZmZv4/uB6F61G4/j8K16NwPQr/P1yPwvUoXP8/rkfhehSu/z8AAAAAAAAAQA==",
                                        "dtype": "f8"
                                    },
                                    "y": {
                                        "bdata": "AAAAAAAA4D8AAAAAAADgPwAAAAAAAOA/AAAAAAAA4D8AAAAAAADgPwAAAAAAAOA/AAAAAAAA4D8AAAAAAADgPwAAAAAAAOA/AAAAAAAA4D8AAAAAAADgPwAAAAAAAOA/AAAAAAAA4D8AAAAAAADgPwAAAAAAAOA/AAAAAAAA4D8AAAAAAADgPwAAAAAAAOA/AAAAAAAA4D8AAAAAAADgPwAAAAAAAOA/AAAAAAAA4D8AAAAAAADgPwAAAAAAAOA/AAAAAAAA4D8AAAAAAADgPwAAAAAAAOA/AAAAAAAA4D8AAAAAAADgPwAAAAAAAOA/AAAAAAAA4D8AAAAAAADgPwAAAAAAAOA/AAAAAAAA4D8AAAAAAADgPwAAAAAAAOA/AAAAAAAA4D8AAAAAAADgPwAAAAAAAOA/AAAAAAAA4D8AAAAAAADgPwAAAAAAAOA/AAAAAAAA4D8AAAAAAADgPwAAAAAAAOA/AAAAAAAA4D8AAAAAAADgPwAAAAAAAOA/AAAAAAAA4D8AAAAAAADgPwAAAAAAAOA/AAAAAAAA4D8AAAAAAADgPwAAAAAAAOA/AAAAAAAA4D8AAAAAAADgPwAAAAAAAOA/AAAAAAAA4D8AAAAAAADgPwAAAAAAAOA/AAAAAAAA4D8AAAAAAADgPwAAAAAAAOA/AAAAAAAA4D8AAAAAAADgPwAAAAAAAOA/AAAAAAAA4D8AAAAAAADgPwAAAAAAAOA/AAAAAAAA4D8AAAAAAADgPwAAAAAAAOA/AAAAAAAA4D8AAAAAAADgPwAAAAAAAOA/AAAAAAAA4D8AAAAAAADgPwAAAAAAAOA/AAAAAAAA4D8AAAAAAADgPwAAAAAAAOA/AAAAAAAA4D8AAAAAAADgPwAAAAAAAOA/AAAAAAAA4D8AAAAAAADgPwAAAAAAAOA/AAAAAAAA4D8AAAAAAADgPwAAAAAAAOA/AAAAAAAA4D8AAAAAAADgPwAAAAAAAOA/AAAAAAAA4D8AAAAAAADgPwAAAAAAAOA/AAAAAAAA4D8AAAAAAADgPwAAAAAAAOA/AAAAAAAA4D8AAAAAAADgPw==",
                                        "dtype": "f8"
                                    },
                                    "z": {
                                        "bdata": "AAAAAAAA8L/+Q+S/1e/vvwPZgFRnv++//gklrOVu77/gHhAdov7uv/9URBMOb+6/5FrvnbrA7b+MFdzcV/Tsv1nAgU60Cuy/hi5k/7sE67+o9Jebd+Ppv+prW2MLqOi/FrjSA7ZT578TIBFVz+flv7sBtf7GZeS/Xlp1BCPP4r9RKxg8fiXhv1Cpv1wN1d6/nYElyfc/278YqahIWo/Xv07pLzfvxtO/lgcc+hHVz794egNlHPzHv91boV3rCsC/fZPgGwoTsL8AAAAAAAAAAH2T4BsKE7A/5FuhXesKwD9+egNlHPzHP5AHHPoR1c8/TukvN+/G0z8YqahIWo/XP52BJcn3P9s/Uqm/XA3V3j9RKxg8fiXhP19adQQjz+I/uwG1/sZl5D8TIBFVz+flPxa40gO2U+c/6mtbYwuo6D+o9Jebd+PpP4YuZP+7BOs/WcCBTrQK7D+MFdzcV/TsP+Ra7526wO0//1REEw5v7j/gHhAdov7uP/8JJazlbu8/AtmAVGe/7z/+Q+S/1e/vPwAAAAAAAPA//kPkv9Xv7z8C2YBUZ7/vP/4JJazlbu8/4B4QHaL+7j//VEQTDm/uP+Ra7526wO0/ixXc3Ff07D9awIFOtArsP4cuZP+7BOs/qPSXm3fj6T/qa1tjC6joPxW40gO2U+c/FSARVc/n5T+9AbX+xmXkP19adQQjz+I/USsYPH4l4T9Qqb9cDdXeP5mBJcn3P9s/FamoSFqP1z9K6S8378bTP6YHHPoR1c8/h3oDZRz8xz/qW6Fd6wrAP4iT4BsKE7A/B1wUMyamoTx3k+AbChOwv+FboV3rCsC/fnoDZRz8x7+eBxz6EdXPv1XpLzfvxtO/H6moSFqP17+cgSXJ9z/bv1Opv1wN1d6/TysYPH4l4b9dWnUEI8/iv7sBtf7GZeS/FCARVc/n5b8UuNIDtlPnv+trW2MLqOi/p/SXm3fj6b+ILmT/uwTrv1nAgU60Cuy/jhXc3Ff07L/lWu+dusDtv/9URBMOb+6/3x4QHaL+7r//CSWs5W7vvwLZgFRnv++//kPkv9Xv778AAAAAAADwvw==",
                                        "dtype": "f8"
                                    }
                                }
                            ],
                            "layout": {
                                "scene": {
                                    "xaxis": {
                                        "title": {
                                            "text": "x"
                                        }
                                    },
                                    "yaxis": {
                                        "title": {
                                            "text": "t"
                                        }
                                    },
                                    "zaxis": {
                                        "title": {
                                            "text": "u"
                                        }
                                    }
                                },
                                "showlegend": false,
                                "template": {
                                    "data": {
                                        "bar": [
                                            {
                                                "error_x": {
                                                    "color": "#2a3f5f"
                                                },
                                                "error_y": {
                                                    "color": "#2a3f5f"
                                                },
                                                "marker": {
                                                    "line": {
                                                        "color": "#E5ECF6",
                                                        "width": 0.5
                                                    },
                                                    "pattern": {
                                                        "fillmode": "overlay",
                                                        "size": 10,
                                                        "solidity": 0.2
                                                    }
                                                },
                                                "type": "bar"
                                            }
                                        ],
                                        "barpolar": [
                                            {
                                                "marker": {
                                                    "line": {
                                                        "color": "#E5ECF6",
                                                        "width": 0.5
                                                    },
                                                    "pattern": {
                                                        "fillmode": "overlay",
                                                        "size": 10,
                                                        "solidity": 0.2
                                                    }
                                                },
                                                "type": "barpolar"
                                            }
                                        ],
                                        "carpet": [
                                            {
                                                "aaxis": {
                                                    "endlinecolor": "#2a3f5f",
                                                    "gridcolor": "white",
                                                    "linecolor": "white",
                                                    "minorgridcolor": "white",
                                                    "startlinecolor": "#2a3f5f"
                                                },
                                                "baxis": {
                                                    "endlinecolor": "#2a3f5f",
                                                    "gridcolor": "white",
                                                    "linecolor": "white",
                                                    "minorgridcolor": "white",
                                                    "startlinecolor": "#2a3f5f"
                                                },
                                                "type": "carpet"
                                            }
                                        ],
                                        "choropleth": [
                                            {
                                                "colorbar": {
                                                    "outlinewidth": 0,
                                                    "ticks": ""
                                                },
                                                "type": "choropleth"
                                            }
                                        ],
                                        "contour": [
                                            {
                                                "colorbar": {
                                                    "outlinewidth": 0,
                                                    "ticks": ""
                                                },
                                                "colorscale": [
                                                    [
                                                        0,
                                                        "#0d0887"
                                                    ],
                                                    [
                                                        0.1111111111111111,
                                                        "#46039f"
                                                    ],
                                                    [
                                                        0.2222222222222222,
                                                        "#7201a8"
                                                    ],
                                                    [
                                                        0.3333333333333333,
                                                        "#9c179e"
                                                    ],
                                                    [
                                                        0.4444444444444444,
                                                        "#bd3786"
                                                    ],
                                                    [
                                                        0.5555555555555556,
                                                        "#d8576b"
                                                    ],
                                                    [
                                                        0.6666666666666666,
                                                        "#ed7953"
                                                    ],
                                                    [
                                                        0.7777777777777778,
                                                        "#fb9f3a"
                                                    ],
                                                    [
                                                        0.8888888888888888,
                                                        "#fdca26"
                                                    ],
                                                    [
                                                        1,
                                                        "#f0f921"
                                                    ]
                                                ],
                                                "type": "contour"
                                            }
                                        ],
                                        "contourcarpet": [
                                            {
                                                "colorbar": {
                                                    "outlinewidth": 0,
                                                    "ticks": ""
                                                },
                                                "type": "contourcarpet"
                                            }
                                        ],
                                        "heatmap": [
                                            {
                                                "colorbar": {
                                                    "outlinewidth": 0,
                                                    "ticks": ""
                                                },
                                                "colorscale": [
                                                    [
                                                        0,
                                                        "#0d0887"
                                                    ],
                                                    [
                                                        0.1111111111111111,
                                                        "#46039f"
                                                    ],
                                                    [
                                                        0.2222222222222222,
                                                        "#7201a8"
                                                    ],
                                                    [
                                                        0.3333333333333333,
                                                        "#9c179e"
                                                    ],
                                                    [
                                                        0.4444444444444444,
                                                        "#bd3786"
                                                    ],
                                                    [
                                                        0.5555555555555556,
                                                        "#d8576b"
                                                    ],
                                                    [
                                                        0.6666666666666666,
                                                        "#ed7953"
                                                    ],
                                                    [
                                                        0.7777777777777778,
                                                        "#fb9f3a"
                                                    ],
                                                    [
                                                        0.8888888888888888,
                                                        "#fdca26"
                                                    ],
                                                    [
                                                        1,
                                                        "#f0f921"
                                                    ]
                                                ],
                                                "type": "heatmap"
                                            }
                                        ],
                                        "histogram": [
                                            {
                                                "marker": {
                                                    "pattern": {
                                                        "fillmode": "overlay",
                                                        "size": 10,
                                                        "solidity": 0.2
                                                    }
                                                },
                                                "type": "histogram"
                                            }
                                        ],
                                        "histogram2d": [
                                            {
                                                "colorbar": {
                                                    "outlinewidth": 0,
                                                    "ticks": ""
                                                },
                                                "colorscale": [
                                                    [
                                                        0,
                                                        "#0d0887"
                                                    ],
                                                    [
                                                        0.1111111111111111,
                                                        "#46039f"
                                                    ],
                                                    [
                                                        0.2222222222222222,
                                                        "#7201a8"
                                                    ],
                                                    [
                                                        0.3333333333333333,
                                                        "#9c179e"
                                                    ],
                                                    [
                                                        0.4444444444444444,
                                                        "#bd3786"
                                                    ],
                                                    [
                                                        0.5555555555555556,
                                                        "#d8576b"
                                                    ],
                                                    [
                                                        0.6666666666666666,
                                                        "#ed7953"
                                                    ],
                                                    [
                                                        0.7777777777777778,
                                                        "#fb9f3a"
                                                    ],
                                                    [
                                                        0.8888888888888888,
                                                        "#fdca26"
                                                    ],
                                                    [
                                                        1,
                                                        "#f0f921"
                                                    ]
                                                ],
                                                "type": "histogram2d"
                                            }
                                        ],
                                        "histogram2dcontour": [
                                            {
                                                "colorbar": {
                                                    "outlinewidth": 0,
                                                    "ticks": ""
                                                },
                                                "colorscale": [
                                                    [
                                                        0,
                                                        "#0d0887"
                                                    ],
                                                    [
                                                        0.1111111111111111,
                                                        "#46039f"
                                                    ],
                                                    [
                                                        0.2222222222222222,
                                                        "#7201a8"
                                                    ],
                                                    [
                                                        0.3333333333333333,
                                                        "#9c179e"
                                                    ],
                                                    [
                                                        0.4444444444444444,
                                                        "#bd3786"
                                                    ],
                                                    [
                                                        0.5555555555555556,
                                                        "#d8576b"
                                                    ],
                                                    [
                                                        0.6666666666666666,
                                                        "#ed7953"
                                                    ],
                                                    [
                                                        0.7777777777777778,
                                                        "#fb9f3a"
                                                    ],
                                                    [
                                                        0.8888888888888888,
                                                        "#fdca26"
                                                    ],
                                                    [
                                                        1,
                                                        "#f0f921"
                                                    ]
                                                ],
                                                "type": "histogram2dcontour"
                                            }
                                        ],
                                        "mesh3d": [
                                            {
                                                "colorbar": {
                                                    "outlinewidth": 0,
                                                    "ticks": ""
                                                },
                                                "type": "mesh3d"
                                            }
                                        ],
                                        "parcoords": [
                                            {
                                                "line": {
                                                    "colorbar": {
                                                        "outlinewidth": 0,
                                                        "ticks": ""
                                                    }
                                                },
                                                "type": "parcoords"
                                            }
                                        ],
                                        "pie": [
                                            {
                                                "automargin": true,
                                                "type": "pie"
                                            }
                                        ],
                                        "scatter": [
                                            {
                                                "fillpattern": {
                                                    "fillmode": "overlay",
                                                    "size": 10,
                                                    "solidity": 0.2
                                                },
                                                "type": "scatter"
                                            }
                                        ],
                                        "scatter3d": [
                                            {
                                                "line": {
                                                    "colorbar": {
                                                        "outlinewidth": 0,
                                                        "ticks": ""
                                                    }
                                                },
                                                "marker": {
                                                    "colorbar": {
                                                        "outlinewidth": 0,
                                                        "ticks": ""
                                                    }
                                                },
                                                "type": "scatter3d"
                                            }
                                        ],
                                        "scattercarpet": [
                                            {
                                                "marker": {
                                                    "colorbar": {
                                                        "outlinewidth": 0,
                                                        "ticks": ""
                                                    }
                                                },
                                                "type": "scattercarpet"
                                            }
                                        ],
                                        "scattergeo": [
                                            {
                                                "marker": {
                                                    "colorbar": {
                                                        "outlinewidth": 0,
                                                        "ticks": ""
                                                    }
                                                },
                                                "type": "scattergeo"
                                            }
                                        ],
                                        "scattergl": [
                                            {
                                                "marker": {
                                                    "colorbar": {
                                                        "outlinewidth": 0,
                                                        "ticks": ""
                                                    }
                                                },
                                                "type": "scattergl"
                                            }
                                        ],
                                        "scattermap": [
                                            {
                                                "marker": {
                                                    "colorbar": {
                                                        "outlinewidth": 0,
                                                        "ticks": ""
                                                    }
                                                },
                                                "type": "scattermap"
                                            }
                                        ],
                                        "scattermapbox": [
                                            {
                                                "marker": {
                                                    "colorbar": {
                                                        "outlinewidth": 0,
                                                        "ticks": ""
                                                    }
                                                },
                                                "type": "scattermapbox"
                                            }
                                        ],
                                        "scatterpolar": [
                                            {
                                                "marker": {
                                                    "colorbar": {
                                                        "outlinewidth": 0,
                                                        "ticks": ""
                                                    }
                                                },
                                                "type": "scatterpolar"
                                            }
                                        ],
                                        "scatterpolargl": [
                                            {
                                                "marker": {
                                                    "colorbar": {
                                                        "outlinewidth": 0,
                                                        "ticks": ""
                                                    }
                                                },
                                                "type": "scatterpolargl"
                                            }
                                        ],
                                        "scatterternary": [
                                            {
                                                "marker": {
                                                    "colorbar": {
                                                        "outlinewidth": 0,
                                                        "ticks": ""
                                                    }
                                                },
                                                "type": "scatterternary"
                                            }
                                        ],
                                        "surface": [
                                            {
                                                "colorbar": {
                                                    "outlinewidth": 0,
                                                    "ticks": ""
                                                },
                                                "colorscale": [
                                                    [
                                                        0,
                                                        "#0d0887"
                                                    ],
                                                    [
                                                        0.1111111111111111,
                                                        "#46039f"
                                                    ],
                                                    [
                                                        0.2222222222222222,
                                                        "#7201a8"
                                                    ],
                                                    [
                                                        0.3333333333333333,
                                                        "#9c179e"
                                                    ],
                                                    [
                                                        0.4444444444444444,
                                                        "#bd3786"
                                                    ],
                                                    [
                                                        0.5555555555555556,
                                                        "#d8576b"
                                                    ],
                                                    [
                                                        0.6666666666666666,
                                                        "#ed7953"
                                                    ],
                                                    [
                                                        0.7777777777777778,
                                                        "#fb9f3a"
                                                    ],
                                                    [
                                                        0.8888888888888888,
                                                        "#fdca26"
                                                    ],
                                                    [
                                                        1,
                                                        "#f0f921"
                                                    ]
                                                ],
                                                "type": "surface"
                                            }
                                        ],
                                        "table": [
                                            {
                                                "cells": {
                                                    "fill": {
                                                        "color": "#EBF0F8"
                                                    },
                                                    "line": {
                                                        "color": "white"
                                                    }
                                                },
                                                "header": {
                                                    "fill": {
                                                        "color": "#C8D4E3"
                                                    },
                                                    "line": {
                                                        "color": "white"
                                                    }
                                                },
                                                "type": "table"
                                            }
                                        ]
                                    },
                                    "layout": {
                                        "annotationdefaults": {
                                            "arrowcolor": "#2a3f5f",
                                            "arrowhead": 0,
                                            "arrowwidth": 1
                                        },
                                        "autotypenumbers": "strict",
                                        "coloraxis": {
                                            "colorbar": {
                                                "outlinewidth": 0,
                                                "ticks": ""
                                            }
                                        },
                                        "colorscale": {
                                            "diverging": [
                                                [
                                                    0,
                                                    "#8e0152"
                                                ],
                                                [
                                                    0.1,
                                                    "#c51b7d"
                                                ],
                                                [
                                                    0.2,
                                                    "#de77ae"
                                                ],
                                                [
                                                    0.3,
                                                    "#f1b6da"
                                                ],
                                                [
                                                    0.4,
                                                    "#fde0ef"
                                                ],
                                                [
                                                    0.5,
                                                    "#f7f7f7"
                                                ],
                                                [
                                                    0.6,
                                                    "#e6f5d0"
                                                ],
                                                [
                                                    0.7,
                                                    "#b8e186"
                                                ],
                                                [
                                                    0.8,
                                                    "#7fbc41"
                                                ],
                                                [
                                                    0.9,
                                                    "#4d9221"
                                                ],
                                                [
                                                    1,
                                                    "#276419"
                                                ]
                                            ],
                                            "sequential": [
                                                [
                                                    0,
                                                    "#0d0887"
                                                ],
                                                [
                                                    0.1111111111111111,
                                                    "#46039f"
                                                ],
                                                [
                                                    0.2222222222222222,
                                                    "#7201a8"
                                                ],
                                                [
                                                    0.3333333333333333,
                                                    "#9c179e"
                                                ],
                                                [
                                                    0.4444444444444444,
                                                    "#bd3786"
                                                ],
                                                [
                                                    0.5555555555555556,
                                                    "#d8576b"
                                                ],
                                                [
                                                    0.6666666666666666,
                                                    "#ed7953"
                                                ],
                                                [
                                                    0.7777777777777778,
                                                    "#fb9f3a"
                                                ],
                                                [
                                                    0.8888888888888888,
                                                    "#fdca26"
                                                ],
                                                [
                                                    1,
                                                    "#f0f921"
                                                ]
                                            ],
                                            "sequentialminus": [
                                                [
                                                    0,
                                                    "#0d0887"
                                                ],
                                                [
                                                    0.1111111111111111,
                                                    "#46039f"
                                                ],
                                                [
                                                    0.2222222222222222,
                                                    "#7201a8"
                                                ],
                                                [
                                                    0.3333333333333333,
                                                    "#9c179e"
                                                ],
                                                [
                                                    0.4444444444444444,
                                                    "#bd3786"
                                                ],
                                                [
                                                    0.5555555555555556,
                                                    "#d8576b"
                                                ],
                                                [
                                                    0.6666666666666666,
                                                    "#ed7953"
                                                ],
                                                [
                                                    0.7777777777777778,
                                                    "#fb9f3a"
                                                ],
                                                [
                                                    0.8888888888888888,
                                                    "#fdca26"
                                                ],
                                                [
                                                    1,
                                                    "#f0f921"
                                                ]
                                            ]
                                        },
                                        "colorway": [
                                            "#636efa",
                                            "#EF553B",
                                            "#00cc96",
                                            "#ab63fa",
                                            "#FFA15A",
                                            "#19d3f3",
                                            "#FF6692",
                                            "#B6E880",
                                            "#FF97FF",
                                            "#FECB52"
                                        ],
                                        "font": {
                                            "color": "#2a3f5f"
                                        },
                                        "geo": {
                                            "bgcolor": "white",
                                            "lakecolor": "white",
                                            "landcolor": "#E5ECF6",
                                            "showlakes": true,
                                            "showland": true,
                                            "subunitcolor": "white"
                                        },
                                        "hoverlabel": {
                                            "align": "left"
                                        },
                                        "hovermode": "closest",
                                        "mapbox": {
                                            "style": "light"
                                        },
                                        "paper_bgcolor": "white",
                                        "plot_bgcolor": "#E5ECF6",
                                        "polar": {
                                            "angularaxis": {
                                                "gridcolor": "white",
                                                "linecolor": "white",
                                                "ticks": ""
                                            },
                                            "bgcolor": "#E5ECF6",
                                            "radialaxis": {
                                                "gridcolor": "white",
                                                "linecolor": "white",
                                                "ticks": ""
                                            }
                                        },
                                        "scene": {
                                            "xaxis": {
                                                "backgroundcolor": "#E5ECF6",
                                                "gridcolor": "white",
                                                "gridwidth": 2,
                                                "linecolor": "white",
                                                "showbackground": true,
                                                "ticks": "",
                                                "zerolinecolor": "white"
                                            },
                                            "yaxis": {
                                                "backgroundcolor": "#E5ECF6",
                                                "gridcolor": "white",
                                                "gridwidth": 2,
                                                "linecolor": "white",
                                                "showbackground": true,
                                                "ticks": "",
                                                "zerolinecolor": "white"
                                            },
                                            "zaxis": {
                                                "backgroundcolor": "#E5ECF6",
                                                "gridcolor": "white",
                                                "gridwidth": 2,
                                                "linecolor": "white",
                                                "showbackground": true,
                                                "ticks": "",
                                                "zerolinecolor": "white"
                                            }
                                        },
                                        "shapedefaults": {
                                            "line": {
                                                "color": "#2a3f5f"
                                            }
                                        },
                                        "ternary": {
                                            "aaxis": {
                                                "gridcolor": "white",
                                                "linecolor": "white",
                                                "ticks": ""
                                            },
                                            "baxis": {
                                                "gridcolor": "white",
                                                "linecolor": "white",
                                                "ticks": ""
                                            },
                                            "bgcolor": "#E5ECF6",
                                            "caxis": {
                                                "gridcolor": "white",
                                                "linecolor": "white",
                                                "ticks": ""
                                            }
                                        },
                                        "title": {
                                            "x": 0.05
                                        },
                                        "xaxis": {
                                            "automargin": true,
                                            "gridcolor": "white",
                                            "linecolor": "white",
                                            "ticks": "",
                                            "title": {
                                                "standoff": 15
                                            },
                                            "zerolinecolor": "white",
                                            "zerolinewidth": 2
                                        },
                                        "yaxis": {
                                            "automargin": true,
                                            "gridcolor": "white",
                                            "linecolor": "white",
                                            "ticks": "",
                                            "title": {
                                                "standoff": 15
                                            },
                                            "zerolinecolor": "white",
                                            "zerolinewidth": 2
                                        }
                                    }
                                },
                                "title": {
                                    "text": "Analytical Solution of 1D Advection Equation"
                                }
                            }
                        }
                    },
                    "metadata": {},
                    "output_type": "display_data"
                }
            ],
            "source": [
                "import plotly.graph_objects as go\n",
                "\n",
                "# analytical solution\n",
                "u_analytical = np.sin(np.pi * (x - a * t))\n",
                "\n",
                "# 3d surface plot without connecting last and first points\n",
                "fig = go.Figure()\n",
                "for i, ti in enumerate(t.flatten()):\n",
                "    fig.add_trace(go.Scatter3d(x=x, y=np.full_like(x, ti), z=u_analytical[i], mode='lines'))\n",
                "fig.update_layout(title='Analytical Solution of 1D Advection Equation', scene=dict(xaxis_title='x', yaxis_title='t', zaxis_title='u'), showlegend=False)\n",
                "fig.show()"
            ]
        },
        {
            "cell_type": "code",
            "execution_count": 23,
            "id": "2cc992d5",
            "metadata": {},
            "outputs": [
                {
                    "data": {
                        "application/vnd.plotly.v1+json": {
                            "config": {
                                "plotlyServerURL": "https://plot.ly"
                            },
                            "data": [
                                {
                                    "mode": "lines",
                                    "type": "scatter",
                                    "x": {
                                        "bdata": "AAAAAAAAAAB7FK5H4XqUP3sUrkfheqQ/uB6F61G4rj97FK5H4Xq0P5qZmZmZmbk/uB6F61G4vj/sUbgehevBP3sUrkfhesQ/CtejcD0Kxz+amZmZmZnJPylcj8L1KMw/uB6F61G4zj+kcD0K16PQP+xRuB6F69E/MzMzMzMz0z97FK5H4XrUP8P1KFyPwtU/CtejcD0K1z9SuB6F61HYP5qZmZmZmdk/4XoUrkfh2j8pXI/C9SjcP3E9CtejcN0/uB6F61G43j8AAAAAAADgP6RwPQrXo+A/SOF6FK5H4T/sUbgehevhP4/C9Shcj+I/MzMzMzMz4z/Xo3A9CtfjP3sUrkfheuQ/H4XrUbge5T/D9Shcj8LlP2dmZmZmZuY/CtejcD0K5z+uR+F6FK7nP1K4HoXrUeg/9ihcj8L16D+amZmZmZnpPz4K16NwPeo/4XoUrkfh6j+F61G4HoXrPylcj8L1KOw/zczMzMzM7D9xPQrXo3DtPxWuR+F6FO4/uB6F61G47j9cj8L1KFzvPwAAAAAAAPA/UrgehetR8D+kcD0K16PwP/YoXI/C9fA/SOF6FK5H8T+amZmZmZnxP+xRuB6F6/E/PgrXo3A98j+PwvUoXI/yP+F6FK5H4fI/MzMzMzMz8z+F61G4HoXzP9ejcD0K1/M/KVyPwvUo9D97FK5H4Xr0P83MzMzMzPQ/H4XrUbge9T9xPQrXo3D1P8P1KFyPwvU/Fa5H4XoU9j9nZmZmZmb2P7gehetRuPY/CtejcD0K9z9cj8L1KFz3P65H4XoUrvc/AAAAAAAA+D9SuB6F61H4P6RwPQrXo/g/9ihcj8L1+D9I4XoUrkf5P5qZmZmZmfk/7FG4HoXr+T8+CtejcD36P5DC9Shcj/o/4XoUrkfh+j8zMzMzMzP7P4XrUbgehfs/16NwPQrX+z8pXI/C9Sj8P3sUrkfhevw/zczMzMzM/D8fhetRuB79P3E9CtejcP0/w/UoXI/C/T8VrkfhehT+P2dmZmZmZv4/uB6F61G4/j8K16NwPQr/P1yPwvUoXP8/rkfhehSu/z8AAAAAAAAAQA==",
                                        "dtype": "f8"
                                    },
                                    "y": {
                                        "bdata": "AAAAAAAAAAB5k+AbChOwP+BboV3rCsA/eHoDZRz8xz+WBxz6EdXPP0/pLzfvxtM/GKmoSFqP1z+dgSXJ9z/bP1Kpv1wN1d4/USsYPH4l4T9eWnUEI8/iP7sBtf7GZeQ/EyARVc/n5T8WuNIDtlPnP+prW2MLqOg/qPSXm3fj6T+GLmT/uwTrP1rAgU60Cuw/jBXc3Ff07D/kWu+dusDtP/9URBMOb+4/4B4QHaL+7j/+CSWs5W7vPwPZgFRnv+8//kPkv9Xv7z8AAAAAAADwP/5D5L/V7+8/AtmAVGe/7z/+CSWs5W7vP+EeEB2i/u4/AFVEEw5v7j/lWu+dusDtP4sV3NxX9Ow/WMCBTrQK7D+FLmT/uwTrP6j0l5t34+k/6mtbYwuo6D8VuNIDtlPnPxUgEVXP5+U/vQG1/sZl5D9fWnUEI8/iP1ErGDx+JeE/V6m/XA3V3j+ggSXJ9z/bPxypqEhaj9c/UekvN+/G0z+XBxz6EdXPP3d6A2Uc/Mc/6luhXesKwD+Ik+AbChOwPwdcFDMmpqE8d5PgGwoTsL/hW6Fd6wrAv356A2Uc/Me/ngcc+hHVz79V6S8378bTvx+pqEhaj9e/nIElyfc/279Mqb9cDdXev08rGDx+JeG/XVp1BCPP4r+7AbX+xmXkvxQgEVXP5+W/FLjSA7ZT57/ra1tjC6jov6f0l5t34+m/iC5k/7sE679ZwIFOtArsv44V3NxX9Oy/5VrvnbrA7b//VEQTDm/uv98eEB2i/u6//wklrOVu778C2YBUZ7/vv/5D5L/V7++/AAAAAAAA8L/+Q+S/1e/vvwPZgFRnv++//wklrOVu77/gHhAdov7uvwBVRBMOb+6/41rvnbrA7b+MFdzcV/Tsv1fAgU60Cuy/ii5k/7sE67+p9Jebd+Ppv+1rW2MLqOi/FrjSA7ZT578WIBFVz+flv7sBtf7GZeS/YFp1BCPP4r9OKxg8fiXhv1Kpv1wN1d6/lIElyfc/278XqahIWo/Xv1TpLzfvxtO/qgcc+hHVz797egNlHPzHv+5boV3rCsC/cZPgGwoTsL8HXBQzJqaxvA==",
                                        "dtype": "f8"
                                    }
                                }
                            ],
                            "frames": [
                                {
                                    "data": [
                                        {
                                            "mode": "lines",
                                            "type": "scatter",
                                            "x": {
                                                "bdata": "AAAAAAAAAAB7FK5H4XqUP3sUrkfheqQ/uB6F61G4rj97FK5H4Xq0P5qZmZmZmbk/uB6F61G4vj/sUbgehevBP3sUrkfhesQ/CtejcD0Kxz+amZmZmZnJPylcj8L1KMw/uB6F61G4zj+kcD0K16PQP+xRuB6F69E/MzMzMzMz0z97FK5H4XrUP8P1KFyPwtU/CtejcD0K1z9SuB6F61HYP5qZmZmZmdk/4XoUrkfh2j8pXI/C9SjcP3E9CtejcN0/uB6F61G43j8AAAAAAADgP6RwPQrXo+A/SOF6FK5H4T/sUbgehevhP4/C9Shcj+I/MzMzMzMz4z/Xo3A9CtfjP3sUrkfheuQ/H4XrUbge5T/D9Shcj8LlP2dmZmZmZuY/CtejcD0K5z+uR+F6FK7nP1K4HoXrUeg/9ihcj8L16D+amZmZmZnpPz4K16NwPeo/4XoUrkfh6j+F61G4HoXrPylcj8L1KOw/zczMzMzM7D9xPQrXo3DtPxWuR+F6FO4/uB6F61G47j9cj8L1KFzvPwAAAAAAAPA/UrgehetR8D+kcD0K16PwP/YoXI/C9fA/SOF6FK5H8T+amZmZmZnxP+xRuB6F6/E/PgrXo3A98j+PwvUoXI/yP+F6FK5H4fI/MzMzMzMz8z+F61G4HoXzP9ejcD0K1/M/KVyPwvUo9D97FK5H4Xr0P83MzMzMzPQ/H4XrUbge9T9xPQrXo3D1P8P1KFyPwvU/Fa5H4XoU9j9nZmZmZmb2P7gehetRuPY/CtejcD0K9z9cj8L1KFz3P65H4XoUrvc/AAAAAAAA+D9SuB6F61H4P6RwPQrXo/g/9ihcj8L1+D9I4XoUrkf5P5qZmZmZmfk/7FG4HoXr+T8+CtejcD36P5DC9Shcj/o/4XoUrkfh+j8zMzMzMzP7P4XrUbgehfs/16NwPQrX+z8pXI/C9Sj8P3sUrkfhevw/zczMzMzM/D8fhetRuB79P3E9CtejcP0/w/UoXI/C/T8VrkfhehT+P2dmZmZmZv4/uB6F61G4/j8K16NwPQr/P1yPwvUoXP8/rkfhehSu/z8AAAAAAAAAQA==",
                                                "dtype": "f8"
                                            },
                                            "y": {
                                                "bdata": "AAAAAAAAAAB5k+AbChOwP+BboV3rCsA/eHoDZRz8xz+WBxz6EdXPP0/pLzfvxtM/GKmoSFqP1z+dgSXJ9z/bP1Kpv1wN1d4/USsYPH4l4T9eWnUEI8/iP7sBtf7GZeQ/EyARVc/n5T8WuNIDtlPnP+prW2MLqOg/qPSXm3fj6T+GLmT/uwTrP1rAgU60Cuw/jBXc3Ff07D/kWu+dusDtP/9URBMOb+4/4B4QHaL+7j/+CSWs5W7vPwPZgFRnv+8//kPkv9Xv7z8AAAAAAADwP/5D5L/V7+8/AtmAVGe/7z/+CSWs5W7vP+EeEB2i/u4/AFVEEw5v7j/lWu+dusDtP4sV3NxX9Ow/WMCBTrQK7D+FLmT/uwTrP6j0l5t34+k/6mtbYwuo6D8VuNIDtlPnPxUgEVXP5+U/vQG1/sZl5D9fWnUEI8/iP1ErGDx+JeE/V6m/XA3V3j+ggSXJ9z/bPxypqEhaj9c/UekvN+/G0z+XBxz6EdXPP3d6A2Uc/Mc/6luhXesKwD+Ik+AbChOwPwdcFDMmpqE8d5PgGwoTsL/hW6Fd6wrAv356A2Uc/Me/ngcc+hHVz79V6S8378bTvx+pqEhaj9e/nIElyfc/279Mqb9cDdXev08rGDx+JeG/XVp1BCPP4r+7AbX+xmXkvxQgEVXP5+W/FLjSA7ZT57/ra1tjC6jov6f0l5t34+m/iC5k/7sE679ZwIFOtArsv44V3NxX9Oy/5VrvnbrA7b//VEQTDm/uv98eEB2i/u6//wklrOVu778C2YBUZ7/vv/5D5L/V7++/AAAAAAAA8L/+Q+S/1e/vvwPZgFRnv++//wklrOVu77/gHhAdov7uvwBVRBMOb+6/41rvnbrA7b+MFdzcV/Tsv1fAgU60Cuy/ii5k/7sE67+p9Jebd+Ppv+1rW2MLqOi/FrjSA7ZT578WIBFVz+flv7sBtf7GZeS/YFp1BCPP4r9OKxg8fiXhv1Kpv1wN1d6/lIElyfc/278XqahIWo/Xv1TpLzfvxtO/qgcc+hHVz797egNlHPzHv+5boV3rCsC/cZPgGwoTsL8HXBQzJqaxvA==",
                                                "dtype": "f8"
                                            }
                                        }
                                    ],
                                    "name": "t=0.00"
                                },
                                {
                                    "data": [
                                        {
                                            "mode": "lines",
                                            "type": "scatter",
                                            "x": {
                                                "bdata": "AAAAAAAAAAB7FK5H4XqUP3sUrkfheqQ/uB6F61G4rj97FK5H4Xq0P5qZmZmZmbk/uB6F61G4vj/sUbgehevBP3sUrkfhesQ/CtejcD0Kxz+amZmZmZnJPylcj8L1KMw/uB6F61G4zj+kcD0K16PQP+xRuB6F69E/MzMzMzMz0z97FK5H4XrUP8P1KFyPwtU/CtejcD0K1z9SuB6F61HYP5qZmZmZmdk/4XoUrkfh2j8pXI/C9SjcP3E9CtejcN0/uB6F61G43j8AAAAAAADgP6RwPQrXo+A/SOF6FK5H4T/sUbgehevhP4/C9Shcj+I/MzMzMzMz4z/Xo3A9CtfjP3sUrkfheuQ/H4XrUbge5T/D9Shcj8LlP2dmZmZmZuY/CtejcD0K5z+uR+F6FK7nP1K4HoXrUeg/9ihcj8L16D+amZmZmZnpPz4K16NwPeo/4XoUrkfh6j+F61G4HoXrPylcj8L1KOw/zczMzMzM7D9xPQrXo3DtPxWuR+F6FO4/uB6F61G47j9cj8L1KFzvPwAAAAAAAPA/UrgehetR8D+kcD0K16PwP/YoXI/C9fA/SOF6FK5H8T+amZmZmZnxP+xRuB6F6/E/PgrXo3A98j+PwvUoXI/yP+F6FK5H4fI/MzMzMzMz8z+F61G4HoXzP9ejcD0K1/M/KVyPwvUo9D97FK5H4Xr0P83MzMzMzPQ/H4XrUbge9T9xPQrXo3D1P8P1KFyPwvU/Fa5H4XoU9j9nZmZmZmb2P7gehetRuPY/CtejcD0K9z9cj8L1KFz3P65H4XoUrvc/AAAAAAAA+D9SuB6F61H4P6RwPQrXo/g/9ihcj8L1+D9I4XoUrkf5P5qZmZmZmfk/7FG4HoXr+T8+CtejcD36P5DC9Shcj/o/4XoUrkfh+j8zMzMzMzP7P4XrUbgehfs/16NwPQrX+z8pXI/C9Sj8P3sUrkfhevw/zczMzMzM/D8fhetRuB79P3E9CtejcP0/w/UoXI/C/T8VrkfhehT+P2dmZmZmZv4/uB6F61G4/j8K16NwPQr/P1yPwvUoXP8/rkfhehSu/z8AAAAAAAAAQA==",
                                                "dtype": "f8"
                                            },
                                            "y": {
                                                "bdata": "YFj3LRIVoL9gWPctEhWgP+8X/H97F7g/dVOoZwsGxD9qH9IjHuzLPw4OFIP92tE/3JZX0OGt1T/C6Xz83mrZPwDeRCsuDt0/46IeORFK4D/qALBHlvzhPwqs3UDvnOM/7LJAgHcp5T/NO39mnqDmP9zFDe7oAOg/8ZEdKvNI6T8JUTWucXfqPzzKCN0yi+s/bCw9HSCD7D/tF+LyPl7tP9f/gvyxG+4/cTXR0rm67j/3pATKtTrvP1zkL5Qkm+8/XJPjw6Tb7z+GEJ0u9fvvP4YQnS71++8/XJPjw6Tb7z9b5C+UJJvvP/ikBMq1Ou8/cjXR0rm67j/X/4L8sRvuP+4X4vI+Xu0/bSw9HSCD7D88ygjdMovrPwhRNa5xd+o/85EdKvNI6T/cxQ3u6ADoP807f2aeoOY/7LJAgHcp5T8KrN1A75zjP+kAsEeW/OE/5aIeORFK4D8C3kQrLg7dP8LpfPzeatk/25ZX0OGt1T8LDhSD/drRP2Ef0iMe7Ms/eVOoZwsGxD/yF/x/exe4P1hY9y0SFaA/NVj3LRIVoL/gF/x/exe4v3BTqGcLBsS/aB/SIx7sy78ODhSD/drRv96WV9DhrdW/xel8/N5q2b/33UQrLg7dv+CiHjkRSuC/5wCwR5b84b8JrN1A75zjv+uyQIB3KeW/zDt/Zp6g5r/bxQ3u6ADov/KRHSrzSOm/B1E1rnF36r89ygjdMovrv2wsPR0gg+y/7hfi8j5e7b/X/4L8sRvuv3E10dK5uu6/9qQEyrU6779b5C+UJJvvv1yT48Ok2++/hhCdLvX777+GEJ0u9fvvv1yT48Ok2++/XOQvlCSb77/3pATKtTrvv3I10dK5uu6/1v+C/LEb7r/sF+LyPl7tv24sPR0gg+y/PsoI3TKL678JUTWucXfqv/SRHSrzSOm/28UN7ugA6L/OO39mnqDmv/CyQIB3KeW/C6zdQO+c47/tALBHlvzhv+OiHjkRSuC/BN5EKy4O3b+96Xz83mrZv92WV9DhrdW/FQ4Ug/3a0b+FH9IjHuzLv31TqGcLBsS/Ghj8f3sXuL9qWPctEhWgvw==",
                                                "dtype": "f8"
                                            }
                                        }
                                    ],
                                    "name": "t=0.01"
                                },
                                {
                                    "data": [
                                        {
                                            "mode": "lines",
                                            "type": "scatter",
                                            "x": {
                                                "bdata": "AAAAAAAAAAB7FK5H4XqUP3sUrkfheqQ/uB6F61G4rj97FK5H4Xq0P5qZmZmZmbk/uB6F61G4vj/sUbgehevBP3sUrkfhesQ/CtejcD0Kxz+amZmZmZnJPylcj8L1KMw/uB6F61G4zj+kcD0K16PQP+xRuB6F69E/MzMzMzMz0z97FK5H4XrUP8P1KFyPwtU/CtejcD0K1z9SuB6F61HYP5qZmZmZmdk/4XoUrkfh2j8pXI/C9SjcP3E9CtejcN0/uB6F61G43j8AAAAAAADgP6RwPQrXo+A/SOF6FK5H4T/sUbgehevhP4/C9Shcj+I/MzMzMzMz4z/Xo3A9CtfjP3sUrkfheuQ/H4XrUbge5T/D9Shcj8LlP2dmZmZmZuY/CtejcD0K5z+uR+F6FK7nP1K4HoXrUeg/9ihcj8L16D+amZmZmZnpPz4K16NwPeo/4XoUrkfh6j+F61G4HoXrPylcj8L1KOw/zczMzMzM7D9xPQrXo3DtPxWuR+F6FO4/uB6F61G47j9cj8L1KFzvPwAAAAAAAPA/UrgehetR8D+kcD0K16PwP/YoXI/C9fA/SOF6FK5H8T+amZmZmZnxP+xRuB6F6/E/PgrXo3A98j+PwvUoXI/yP+F6FK5H4fI/MzMzMzMz8z+F61G4HoXzP9ejcD0K1/M/KVyPwvUo9D97FK5H4Xr0P83MzMzMzPQ/H4XrUbge9T9xPQrXo3D1P8P1KFyPwvU/Fa5H4XoU9j9nZmZmZmb2P7gehetRuPY/CtejcD0K9z9cj8L1KFz3P65H4XoUrvc/AAAAAAAA+D9SuB6F61H4P6RwPQrXo/g/9ihcj8L1+D9I4XoUrkf5P5qZmZmZmfk/7FG4HoXr+T8+CtejcD36P5DC9Shcj/o/4XoUrkfh+j8zMzMzMzP7P4XrUbgehfs/16NwPQrX+z8pXI/C9Sj8P3sUrkfhevw/zczMzMzM/D8fhetRuB79P3E9CtejcP0/w/UoXI/C/T8VrkfhehT+P2dmZmZmZv4/uB6F61G4/j8K16NwPQr/P1yPwvUoXP8/rkfhehSu/z8AAAAAAAAAQA==",
                                                "dtype": "f8"
                                            },
                                            "y": {
                                                "bdata": "eZPgGwoTsL8AAAAAAAAAAHmT4BsKE7A/31uhXesKwD94egNlHPzHP5YHHPoR1c8/T+kvN+/G0z8ZqahIWo/XP52BJcn3P9s/Uqm/XA3V3j9RKxg8fiXhP15adQQjz+I/uwG1/sZl5D8UIBFVz+flPxa40gO2U+c/6WtbYwuo6D+o9Jebd+PpP4YuZP+7BOs/WcCBTrQK7D+MFdzcV/TsP+Ra7526wO0//1REEw5v7j/gHhAdov7uP/4JJazlbu8/AtmAVGe/7z/+Q+S/1e/vPwAAAAAAAPA//kPkv9Xv7z8C2YBUZ7/vP/8JJazlbu8/4R4QHaL+7j8AVUQTDm/uP+Va7526wO0/ixXc3Ff07D9YwIFOtArsP4UuZP+7BOs/qPSXm3fj6T/qa1tjC6joPxW40gO2U+c/FSARVc/n5T+9AbX+xmXkP19adQQjz+I/VCsYPH4l4T9Xqb9cDdXeP6CBJcn3P9s/HKmoSFqP1z9R6S8378bTP5cHHPoR1c8/h3oDZRz8xz/qW6Fd6wrAP4iT4BsKE7A/B1wUMyamoTx3k+AbChOwv+FboV3rCsC/fnoDZRz8x7+eBxz6EdXPv1XpLzfvxtO/H6moSFqP17+VgSXJ9z/bv0ypv1wN1d6/TysYPH4l4b9dWnUEI8/iv7sBtf7GZeS/FCARVc/n5b8UuNIDtlPnv+trW2MLqOi/p/SXm3fj6b+ILmT/uwTrv1nAgU60Cuy/jhXc3Ff07L/lWu+dusDtv/9URBMOb+6/3x4QHaL+7r//CSWs5W7vvwLZgFRnv++//kPkv9Xv778AAAAAAADwv/5D5L/V7++/A9mAVGe/77//CSWs5W7vv+AeEB2i/u6/AFVEEw5v7r/jWu+dusDtv4wV3NxX9Oy/W8CBTrQK7L+KLmT/uwTrv6n0l5t34+m/7WtbYwuo6L8WuNIDtlPnvxYgEVXP5+W/uwG1/sZl5L9gWnUEI8/iv04rGDx+JeG/Uqm/XA3V3r+UgSXJ9z/bvxepqEhaj9e/VOkvN+/G07+qBxz6EdXPv3t6A2Uc/Me/7luhXesKwL9xk+AbChOwvw==",
                                                "dtype": "f8"
                                            }
                                        }
                                    ],
                                    "name": "t=0.02"
                                },
                                {
                                    "data": [
                                        {
                                            "mode": "lines",
                                            "type": "scatter",
                                            "x": {
                                                "bdata": "AAAAAAAAAAB7FK5H4XqUP3sUrkfheqQ/uB6F61G4rj97FK5H4Xq0P5qZmZmZmbk/uB6F61G4vj/sUbgehevBP3sUrkfhesQ/CtejcD0Kxz+amZmZmZnJPylcj8L1KMw/uB6F61G4zj+kcD0K16PQP+xRuB6F69E/MzMzMzMz0z97FK5H4XrUP8P1KFyPwtU/CtejcD0K1z9SuB6F61HYP5qZmZmZmdk/4XoUrkfh2j8pXI/C9SjcP3E9CtejcN0/uB6F61G43j8AAAAAAADgP6RwPQrXo+A/SOF6FK5H4T/sUbgehevhP4/C9Shcj+I/MzMzMzMz4z/Xo3A9CtfjP3sUrkfheuQ/H4XrUbge5T/D9Shcj8LlP2dmZmZmZuY/CtejcD0K5z+uR+F6FK7nP1K4HoXrUeg/9ihcj8L16D+amZmZmZnpPz4K16NwPeo/4XoUrkfh6j+F61G4HoXrPylcj8L1KOw/zczMzMzM7D9xPQrXo3DtPxWuR+F6FO4/uB6F61G47j9cj8L1KFzvPwAAAAAAAPA/UrgehetR8D+kcD0K16PwP/YoXI/C9fA/SOF6FK5H8T+amZmZmZnxP+xRuB6F6/E/PgrXo3A98j+PwvUoXI/yP+F6FK5H4fI/MzMzMzMz8z+F61G4HoXzP9ejcD0K1/M/KVyPwvUo9D97FK5H4Xr0P83MzMzMzPQ/H4XrUbge9T9xPQrXo3D1P8P1KFyPwvU/Fa5H4XoU9j9nZmZmZmb2P7gehetRuPY/CtejcD0K9z9cj8L1KFz3P65H4XoUrvc/AAAAAAAA+D9SuB6F61H4P6RwPQrXo/g/9ihcj8L1+D9I4XoUrkf5P5qZmZmZmfk/7FG4HoXr+T8+CtejcD36P5DC9Shcj/o/4XoUrkfh+j8zMzMzMzP7P4XrUbgehfs/16NwPQrX+z8pXI/C9Sj8P3sUrkfhevw/zczMzMzM/D8fhetRuB79P3E9CtejcP0/w/UoXI/C/T8VrkfhehT+P2dmZmZmZv4/uB6F61G4/j8K16NwPQr/P1yPwvUoXP8/rkfhehSu/z8AAAAAAAAAQA==",
                                                "dtype": "f8"
                                            },
                                            "y": {
                                                "bdata": "7xf8f3sXuL9fWPctEhWgv2BY9y0SFaA/7xf8f3sXuD91U6hnCwbEP2of0iMe7Ms/Dg4Ug/3a0T/dllfQ4a3VP8LpfPzeatk/AN5EKy4O3T/koh45EUrgP+oAsEeW/OE/CqzdQO+c4z/sskCAdynlP807f2aeoOY/3MUN7ugA6D/ykR0q80jpPwlRNa5xd+o/O8oI3TKL6z9sLD0dIIPsP+0X4vI+Xu0/1/+C/LEb7j9yNdHSubruP/ikBMq1Ou8/W+QvlCSb7z9ck+PDpNvvP4YQnS71++8/hhCdLvX77z9ck+PDpNvvP1zkL5Qkm+8/+KQEyrU67z9yNdHSubruP9f/gvyxG+4/7hfi8j5e7T9tLD0dIIPsPzzKCN0yi+s/C1E1rnF36j/zkR0q80jpP9zFDe7oAOg/zTt/Zp6g5j/sskCAdynlPwqs3UDvnOM/7ACwR5b84T/loh45EUrgPwLeRCsuDt0/wul8/N5q2T/bllfQ4a3VPwsOFIP92tE/cR/SIx7syz95U6hnCwbEP/IX/H97F7g/WFj3LRIVoD81WPctEhWgv+AX/H97F7i/cFOoZwsGxL9oH9IjHuzLvw4OFIP92tG/3pZX0OGt1b+36Xz83mrZv/fdRCsuDt2/4KIeORFK4L/nALBHlvzhvwms3UDvnOO/67JAgHcp5b/MO39mnqDmv9vFDe7oAOi/8pEdKvNI6b8HUTWucXfqvz3KCN0yi+u/bCw9HSCD7L/uF+LyPl7tv9T/gvyxG+6/cTXR0rm67r/2pATKtTrvv1vkL5Qkm++/XJPjw6Tb77+GEJ0u9fvvv4YQnS71+++/XJPjw6Tb779c5C+UJJvvv/ekBMq1Ou+/cjXR0rm67r/W/4L8sRvuv+wX4vI+Xu2/biw9HSCD7L8+ygjdMovrvwlRNa5xd+q/9JEdKvNI6b/bxQ3u6ADov847f2aeoOa/8LJAgHcp5b8LrN1A75zjv+0AsEeW/OG/46IeORFK4L8E3kQrLg7dv73pfPzeatm/7JZX0OGt1b8VDhSD/drRv4Uf0iMe7Mu/fVOoZwsGxL8aGPx/exe4vw==",
                                                "dtype": "f8"
                                            }
                                        }
                                    ],
                                    "name": "t=0.03"
                                },
                                {
                                    "data": [
                                        {
                                            "mode": "lines",
                                            "type": "scatter",
                                            "x": {
                                                "bdata": "AAAAAAAAAAB7FK5H4XqUP3sUrkfheqQ/uB6F61G4rj97FK5H4Xq0P5qZmZmZmbk/uB6F61G4vj/sUbgehevBP3sUrkfhesQ/CtejcD0Kxz+amZmZmZnJPylcj8L1KMw/uB6F61G4zj+kcD0K16PQP+xRuB6F69E/MzMzMzMz0z97FK5H4XrUP8P1KFyPwtU/CtejcD0K1z9SuB6F61HYP5qZmZmZmdk/4XoUrkfh2j8pXI/C9SjcP3E9CtejcN0/uB6F61G43j8AAAAAAADgP6RwPQrXo+A/SOF6FK5H4T/sUbgehevhP4/C9Shcj+I/MzMzMzMz4z/Xo3A9CtfjP3sUrkfheuQ/H4XrUbge5T/D9Shcj8LlP2dmZmZmZuY/CtejcD0K5z+uR+F6FK7nP1K4HoXrUeg/9ihcj8L16D+amZmZmZnpPz4K16NwPeo/4XoUrkfh6j+F61G4HoXrPylcj8L1KOw/zczMzMzM7D9xPQrXo3DtPxWuR+F6FO4/uB6F61G47j9cj8L1KFzvPwAAAAAAAPA/UrgehetR8D+kcD0K16PwP/YoXI/C9fA/SOF6FK5H8T+amZmZmZnxP+xRuB6F6/E/PgrXo3A98j+PwvUoXI/yP+F6FK5H4fI/MzMzMzMz8z+F61G4HoXzP9ejcD0K1/M/KVyPwvUo9D97FK5H4Xr0P83MzMzMzPQ/H4XrUbge9T9xPQrXo3D1P8P1KFyPwvU/Fa5H4XoU9j9nZmZmZmb2P7gehetRuPY/CtejcD0K9z9cj8L1KFz3P65H4XoUrvc/AAAAAAAA+D9SuB6F61H4P6RwPQrXo/g/9ihcj8L1+D9I4XoUrkf5P5qZmZmZmfk/7FG4HoXr+T8+CtejcD36P5DC9Shcj/o/4XoUrkfh+j8zMzMzMzP7P4XrUbgehfs/16NwPQrX+z8pXI/C9Sj8P3sUrkfhevw/zczMzMzM/D8fhetRuB79P3E9CtejcP0/w/UoXI/C/T8VrkfhehT+P2dmZmZmZv4/uB6F61G4/j8K16NwPQr/P1yPwvUoXP8/rkfhehSu/z8AAAAAAAAAQA==",
                                                "dtype": "f8"
                                            },
                                            "y": {
                                                "bdata": "4FuhXesKwL95k+AbChOwvwAAAAAAAAAAeJPgGwoTsD/gW6Fd6wrAP3l6A2Uc/Mc/lAcc+hHVzz9P6S8378bTPxipqEhaj9c/m4Elyfc/2z9Sqb9cDdXeP1ErGDx+JeE/Xlp1BCPP4j+7AbX+xmXkPxQgEVXP5+U/FrjSA7ZT5z/qa1tjC6joP6j0l5t34+k/hi5k/7sE6z9awIFOtArsP4wV3NxX9Ow/5FrvnbrA7T//VEQTDm/uP+AeEB2i/u4//gklrOVu7z8D2YBUZ7/vP/5D5L/V7+8/AAAAAAAA8D/+Q+S/1e/vPwPZgFRnv+8//wklrOVu7z/hHhAdov7uPwBVRBMOb+4/5VrvnbrA7T+LFdzcV/TsP1jAgU60Cuw/hy5k/7sE6z+o9Jebd+PpP+prW2MLqOg/FbjSA7ZT5z8VIBFVz+flP70Btf7GZeQ/X1p1BCPP4j9UKxg8fiXhP1epv1wN1d4/oIElyfc/2z8cqahIWo/XP1HpLzfvxtM/pgcc+hHVzz+HegNlHPzHP+pboV3rCsA/iJPgGwoTsD8HXBQzJqahPHeT4BsKE7C/4VuhXesKwL9+egNlHPzHv54HHPoR1c+/VekvN+/G078QqahIWo/Xv5WBJcn3P9u/TKm/XA3V3r9PKxg8fiXhv11adQQjz+K/uwG1/sZl5L8UIBFVz+flvxS40gO2U+e/62tbYwuo6L+n9Jebd+Ppv4guZP+7BOu/WcCBTrQK7L+OFdzcV/Tsv+Ja7526wO2//1REEw5v7r/fHhAdov7uv/8JJazlbu+/AtmAVGe/77/+Q+S/1e/vvwAAAAAAAPC//kPkv9Xv778D2YBUZ7/vv/8JJazlbu+/4B4QHaL+7r8AVUQTDm/uv+Na7526wO2/jxXc3Ff07L9bwIFOtArsv4ouZP+7BOu/qfSXm3fj6b/ta1tjC6jovxa40gO2U+e/FiARVc/n5b+7AbX+xmXkv2BadQQjz+K/TisYPH4l4b9Sqb9cDdXev5SBJcn3P9u/JqmoSFqP179U6S8378bTv6oHHPoR1c+/e3oDZRz8x7/uW6Fd6wrAvw==",
                                                "dtype": "f8"
                                            }
                                        }
                                    ],
                                    "name": "t=0.04"
                                },
                                {
                                    "data": [
                                        {
                                            "mode": "lines",
                                            "type": "scatter",
                                            "x": {
                                                "bdata": "AAAAAAAAAAB7FK5H4XqUP3sUrkfheqQ/uB6F61G4rj97FK5H4Xq0P5qZmZmZmbk/uB6F61G4vj/sUbgehevBP3sUrkfhesQ/CtejcD0Kxz+amZmZmZnJPylcj8L1KMw/uB6F61G4zj+kcD0K16PQP+xRuB6F69E/MzMzMzMz0z97FK5H4XrUP8P1KFyPwtU/CtejcD0K1z9SuB6F61HYP5qZmZmZmdk/4XoUrkfh2j8pXI/C9SjcP3E9CtejcN0/uB6F61G43j8AAAAAAADgP6RwPQrXo+A/SOF6FK5H4T/sUbgehevhP4/C9Shcj+I/MzMzMzMz4z/Xo3A9CtfjP3sUrkfheuQ/H4XrUbge5T/D9Shcj8LlP2dmZmZmZuY/CtejcD0K5z+uR+F6FK7nP1K4HoXrUeg/9ihcj8L16D+amZmZmZnpPz4K16NwPeo/4XoUrkfh6j+F61G4HoXrPylcj8L1KOw/zczMzMzM7D9xPQrXo3DtPxWuR+F6FO4/uB6F61G47j9cj8L1KFzvPwAAAAAAAPA/UrgehetR8D+kcD0K16PwP/YoXI/C9fA/SOF6FK5H8T+amZmZmZnxP+xRuB6F6/E/PgrXo3A98j+PwvUoXI/yP+F6FK5H4fI/MzMzMzMz8z+F61G4HoXzP9ejcD0K1/M/KVyPwvUo9D97FK5H4Xr0P83MzMzMzPQ/H4XrUbge9T9xPQrXo3D1P8P1KFyPwvU/Fa5H4XoU9j9nZmZmZmb2P7gehetRuPY/CtejcD0K9z9cj8L1KFz3P65H4XoUrvc/AAAAAAAA+D9SuB6F61H4P6RwPQrXo/g/9ihcj8L1+D9I4XoUrkf5P5qZmZmZmfk/7FG4HoXr+T8+CtejcD36P5DC9Shcj/o/4XoUrkfh+j8zMzMzMzP7P4XrUbgehfs/16NwPQrX+z8pXI/C9Sj8P3sUrkfhevw/zczMzMzM/D8fhetRuB79P3E9CtejcP0/w/UoXI/C/T8VrkfhehT+P2dmZmZmZv4/uB6F61G4/j8K16NwPQr/P1yPwvUoXP8/rkfhehSu/z8AAAAAAAAAQA==",
                                                "dtype": "f8"
                                            },
                                            "y": {
                                                "bdata": "dVOoZwsGxL/wF/x/exe4v2BY9y0SFaC/XVj3LRIVoD/vF/x/exe4P3VTqGcLBsQ/aB/SIx7syz8ODhSD/drRP9yWV9DhrdU/wul8/N5q2T8B3kQrLg7dP+OiHjkRSuA/6gCwR5b84T8LrN1A75zjP+2yQIB3KeU/zTt/Zp6g5j/cxQ3u6ADoP/KRHSrzSOk/CVE1rnF36j88ygjdMovrP2wsPR0gg+w/7Rfi8j5e7T/X/4L8sRvuP3I10dK5uu4/96QEyrU67z9c5C+UJJvvP1yT48Ok2+8/hhCdLvX77z+GEJ0u9fvvP1yT48Ok2+8/XOQvlCSb7z/4pATKtTrvP3I10dK5uu4/1/+C/LEb7j/uF+LyPl7tP20sPR0gg+w/PsoI3TKL6z8LUTWucXfqP/ORHSrzSOk/3MUN7ugA6D/NO39mnqDmP+yyQIB3KeU/DqzdQO+c4z/sALBHlvzhP+WiHjkRSuA/At5EKy4O3T/C6Xz83mrZP9uWV9DhrdU/Ew4Ug/3a0T9xH9IjHuzLP3lTqGcLBsQ/8hf8f3sXuD9YWPctEhWgPzVY9y0SFaC/4Bf8f3sXuL9wU6hnCwbEv2gf0iMe7Mu/Dg4Ug/3a0b/XllfQ4a3Vv7fpfPzeatm/991EKy4O3b/goh45EUrgv+cAsEeW/OG/CazdQO+c47/rskCAdynlv8w7f2aeoOa/28UN7ugA6L/ykR0q80jpvwdRNa5xd+q/PcoI3TKL679sLD0dIIPsv+sX4vI+Xu2/1P+C/LEb7r9xNdHSubruv/akBMq1Ou+/W+QvlCSb779ck+PDpNvvv4YQnS71+++/hhCdLvX7779ck+PDpNvvv1zkL5Qkm++/96QEyrU6779yNdHSubruv9b/gvyxG+6/8Bfi8j5e7b9uLD0dIIPsvz7KCN0yi+u/CVE1rnF36r/0kR0q80jpv9vFDe7oAOi/zjt/Zp6g5r/wskCAdynlvwus3UDvnOO/7QCwR5b84b/joh45EUrgvwTeRCsuDt2/zOl8/N5q2b/sllfQ4a3VvxUOFIP92tG/hR/SIx7sy799U6hnCwbEvw==",
                                                "dtype": "f8"
                                            }
                                        }
                                    ],
                                    "name": "t=0.05"
                                },
                                {
                                    "data": [
                                        {
                                            "mode": "lines",
                                            "type": "scatter",
                                            "x": {
                                                "bdata": "AAAAAAAAAAB7FK5H4XqUP3sUrkfheqQ/uB6F61G4rj97FK5H4Xq0P5qZmZmZmbk/uB6F61G4vj/sUbgehevBP3sUrkfhesQ/CtejcD0Kxz+amZmZmZnJPylcj8L1KMw/uB6F61G4zj+kcD0K16PQP+xRuB6F69E/MzMzMzMz0z97FK5H4XrUP8P1KFyPwtU/CtejcD0K1z9SuB6F61HYP5qZmZmZmdk/4XoUrkfh2j8pXI/C9SjcP3E9CtejcN0/uB6F61G43j8AAAAAAADgP6RwPQrXo+A/SOF6FK5H4T/sUbgehevhP4/C9Shcj+I/MzMzMzMz4z/Xo3A9CtfjP3sUrkfheuQ/H4XrUbge5T/D9Shcj8LlP2dmZmZmZuY/CtejcD0K5z+uR+F6FK7nP1K4HoXrUeg/9ihcj8L16D+amZmZmZnpPz4K16NwPeo/4XoUrkfh6j+F61G4HoXrPylcj8L1KOw/zczMzMzM7D9xPQrXo3DtPxWuR+F6FO4/uB6F61G47j9cj8L1KFzvPwAAAAAAAPA/UrgehetR8D+kcD0K16PwP/YoXI/C9fA/SOF6FK5H8T+amZmZmZnxP+xRuB6F6/E/PgrXo3A98j+PwvUoXI/yP+F6FK5H4fI/MzMzMzMz8z+F61G4HoXzP9ejcD0K1/M/KVyPwvUo9D97FK5H4Xr0P83MzMzMzPQ/H4XrUbge9T9xPQrXo3D1P8P1KFyPwvU/Fa5H4XoU9j9nZmZmZmb2P7gehetRuPY/CtejcD0K9z9cj8L1KFz3P65H4XoUrvc/AAAAAAAA+D9SuB6F61H4P6RwPQrXo/g/9ihcj8L1+D9I4XoUrkf5P5qZmZmZmfk/7FG4HoXr+T8+CtejcD36P5DC9Shcj/o/4XoUrkfh+j8zMzMzMzP7P4XrUbgehfs/16NwPQrX+z8pXI/C9Sj8P3sUrkfhevw/zczMzMzM/D8fhetRuB79P3E9CtejcP0/w/UoXI/C/T8VrkfhehT+P2dmZmZmZv4/uB6F61G4/j8K16NwPQr/P1yPwvUoXP8/rkfhehSu/z8AAAAAAAAAQA==",
                                                "dtype": "f8"
                                            },
                                            "y": {
                                                "bdata": "eHoDZRz8x7/fW6Fd6wrAv3iT4BsKE7C/AAAAAAAAAAB5k+AbChOwP+BboV3rCsA/eHoDZRz8xz+WBxz6EdXPP0/pLzfvxtM/GKmoSFqP1z+dgSXJ9z/bP1Kpv1wN1d4/USsYPH4l4T9eWnUEI8/iP7wBtf7GZeQ/EyARVc/n5T8WuNIDtlPnP+prW2MLqOg/qPSXm3fj6T+GLmT/uwTrP1rAgU60Cuw/jBXc3Ff07D/kWu+dusDtP/9URBMOb+4/4B4QHaL+7j/+CSWs5W7vPwPZgFRnv+8//kPkv9Xv7z8AAAAAAADwP/5D5L/V7+8/AtmAVGe/7z/+CSWs5W7vP+AeEB2i/u4//1REEw5v7j/kWu+dusDtP4sV3NxX9Ow/WsCBTrQK7D+HLmT/uwTrP6j0l5t34+k/6mtbYwuo6D8VuNIDtlPnPxUgEVXP5+U/vQG1/sZl5D9fWnUEI8/iP1ErGDx+JeE/UKm/XA3V3j+ZgSXJ9z/bPxWpqEhaj9c/WekvN+/G0z+mBxz6EdXPP4d6A2Uc/Mc/6luhXesKwD+Ik+AbChOwPwdcFDMmpqE8d5PgGwoTsL/hW6Fd6wrAv356A2Uc/Me/ngcc+hHVz79G6S8378bTvxCpqEhaj9e/lYElyfc/279Mqb9cDdXev08rGDx+JeG/XVp1BCPP4r+7AbX+xmXkvxQgEVXP5+W/FLjSA7ZT57/ra1tjC6jov6f0l5t34+m/iC5k/7sE679ZwIFOtArsv4oV3NxX9Oy/4lrvnbrA7b//VEQTDm/uv98eEB2i/u6//wklrOVu778C2YBUZ7/vv/5D5L/V7++/AAAAAAAA8L/+Q+S/1e/vvwPZgFRnv++//wklrOVu77/gHhAdov7uvwBVRBMOb+6/5lrvnbrA7b+PFdzcV/Tsv1vAgU60Cuy/ii5k/7sE67+p9Jebd+Ppv+1rW2MLqOi/FrjSA7ZT578WIBFVz+flv7sBtf7GZeS/YFp1BCPP4r9OKxg8fiXhv1Kpv1wN1d6/ooElyfc/278mqahIWo/Xv1TpLzfvxtO/qgcc+hHVz797egNlHPzHvw==",
                                                "dtype": "f8"
                                            }
                                        }
                                    ],
                                    "name": "t=0.06"
                                },
                                {
                                    "data": [
                                        {
                                            "mode": "lines",
                                            "type": "scatter",
                                            "x": {
                                                "bdata": "AAAAAAAAAAB7FK5H4XqUP3sUrkfheqQ/uB6F61G4rj97FK5H4Xq0P5qZmZmZmbk/uB6F61G4vj/sUbgehevBP3sUrkfhesQ/CtejcD0Kxz+amZmZmZnJPylcj8L1KMw/uB6F61G4zj+kcD0K16PQP+xRuB6F69E/MzMzMzMz0z97FK5H4XrUP8P1KFyPwtU/CtejcD0K1z9SuB6F61HYP5qZmZmZmdk/4XoUrkfh2j8pXI/C9SjcP3E9CtejcN0/uB6F61G43j8AAAAAAADgP6RwPQrXo+A/SOF6FK5H4T/sUbgehevhP4/C9Shcj+I/MzMzMzMz4z/Xo3A9CtfjP3sUrkfheuQ/H4XrUbge5T/D9Shcj8LlP2dmZmZmZuY/CtejcD0K5z+uR+F6FK7nP1K4HoXrUeg/9ihcj8L16D+amZmZmZnpPz4K16NwPeo/4XoUrkfh6j+F61G4HoXrPylcj8L1KOw/zczMzMzM7D9xPQrXo3DtPxWuR+F6FO4/uB6F61G47j9cj8L1KFzvPwAAAAAAAPA/UrgehetR8D+kcD0K16PwP/YoXI/C9fA/SOF6FK5H8T+amZmZmZnxP+xRuB6F6/E/PgrXo3A98j+PwvUoXI/yP+F6FK5H4fI/MzMzMzMz8z+F61G4HoXzP9ejcD0K1/M/KVyPwvUo9D97FK5H4Xr0P83MzMzMzPQ/H4XrUbge9T9xPQrXo3D1P8P1KFyPwvU/Fa5H4XoU9j9nZmZmZmb2P7gehetRuPY/CtejcD0K9z9cj8L1KFz3P65H4XoUrvc/AAAAAAAA+D9SuB6F61H4P6RwPQrXo/g/9ihcj8L1+D9I4XoUrkf5P5qZmZmZmfk/7FG4HoXr+T8+CtejcD36P5DC9Shcj/o/4XoUrkfh+j8zMzMzMzP7P4XrUbgehfs/16NwPQrX+z8pXI/C9Sj8P3sUrkfhevw/zczMzMzM/D8fhetRuB79P3E9CtejcP0/w/UoXI/C/T8VrkfhehT+P2dmZmZmZv4/uB6F61G4/j8K16NwPQr/P1yPwvUoXP8/rkfhehSu/z8AAAAAAAAAQA==",
                                                "dtype": "f8"
                                            },
                                            "y": {
                                                "bdata": "ah/SIx7sy791U6hnCwbEv/EX/H97F7i/ZFj3LRIVoL9dWPctEhWgP+8X/H97F7g/dFOoZwsGxD9qH9IjHuzLPw4OFIP92tE/25ZX0OGt1T/C6Xz83mrZPwDeRCsuDt0/46IeORFK4D/qALBHlvzhPwus3UDvnOM/7LJAgHcp5T/NO39mnqDmP9zFDe7oAOg/8ZEdKvNI6T8JUTWucXfqPzzKCN0yi+s/bCw9HSCD7D/tF+LyPl7tP9f/gvyxG+4/cTXR0rm67j/3pATKtTrvP1zkL5Qkm+8/XJPjw6Tb7z+GEJ0u9fvvP4YQnS71++8/XJPjw6Tb7z9b5C+UJJvvP/ikBMq1Ou8/cjXR0rm67j/X/4L8sRvuP+wX4vI+Xu0/byw9HSCD7D8+ygjdMovrPwtRNa5xd+o/85EdKvNI6T/cxQ3u6ADoP807f2aeoOY/7LJAgHcp5T8KrN1A75zjP+kAsEeW/OE/4qIeORFK4D/73UQrLg7dP7vpfPzeatk/45ZX0OGt1T8TDhSD/drRP3Ef0iMe7Ms/eVOoZwsGxD/yF/x/exe4P1hY9y0SFaA/NVj3LRIVoL/gF/x/exe4v3BTqGcLBsS/aB/SIx7sy78HDhSD/drRv9eWV9DhrdW/t+l8/N5q2b/33UQrLg7dv+CiHjkRSuC/5wCwR5b84b8JrN1A75zjv+uyQIB3KeW/zDt/Zp6g5r/bxQ3u6ADov/KRHSrzSOm/B1E1rnF36r89ygjdMovrv2wsPR0gg+y/6xfi8j5e7b/U/4L8sRvuv3E10dK5uu6/9qQEyrU6779b5C+UJJvvv1yT48Ok2++/hhCdLvX777+GEJ0u9fvvv1yT48Ok2++/XOQvlCSb77/3pATKtTrvv3I10dK5uu6/2P+C/LEb7r/wF+LyPl7tv24sPR0gg+y/PsoI3TKL678JUTWucXfqv/SRHSrzSOm/28UN7ugA6L/OO39mnqDmv/CyQIB3KeW/C6zdQO+c47/tALBHlvzhv+OiHjkRSuC/BN5EKy4O3b/M6Xz83mrZv+yWV9DhrdW/FQ4Ug/3a0b+FH9IjHuzLvw==",
                                                "dtype": "f8"
                                            }
                                        }
                                    ],
                                    "name": "t=0.07"
                                },
                                {
                                    "data": [
                                        {
                                            "mode": "lines",
                                            "type": "scatter",
                                            "x": {
                                                "bdata": "AAAAAAAAAAB7FK5H4XqUP3sUrkfheqQ/uB6F61G4rj97FK5H4Xq0P5qZmZmZmbk/uB6F61G4vj/sUbgehevBP3sUrkfhesQ/CtejcD0Kxz+amZmZmZnJPylcj8L1KMw/uB6F61G4zj+kcD0K16PQP+xRuB6F69E/MzMzMzMz0z97FK5H4XrUP8P1KFyPwtU/CtejcD0K1z9SuB6F61HYP5qZmZmZmdk/4XoUrkfh2j8pXI/C9SjcP3E9CtejcN0/uB6F61G43j8AAAAAAADgP6RwPQrXo+A/SOF6FK5H4T/sUbgehevhP4/C9Shcj+I/MzMzMzMz4z/Xo3A9CtfjP3sUrkfheuQ/H4XrUbge5T/D9Shcj8LlP2dmZmZmZuY/CtejcD0K5z+uR+F6FK7nP1K4HoXrUeg/9ihcj8L16D+amZmZmZnpPz4K16NwPeo/4XoUrkfh6j+F61G4HoXrPylcj8L1KOw/zczMzMzM7D9xPQrXo3DtPxWuR+F6FO4/uB6F61G47j9cj8L1KFzvPwAAAAAAAPA/UrgehetR8D+kcD0K16PwP/YoXI/C9fA/SOF6FK5H8T+amZmZmZnxP+xRuB6F6/E/PgrXo3A98j+PwvUoXI/yP+F6FK5H4fI/MzMzMzMz8z+F61G4HoXzP9ejcD0K1/M/KVyPwvUo9D97FK5H4Xr0P83MzMzMzPQ/H4XrUbge9T9xPQrXo3D1P8P1KFyPwvU/Fa5H4XoU9j9nZmZmZmb2P7gehetRuPY/CtejcD0K9z9cj8L1KFz3P65H4XoUrvc/AAAAAAAA+D9SuB6F61H4P6RwPQrXo/g/9ihcj8L1+D9I4XoUrkf5P5qZmZmZmfk/7FG4HoXr+T8+CtejcD36P5DC9Shcj/o/4XoUrkfh+j8zMzMzMzP7P4XrUbgehfs/16NwPQrX+z8pXI/C9Sj8P3sUrkfhevw/zczMzMzM/D8fhetRuB79P3E9CtejcP0/w/UoXI/C/T8VrkfhehT+P2dmZmZmZv4/uB6F61G4/j8K16NwPQr/P1yPwvUoXP8/rkfhehSu/z8AAAAAAAAAQA==",
                                                "dtype": "f8"
                                            },
                                            "y": {
                                                "bdata": "lgcc+hHVz794egNlHPzHv+BboV3rCsC/eZPgGwoTsL8AAAAAAAAAAHmT4BsKE7A/31uhXesKwD96egNlHPzHP5YHHPoR1c8/T+kvN+/G0z8ZqahIWo/XP52BJcn3P9s/UKm/XA3V3j9RKxg8fiXhP15adQQjz+I/uwG1/sZl5D8TIBFVz+flPxa40gO2U+c/6WtbYwuo6D+o9Jebd+PpP4YuZP+7BOs/WcCBTrQK7D+MFdzcV/TsP+Ra7526wO0//1REEw5v7j/gHhAdov7uP/4JJazlbu8/A9mAVGe/7z/+Q+S/1e/vPwAAAAAAAPA//kPkv9Xv7z8C2YBUZ7/vP/4JJazlbu8/4B4QHaL+7j//VEQTDm/uP+Ra7526wO0/ixXc3Ff07D9YwIFOtArsP4UuZP+7BOs/qPSXm3fj6T/qa1tjC6joPxW40gO2U+c/FSARVc/n5T+9AbX+xmXkP19adQQjz+I/USsYPH4l4T9Qqb9cDdXeP5mBJcn3P9s/HKmoSFqP1z9R6S8378bTP5cHHPoR1c8/d3oDZRz8xz/aW6Fd6wrAP2iT4BsKE7A/B1wUMyamoTx3k+AbChOwv+FboV3rCsC/fnoDZRz8x79/Bxz6EdXPv0bpLzfvxtO/EKmoSFqP17+VgSXJ9z/bv0ypv1wN1d6/TysYPH4l4b9dWnUEI8/iv7sBtf7GZeS/FCARVc/n5b8UuNIDtlPnv+trW2MLqOi/p/SXm3fj6b+ILmT/uwTrv1XAgU60Cuy/ihXc3Ff07L/iWu+dusDtv/9URBMOb+6/3x4QHaL+7r//CSWs5W7vvwLZgFRnv++//kPkv9Xv778AAAAAAADwv/5D5L/V7++/A9mAVGe/77//CSWs5W7vv+AeEB2i/u6/AFVEEw5v7r/mWu+dusDtv48V3NxX9Oy/W8CBTrQK7L+KLmT/uwTrv6n0l5t34+m/7WtbYwuo6L8WuNIDtlPnvxYgEVXP5+W/uwG1/sZl5L9gWnUEI8/iv04rGDx+JeG/YKm/XA3V3r+igSXJ9z/bvyapqEhaj9e/VOkvN+/G07+qBxz6EdXPvw==",
                                                "dtype": "f8"
                                            }
                                        }
                                    ],
                                    "name": "t=0.08"
                                },
                                {
                                    "data": [
                                        {
                                            "mode": "lines",
                                            "type": "scatter",
                                            "x": {
                                                "bdata": "AAAAAAAAAAB7FK5H4XqUP3sUrkfheqQ/uB6F61G4rj97FK5H4Xq0P5qZmZmZmbk/uB6F61G4vj/sUbgehevBP3sUrkfhesQ/CtejcD0Kxz+amZmZmZnJPylcj8L1KMw/uB6F61G4zj+kcD0K16PQP+xRuB6F69E/MzMzMzMz0z97FK5H4XrUP8P1KFyPwtU/CtejcD0K1z9SuB6F61HYP5qZmZmZmdk/4XoUrkfh2j8pXI/C9SjcP3E9CtejcN0/uB6F61G43j8AAAAAAADgP6RwPQrXo+A/SOF6FK5H4T/sUbgehevhP4/C9Shcj+I/MzMzMzMz4z/Xo3A9CtfjP3sUrkfheuQ/H4XrUbge5T/D9Shcj8LlP2dmZmZmZuY/CtejcD0K5z+uR+F6FK7nP1K4HoXrUeg/9ihcj8L16D+amZmZmZnpPz4K16NwPeo/4XoUrkfh6j+F61G4HoXrPylcj8L1KOw/zczMzMzM7D9xPQrXo3DtPxWuR+F6FO4/uB6F61G47j9cj8L1KFzvPwAAAAAAAPA/UrgehetR8D+kcD0K16PwP/YoXI/C9fA/SOF6FK5H8T+amZmZmZnxP+xRuB6F6/E/PgrXo3A98j+PwvUoXI/yP+F6FK5H4fI/MzMzMzMz8z+F61G4HoXzP9ejcD0K1/M/KVyPwvUo9D97FK5H4Xr0P83MzMzMzPQ/H4XrUbge9T9xPQrXo3D1P8P1KFyPwvU/Fa5H4XoU9j9nZmZmZmb2P7gehetRuPY/CtejcD0K9z9cj8L1KFz3P65H4XoUrvc/AAAAAAAA+D9SuB6F61H4P6RwPQrXo/g/9ihcj8L1+D9I4XoUrkf5P5qZmZmZmfk/7FG4HoXr+T8+CtejcD36P5DC9Shcj/o/4XoUrkfh+j8zMzMzMzP7P4XrUbgehfs/16NwPQrX+z8pXI/C9Sj8P3sUrkfhevw/zczMzMzM/D8fhetRuB79P3E9CtejcP0/w/UoXI/C/T8VrkfhehT+P2dmZmZmZv4/uB6F61G4/j8K16NwPQr/P1yPwvUoXP8/rkfhehSu/z8AAAAAAAAAQA==",
                                                "dtype": "f8"
                                            },
                                            "y": {
                                                "bdata": "Dg4Ug/3a0b9oH9IjHuzLv3VTqGcLBsS/7xf8f3sXuL9dWPctEhWgv2RY9y0SFaA/7xf8f3sXuD93U6hnCwbEP2of0iMe7Ms/Dg4Ug/3a0T/dllfQ4a3VP8LpfPzeatk/AN5EKy4O3T/koh45EUrgP+oAsEeW/OE/CqzdQO+c4z/sskCAdynlP807f2aeoOY/3MUN7ugA6D/ykR0q80jpPwlRNa5xd+o/O8oI3TKL6z9sLD0dIIPsP+0X4vI+Xu0/1/+C/LEb7j9yNdHSubruP/ikBMq1Ou8/XOQvlCSb7z9ck+PDpNvvP4YQnS71++8/hhCdLvX77z9ck+PDpNvvP1vkL5Qkm+8/+KQEyrU67z9yNdHSubruP9f/gvyxG+4/7hfi8j5e7T9tLD0dIIPsPzzKCN0yi+s/CFE1rnF36j/xkR0q80jpP9rFDe7oAOg/zTt/Zp6g5j/sskCAdynlPwqs3UDvnOM/6QCwR5b84T/ioh45EUrgP/vdRCsuDt0/wul8/N5q2T/bllfQ4a3VPwsOFIP92tE/YR/SIx7syz95U6hnCwbEP/IX/H97F7g/WFj3LRIVoD81WPctEhWgv+AX/H97F7i/cFOoZwsGxL9YH9IjHuzLvwcOFIP92tG/15ZX0OGt1b+36Xz83mrZv/fdRCsuDt2/4KIeORFK4L/nALBHlvzhvwms3UDvnOO/67JAgHcp5b/MO39mnqDmv9vFDe7oAOi/8pEdKvNI6b8HUTWucXfqvznKCN0yi+u/bCw9HSCD7L/rF+LyPl7tv9T/gvyxG+6/cTXR0rm67r/2pATKtTrvv1vkL5Qkm++/XJPjw6Tb77+GEJ0u9fvvv4YQnS71+++/XJPjw6Tb779c5C+UJJvvv/ekBMq1Ou+/dDXR0rm67r/Y/4L8sRvuv/AX4vI+Xu2/biw9HSCD7L8+ygjdMovrvwlRNa5xd+q/9JEdKvNI6b/bxQ3u6ADov847f2aeoOa/8LJAgHcp5b8LrN1A75zjv+0AsEeW/OG/6qIeORFK4L8E3kQrLg7dv8zpfPzeatm/7JZX0OGt1b8VDhSD/drRvw==",
                                                "dtype": "f8"
                                            }
                                        }
                                    ],
                                    "name": "t=0.09"
                                },
                                {
                                    "data": [
                                        {
                                            "mode": "lines",
                                            "type": "scatter",
                                            "x": {
                                                "bdata": "AAAAAAAAAAB7FK5H4XqUP3sUrkfheqQ/uB6F61G4rj97FK5H4Xq0P5qZmZmZmbk/uB6F61G4vj/sUbgehevBP3sUrkfhesQ/CtejcD0Kxz+amZmZmZnJPylcj8L1KMw/uB6F61G4zj+kcD0K16PQP+xRuB6F69E/MzMzMzMz0z97FK5H4XrUP8P1KFyPwtU/CtejcD0K1z9SuB6F61HYP5qZmZmZmdk/4XoUrkfh2j8pXI/C9SjcP3E9CtejcN0/uB6F61G43j8AAAAAAADgP6RwPQrXo+A/SOF6FK5H4T/sUbgehevhP4/C9Shcj+I/MzMzMzMz4z/Xo3A9CtfjP3sUrkfheuQ/H4XrUbge5T/D9Shcj8LlP2dmZmZmZuY/CtejcD0K5z+uR+F6FK7nP1K4HoXrUeg/9ihcj8L16D+amZmZmZnpPz4K16NwPeo/4XoUrkfh6j+F61G4HoXrPylcj8L1KOw/zczMzMzM7D9xPQrXo3DtPxWuR+F6FO4/uB6F61G47j9cj8L1KFzvPwAAAAAAAPA/UrgehetR8D+kcD0K16PwP/YoXI/C9fA/SOF6FK5H8T+amZmZmZnxP+xRuB6F6/E/PgrXo3A98j+PwvUoXI/yP+F6FK5H4fI/MzMzMzMz8z+F61G4HoXzP9ejcD0K1/M/KVyPwvUo9D97FK5H4Xr0P83MzMzMzPQ/H4XrUbge9T9xPQrXo3D1P8P1KFyPwvU/Fa5H4XoU9j9nZmZmZmb2P7gehetRuPY/CtejcD0K9z9cj8L1KFz3P65H4XoUrvc/AAAAAAAA+D9SuB6F61H4P6RwPQrXo/g/9ihcj8L1+D9I4XoUrkf5P5qZmZmZmfk/7FG4HoXr+T8+CtejcD36P5DC9Shcj/o/4XoUrkfh+j8zMzMzMzP7P4XrUbgehfs/16NwPQrX+z8pXI/C9Sj8P3sUrkfhevw/zczMzMzM/D8fhetRuB79P3E9CtejcP0/w/UoXI/C/T8VrkfhehT+P2dmZmZmZv4/uB6F61G4/j8K16NwPQr/P1yPwvUoXP8/rkfhehSu/z8AAAAAAAAAQA==",
                                                "dtype": "f8"
                                            },
                                            "y": {
                                                "bdata": "T+kvN+/G07+WBxz6EdXPv3l6A2Uc/Me/4FuhXesKwL95k+AbChOwvwAAAAAAAAAAdpPgGwoTsD/gW6Fd6wrAP3h6A2Uc/Mc/lAcc+hHVzz9P6S8378bTPxipqEhaj9c/m4Elyfc/2z9Sqb9cDdXeP1ErGDx+JeE/Xlp1BCPP4j+7AbX+xmXkPxQgEVXP5+U/FrjSA7ZT5z/qa1tjC6joP6j0l5t34+k/hS5k/7sE6z9ZwIFOtArsP4wV3NxX9Ow/5FrvnbrA7T//VEQTDm/uP+AeEB2i/u4//wklrOVu7z8D2YBUZ7/vP/5D5L/V7+8/AAAAAAAA8D/+Q+S/1e/vPwLZgFRnv+8//gklrOVu7z/gHhAdov7uP/9URBMOb+4/5VrvnbrA7T+LFdzcV/TsP1jAgU60Cuw/hS5k/7sE6z+o9Jebd+PpP+prW2MLqOg/FbjSA7ZT5z8VIBFVz+flP70Btf7GZeQ/X1p1BCPP4j9RKxg8fiXhP1Cpv1wN1d4/oIElyfc/2z8cqahIWo/XP1HpLzfvxtM/lwcc+hHVzz93egNlHPzHP9pboV3rCsA/aJPgGwoTsD8HXBQzJqahPHeT4BsKE7C/4VuhXesKwL9eegNlHPzHv38HHPoR1c+/RukvN+/G078QqahIWo/Xv5WBJcn3P9u/TKm/XA3V3r9PKxg8fiXhv11adQQjz+K/uwG1/sZl5L8UIBFVz+flvxS40gO2U+e/62tbYwuo6L+n9Jebd+Ppv4MuZP+7BOu/VcCBTrQK7L+KFdzcV/Tsv+Ja7526wO2//1REEw5v7r/fHhAdov7uv/8JJazlbu+/AtmAVGe/77/+Q+S/1e/vvwAAAAAAAPC//kPkv9Xv778D2YBUZ7/vv/8JJazlbu+/4h4QHaL+7r8AVUQTDm/uv+Za7526wO2/jxXc3Ff07L9bwIFOtArsv4ouZP+7BOu/qfSXm3fj6b/ta1tjC6jovxa40gO2U+e/FiARVc/n5b+7AbX+xmXkv2BadQQjz+K/VSsYPH4l4b9gqb9cDdXev6KBJcn3P9u/JqmoSFqP179U6S8378bTvw==",
                                                "dtype": "f8"
                                            }
                                        }
                                    ],
                                    "name": "t=0.10"
                                },
                                {
                                    "data": [
                                        {
                                            "mode": "lines",
                                            "type": "scatter",
                                            "x": {
                                                "bdata": "AAAAAAAAAAB7FK5H4XqUP3sUrkfheqQ/uB6F61G4rj97FK5H4Xq0P5qZmZmZmbk/uB6F61G4vj/sUbgehevBP3sUrkfhesQ/CtejcD0Kxz+amZmZmZnJPylcj8L1KMw/uB6F61G4zj+kcD0K16PQP+xRuB6F69E/MzMzMzMz0z97FK5H4XrUP8P1KFyPwtU/CtejcD0K1z9SuB6F61HYP5qZmZmZmdk/4XoUrkfh2j8pXI/C9SjcP3E9CtejcN0/uB6F61G43j8AAAAAAADgP6RwPQrXo+A/SOF6FK5H4T/sUbgehevhP4/C9Shcj+I/MzMzMzMz4z/Xo3A9CtfjP3sUrkfheuQ/H4XrUbge5T/D9Shcj8LlP2dmZmZmZuY/CtejcD0K5z+uR+F6FK7nP1K4HoXrUeg/9ihcj8L16D+amZmZmZnpPz4K16NwPeo/4XoUrkfh6j+F61G4HoXrPylcj8L1KOw/zczMzMzM7D9xPQrXo3DtPxWuR+F6FO4/uB6F61G47j9cj8L1KFzvPwAAAAAAAPA/UrgehetR8D+kcD0K16PwP/YoXI/C9fA/SOF6FK5H8T+amZmZmZnxP+xRuB6F6/E/PgrXo3A98j+PwvUoXI/yP+F6FK5H4fI/MzMzMzMz8z+F61G4HoXzP9ejcD0K1/M/KVyPwvUo9D97FK5H4Xr0P83MzMzMzPQ/H4XrUbge9T9xPQrXo3D1P8P1KFyPwvU/Fa5H4XoU9j9nZmZmZmb2P7gehetRuPY/CtejcD0K9z9cj8L1KFz3P65H4XoUrvc/AAAAAAAA+D9SuB6F61H4P6RwPQrXo/g/9ihcj8L1+D9I4XoUrkf5P5qZmZmZmfk/7FG4HoXr+T8+CtejcD36P5DC9Shcj/o/4XoUrkfh+j8zMzMzMzP7P4XrUbgehfs/16NwPQrX+z8pXI/C9Sj8P3sUrkfhevw/zczMzMzM/D8fhetRuB79P3E9CtejcP0/w/UoXI/C/T8VrkfhehT+P2dmZmZmZv4/uB6F61G4/j8K16NwPQr/P1yPwvUoXP8/rkfhehSu/z8AAAAAAAAAQA==",
                                                "dtype": "f8"
                                            },
                                            "y": {
                                                "bdata": "3JZX0OGt1b8ODhSD/drRv2of0iMe7Mu/dVOoZwsGxL/vF/x/exe4v11Y9y0SFaC/XVj3LRIVoD/yF/x/exe4P3VTqGcLBsQ/aB/SIx7syz8ODhSD/drRP9yWV9DhrdU/wul8/N5q2T8B3kQrLg7dP+SiHjkRSuA/6gCwR5b84T8LrN1A75zjP+2yQIB3KeU/zTt/Zp6g5j/cxQ3u6ADoP/KRHSrzSOk/CVE1rnF36j88ygjdMovrP2wsPR0gg+w/7Rfi8j5e7T/X/4L8sRvuP3I10dK5uu4/+KQEyrU67z9c5C+UJJvvP1yT48Ok2+8/hhCdLvX77z+GEJ0u9fvvP1yT48Ok2+8/W+QvlCSb7z/4pATKtTrvP3I10dK5uu4/1/+C/LEb7j/uF+LyPl7tP20sPR0gg+w/PMoI3TKL6z8IUTWucXfqP/GRHSrzSOk/3MUN7ugA6D/NO39mnqDmP+yyQIB3KeU/CqzdQO+c4z/pALBHlvzhP+KiHjkRSuA/At5EKy4O3T/C6Xz83mrZP9uWV9DhrdU/Cw4Ug/3a0T9hH9IjHuzLP3lTqGcLBsQ/8hf8f3sXuD9YWPctEhWgPzVY9y0SFaC/4Bf8f3sXuL9hU6hnCwbEv1gf0iMe7Mu/Bw4Ug/3a0b/XllfQ4a3Vv7fpfPzeatm/991EKy4O3b/goh45EUrgv+cAsEeW/OG/CazdQO+c47/rskCAdynlv8w7f2aeoOa/28UN7ugA6L/ykR0q80jpvwdRNa5xd+q/OcoI3TKL679sLD0dIIPsv+sX4vI+Xu2/1P+C/LEb7r9xNdHSubruv/akBMq1Ou+/W+QvlCSb779ck+PDpNvvv4YQnS71+++/hhCdLvX7779ck+PDpNvvv1zkL5Qkm++/+aQEyrU67790NdHSubruv9j/gvyxG+6/8Bfi8j5e7b9uLD0dIIPsvz7KCN0yi+u/CVE1rnF36r/0kR0q80jpv9vFDe7oAOi/zjt/Zp6g5r/wskCAdynlvwus3UDvnOO/7QCwR5b84b/qoh45EUrgvwTeRCsuDt2/zOl8/N5q2b/sllfQ4a3Vvw==",
                                                "dtype": "f8"
                                            }
                                        }
                                    ],
                                    "name": "t=0.11"
                                },
                                {
                                    "data": [
                                        {
                                            "mode": "lines",
                                            "type": "scatter",
                                            "x": {
                                                "bdata": "AAAAAAAAAAB7FK5H4XqUP3sUrkfheqQ/uB6F61G4rj97FK5H4Xq0P5qZmZmZmbk/uB6F61G4vj/sUbgehevBP3sUrkfhesQ/CtejcD0Kxz+amZmZmZnJPylcj8L1KMw/uB6F61G4zj+kcD0K16PQP+xRuB6F69E/MzMzMzMz0z97FK5H4XrUP8P1KFyPwtU/CtejcD0K1z9SuB6F61HYP5qZmZmZmdk/4XoUrkfh2j8pXI/C9SjcP3E9CtejcN0/uB6F61G43j8AAAAAAADgP6RwPQrXo+A/SOF6FK5H4T/sUbgehevhP4/C9Shcj+I/MzMzMzMz4z/Xo3A9CtfjP3sUrkfheuQ/H4XrUbge5T/D9Shcj8LlP2dmZmZmZuY/CtejcD0K5z+uR+F6FK7nP1K4HoXrUeg/9ihcj8L16D+amZmZmZnpPz4K16NwPeo/4XoUrkfh6j+F61G4HoXrPylcj8L1KOw/zczMzMzM7D9xPQrXo3DtPxWuR+F6FO4/uB6F61G47j9cj8L1KFzvPwAAAAAAAPA/UrgehetR8D+kcD0K16PwP/YoXI/C9fA/SOF6FK5H8T+amZmZmZnxP+xRuB6F6/E/PgrXo3A98j+PwvUoXI/yP+F6FK5H4fI/MzMzMzMz8z+F61G4HoXzP9ejcD0K1/M/KVyPwvUo9D97FK5H4Xr0P83MzMzMzPQ/H4XrUbge9T9xPQrXo3D1P8P1KFyPwvU/Fa5H4XoU9j9nZmZmZmb2P7gehetRuPY/CtejcD0K9z9cj8L1KFz3P65H4XoUrvc/AAAAAAAA+D9SuB6F61H4P6RwPQrXo/g/9ihcj8L1+D9I4XoUrkf5P5qZmZmZmfk/7FG4HoXr+T8+CtejcD36P5DC9Shcj/o/4XoUrkfh+j8zMzMzMzP7P4XrUbgehfs/16NwPQrX+z8pXI/C9Sj8P3sUrkfhevw/zczMzMzM/D8fhetRuB79P3E9CtejcP0/w/UoXI/C/T8VrkfhehT+P2dmZmZmZv4/uB6F61G4/j8K16NwPQr/P1yPwvUoXP8/rkfhehSu/z8AAAAAAAAAQA==",
                                                "dtype": "f8"
                                            },
                                            "y": {
                                                "bdata": "GKmoSFqP179P6S8378bTv5QHHPoR1c+/eHoDZRz8x7/fW6Fd6wrAv3aT4BsKE7C/AAAAAAAAAAB9k+AbChOwP+BboV3rCsA/eHoDZRz8xz+WBxz6EdXPP0/pLzfvxtM/GKmoSFqP1z+dgSXJ9z/bP1Kpv1wN1d4/USsYPH4l4T9eWnUEI8/iP7wBtf7GZeQ/EyARVc/n5T8WuNIDtlPnP+prW2MLqOg/qPSXm3fj6T+GLmT/uwTrP1rAgU60Cuw/jBXc3Ff07D/kWu+dusDtP/9URBMOb+4/4B4QHaL+7j//CSWs5W7vPwLZgFRnv+8//kPkv9Xv7z8AAAAAAADwP/5D5L/V7+8/AtmAVGe/7z/+CSWs5W7vP+AeEB2i/u4/AFVEEw5v7j/lWu+dusDtP4sV3NxX9Ow/WMCBTrQK7D+FLmT/uwTrP6j0l5t34+k/6mtbYwuo6D8VuNIDtlPnPxUgEVXP5+U/vQG1/sZl5D9fWnUEI8/iP1ErGDx+JeE/V6m/XA3V3j+ggSXJ9z/bPxypqEhaj9c/UekvN+/G0z+XBxz6EdXPP3d6A2Uc/Mc/2luhXesKwD9ok+AbChOwPwdcFDMmpqE8d5PgGwoTsL/hW6Fd6wrAv356A2Uc/Me/ngcc+hHVz79V6S8378bTvx+pqEhaj9e/nIElyfc/279Tqb9cDdXev1IrGDx+JeG/YFp1BCPP4r++AbX+xmXkvxYgEVXP5+W/GbjSA7ZT57/ra1tjC6jov6L0l5t34+m/gy5k/7sE679VwIFOtArsv4oV3NxX9Oy/4lrvnbrA7b//VEQTDm/uv98eEB2i/u6//wklrOVu778C2YBUZ7/vv/5D5L/V7++/AAAAAAAA8L/+Q+S/1e/vvwPZgFRnv++//wklrOVu77/gHhAdov7uvwBVRBMOb+6/41rvnbrA7b+MFdzcV/Tsv1fAgU60Cuy/hS5k/7sE67+k9Jebd+Ppv+hrW2MLqOi/ELjSA7ZT578QIBFVz+flv7sBtf7GZeS/Zlp1BCPP4r9VKxg8fiXhv2Cpv1wN1d6/ooElyfc/278mqahIWo/Xvw==",
                                                "dtype": "f8"
                                            }
                                        }
                                    ],
                                    "name": "t=0.12"
                                },
                                {
                                    "data": [
                                        {
                                            "mode": "lines",
                                            "type": "scatter",
                                            "x": {
                                                "bdata": "AAAAAAAAAAB7FK5H4XqUP3sUrkfheqQ/uB6F61G4rj97FK5H4Xq0P5qZmZmZmbk/uB6F61G4vj/sUbgehevBP3sUrkfhesQ/CtejcD0Kxz+amZmZmZnJPylcj8L1KMw/uB6F61G4zj+kcD0K16PQP+xRuB6F69E/MzMzMzMz0z97FK5H4XrUP8P1KFyPwtU/CtejcD0K1z9SuB6F61HYP5qZmZmZmdk/4XoUrkfh2j8pXI/C9SjcP3E9CtejcN0/uB6F61G43j8AAAAAAADgP6RwPQrXo+A/SOF6FK5H4T/sUbgehevhP4/C9Shcj+I/MzMzMzMz4z/Xo3A9CtfjP3sUrkfheuQ/H4XrUbge5T/D9Shcj8LlP2dmZmZmZuY/CtejcD0K5z+uR+F6FK7nP1K4HoXrUeg/9ihcj8L16D+amZmZmZnpPz4K16NwPeo/4XoUrkfh6j+F61G4HoXrPylcj8L1KOw/zczMzMzM7D9xPQrXo3DtPxWuR+F6FO4/uB6F61G47j9cj8L1KFzvPwAAAAAAAPA/UrgehetR8D+kcD0K16PwP/YoXI/C9fA/SOF6FK5H8T+amZmZmZnxP+xRuB6F6/E/PgrXo3A98j+PwvUoXI/yP+F6FK5H4fI/MzMzMzMz8z+F61G4HoXzP9ejcD0K1/M/KVyPwvUo9D97FK5H4Xr0P83MzMzMzPQ/H4XrUbge9T9xPQrXo3D1P8P1KFyPwvU/Fa5H4XoU9j9nZmZmZmb2P7gehetRuPY/CtejcD0K9z9cj8L1KFz3P65H4XoUrvc/AAAAAAAA+D9SuB6F61H4P6RwPQrXo/g/9ihcj8L1+D9I4XoUrkf5P5qZmZmZmfk/7FG4HoXr+T8+CtejcD36P5DC9Shcj/o/4XoUrkfh+j8zMzMzMzP7P4XrUbgehfs/16NwPQrX+z8pXI/C9Sj8P3sUrkfhevw/zczMzMzM/D8fhetRuB79P3E9CtejcP0/w/UoXI/C/T8VrkfhehT+P2dmZmZmZv4/uB6F61G4/j8K16NwPQr/P1yPwvUoXP8/rkfhehSu/z8AAAAAAAAAQA==",
                                                "dtype": "f8"
                                            },
                                            "y": {
                                                "bdata": "wul8/N5q2b/cllfQ4a3Vvw4OFIP92tG/ah/SIx7sy791U6hnCwbEv+8X/H97F7i/ZFj3LRIVoL9kWPctEhWgP+8X/H97F7g/dFOoZwsGxD9qH9IjHuzLPw4OFIP92tE/25ZX0OGt1T/C6Xz83mrZPwHeRCsuDt0/46IeORFK4D/qALBHlvzhPwus3UDvnOM/7LJAgHcp5T/NO39mnqDmP9zFDe7oAOg/8ZEdKvNI6T8JUTWucXfqPzzKCN0yi+s/bCw9HSCD7D/tF+LyPl7tP9f/gvyxG+4/cjXR0rm67j/4pATKtTrvP1vkL5Qkm+8/XJPjw6Tb7z+GEJ0u9fvvP4YQnS71++8/XJPjw6Tb7z9b5C+UJJvvP/ikBMq1Ou8/cjXR0rm67j/X/4L8sRvuP+4X4vI+Xu0/bSw9HSCD7D88ygjdMovrPwhRNa5xd+o/85EdKvNI6T/cxQ3u6ADoP807f2aeoOY/7LJAgHcp5T8KrN1A75zjP+kAsEeW/OE/5aIeORFK4D8C3kQrLg7dP8LpfPzeatk/25ZX0OGt1T8LDhSD/drRP2Ef0iMe7Ms/eVOoZwsGxD/yF/x/exe4P1hY9y0SFaA/tVj3LRIVoL/AF/x/exe4v2FTqGcLBsS/WB/SIx7sy78HDhSD/drRv9eWV9DhrdW/t+l8/N5q2b/33UQrLg7dv+CiHjkRSuC/5wCwR5b84b8JrN1A75zjv+uyQIB3KeW/zDt/Zp6g5r/bxQ3u6ADov/KRHSrzSOm/B1E1rnF36r89ygjdMovrv2wsPR0gg+y/7hfi8j5e7b/X/4L8sRvuv3M10dK5uu6/+KQEyrU6779d5C+UJJvvv1yT48Ok2++/hhCdLvX777+FEJ0u9fvvv1yT48Ok2++/XeQvlCSb77/5pATKtTrvv3Q10dK5uu6/2P+C/LEb7r/wF+LyPl7tv24sPR0gg+y/PsoI3TKL678JUTWucXfqv/SRHSrzSOm/28UN7ugA6L/OO39mnqDmv/CyQIB3KeW/C6zdQO+c47/tALBHlvzhv+OiHjkRSuC/BN5EKy4O3b+96Xz83mrZvw==",
                                                "dtype": "f8"
                                            }
                                        }
                                    ],
                                    "name": "t=0.13"
                                },
                                {
                                    "data": [
                                        {
                                            "mode": "lines",
                                            "type": "scatter",
                                            "x": {
                                                "bdata": "AAAAAAAAAAB7FK5H4XqUP3sUrkfheqQ/uB6F61G4rj97FK5H4Xq0P5qZmZmZmbk/uB6F61G4vj/sUbgehevBP3sUrkfhesQ/CtejcD0Kxz+amZmZmZnJPylcj8L1KMw/uB6F61G4zj+kcD0K16PQP+xRuB6F69E/MzMzMzMz0z97FK5H4XrUP8P1KFyPwtU/CtejcD0K1z9SuB6F61HYP5qZmZmZmdk/4XoUrkfh2j8pXI/C9SjcP3E9CtejcN0/uB6F61G43j8AAAAAAADgP6RwPQrXo+A/SOF6FK5H4T/sUbgehevhP4/C9Shcj+I/MzMzMzMz4z/Xo3A9CtfjP3sUrkfheuQ/H4XrUbge5T/D9Shcj8LlP2dmZmZmZuY/CtejcD0K5z+uR+F6FK7nP1K4HoXrUeg/9ihcj8L16D+amZmZmZnpPz4K16NwPeo/4XoUrkfh6j+F61G4HoXrPylcj8L1KOw/zczMzMzM7D9xPQrXo3DtPxWuR+F6FO4/uB6F61G47j9cj8L1KFzvPwAAAAAAAPA/UrgehetR8D+kcD0K16PwP/YoXI/C9fA/SOF6FK5H8T+amZmZmZnxP+xRuB6F6/E/PgrXo3A98j+PwvUoXI/yP+F6FK5H4fI/MzMzMzMz8z+F61G4HoXzP9ejcD0K1/M/KVyPwvUo9D97FK5H4Xr0P83MzMzMzPQ/H4XrUbge9T9xPQrXo3D1P8P1KFyPwvU/Fa5H4XoU9j9nZmZmZmb2P7gehetRuPY/CtejcD0K9z9cj8L1KFz3P65H4XoUrvc/AAAAAAAA+D9SuB6F61H4P6RwPQrXo/g/9ihcj8L1+D9I4XoUrkf5P5qZmZmZmfk/7FG4HoXr+T8+CtejcD36P5DC9Shcj/o/4XoUrkfh+j8zMzMzMzP7P4XrUbgehfs/16NwPQrX+z8pXI/C9Sj8P3sUrkfhevw/zczMzMzM/D8fhetRuB79P3E9CtejcP0/w/UoXI/C/T8VrkfhehT+P2dmZmZmZv4/uB6F61G4/j8K16NwPQr/P1yPwvUoXP8/rkfhehSu/z8AAAAAAAAAQA==",
                                                "dtype": "f8"
                                            },
                                            "y": {
                                                "bdata": "nYElyfc/278ZqahIWo/Xv0/pLzfvxtO/lgcc+hHVz796egNlHPzHv+BboV3rCsC/fZPgGwoTsL8AAAAAAAAAAHaT4BsKE7A/3VuhXesKwD94egNlHPzHP5QHHPoR1c8/TukvN+/G0z8YqahIWo/XP52BJcn3P9s/UKm/XA3V3j9RKxg8fiXhP15adQQjz+I/uwG1/sZl5D8TIBFVz+flPxa40gO2U+c/6WtbYwuo6D+o9Jebd+PpP4YuZP+7BOs/WcCBTrQK7D+MFdzcV/TsP+Ra7526wO0//1REEw5v7j/gHhAdov7uP/4JJazlbu8/AtmAVGe/7z/+Q+S/1e/vPwAAAAAAAPA//kPkv9Xv7z8C2YBUZ7/vP/4JJazlbu8/4R4QHaL+7j8AVUQTDm/uP+Va7526wO0/ixXc3Ff07D9YwIFOtArsP4UuZP+7BOs/qPSXm3fj6T/qa1tjC6joPxW40gO2U+c/FSARVc/n5T+9AbX+xmXkP19adQQjz+I/VCsYPH4l4T9Xqb9cDdXeP6CBJcn3P9s/HKmoSFqP1z9R6S8378bTP5cHHPoR1c8/d3oDZRz8xz/aW6Fd6wrAP2iT4BsKE7A/B1wUMyamoTx3k+AbChOwv+FboV3rCsC/fnoDZRz8x7+eBxz6EdXPv1XpLzfvxtO/H6moSFqP17+cgSXJ9z/bv1Opv1wN1d6/UisYPH4l4b9gWnUEI8/iv74Btf7GZeS/FiARVc/n5b8ZuNIDtlPnv+ZrW2MLqOi/ovSXm3fj6b+DLmT/uwTrv1XAgU60Cuy/ihXc3Ff07L/iWu+dusDtv/9URBMOb+6/3x4QHaL+7r//CSWs5W7vvwLZgFRnv++//kPkv9Xv778AAAAAAADwv/5D5L/V7++/A9mAVGe/77//CSWs5W7vv+AeEB2i/u6/AFVEEw5v7r/jWu+dusDtv4wV3NxX9Oy/V8CBTrQK7L+FLmT/uwTrv6T0l5t34+m/6GtbYwuo6L8QuNIDtlPnvxAgEVXP5+W/wQG1/sZl5L9mWnUEI8/iv1UrGDx+JeG/YKm/XA3V3r+igSXJ9z/bvw==",
                                                "dtype": "f8"
                                            }
                                        }
                                    ],
                                    "name": "t=0.14"
                                },
                                {
                                    "data": [
                                        {
                                            "mode": "lines",
                                            "type": "scatter",
                                            "x": {
                                                "bdata": "AAAAAAAAAAB7FK5H4XqUP3sUrkfheqQ/uB6F61G4rj97FK5H4Xq0P5qZmZmZmbk/uB6F61G4vj/sUbgehevBP3sUrkfhesQ/CtejcD0Kxz+amZmZmZnJPylcj8L1KMw/uB6F61G4zj+kcD0K16PQP+xRuB6F69E/MzMzMzMz0z97FK5H4XrUP8P1KFyPwtU/CtejcD0K1z9SuB6F61HYP5qZmZmZmdk/4XoUrkfh2j8pXI/C9SjcP3E9CtejcN0/uB6F61G43j8AAAAAAADgP6RwPQrXo+A/SOF6FK5H4T/sUbgehevhP4/C9Shcj+I/MzMzMzMz4z/Xo3A9CtfjP3sUrkfheuQ/H4XrUbge5T/D9Shcj8LlP2dmZmZmZuY/CtejcD0K5z+uR+F6FK7nP1K4HoXrUeg/9ihcj8L16D+amZmZmZnpPz4K16NwPeo/4XoUrkfh6j+F61G4HoXrPylcj8L1KOw/zczMzMzM7D9xPQrXo3DtPxWuR+F6FO4/uB6F61G47j9cj8L1KFzvPwAAAAAAAPA/UrgehetR8D+kcD0K16PwP/YoXI/C9fA/SOF6FK5H8T+amZmZmZnxP+xRuB6F6/E/PgrXo3A98j+PwvUoXI/yP+F6FK5H4fI/MzMzMzMz8z+F61G4HoXzP9ejcD0K1/M/KVyPwvUo9D97FK5H4Xr0P83MzMzMzPQ/H4XrUbge9T9xPQrXo3D1P8P1KFyPwvU/Fa5H4XoU9j9nZmZmZmb2P7gehetRuPY/CtejcD0K9z9cj8L1KFz3P65H4XoUrvc/AAAAAAAA+D9SuB6F61H4P6RwPQrXo/g/9ihcj8L1+D9I4XoUrkf5P5qZmZmZmfk/7FG4HoXr+T8+CtejcD36P5DC9Shcj/o/4XoUrkfh+j8zMzMzMzP7P4XrUbgehfs/16NwPQrX+z8pXI/C9Sj8P3sUrkfhevw/zczMzMzM/D8fhetRuB79P3E9CtejcP0/w/UoXI/C/T8VrkfhehT+P2dmZmZmZv4/uB6F61G4/j8K16NwPQr/P1yPwvUoXP8/rkfhehSu/z8AAAAAAAAAQA==",
                                                "dtype": "f8"
                                            },
                                            "y": {
                                                "bdata": "AN5EKy4O3b/C6Xz83mrZv9uWV9DhrdW/Dg4Ug/3a0b9oH9IjHuzLv3RTqGcLBsS/7xf8f3sXuL9YWPctEhWgv2RY9y0SFaA/7xf8f3sXuD93U6hnCwbEP2of0iMe7Ms/Dg4Ug/3a0T/dllfQ4a3VP8PpfPzeatk/AN5EKy4O3T/koh45EUrgP+oAsEeW/OE/CqzdQO+c4z/sskCAdynlP807f2aeoOY/3MUN7ugA6D/ykR0q80jpPwlRNa5xd+o/O8oI3TKL6z9sLD0dIIPsP+0X4vI+Xu0/1/+C/LEb7j9yNdHSubruP/ekBMq1Ou8/W+QvlCSb7z9ck+PDpNvvP4YQnS71++8/hhCdLvX77z9ck+PDpNvvP1vkL5Qkm+8/+KQEyrU67z9yNdHSubruP9f/gvyxG+4/7hfi8j5e7T9tLD0dIIPsPzzKCN0yi+s/C1E1rnF36j/zkR0q80jpP9zFDe7oAOg/zTt/Zp6g5j/sskCAdynlPwqs3UDvnOM/7ACwR5b84T/loh45EUrgPwLeRCsuDt0/wul8/N5q2T/bllfQ4a3VPwsOFIP92tE/YR/SIx7syz95U6hnCwbEP/IX/H97F7g/WFj3LRIVoD81WPctEhWgv+AX/H97F7i/cFOoZwsGxL9oH9IjHuzLvw4OFIP92tG/3pZX0OGt1b/F6Xz83mrZvwbeRCsuDt2/56IeORFK4L/uALBHlvzhvw+s3UDvnOO/8bJAgHcp5b/RO39mnqDmv9vFDe7oAOi/8pEdKvNI6b8HUTWucXfqvz3KCN0yi+u/bCw9HSCD7L/uF+LyPl7tv9f/gvyxG+6/czXR0rm67r/4pATKtTrvv13kL5Qkm++/XJPjw6Tb77+GEJ0u9fvvv4UQnS71+++/XJPjw6Tb779c5C+UJJvvv/ekBMq1Ou+/cjXR0rm67r/W/4L8sRvuv+wX4vI+Xu2/biw9HSCD7L86ygjdMovrvwlRNa5xd+q/75EdKvNI6b/bxQ3u6ADov8g7f2aeoOa/8LJAgHcp5b8LrN1A75zjv+0AsEeW/OG/46IeORFK4L8E3kQrLg7dvw==",
                                                "dtype": "f8"
                                            }
                                        }
                                    ],
                                    "name": "t=0.15"
                                },
                                {
                                    "data": [
                                        {
                                            "mode": "lines",
                                            "type": "scatter",
                                            "x": {
                                                "bdata": "AAAAAAAAAAB7FK5H4XqUP3sUrkfheqQ/uB6F61G4rj97FK5H4Xq0P5qZmZmZmbk/uB6F61G4vj/sUbgehevBP3sUrkfhesQ/CtejcD0Kxz+amZmZmZnJPylcj8L1KMw/uB6F61G4zj+kcD0K16PQP+xRuB6F69E/MzMzMzMz0z97FK5H4XrUP8P1KFyPwtU/CtejcD0K1z9SuB6F61HYP5qZmZmZmdk/4XoUrkfh2j8pXI/C9SjcP3E9CtejcN0/uB6F61G43j8AAAAAAADgP6RwPQrXo+A/SOF6FK5H4T/sUbgehevhP4/C9Shcj+I/MzMzMzMz4z/Xo3A9CtfjP3sUrkfheuQ/H4XrUbge5T/D9Shcj8LlP2dmZmZmZuY/CtejcD0K5z+uR+F6FK7nP1K4HoXrUeg/9ihcj8L16D+amZmZmZnpPz4K16NwPeo/4XoUrkfh6j+F61G4HoXrPylcj8L1KOw/zczMzMzM7D9xPQrXo3DtPxWuR+F6FO4/uB6F61G47j9cj8L1KFzvPwAAAAAAAPA/UrgehetR8D+kcD0K16PwP/YoXI/C9fA/SOF6FK5H8T+amZmZmZnxP+xRuB6F6/E/PgrXo3A98j+PwvUoXI/yP+F6FK5H4fI/MzMzMzMz8z+F61G4HoXzP9ejcD0K1/M/KVyPwvUo9D97FK5H4Xr0P83MzMzMzPQ/H4XrUbge9T9xPQrXo3D1P8P1KFyPwvU/Fa5H4XoU9j9nZmZmZmb2P7gehetRuPY/CtejcD0K9z9cj8L1KFz3P65H4XoUrvc/AAAAAAAA+D9SuB6F61H4P6RwPQrXo/g/9ihcj8L1+D9I4XoUrkf5P5qZmZmZmfk/7FG4HoXr+T8+CtejcD36P5DC9Shcj/o/4XoUrkfh+j8zMzMzMzP7P4XrUbgehfs/16NwPQrX+z8pXI/C9Sj8P3sUrkfhevw/zczMzMzM/D8fhetRuB79P3E9CtejcP0/w/UoXI/C/T8VrkfhehT+P2dmZmZmZv4/uB6F61G4/j8K16NwPQr/P1yPwvUoXP8/rkfhehSu/z8AAAAAAAAAQA==",
                                                "dtype": "f8"
                                            },
                                            "y": {
                                                "bdata": "Uqm/XA3V3r+dgSXJ9z/bvxipqEhaj9e/T+kvN+/G07+WBxz6EdXPv3h6A2Uc/Me/4FuhXesKwL92k+AbChOwvwAAAAAAAAAAdpPgGwoTsD/gW6Fd6wrAP3h6A2Uc/Mc/lAcc+hHVzz9P6S8378bTPxqpqEhaj9c/m4Elyfc/2z9Sqb9cDdXeP1ErGDx+JeE/Xlp1BCPP4j+7AbX+xmXkPxQgEVXP5+U/FrjSA7ZT5z/qa1tjC6joP6j0l5t34+k/hS5k/7sE6z9ZwIFOtArsP4wV3NxX9Ow/5FrvnbrA7T//VEQTDm/uP+AeEB2i/u4//gklrOVu7z8C2YBUZ7/vP/5D5L/V7+8/AAAAAAAA8D/+Q+S/1e/vPwLZgFRnv+8//wklrOVu7z/hHhAdov7uPwBVRBMOb+4/5VrvnbrA7T+LFdzcV/TsP1jAgU60Cuw/hy5k/7sE6z+o9Jebd+PpP+prW2MLqOg/FbjSA7ZT5z8VIBFVz+flP70Btf7GZeQ/X1p1BCPP4j9UKxg8fiXhP1epv1wN1d4/oIElyfc/2z8cqahIWo/XP1HpLzfvxtM/lwcc+hHVzz93egNlHPzHP9pboV3rCsA/aJPgGwoTsD8CF8WMiWnEPHeT4BsKE7C/4VuhXesKwL9+egNlHPzHv54HHPoR1c+/VekvN+/G078fqahIWo/Xv5yBJcn3P9u/U6m/XA3V3r9SKxg8fiXhv2BadQQjz+K/vgG1/sZl5L8WIBFVz+flvxS40gO2U+e/62tbYwuo6L+n9Jebd+Ppv4guZP+7BOu/WcCBTrQK7L+OFdzcV/Tsv+Va7526wO2//1REEw5v7r/hHhAdov7uv/8JJazlbu+/A9mAVGe/77/+Q+S/1e/vvwAAAAAAAPC//kPkv9Xv778D2YBUZ7/vv/8JJazlbu+/4B4QHaL+7r8AVUQTDm/uv+Na7526wO2/jBXc3Ff07L9XwIFOtArsv4UuZP+7BOu/pPSXm3fj6b/oa1tjC6jovxC40gO2U+e/FiARVc/n5b+7AbX+xmXkv2BadQQjz+K/TisYPH4l4b9Sqb9cDdXevw==",
                                                "dtype": "f8"
                                            }
                                        }
                                    ],
                                    "name": "t=0.16"
                                },
                                {
                                    "data": [
                                        {
                                            "mode": "lines",
                                            "type": "scatter",
                                            "x": {
                                                "bdata": "AAAAAAAAAAB7FK5H4XqUP3sUrkfheqQ/uB6F61G4rj97FK5H4Xq0P5qZmZmZmbk/uB6F61G4vj/sUbgehevBP3sUrkfhesQ/CtejcD0Kxz+amZmZmZnJPylcj8L1KMw/uB6F61G4zj+kcD0K16PQP+xRuB6F69E/MzMzMzMz0z97FK5H4XrUP8P1KFyPwtU/CtejcD0K1z9SuB6F61HYP5qZmZmZmdk/4XoUrkfh2j8pXI/C9SjcP3E9CtejcN0/uB6F61G43j8AAAAAAADgP6RwPQrXo+A/SOF6FK5H4T/sUbgehevhP4/C9Shcj+I/MzMzMzMz4z/Xo3A9CtfjP3sUrkfheuQ/H4XrUbge5T/D9Shcj8LlP2dmZmZmZuY/CtejcD0K5z+uR+F6FK7nP1K4HoXrUeg/9ihcj8L16D+amZmZmZnpPz4K16NwPeo/4XoUrkfh6j+F61G4HoXrPylcj8L1KOw/zczMzMzM7D9xPQrXo3DtPxWuR+F6FO4/uB6F61G47j9cj8L1KFzvPwAAAAAAAPA/UrgehetR8D+kcD0K16PwP/YoXI/C9fA/SOF6FK5H8T+amZmZmZnxP+xRuB6F6/E/PgrXo3A98j+PwvUoXI/yP+F6FK5H4fI/MzMzMzMz8z+F61G4HoXzP9ejcD0K1/M/KVyPwvUo9D97FK5H4Xr0P83MzMzMzPQ/H4XrUbge9T9xPQrXo3D1P8P1KFyPwvU/Fa5H4XoU9j9nZmZmZmb2P7gehetRuPY/CtejcD0K9z9cj8L1KFz3P65H4XoUrvc/AAAAAAAA+D9SuB6F61H4P6RwPQrXo/g/9ihcj8L1+D9I4XoUrkf5P5qZmZmZmfk/7FG4HoXr+T8+CtejcD36P5DC9Shcj/o/4XoUrkfh+j8zMzMzMzP7P4XrUbgehfs/16NwPQrX+z8pXI/C9Sj8P3sUrkfhevw/zczMzMzM/D8fhetRuB79P3E9CtejcP0/w/UoXI/C/T8VrkfhehT+P2dmZmZmZv4/uB6F61G4/j8K16NwPQr/P1yPwvUoXP8/rkfhehSu/z8AAAAAAAAAQA==",
                                                "dtype": "f8"
                                            },
                                            "y": {
                                                "bdata": "5KIeORFK4L8B3kQrLg7dv8LpfPzeatm/3ZZX0OGt1b8ODhSD/drRv2of0iMe7Mu/d1OoZwsGxL/vF/x/exe4v2RY9y0SFaC/WFj3LRIVoD/vF/x/exe4P3RTqGcLBsQ/Zx/SIx7syz8ODhSD/drRP92WV9DhrdU/wOl8/N5q2T8A3kQrLg7dP+SiHjkRSuA/6gCwR5b84T8KrN1A75zjP+yyQIB3KeU/zDt/Zp6g5j/cxQ3u6ADoP/KRHSrzSOk/CFE1rnF36j87ygjdMovrP2wsPR0gg+w/7Rfi8j5e7T/X/4L8sRvuP3E10dK5uu4/96QEyrU67z9b5C+UJJvvP1yT48Ok2+8/hhCdLvX77z+GEJ0u9fvvP1yT48Ok2+8/XOQvlCSb7z/4pATKtTrvP3I10dK5uu4/1/+C/LEb7j/uF+LyPl7tP20sPR0gg+w/PsoI3TKL6z8LUTWucXfqP/ORHSrzSOk/3MUN7ugA6D/NO39mnqDmP+yyQIB3KeU/DqzdQO+c4z/sALBHlvzhP+WiHjkRSuA/At5EKy4O3T/C6Xz83mrZP9uWV9DhrdU/Cw4Ug/3a0T9hH9IjHuzLP3lTqGcLBsQ/8hf8f3sXuD+YWPctEhWgPzVY9y0SFaC/4Bf8f3sXuL9wU6hnCwbEv2gf0iMe7Mu/Dg4Ug/3a0b/ellfQ4a3Vv8XpfPzeatm/Bt5EKy4O3b/noh45EUrgv+4AsEeW/OG/D6zdQO+c47/xskCAdynlv8w7f2aeoOa/28UN7ugA6L/ykR0q80jpvwdRNa5xd+q/PcoI3TKL679sLD0dIIPsv+4X4vI+Xu2/1/+C/LEb7r9zNdHSubruv/ikBMq1Ou+/XeQvlCSb779ck+PDpNvvv4YQnS71+++/hhCdLvX7779ck+PDpNvvv1zkL5Qkm++/96QEyrU6779yNdHSubruv9b/gvyxG+6/7Bfi8j5e7b9uLD0dIIPsvzrKCN0yi+u/CVE1rnF36r/vkR0q80jpv9vFDe7oAOi/zjt/Zp6g5r/wskCAdynlvwus3UDvnOO/7QCwR5b84b/joh45EUrgvw==",
                                                "dtype": "f8"
                                            }
                                        }
                                    ],
                                    "name": "t=0.17"
                                },
                                {
                                    "data": [
                                        {
                                            "mode": "lines",
                                            "type": "scatter",
                                            "x": {
                                                "bdata": "AAAAAAAAAAB7FK5H4XqUP3sUrkfheqQ/uB6F61G4rj97FK5H4Xq0P5qZmZmZmbk/uB6F61G4vj/sUbgehevBP3sUrkfhesQ/CtejcD0Kxz+amZmZmZnJPylcj8L1KMw/uB6F61G4zj+kcD0K16PQP+xRuB6F69E/MzMzMzMz0z97FK5H4XrUP8P1KFyPwtU/CtejcD0K1z9SuB6F61HYP5qZmZmZmdk/4XoUrkfh2j8pXI/C9SjcP3E9CtejcN0/uB6F61G43j8AAAAAAADgP6RwPQrXo+A/SOF6FK5H4T/sUbgehevhP4/C9Shcj+I/MzMzMzMz4z/Xo3A9CtfjP3sUrkfheuQ/H4XrUbge5T/D9Shcj8LlP2dmZmZmZuY/CtejcD0K5z+uR+F6FK7nP1K4HoXrUeg/9ihcj8L16D+amZmZmZnpPz4K16NwPeo/4XoUrkfh6j+F61G4HoXrPylcj8L1KOw/zczMzMzM7D9xPQrXo3DtPxWuR+F6FO4/uB6F61G47j9cj8L1KFzvPwAAAAAAAPA/UrgehetR8D+kcD0K16PwP/YoXI/C9fA/SOF6FK5H8T+amZmZmZnxP+xRuB6F6/E/PgrXo3A98j+PwvUoXI/yP+F6FK5H4fI/MzMzMzMz8z+F61G4HoXzP9ejcD0K1/M/KVyPwvUo9D97FK5H4Xr0P83MzMzMzPQ/H4XrUbge9T9xPQrXo3D1P8P1KFyPwvU/Fa5H4XoU9j9nZmZmZmb2P7gehetRuPY/CtejcD0K9z9cj8L1KFz3P65H4XoUrvc/AAAAAAAA+D9SuB6F61H4P6RwPQrXo/g/9ihcj8L1+D9I4XoUrkf5P5qZmZmZmfk/7FG4HoXr+T8+CtejcD36P5DC9Shcj/o/4XoUrkfh+j8zMzMzMzP7P4XrUbgehfs/16NwPQrX+z8pXI/C9Sj8P3sUrkfhevw/zczMzMzM/D8fhetRuB79P3E9CtejcP0/w/UoXI/C/T8VrkfhehT+P2dmZmZmZv4/uB6F61G4/j8K16NwPQr/P1yPwvUoXP8/rkfhehSu/z8AAAAAAAAAQA==",
                                                "dtype": "f8"
                                            },
                                            "y": {
                                                "bdata": "USsYPH4l4b9Sqb9cDdXev5uBJcn3P9u/GKmoSFqP179P6S8378bTv5QHHPoR1c+/eHoDZRz8x7/dW6Fd6wrAv3aT4BsKE7C/AAAAAAAAAAB9k+AbChOwP+BboV3rCsA/eHoDZRz8xz+WBxz6EdXPP1HpLzfvxtM/GKmoSFqP1z+dgSXJ9z/bP1Kpv1wN1d4/USsYPH4l4T9eWnUEI8/iP7wBtf7GZeQ/EyARVc/n5T8WuNIDtlPnP+prW2MLqOg/qPSXm3fj6T+GLmT/uwTrP1rAgU60Cuw/jBXc3Ff07D/lWu+dusDtP/9URBMOb+4/4B4QHaL+7j/+CSWs5W7vPwPZgFRnv+8//kPkv9Xv7z8AAAAAAADwP/5D5L/V7+8/AtmAVGe/7z/+CSWs5W7vP+AeEB2i/u4//1REEw5v7j/kWu+dusDtP4sV3NxX9Ow/WsCBTrQK7D+HLmT/uwTrP6j0l5t34+k/6mtbYwuo6D8VuNIDtlPnPxUgEVXP5+U/vQG1/sZl5D9fWnUEI8/iP1ErGDx+JeE/UKm/XA3V3j+ZgSXJ9z/bPxWpqEhaj9c/SukvN+/G0z+HBxz6EdXPP2d6A2Uc/Mc/yluhXesKwD+Ik+AbChOwPwdcFDMmpqE8d5PgGwoTsL/hW6Fd6wrAv356A2Uc/Me/ngcc+hHVz79V6S8378bTvx+pqEhaj9e/nIElyfc/279Tqb9cDdXev1IrGDx+JeG/YFp1BCPP4r++AbX+xmXkvxQgEVXP5+W/FLjSA7ZT57/ra1tjC6jov6f0l5t34+m/iC5k/7sE679ZwIFOtArsv44V3NxX9Oy/5VrvnbrA7b//VEQTDm/uv+EeEB2i/u6//wklrOVu778D2YBUZ7/vv/5D5L/V7++/AAAAAAAA8L/+Q+S/1e/vvwPZgFRnv++//wklrOVu77/gHhAdov7uvwBVRBMOb+6/41rvnbrA7b+MFdzcV/Tsv1fAgU60Cuy/hS5k/7sE67+k9Jebd+Ppv+hrW2MLqOi/FrjSA7ZT578WIBFVz+flv7sBtf7GZeS/YFp1BCPP4r9OKxg8fiXhvw==",
                                                "dtype": "f8"
                                            }
                                        }
                                    ],
                                    "name": "t=0.18"
                                },
                                {
                                    "data": [
                                        {
                                            "mode": "lines",
                                            "type": "scatter",
                                            "x": {
                                                "bdata": "AAAAAAAAAAB7FK5H4XqUP3sUrkfheqQ/uB6F61G4rj97FK5H4Xq0P5qZmZmZmbk/uB6F61G4vj/sUbgehevBP3sUrkfhesQ/CtejcD0Kxz+amZmZmZnJPylcj8L1KMw/uB6F61G4zj+kcD0K16PQP+xRuB6F69E/MzMzMzMz0z97FK5H4XrUP8P1KFyPwtU/CtejcD0K1z9SuB6F61HYP5qZmZmZmdk/4XoUrkfh2j8pXI/C9SjcP3E9CtejcN0/uB6F61G43j8AAAAAAADgP6RwPQrXo+A/SOF6FK5H4T/sUbgehevhP4/C9Shcj+I/MzMzMzMz4z/Xo3A9CtfjP3sUrkfheuQ/H4XrUbge5T/D9Shcj8LlP2dmZmZmZuY/CtejcD0K5z+uR+F6FK7nP1K4HoXrUeg/9ihcj8L16D+amZmZmZnpPz4K16NwPeo/4XoUrkfh6j+F61G4HoXrPylcj8L1KOw/zczMzMzM7D9xPQrXo3DtPxWuR+F6FO4/uB6F61G47j9cj8L1KFzvPwAAAAAAAPA/UrgehetR8D+kcD0K16PwP/YoXI/C9fA/SOF6FK5H8T+amZmZmZnxP+xRuB6F6/E/PgrXo3A98j+PwvUoXI/yP+F6FK5H4fI/MzMzMzMz8z+F61G4HoXzP9ejcD0K1/M/KVyPwvUo9D97FK5H4Xr0P83MzMzMzPQ/H4XrUbge9T9xPQrXo3D1P8P1KFyPwvU/Fa5H4XoU9j9nZmZmZmb2P7gehetRuPY/CtejcD0K9z9cj8L1KFz3P65H4XoUrvc/AAAAAAAA+D9SuB6F61H4P6RwPQrXo/g/9ihcj8L1+D9I4XoUrkf5P5qZmZmZmfk/7FG4HoXr+T8+CtejcD36P5DC9Shcj/o/4XoUrkfh+j8zMzMzMzP7P4XrUbgehfs/16NwPQrX+z8pXI/C9Sj8P3sUrkfhevw/zczMzMzM/D8fhetRuB79P3E9CtejcP0/w/UoXI/C/T8VrkfhehT+P2dmZmZmZv4/uB6F61G4/j8K16NwPQr/P1yPwvUoXP8/rkfhehSu/z8AAAAAAAAAQA==",
                                                "dtype": "f8"
                                            },
                                            "y": {
                                                "bdata": "6gCwR5b84b/koh45EUrgvwDeRCsuDt2/wul8/N5q2b/cllfQ4a3Vvw4OFIP92tG/ah/SIx7sy790U6hnCwbEv+8X/H97F7i/ZFj3LRIVoL9kWPctEhWgP+8X/H97F7g/dFOoZwsGxD9qH9IjHuzLPw8OFIP92tE/25ZX0OGt1T/C6Xz83mrZPwHeRCsuDt0/46IeORFK4D/qALBHlvzhPwus3UDvnOM/7LJAgHcp5T/NO39mnqDmP9zFDe7oAOg/8ZEdKvNI6T8JUTWucXfqPzzKCN0yi+s/bCw9HSCD7D/tF+LyPl7tP9f/gvyxG+4/cTXR0rm67j/3pATKtTrvP1zkL5Qkm+8/XJPjw6Tb7z+GEJ0u9fvvP4YQnS71++8/XJPjw6Tb7z9b5C+UJJvvP/ikBMq1Ou8/cjXR0rm67j/X/4L8sRvuP+wX4vI+Xu0/byw9HSCD7D8+ygjdMovrPwtRNa5xd+o/85EdKvNI6T/cxQ3u6ADoP807f2aeoOY/7LJAgHcp5T8KrN1A75zjP+kAsEeW/OE/4qIeORFK4D/73UQrLg7dP7vpfPzeatk/25ZX0OGt1T8LDhSD/drRP2Ef0iMe7Ms/aVOoZwsGxD/yF/x/exe4P1hY9y0SFaA/NVj3LRIVoL/gF/x/exe4v3BTqGcLBsS/aB/SIx7sy78ODhSD/drRv96WV9DhrdW/xel8/N5q2b8G3kQrLg7dv+eiHjkRSuC/7gCwR5b84b8PrN1A75zjv+uyQIB3KeW/zDt/Zp6g5r/bxQ3u6ADov/KRHSrzSOm/B1E1rnF36r89ygjdMovrv2wsPR0gg+y/7hfi8j5e7b/X/4L8sRvuv3M10dK5uu6/+KQEyrU6779d5C+UJJvvv1yT48Ok2++/hhCdLvX777+GEJ0u9fvvv1yT48Ok2++/XOQvlCSb77/3pATKtTrvv3I10dK5uu6/1v+C/LEb7r/sF+LyPl7tv24sPR0gg+y/OsoI3TKL678JUTWucXfqv++RHSrzSOm/28UN7ugA6L/OO39mnqDmv/CyQIB3KeW/C6zdQO+c47/tALBHlvzhvw==",
                                                "dtype": "f8"
                                            }
                                        }
                                    ],
                                    "name": "t=0.19"
                                },
                                {
                                    "data": [
                                        {
                                            "mode": "lines",
                                            "type": "scatter",
                                            "x": {
                                                "bdata": "AAAAAAAAAAB7FK5H4XqUP3sUrkfheqQ/uB6F61G4rj97FK5H4Xq0P5qZmZmZmbk/uB6F61G4vj/sUbgehevBP3sUrkfhesQ/CtejcD0Kxz+amZmZmZnJPylcj8L1KMw/uB6F61G4zj+kcD0K16PQP+xRuB6F69E/MzMzMzMz0z97FK5H4XrUP8P1KFyPwtU/CtejcD0K1z9SuB6F61HYP5qZmZmZmdk/4XoUrkfh2j8pXI/C9SjcP3E9CtejcN0/uB6F61G43j8AAAAAAADgP6RwPQrXo+A/SOF6FK5H4T/sUbgehevhP4/C9Shcj+I/MzMzMzMz4z/Xo3A9CtfjP3sUrkfheuQ/H4XrUbge5T/D9Shcj8LlP2dmZmZmZuY/CtejcD0K5z+uR+F6FK7nP1K4HoXrUeg/9ihcj8L16D+amZmZmZnpPz4K16NwPeo/4XoUrkfh6j+F61G4HoXrPylcj8L1KOw/zczMzMzM7D9xPQrXo3DtPxWuR+F6FO4/uB6F61G47j9cj8L1KFzvPwAAAAAAAPA/UrgehetR8D+kcD0K16PwP/YoXI/C9fA/SOF6FK5H8T+amZmZmZnxP+xRuB6F6/E/PgrXo3A98j+PwvUoXI/yP+F6FK5H4fI/MzMzMzMz8z+F61G4HoXzP9ejcD0K1/M/KVyPwvUo9D97FK5H4Xr0P83MzMzMzPQ/H4XrUbge9T9xPQrXo3D1P8P1KFyPwvU/Fa5H4XoU9j9nZmZmZmb2P7gehetRuPY/CtejcD0K9z9cj8L1KFz3P65H4XoUrvc/AAAAAAAA+D9SuB6F61H4P6RwPQrXo/g/9ihcj8L1+D9I4XoUrkf5P5qZmZmZmfk/7FG4HoXr+T8+CtejcD36P5DC9Shcj/o/4XoUrkfh+j8zMzMzMzP7P4XrUbgehfs/16NwPQrX+z8pXI/C9Sj8P3sUrkfhevw/zczMzMzM/D8fhetRuB79P3E9CtejcP0/w/UoXI/C/T8VrkfhehT+P2dmZmZmZv4/uB6F61G4/j8K16NwPQr/P1yPwvUoXP8/rkfhehSu/z8AAAAAAAAAQA==",
                                                "dtype": "f8"
                                            },
                                            "y": {
                                                "bdata": "Xlp1BCPP4r9RKxg8fiXhv1Kpv1wN1d6/nYElyfc/278ZqahIWo/Xv0/pLzfvxtO/lgcc+hHVz794egNlHPzHv+BboV3rCsC/fZPgGwoTsL8AAAAAAAAAAHaT4BsKE7A/3VuhXesKwD94egNlHPzHP5YHHPoR1c8/TukvN+/G0z8YqahIWo/XP52BJcn3P9s/UKm/XA3V3j9RKxg8fiXhP15adQQjz+I/uwG1/sZl5D8TIBFVz+flPxa40gO2U+c/6WtbYwuo6D+o9Jebd+PpP4YuZP+7BOs/WsCBTrQK7D+MFdzcV/TsP+Ra7526wO0//1REEw5v7j/gHhAdov7uP/4JJazlbu8/A9mAVGe/7z/+Q+S/1e/vPwAAAAAAAPA//kPkv9Xv7z8C2YBUZ7/vP/4JJazlbu8/4B4QHaL+7j//VEQTDm/uP+Ra7526wO0/jRXc3Ff07D9awIFOtArsP4cuZP+7BOs/qPSXm3fj6T/qa1tjC6joPxW40gO2U+c/FSARVc/n5T+9AbX+xmXkP19adQQjz+I/USsYPH4l4T9Qqb9cDdXeP5mBJcn3P9s/FamoSFqP1z9K6S8378bTP4cHHPoR1c8/Z3oDZRz8xz/qW6Fd6wrAP4iT4BsKE7A/B1wUMyamoTx3k+AbChOwv+FboV3rCsC/fnoDZRz8x7+eBxz6EdXPv1XpLzfvxtO/H6moSFqP17+cgSXJ9z/bv1Opv1wN1d6/UisYPH4l4b9gWnUEI8/iv7sBtf7GZeS/FCARVc/n5b8UuNIDtlPnv+trW2MLqOi/p/SXm3fj6b+ILmT/uwTrv1nAgU60Cuy/jhXc3Ff07L/lWu+dusDtv/9URBMOb+6/4R4QHaL+7r//CSWs5W7vvwPZgFRnv++//kPkv9Xv778AAAAAAADwv/5D5L/V7++/A9mAVGe/77//CSWs5W7vv+AeEB2i/u6/AFVEEw5v7r/jWu+dusDtv4wV3NxX9Oy/V8CBTrQK7L+FLmT/uwTrv6T0l5t34+m/7WtbYwuo6L8WuNIDtlPnvxYgEVXP5+W/uwG1/sZl5L9gWnUEI8/ivw==",
                                                "dtype": "f8"
                                            }
                                        }
                                    ],
                                    "name": "t=0.20"
                                },
                                {
                                    "data": [
                                        {
                                            "mode": "lines",
                                            "type": "scatter",
                                            "x": {
                                                "bdata": "AAAAAAAAAAB7FK5H4XqUP3sUrkfheqQ/uB6F61G4rj97FK5H4Xq0P5qZmZmZmbk/uB6F61G4vj/sUbgehevBP3sUrkfhesQ/CtejcD0Kxz+amZmZmZnJPylcj8L1KMw/uB6F61G4zj+kcD0K16PQP+xRuB6F69E/MzMzMzMz0z97FK5H4XrUP8P1KFyPwtU/CtejcD0K1z9SuB6F61HYP5qZmZmZmdk/4XoUrkfh2j8pXI/C9SjcP3E9CtejcN0/uB6F61G43j8AAAAAAADgP6RwPQrXo+A/SOF6FK5H4T/sUbgehevhP4/C9Shcj+I/MzMzMzMz4z/Xo3A9CtfjP3sUrkfheuQ/H4XrUbge5T/D9Shcj8LlP2dmZmZmZuY/CtejcD0K5z+uR+F6FK7nP1K4HoXrUeg/9ihcj8L16D+amZmZmZnpPz4K16NwPeo/4XoUrkfh6j+F61G4HoXrPylcj8L1KOw/zczMzMzM7D9xPQrXo3DtPxWuR+F6FO4/uB6F61G47j9cj8L1KFzvPwAAAAAAAPA/UrgehetR8D+kcD0K16PwP/YoXI/C9fA/SOF6FK5H8T+amZmZmZnxP+xRuB6F6/E/PgrXo3A98j+PwvUoXI/yP+F6FK5H4fI/MzMzMzMz8z+F61G4HoXzP9ejcD0K1/M/KVyPwvUo9D97FK5H4Xr0P83MzMzMzPQ/H4XrUbge9T9xPQrXo3D1P8P1KFyPwvU/Fa5H4XoU9j9nZmZmZmb2P7gehetRuPY/CtejcD0K9z9cj8L1KFz3P65H4XoUrvc/AAAAAAAA+D9SuB6F61H4P6RwPQrXo/g/9ihcj8L1+D9I4XoUrkf5P5qZmZmZmfk/7FG4HoXr+T8+CtejcD36P5DC9Shcj/o/4XoUrkfh+j8zMzMzMzP7P4XrUbgehfs/16NwPQrX+z8pXI/C9Sj8P3sUrkfhevw/zczMzMzM/D8fhetRuB79P3E9CtejcP0/w/UoXI/C/T8VrkfhehT+P2dmZmZmZv4/uB6F61G4/j8K16NwPQr/P1yPwvUoXP8/rkfhehSu/z8AAAAAAAAAQA==",
                                                "dtype": "f8"
                                            },
                                            "y": {
                                                "bdata": "CqzdQO+c47/qALBHlvzhv+OiHjkRSuC/AN5EKy4O3b/C6Xz83mrZv9uWV9DhrdW/Dg4Ug/3a0b9nH9IjHuzLv3RTqGcLBsS/7xf8f3sXuL9YWPctEhWgv2RY9y0SFaA/7xf8f3sXuD93U6hnCwbEP20f0iMe7Ms/Dg4Ug/3a0T/dllfQ4a3VP8PpfPzeatk/AN5EKy4O3T/koh45EUrgP+oAsEeW/OE/CqzdQO+c4z/sskCAdynlP807f2aeoOY/3MUN7ugA6D/ykR0q80jpPwlRNa5xd+o/PMoI3TKL6z9tLD0dIIPsP+0X4vI+Xu0/1/+C/LEb7j9yNdHSubruP/ikBMq1Ou8/XOQvlCSb7z9ck+PDpNvvP4YQnS71++8/hhCdLvX77z9ck+PDpNvvP1vkL5Qkm+8/+KQEyrU67z9yNdHSubruP9f/gvyxG+4/7hfi8j5e7T9tLD0dIIPsPzzKCN0yi+s/CFE1rnF36j/xkR0q80jpP9rFDe7oAOg/zTt/Zp6g5j/sskCAdynlPwqs3UDvnOM/6QCwR5b84T/ioh45EUrgP/vdRCsuDt0/u+l8/N5q2T/bllfQ4a3VPwsOFIP92tE/YR/SIx7syz95U6hnCwbEP/IX/H97F7g/WFj3LRIVoD81WPctEhWgv+AX/H97F7i/cFOoZwsGxL9oH9IjHuzLvw4OFIP92tG/3pZX0OGt1b/F6Xz83mrZvwbeRCsuDt2/56IeORFK4L/uALBHlvzhvwms3UDvnOO/67JAgHcp5b/MO39mnqDmv9vFDe7oAOi/8pEdKvNI6b8HUTWucXfqvz3KCN0yi+u/bCw9HSCD7L/uF+LyPl7tv9f/gvyxG+6/czXR0rm67r/4pATKtTrvv13kL5Qkm++/XJPjw6Tb77+GEJ0u9fvvv4YQnS71+++/XJPjw6Tb779c5C+UJJvvv/ekBMq1Ou+/cjXR0rm67r/W/4L8sRvuv+wX4vI+Xu2/biw9HSCD7L86ygjdMovrvwlRNa5xd+q/9JEdKvNI6b/bxQ3u6ADov847f2aeoOa/8LJAgHcp5b8LrN1A75zjvw==",
                                                "dtype": "f8"
                                            }
                                        }
                                    ],
                                    "name": "t=0.21"
                                },
                                {
                                    "data": [
                                        {
                                            "mode": "lines",
                                            "type": "scatter",
                                            "x": {
                                                "bdata": "AAAAAAAAAAB7FK5H4XqUP3sUrkfheqQ/uB6F61G4rj97FK5H4Xq0P5qZmZmZmbk/uB6F61G4vj/sUbgehevBP3sUrkfhesQ/CtejcD0Kxz+amZmZmZnJPylcj8L1KMw/uB6F61G4zj+kcD0K16PQP+xRuB6F69E/MzMzMzMz0z97FK5H4XrUP8P1KFyPwtU/CtejcD0K1z9SuB6F61HYP5qZmZmZmdk/4XoUrkfh2j8pXI/C9SjcP3E9CtejcN0/uB6F61G43j8AAAAAAADgP6RwPQrXo+A/SOF6FK5H4T/sUbgehevhP4/C9Shcj+I/MzMzMzMz4z/Xo3A9CtfjP3sUrkfheuQ/H4XrUbge5T/D9Shcj8LlP2dmZmZmZuY/CtejcD0K5z+uR+F6FK7nP1K4HoXrUeg/9ihcj8L16D+amZmZmZnpPz4K16NwPeo/4XoUrkfh6j+F61G4HoXrPylcj8L1KOw/zczMzMzM7D9xPQrXo3DtPxWuR+F6FO4/uB6F61G47j9cj8L1KFzvPwAAAAAAAPA/UrgehetR8D+kcD0K16PwP/YoXI/C9fA/SOF6FK5H8T+amZmZmZnxP+xRuB6F6/E/PgrXo3A98j+PwvUoXI/yP+F6FK5H4fI/MzMzMzMz8z+F61G4HoXzP9ejcD0K1/M/KVyPwvUo9D97FK5H4Xr0P83MzMzMzPQ/H4XrUbge9T9xPQrXo3D1P8P1KFyPwvU/Fa5H4XoU9j9nZmZmZmb2P7gehetRuPY/CtejcD0K9z9cj8L1KFz3P65H4XoUrvc/AAAAAAAA+D9SuB6F61H4P6RwPQrXo/g/9ihcj8L1+D9I4XoUrkf5P5qZmZmZmfk/7FG4HoXr+T8+CtejcD36P5DC9Shcj/o/4XoUrkfh+j8zMzMzMzP7P4XrUbgehfs/16NwPQrX+z8pXI/C9Sj8P3sUrkfhevw/zczMzMzM/D8fhetRuB79P3E9CtejcP0/w/UoXI/C/T8VrkfhehT+P2dmZmZmZv4/uB6F61G4/j8K16NwPQr/P1yPwvUoXP8/rkfhehSu/z8AAAAAAAAAQA==",
                                                "dtype": "f8"
                                            },
                                            "y": {
                                                "bdata": "uwG1/sZl5L9eWnUEI8/iv1ErGDx+JeG/Uqm/XA3V3r+dgSXJ9z/bvxipqEhaj9e/T+kvN+/G07+UBxz6EdXPv3h6A2Uc/Me/4FuhXesKwL92k+AbChOwvwAAAAAAAAAAdpPgGwoTsD/gW6Fd6wrAP3t6A2Uc/Mc/lAcc+hHVzz9P6S8378bTPxqpqEhaj9c/m4Elyfc/2z9Sqb9cDdXeP1ErGDx+JeE/Xlp1BCPP4j+7AbX+xmXkPxQgEVXP5+U/FrjSA7ZT5z/qa1tjC6joP6j0l5t34+k/hi5k/7sE6z9awIFOtArsP4wV3NxX9Ow/5FrvnbrA7T//VEQTDm/uP+AeEB2i/u4//wklrOVu7z8D2YBUZ7/vP/5D5L/V7+8/AAAAAAAA8D/+Q+S/1e/vPwLZgFRnv+8//gklrOVu7z/gHhAdov7uP/9URBMOb+4/5VrvnbrA7T+LFdzcV/TsP1jAgU60Cuw/hS5k/7sE6z+o9Jebd+PpP+prW2MLqOg/FbjSA7ZT5z8VIBFVz+flP70Btf7GZeQ/X1p1BCPP4j9RKxg8fiXhP1Cpv1wN1d4/mYElyfc/2z8VqahIWo/XP0rpLzfvxtM/hwcc+hHVzz+HegNlHPzHP+pboV3rCsA/iJPgGwoTsD8HXBQzJqahPHeT4BsKE7C/4VuhXesKwL9+egNlHPzHv54HHPoR1c+/VekvN+/G078fqahIWo/Xv5yBJcn3P9u/U6m/XA3V3r9SKxg8fiXhv11adQQjz+K/uwG1/sZl5L8UIBFVz+flvxS40gO2U+e/62tbYwuo6L+n9Jebd+Ppv4guZP+7BOu/WcCBTrQK7L+OFdzcV/Tsv+Va7526wO2//1REEw5v7r/hHhAdov7uv/8JJazlbu+/AtmAVGe/77/+Q+S/1e/vvwAAAAAAAPC//kPkv9Xv778D2YBUZ7/vv/8JJazlbu+/4B4QHaL+7r8AVUQTDm/uv+Na7526wO2/jBXc3Ff07L9XwIFOtArsv4UuZP+7BOu/qfSXm3fj6b/ta1tjC6jovxa40gO2U+e/FiARVc/n5b+7AbX+xmXkvw==",
                                                "dtype": "f8"
                                            }
                                        }
                                    ],
                                    "name": "t=0.22"
                                },
                                {
                                    "data": [
                                        {
                                            "mode": "lines",
                                            "type": "scatter",
                                            "x": {
                                                "bdata": "AAAAAAAAAAB7FK5H4XqUP3sUrkfheqQ/uB6F61G4rj97FK5H4Xq0P5qZmZmZmbk/uB6F61G4vj/sUbgehevBP3sUrkfhesQ/CtejcD0Kxz+amZmZmZnJPylcj8L1KMw/uB6F61G4zj+kcD0K16PQP+xRuB6F69E/MzMzMzMz0z97FK5H4XrUP8P1KFyPwtU/CtejcD0K1z9SuB6F61HYP5qZmZmZmdk/4XoUrkfh2j8pXI/C9SjcP3E9CtejcN0/uB6F61G43j8AAAAAAADgP6RwPQrXo+A/SOF6FK5H4T/sUbgehevhP4/C9Shcj+I/MzMzMzMz4z/Xo3A9CtfjP3sUrkfheuQ/H4XrUbge5T/D9Shcj8LlP2dmZmZmZuY/CtejcD0K5z+uR+F6FK7nP1K4HoXrUeg/9ihcj8L16D+amZmZmZnpPz4K16NwPeo/4XoUrkfh6j+F61G4HoXrPylcj8L1KOw/zczMzMzM7D9xPQrXo3DtPxWuR+F6FO4/uB6F61G47j9cj8L1KFzvPwAAAAAAAPA/UrgehetR8D+kcD0K16PwP/YoXI/C9fA/SOF6FK5H8T+amZmZmZnxP+xRuB6F6/E/PgrXo3A98j+PwvUoXI/yP+F6FK5H4fI/MzMzMzMz8z+F61G4HoXzP9ejcD0K1/M/KVyPwvUo9D97FK5H4Xr0P83MzMzMzPQ/H4XrUbge9T9xPQrXo3D1P8P1KFyPwvU/Fa5H4XoU9j9nZmZmZmb2P7gehetRuPY/CtejcD0K9z9cj8L1KFz3P65H4XoUrvc/AAAAAAAA+D9SuB6F61H4P6RwPQrXo/g/9ihcj8L1+D9I4XoUrkf5P5qZmZmZmfk/7FG4HoXr+T8+CtejcD36P5DC9Shcj/o/4XoUrkfh+j8zMzMzMzP7P4XrUbgehfs/16NwPQrX+z8pXI/C9Sj8P3sUrkfhevw/zczMzMzM/D8fhetRuB79P3E9CtejcP0/w/UoXI/C/T8VrkfhehT+P2dmZmZmZv4/uB6F61G4/j8K16NwPQr/P1yPwvUoXP8/rkfhehSu/z8AAAAAAAAAQA==",
                                                "dtype": "f8"
                                            },
                                            "y": {
                                                "bdata": "7LJAgHcp5b8LrN1A75zjv+oAsEeW/OG/5KIeORFK4L8B3kQrLg7dv8LpfPzeatm/3ZZX0OGt1b8ODhSD/drRv2of0iMe7Mu/d1OoZwsGxL/vF/x/exe4v2RY9y0SFaC/WFj3LRIVoD/vF/x/exe4P3dTqGcLBsQ/Zx/SIx7syz8ODhSD/drRP92WV9DhrdU/wOl8/N5q2T8A3kQrLg7dP+SiHjkRSuA/6gCwR5b84T8KrN1A75zjP+yyQIB3KeU/zDt/Zp6g5j/cxQ3u6ADoP/KRHSrzSOk/CVE1rnF36j88ygjdMovrP2wsPR0gg+w/7Rfi8j5e7T/X/4L8sRvuP3I10dK5uu4/+KQEyrU67z9c5C+UJJvvP1yT48Ok2+8/hhCdLvX77z+GEJ0u9fvvP1yT48Ok2+8/W+QvlCSb7z/4pATKtTrvP3I10dK5uu4/1/+C/LEb7j/uF+LyPl7tP20sPR0gg+w/PMoI3TKL6z8IUTWucXfqP/GRHSrzSOk/3MUN7ugA6D/NO39mnqDmP+yyQIB3KeU/CqzdQO+c4z/pALBHlvzhP+KiHjkRSuA/+91EKy4O3T+76Xz83mrZP9uWV9DhrdU/Cw4Ug/3a0T9xH9IjHuzLP3lTqGcLBsQ/8hf8f3sXuD9YWPctEhWgPzVY9y0SFaC/4Bf8f3sXuL9wU6hnCwbEv2gf0iMe7Mu/Dg4Ug/3a0b/ellfQ4a3Vv8XpfPzeatm/Bt5EKy4O3b/noh45EUrgv+cAsEeW/OG/CazdQO+c47/rskCAdynlv8w7f2aeoOa/28UN7ugA6L/ykR0q80jpvwdRNa5xd+q/PcoI3TKL679sLD0dIIPsv+4X4vI+Xu2/1/+C/LEb7r9zNdHSubruv/ikBMq1Ou+/W+QvlCSb779ck+PDpNvvv4YQnS71+++/hhCdLvX7779ck+PDpNvvv1zkL5Qkm++/96QEyrU6779yNdHSubruv9b/gvyxG+6/7Bfi8j5e7b9uLD0dIIPsvzrKCN0yi+u/CVE1rnF36r/0kR0q80jpv9vFDe7oAOi/zjt/Zp6g5r/wskCAdynlvw==",
                                                "dtype": "f8"
                                            }
                                        }
                                    ],
                                    "name": "t=0.23"
                                },
                                {
                                    "data": [
                                        {
                                            "mode": "lines",
                                            "type": "scatter",
                                            "x": {
                                                "bdata": "AAAAAAAAAAB7FK5H4XqUP3sUrkfheqQ/uB6F61G4rj97FK5H4Xq0P5qZmZmZmbk/uB6F61G4vj/sUbgehevBP3sUrkfhesQ/CtejcD0Kxz+amZmZmZnJPylcj8L1KMw/uB6F61G4zj+kcD0K16PQP+xRuB6F69E/MzMzMzMz0z97FK5H4XrUP8P1KFyPwtU/CtejcD0K1z9SuB6F61HYP5qZmZmZmdk/4XoUrkfh2j8pXI/C9SjcP3E9CtejcN0/uB6F61G43j8AAAAAAADgP6RwPQrXo+A/SOF6FK5H4T/sUbgehevhP4/C9Shcj+I/MzMzMzMz4z/Xo3A9CtfjP3sUrkfheuQ/H4XrUbge5T/D9Shcj8LlP2dmZmZmZuY/CtejcD0K5z+uR+F6FK7nP1K4HoXrUeg/9ihcj8L16D+amZmZmZnpPz4K16NwPeo/4XoUrkfh6j+F61G4HoXrPylcj8L1KOw/zczMzMzM7D9xPQrXo3DtPxWuR+F6FO4/uB6F61G47j9cj8L1KFzvPwAAAAAAAPA/UrgehetR8D+kcD0K16PwP/YoXI/C9fA/SOF6FK5H8T+amZmZmZnxP+xRuB6F6/E/PgrXo3A98j+PwvUoXI/yP+F6FK5H4fI/MzMzMzMz8z+F61G4HoXzP9ejcD0K1/M/KVyPwvUo9D97FK5H4Xr0P83MzMzMzPQ/H4XrUbge9T9xPQrXo3D1P8P1KFyPwvU/Fa5H4XoU9j9nZmZmZmb2P7gehetRuPY/CtejcD0K9z9cj8L1KFz3P65H4XoUrvc/AAAAAAAA+D9SuB6F61H4P6RwPQrXo/g/9ihcj8L1+D9I4XoUrkf5P5qZmZmZmfk/7FG4HoXr+T8+CtejcD36P5DC9Shcj/o/4XoUrkfh+j8zMzMzMzP7P4XrUbgehfs/16NwPQrX+z8pXI/C9Sj8P3sUrkfhevw/zczMzMzM/D8fhetRuB79P3E9CtejcP0/w/UoXI/C/T8VrkfhehT+P2dmZmZmZv4/uB6F61G4/j8K16NwPQr/P1yPwvUoXP8/rkfhehSu/z8AAAAAAAAAQA==",
                                                "dtype": "f8"
                                            },
                                            "y": {
                                                "bdata": "EyARVc/n5b+7AbX+xmXkv15adQQjz+K/USsYPH4l4b9Qqb9cDdXev5uBJcn3P9u/GKmoSFqP179O6S8378bTv5QHHPoR1c+/eHoDZRz8x7/dW6Fd6wrAv3aT4BsKE7C/AAAAAAAAAAB9k+AbChOwP+RboV3rCsA/eHoDZRz8xz+WBxz6EdXPP1HpLzfvxtM/GKmoSFqP1z+dgSXJ9z/bP1Kpv1wN1d4/USsYPH4l4T9eWnUEI8/iP7wBtf7GZeQ/EyARVc/n5T8WuNIDtlPnP+prW2MLqOg/qPSXm3fj6T+GLmT/uwTrP1nAgU60Cuw/jBXc3Ff07D/kWu+dusDtP/9URBMOb+4/4B4QHaL+7j//CSWs5W7vPwPZgFRnv+8//kPkv9Xv7z8AAAAAAADwP/5D5L/V7+8/AtmAVGe/7z/+CSWs5W7vP+AeEB2i/u4/AFVEEw5v7j/lWu+dusDtP4sV3NxX9Ow/WMCBTrQK7D+FLmT/uwTrP6j0l5t34+k/6mtbYwuo6D8VuNIDtlPnPxUgEVXP5+U/vQG1/sZl5D9fWnUEI8/iP1ErGDx+JeE/UKm/XA3V3j+ZgSXJ9z/bPxWpqEhaj9c/SukvN+/G0z+mBxz6EdXPP4d6A2Uc/Mc/6luhXesKwD+Ik+AbChOwPwdcFDMmpqE8d5PgGwoTsL/hW6Fd6wrAv356A2Uc/Me/ngcc+hHVz79V6S8378bTvx+pqEhaj9e/nIElyfc/279Tqb9cDdXev08rGDx+JeG/XVp1BCPP4r+7AbX+xmXkvxQgEVXP5+W/FLjSA7ZT57/ra1tjC6jov6f0l5t34+m/iC5k/7sE679ZwIFOtArsv44V3NxX9Oy/5VrvnbrA7b//VEQTDm/uv+EeEB2i/u6//wklrOVu778C2YBUZ7/vv/5D5L/V7++/AAAAAAAA8L/+Q+S/1e/vvwPZgFRnv++//wklrOVu77/gHhAdov7uvwBVRBMOb+6/41rvnbrA7b+MFdzcV/Tsv1fAgU60Cuy/ii5k/7sE67+p9Jebd+Ppv+1rW2MLqOi/FrjSA7ZT578WIBFVz+flvw==",
                                                "dtype": "f8"
                                            }
                                        }
                                    ],
                                    "name": "t=0.24"
                                },
                                {
                                    "data": [
                                        {
                                            "mode": "lines",
                                            "type": "scatter",
                                            "x": {
                                                "bdata": "AAAAAAAAAAB7FK5H4XqUP3sUrkfheqQ/uB6F61G4rj97FK5H4Xq0P5qZmZmZmbk/uB6F61G4vj/sUbgehevBP3sUrkfhesQ/CtejcD0Kxz+amZmZmZnJPylcj8L1KMw/uB6F61G4zj+kcD0K16PQP+xRuB6F69E/MzMzMzMz0z97FK5H4XrUP8P1KFyPwtU/CtejcD0K1z9SuB6F61HYP5qZmZmZmdk/4XoUrkfh2j8pXI/C9SjcP3E9CtejcN0/uB6F61G43j8AAAAAAADgP6RwPQrXo+A/SOF6FK5H4T/sUbgehevhP4/C9Shcj+I/MzMzMzMz4z/Xo3A9CtfjP3sUrkfheuQ/H4XrUbge5T/D9Shcj8LlP2dmZmZmZuY/CtejcD0K5z+uR+F6FK7nP1K4HoXrUeg/9ihcj8L16D+amZmZmZnpPz4K16NwPeo/4XoUrkfh6j+F61G4HoXrPylcj8L1KOw/zczMzMzM7D9xPQrXo3DtPxWuR+F6FO4/uB6F61G47j9cj8L1KFzvPwAAAAAAAPA/UrgehetR8D+kcD0K16PwP/YoXI/C9fA/SOF6FK5H8T+amZmZmZnxP+xRuB6F6/E/PgrXo3A98j+PwvUoXI/yP+F6FK5H4fI/MzMzMzMz8z+F61G4HoXzP9ejcD0K1/M/KVyPwvUo9D97FK5H4Xr0P83MzMzMzPQ/H4XrUbge9T9xPQrXo3D1P8P1KFyPwvU/Fa5H4XoU9j9nZmZmZmb2P7gehetRuPY/CtejcD0K9z9cj8L1KFz3P65H4XoUrvc/AAAAAAAA+D9SuB6F61H4P6RwPQrXo/g/9ihcj8L1+D9I4XoUrkf5P5qZmZmZmfk/7FG4HoXr+T8+CtejcD36P5DC9Shcj/o/4XoUrkfh+j8zMzMzMzP7P4XrUbgehfs/16NwPQrX+z8pXI/C9Sj8P3sUrkfhevw/zczMzMzM/D8fhetRuB79P3E9CtejcP0/w/UoXI/C/T8VrkfhehT+P2dmZmZmZv4/uB6F61G4/j8K16NwPQr/P1yPwvUoXP8/rkfhehSu/z8AAAAAAAAAQA==",
                                                "dtype": "f8"
                                            },
                                            "y": {
                                                "bdata": "zTt/Zp6g5r/sskCAdynlvwqs3UDvnOO/6gCwR5b84b/joh45EUrgvwDeRCsuDt2/wul8/N5q2b/bllfQ4a3Vvw4OFIP92tG/ah/SIx7sy790U6hnCwbEv+8X/H97F7i/ZFj3LRIVoL9kWPctEhWgP/UX/H97F7g/dFOoZwsGxD9qH9IjHuzLPw8OFIP92tE/25ZX0OGt1T/C6Xz83mrZPwHeRCsuDt0/46IeORFK4D/qALBHlvzhPwus3UDvnOM/7LJAgHcp5T/NO39mnqDmP9zFDe7oAOg/8pEdKvNI6T8JUTWucXfqPzvKCN0yi+s/bCw9HSCD7D/tF+LyPl7tP9f/gvyxG+4/cjXR0rm67j/4pATKtTrvP1zkL5Qkm+8/XJPjw6Tb7z+GEJ0u9fvvP4YQnS71++8/XJPjw6Tb7z9b5C+UJJvvP/ikBMq1Ou8/cjXR0rm67j/X/4L8sRvuP+4X4vI+Xu0/bSw9HSCD7D88ygjdMovrPwhRNa5xd+o/85EdKvNI6T/cxQ3u6ADoP807f2aeoOY/7LJAgHcp5T8KrN1A75zjP+kAsEeW/OE/4qIeORFK4D/73UQrLg7dP7vpfPzeatk/25ZX0OGt1T8TDhSD/drRP3Ef0iMe7Ms/eVOoZwsGxD/yF/x/exe4P1hY9y0SFaA/NVj3LRIVoL/gF/x/exe4v3BTqGcLBsS/aB/SIx7sy78ODhSD/drRv96WV9DhrdW/xel8/N5q2b8G3kQrLg7dv+CiHjkRSuC/5wCwR5b84b8JrN1A75zjv+uyQIB3KeW/zDt/Zp6g5r/bxQ3u6ADov/KRHSrzSOm/B1E1rnF36r89ygjdMovrv2wsPR0gg+y/7hfi8j5e7b/X/4L8sRvuv3M10dK5uu6/9qQEyrU6779b5C+UJJvvv1yT48Ok2++/hhCdLvX777+GEJ0u9fvvv1yT48Ok2++/XOQvlCSb77/3pATKtTrvv3I10dK5uu6/1v+C/LEb7r/sF+LyPl7tv24sPR0gg+y/PsoI3TKL678JUTWucXfqv/SRHSrzSOm/28UN7ugA6L/OO39mnqDmvw==",
                                                "dtype": "f8"
                                            }
                                        }
                                    ],
                                    "name": "t=0.25"
                                },
                                {
                                    "data": [
                                        {
                                            "mode": "lines",
                                            "type": "scatter",
                                            "x": {
                                                "bdata": "AAAAAAAAAAB7FK5H4XqUP3sUrkfheqQ/uB6F61G4rj97FK5H4Xq0P5qZmZmZmbk/uB6F61G4vj/sUbgehevBP3sUrkfhesQ/CtejcD0Kxz+amZmZmZnJPylcj8L1KMw/uB6F61G4zj+kcD0K16PQP+xRuB6F69E/MzMzMzMz0z97FK5H4XrUP8P1KFyPwtU/CtejcD0K1z9SuB6F61HYP5qZmZmZmdk/4XoUrkfh2j8pXI/C9SjcP3E9CtejcN0/uB6F61G43j8AAAAAAADgP6RwPQrXo+A/SOF6FK5H4T/sUbgehevhP4/C9Shcj+I/MzMzMzMz4z/Xo3A9CtfjP3sUrkfheuQ/H4XrUbge5T/D9Shcj8LlP2dmZmZmZuY/CtejcD0K5z+uR+F6FK7nP1K4HoXrUeg/9ihcj8L16D+amZmZmZnpPz4K16NwPeo/4XoUrkfh6j+F61G4HoXrPylcj8L1KOw/zczMzMzM7D9xPQrXo3DtPxWuR+F6FO4/uB6F61G47j9cj8L1KFzvPwAAAAAAAPA/UrgehetR8D+kcD0K16PwP/YoXI/C9fA/SOF6FK5H8T+amZmZmZnxP+xRuB6F6/E/PgrXo3A98j+PwvUoXI/yP+F6FK5H4fI/MzMzMzMz8z+F61G4HoXzP9ejcD0K1/M/KVyPwvUo9D97FK5H4Xr0P83MzMzMzPQ/H4XrUbge9T9xPQrXo3D1P8P1KFyPwvU/Fa5H4XoU9j9nZmZmZmb2P7gehetRuPY/CtejcD0K9z9cj8L1KFz3P65H4XoUrvc/AAAAAAAA+D9SuB6F61H4P6RwPQrXo/g/9ihcj8L1+D9I4XoUrkf5P5qZmZmZmfk/7FG4HoXr+T8+CtejcD36P5DC9Shcj/o/4XoUrkfh+j8zMzMzMzP7P4XrUbgehfs/16NwPQrX+z8pXI/C9Sj8P3sUrkfhevw/zczMzMzM/D8fhetRuB79P3E9CtejcP0/w/UoXI/C/T8VrkfhehT+P2dmZmZmZv4/uB6F61G4/j8K16NwPQr/P1yPwvUoXP8/rkfhehSu/z8AAAAAAAAAQA==",
                                                "dtype": "f8"
                                            },
                                            "y": {
                                                "bdata": "FrjSA7ZT578UIBFVz+flv7sBtf7GZeS/Xlp1BCPP4r9RKxg8fiXhv1Kpv1wN1d6/nYElyfc/278YqahIWo/Xv0/pLzfvxtO/lgcc+hHVz794egNlHPzHv+BboV3rCsC/fZPgGwoTsL8AAAAAAAAAAH2T4BsKE7A/3VuhXesKwD94egNlHPzHP5YHHPoR1c8/TukvN+/G0z8YqahIWo/XP52BJcn3P9s/UKm/XA3V3j9RKxg8fiXhP15adQQjz+I/uwG1/sZl5D8TIBFVz+flPxa40gO2U+c/6mtbYwuo6D+o9Jebd+PpP4UuZP+7BOs/WcCBTrQK7D+MFdzcV/TsP+Ra7526wO0//1REEw5v7j/gHhAdov7uP/8JJazlbu8/AtmAVGe/7z/+Q+S/1e/vPwAAAAAAAPA//kPkv9Xv7z8C2YBUZ7/vP/4JJazlbu8/4R4QHaL+7j8AVUQTDm/uP+Va7526wO0/ixXc3Ff07D9YwIFOtArsP4UuZP+7BOs/qPSXm3fj6T/qa1tjC6joPxW40gO2U+c/FSARVc/n5T+9AbX+xmXkP19adQQjz+I/USsYPH4l4T9Qqb9cDdXeP5mBJcn3P9s/FamoSFqP1z9Z6S8378bTP6YHHPoR1c8/h3oDZRz8xz/qW6Fd6wrAP4iT4BsKE7A/B1wUMyamoTx3k+AbChOwv+FboV3rCsC/fnoDZRz8x7+eBxz6EdXPv1XpLzfvxtO/H6moSFqP17+cgSXJ9z/bv0ypv1wN1d6/TysYPH4l4b9dWnUEI8/iv7sBtf7GZeS/FCARVc/n5b8UuNIDtlPnv+trW2MLqOi/p/SXm3fj6b+ILmT/uwTrv1nAgU60Cuy/jhXc3Ff07L/lWu+dusDtv/9URBMOb+6/3x4QHaL+7r//CSWs5W7vvwLZgFRnv++//kPkv9Xv778AAAAAAADwv/5D5L/V7++/A9mAVGe/77//CSWs5W7vv+AeEB2i/u6/AFVEEw5v7r/jWu+dusDtv4wV3NxX9Oy/W8CBTrQK7L+KLmT/uwTrv6n0l5t34+m/7WtbYwuo6L8WuNIDtlPnvw==",
                                                "dtype": "f8"
                                            }
                                        }
                                    ],
                                    "name": "t=0.26"
                                },
                                {
                                    "data": [
                                        {
                                            "mode": "lines",
                                            "type": "scatter",
                                            "x": {
                                                "bdata": "AAAAAAAAAAB7FK5H4XqUP3sUrkfheqQ/uB6F61G4rj97FK5H4Xq0P5qZmZmZmbk/uB6F61G4vj/sUbgehevBP3sUrkfhesQ/CtejcD0Kxz+amZmZmZnJPylcj8L1KMw/uB6F61G4zj+kcD0K16PQP+xRuB6F69E/MzMzMzMz0z97FK5H4XrUP8P1KFyPwtU/CtejcD0K1z9SuB6F61HYP5qZmZmZmdk/4XoUrkfh2j8pXI/C9SjcP3E9CtejcN0/uB6F61G43j8AAAAAAADgP6RwPQrXo+A/SOF6FK5H4T/sUbgehevhP4/C9Shcj+I/MzMzMzMz4z/Xo3A9CtfjP3sUrkfheuQ/H4XrUbge5T/D9Shcj8LlP2dmZmZmZuY/CtejcD0K5z+uR+F6FK7nP1K4HoXrUeg/9ihcj8L16D+amZmZmZnpPz4K16NwPeo/4XoUrkfh6j+F61G4HoXrPylcj8L1KOw/zczMzMzM7D9xPQrXo3DtPxWuR+F6FO4/uB6F61G47j9cj8L1KFzvPwAAAAAAAPA/UrgehetR8D+kcD0K16PwP/YoXI/C9fA/SOF6FK5H8T+amZmZmZnxP+xRuB6F6/E/PgrXo3A98j+PwvUoXI/yP+F6FK5H4fI/MzMzMzMz8z+F61G4HoXzP9ejcD0K1/M/KVyPwvUo9D97FK5H4Xr0P83MzMzMzPQ/H4XrUbge9T9xPQrXo3D1P8P1KFyPwvU/Fa5H4XoU9j9nZmZmZmb2P7gehetRuPY/CtejcD0K9z9cj8L1KFz3P65H4XoUrvc/AAAAAAAA+D9SuB6F61H4P6RwPQrXo/g/9ihcj8L1+D9I4XoUrkf5P5qZmZmZmfk/7FG4HoXr+T8+CtejcD36P5DC9Shcj/o/4XoUrkfh+j8zMzMzMzP7P4XrUbgehfs/16NwPQrX+z8pXI/C9Sj8P3sUrkfhevw/zczMzMzM/D8fhetRuB79P3E9CtejcP0/w/UoXI/C/T8VrkfhehT+P2dmZmZmZv4/uB6F61G4/j8K16NwPQr/P1yPwvUoXP8/rkfhehSu/z8AAAAAAAAAQA==",
                                                "dtype": "f8"
                                            },
                                            "y": {
                                                "bdata": "3MUN7ugA6L/NO39mnqDmv+yyQIB3KeW/C6zdQO+c47/qALBHlvzhv+SiHjkRSuC/Ad5EKy4O3b/C6Xz83mrZv92WV9DhrdW/Dw4Ug/3a0b9qH9IjHuzLv3dTqGcLBsS/9Rf8f3sXuL9kWPctEhWgv2RY9y0SFaA/6Rf8f3sXuD90U6hnCwbEP2of0iMe7Ms/DA4Ug/3a0T/bllfQ4a3VP8LpfPzeatk//91EKy4O3T/joh45EUrgP+oAsEeW/OE/CqzdQO+c4z/sskCAdynlP807f2aeoOY/3MUN7ugA6D/ykR0q80jpPwhRNa5xd+o/O8oI3TKL6z9sLD0dIIPsP+0X4vI+Xu0/1/+C/LEb7j9yNdHSubruP/ikBMq1Ou8/W+QvlCSb7z9ck+PDpNvvP4YQnS71++8/hhCdLvX77z9ck+PDpNvvP1vkL5Qkm+8/+KQEyrU67z9yNdHSubruP9f/gvyxG+4/7hfi8j5e7T9tLD0dIIPsPzzKCN0yi+s/C1E1rnF36j/zkR0q80jpP9zFDe7oAOg/zTt/Zp6g5j/sskCAdynlPwqs3UDvnOM/6QCwR5b84T/ioh45EUrgP/vdRCsuDt0/u+l8/N5q2T/jllfQ4a3VPxMOFIP92tE/cR/SIx7syz95U6hnCwbEP/IX/H97F7g/WFj3LRIVoD81WPctEhWgv+AX/H97F7i/cFOoZwsGxL9oH9IjHuzLvw4OFIP92tG/3pZX0OGt1b/F6Xz83mrZv/fdRCsuDt2/4KIeORFK4L/nALBHlvzhvwms3UDvnOO/67JAgHcp5b/MO39mnqDmv9vFDe7oAOi/8pEdKvNI6b8HUTWucXfqvz3KCN0yi+u/bCw9HSCD7L/uF+LyPl7tv9f/gvyxG+6/cTXR0rm67r/2pATKtTrvv1vkL5Qkm++/XJPjw6Tb77+GEJ0u9fvvv4YQnS71+++/XJPjw6Tb779c5C+UJJvvv/ekBMq1Ou+/cjXR0rm67r/W/4L8sRvuv+wX4vI+Xu2/biw9HSCD7L8+ygjdMovrvwlRNa5xd+q/9JEdKvNI6b/bxQ3u6ADovw==",
                                                "dtype": "f8"
                                            }
                                        }
                                    ],
                                    "name": "t=0.27"
                                },
                                {
                                    "data": [
                                        {
                                            "mode": "lines",
                                            "type": "scatter",
                                            "x": {
                                                "bdata": "AAAAAAAAAAB7FK5H4XqUP3sUrkfheqQ/uB6F61G4rj97FK5H4Xq0P5qZmZmZmbk/uB6F61G4vj/sUbgehevBP3sUrkfhesQ/CtejcD0Kxz+amZmZmZnJPylcj8L1KMw/uB6F61G4zj+kcD0K16PQP+xRuB6F69E/MzMzMzMz0z97FK5H4XrUP8P1KFyPwtU/CtejcD0K1z9SuB6F61HYP5qZmZmZmdk/4XoUrkfh2j8pXI/C9SjcP3E9CtejcN0/uB6F61G43j8AAAAAAADgP6RwPQrXo+A/SOF6FK5H4T/sUbgehevhP4/C9Shcj+I/MzMzMzMz4z/Xo3A9CtfjP3sUrkfheuQ/H4XrUbge5T/D9Shcj8LlP2dmZmZmZuY/CtejcD0K5z+uR+F6FK7nP1K4HoXrUeg/9ihcj8L16D+amZmZmZnpPz4K16NwPeo/4XoUrkfh6j+F61G4HoXrPylcj8L1KOw/zczMzMzM7D9xPQrXo3DtPxWuR+F6FO4/uB6F61G47j9cj8L1KFzvPwAAAAAAAPA/UrgehetR8D+kcD0K16PwP/YoXI/C9fA/SOF6FK5H8T+amZmZmZnxP+xRuB6F6/E/PgrXo3A98j+PwvUoXI/yP+F6FK5H4fI/MzMzMzMz8z+F61G4HoXzP9ejcD0K1/M/KVyPwvUo9D97FK5H4Xr0P83MzMzMzPQ/H4XrUbge9T9xPQrXo3D1P8P1KFyPwvU/Fa5H4XoU9j9nZmZmZmb2P7gehetRuPY/CtejcD0K9z9cj8L1KFz3P65H4XoUrvc/AAAAAAAA+D9SuB6F61H4P6RwPQrXo/g/9ihcj8L1+D9I4XoUrkf5P5qZmZmZmfk/7FG4HoXr+T8+CtejcD36P5DC9Shcj/o/4XoUrkfh+j8zMzMzMzP7P4XrUbgehfs/16NwPQrX+z8pXI/C9Sj8P3sUrkfhevw/zczMzMzM/D8fhetRuB79P3E9CtejcP0/w/UoXI/C/T8VrkfhehT+P2dmZmZmZv4/uB6F61G4/j8K16NwPQr/P1yPwvUoXP8/rkfhehSu/z8AAAAAAAAAQA==",
                                                "dtype": "f8"
                                            },
                                            "y": {
                                                "bdata": "6mtbYwuo6L8WuNIDtlPnvxQgEVXP5+W/vAG1/sZl5L9eWnUEI8/iv1ErGDx+JeG/Uqm/XA3V3r+dgSXJ9z/bvxqpqEhaj9e/UekvN+/G07+WBxz6EdXPv3t6A2Uc/Me/5FuhXesKwL99k+AbChOwvwAAAAAAAAAAcJPgGwoTsD/dW6Fd6wrAP3h6A2Uc/Mc/kAcc+hHVzz9O6S8378bTPxipqEhaj9c/mYElyfc/2z9Qqb9cDdXeP1ErGDx+JeE/XVp1BCPP4j+7AbX+xmXkPxMgEVXP5+U/FrjSA7ZT5z/qa1tjC6joP6b0l5t34+k/hS5k/7sE6z9ZwIFOtArsP4wV3NxX9Ow/5FrvnbrA7T//VEQTDm/uP+AeEB2i/u4//gklrOVu7z8C2YBUZ7/vP/5D5L/V7+8/AAAAAAAA8D/+Q+S/1e/vPwLZgFRnv+8//wklrOVu7z/hHhAdov7uPwBVRBMOb+4/5VrvnbrA7T+LFdzcV/TsP1jAgU60Cuw/hy5k/7sE6z+o9Jebd+PpP+prW2MLqOg/FbjSA7ZT5z8VIBFVz+flP70Btf7GZeQ/X1p1BCPP4j9RKxg8fiXhP1Cpv1wN1d4/mYElyfc/2z8jqahIWo/XP1npLzfvxtM/pgcc+hHVzz+HegNlHPzHP+pboV3rCsA/iJPgGwoTsD8HXBQzJqahPHeT4BsKE7C/4VuhXesKwL9+egNlHPzHv54HHPoR1c+/VekvN+/G078fqahIWo/Xv5WBJcn3P9u/TKm/XA3V3r9PKxg8fiXhv11adQQjz+K/uwG1/sZl5L8UIBFVz+flvxS40gO2U+e/62tbYwuo6L+n9Jebd+Ppv4guZP+7BOu/WcCBTrQK7L+OFdzcV/Tsv+Va7526wO2//1REEw5v7r/fHhAdov7uv/8JJazlbu+/AtmAVGe/77/+Q+S/1e/vvwAAAAAAAPC//kPkv9Xv778D2YBUZ7/vv/8JJazlbu+/4B4QHaL+7r8AVUQTDm/uv+Na7526wO2/jxXc3Ff07L9bwIFOtArsv4ouZP+7BOu/qfSXm3fj6b/ta1tjC6jovw==",
                                                "dtype": "f8"
                                            }
                                        }
                                    ],
                                    "name": "t=0.28"
                                },
                                {
                                    "data": [
                                        {
                                            "mode": "lines",
                                            "type": "scatter",
                                            "x": {
                                                "bdata": "AAAAAAAAAAB7FK5H4XqUP3sUrkfheqQ/uB6F61G4rj97FK5H4Xq0P5qZmZmZmbk/uB6F61G4vj/sUbgehevBP3sUrkfhesQ/CtejcD0Kxz+amZmZmZnJPylcj8L1KMw/uB6F61G4zj+kcD0K16PQP+xRuB6F69E/MzMzMzMz0z97FK5H4XrUP8P1KFyPwtU/CtejcD0K1z9SuB6F61HYP5qZmZmZmdk/4XoUrkfh2j8pXI/C9SjcP3E9CtejcN0/uB6F61G43j8AAAAAAADgP6RwPQrXo+A/SOF6FK5H4T/sUbgehevhP4/C9Shcj+I/MzMzMzMz4z/Xo3A9CtfjP3sUrkfheuQ/H4XrUbge5T/D9Shcj8LlP2dmZmZmZuY/CtejcD0K5z+uR+F6FK7nP1K4HoXrUeg/9ihcj8L16D+amZmZmZnpPz4K16NwPeo/4XoUrkfh6j+F61G4HoXrPylcj8L1KOw/zczMzMzM7D9xPQrXo3DtPxWuR+F6FO4/uB6F61G47j9cj8L1KFzvPwAAAAAAAPA/UrgehetR8D+kcD0K16PwP/YoXI/C9fA/SOF6FK5H8T+amZmZmZnxP+xRuB6F6/E/PgrXo3A98j+PwvUoXI/yP+F6FK5H4fI/MzMzMzMz8z+F61G4HoXzP9ejcD0K1/M/KVyPwvUo9D97FK5H4Xr0P83MzMzMzPQ/H4XrUbge9T9xPQrXo3D1P8P1KFyPwvU/Fa5H4XoU9j9nZmZmZmb2P7gehetRuPY/CtejcD0K9z9cj8L1KFz3P65H4XoUrvc/AAAAAAAA+D9SuB6F61H4P6RwPQrXo/g/9ihcj8L1+D9I4XoUrkf5P5qZmZmZmfk/7FG4HoXr+T8+CtejcD36P5DC9Shcj/o/4XoUrkfh+j8zMzMzMzP7P4XrUbgehfs/16NwPQrX+z8pXI/C9Sj8P3sUrkfhevw/zczMzMzM/D8fhetRuB79P3E9CtejcP0/w/UoXI/C/T8VrkfhehT+P2dmZmZmZv4/uB6F61G4/j8K16NwPQr/P1yPwvUoXP8/rkfhehSu/z8AAAAAAAAAQA==",
                                                "dtype": "f8"
                                            },
                                            "y": {
                                                "bdata": "8ZEdKvNI6b/axQ3u6ADov8w7f2aeoOa/7LJAgHcp5b8KrN1A75zjv+oAsEeW/OG/46IeORFK4L//3UQrLg7dv8DpfPzeatm/25ZX0OGt1b8MDhSD/drRv2cf0iMe7Mu/dFOoZwsGxL/pF/x/exe4v0tY9y0SFaC/ZFj3LRIVoD/1F/x/exe4P3pTqGcLBsQ/ah/SIx7syz8PDhSD/drRP9+WV9DhrdU/wul8/N5q2T8B3kQrLg7dP+SiHjkRSuA/6gCwR5b84T8LrN1A75zjP+2yQIB3KeU/zjt/Zp6g5j/dxQ3u6ADoP/GRHSrzSOk/CVE1rnF36j88ygjdMovrP2wsPR0gg+w/7Rfi8j5e7T/Y/4L8sRvuP3M10dK5uu4/96QEyrU67z9c5C+UJJvvP1yT48Ok2+8/hhCdLvX77z+GEJ0u9fvvP1yT48Ok2+8/W+QvlCSb7z/4pATKtTrvP3I10dK5uu4/1/+C/LEb7j/sF+LyPl7tP2ssPR0gg+w/PsoI3TKL6z8LUTWucXfqP/ORHSrzSOk/3MUN7ugA6D/NO39mnqDmP+yyQIB3KeU/CqzdQO+c4z/pALBHlvzhP+KiHjkRSuA/+91EKy4O3T/K6Xz83mrZP+OWV9DhrdU/Ew4Ug/3a0T9xH9IjHuzLP3lTqGcLBsQ/8hf8f3sXuD9YWPctEhWgPzVY9y0SFaC/4Bf8f3sXuL9wU6hnCwbEv2gf0iMe7Mu/Dg4Ug/3a0b/ellfQ4a3Vv7fpfPzeatm/991EKy4O3b/goh45EUrgv+cAsEeW/OG/CazdQO+c47/rskCAdynlv8w7f2aeoOa/28UN7ugA6L/ykR0q80jpvwdRNa5xd+q/PcoI3TKL679sLD0dIIPsv+4X4vI+Xu2/1P+C/LEb7r9xNdHSubruv/akBMq1Ou+/W+QvlCSb779ck+PDpNvvv4YQnS71+++/hhCdLvX7779ck+PDpNvvv1zkL5Qkm++/96QEyrU6779yNdHSubruv9b/gvyxG+6/8Bfi8j5e7b9uLD0dIIPsvz7KCN0yi+u/CVE1rnF36r/0kR0q80jpvw==",
                                                "dtype": "f8"
                                            }
                                        }
                                    ],
                                    "name": "t=0.29"
                                },
                                {
                                    "data": [
                                        {
                                            "mode": "lines",
                                            "type": "scatter",
                                            "x": {
                                                "bdata": "AAAAAAAAAAB7FK5H4XqUP3sUrkfheqQ/uB6F61G4rj97FK5H4Xq0P5qZmZmZmbk/uB6F61G4vj/sUbgehevBP3sUrkfhesQ/CtejcD0Kxz+amZmZmZnJPylcj8L1KMw/uB6F61G4zj+kcD0K16PQP+xRuB6F69E/MzMzMzMz0z97FK5H4XrUP8P1KFyPwtU/CtejcD0K1z9SuB6F61HYP5qZmZmZmdk/4XoUrkfh2j8pXI/C9SjcP3E9CtejcN0/uB6F61G43j8AAAAAAADgP6RwPQrXo+A/SOF6FK5H4T/sUbgehevhP4/C9Shcj+I/MzMzMzMz4z/Xo3A9CtfjP3sUrkfheuQ/H4XrUbge5T/D9Shcj8LlP2dmZmZmZuY/CtejcD0K5z+uR+F6FK7nP1K4HoXrUeg/9ihcj8L16D+amZmZmZnpPz4K16NwPeo/4XoUrkfh6j+F61G4HoXrPylcj8L1KOw/zczMzMzM7D9xPQrXo3DtPxWuR+F6FO4/uB6F61G47j9cj8L1KFzvPwAAAAAAAPA/UrgehetR8D+kcD0K16PwP/YoXI/C9fA/SOF6FK5H8T+amZmZmZnxP+xRuB6F6/E/PgrXo3A98j+PwvUoXI/yP+F6FK5H4fI/MzMzMzMz8z+F61G4HoXzP9ejcD0K1/M/KVyPwvUo9D97FK5H4Xr0P83MzMzMzPQ/H4XrUbge9T9xPQrXo3D1P8P1KFyPwvU/Fa5H4XoU9j9nZmZmZmb2P7gehetRuPY/CtejcD0K9z9cj8L1KFz3P65H4XoUrvc/AAAAAAAA+D9SuB6F61H4P6RwPQrXo/g/9ihcj8L1+D9I4XoUrkf5P5qZmZmZmfk/7FG4HoXr+T8+CtejcD36P5DC9Shcj/o/4XoUrkfh+j8zMzMzMzP7P4XrUbgehfs/16NwPQrX+z8pXI/C9Sj8P3sUrkfhevw/zczMzMzM/D8fhetRuB79P3E9CtejcP0/w/UoXI/C/T8VrkfhehT+P2dmZmZmZv4/uB6F61G4/j8K16NwPQr/P1yPwvUoXP8/rkfhehSu/z8AAAAAAAAAQA==",
                                                "dtype": "f8"
                                            },
                                            "y": {
                                                "bdata": "qPSXm3fj6b/pa1tjC6jovxa40gO2U+e/EyARVc/n5b+7AbX+xmXkv15adQQjz+K/USsYPH4l4b9Qqb9cDdXev5uBJcn3P9u/GKmoSFqP179O6S8378bTv5QHHPoR1c+/eHoDZRz8x7/dW6Fd6wrAv3CT4BsKE7C/AAAAAAAAAAB9k+AbChOwP+RboV3rCsA/eHoDZRz8xz+WBxz6EdXPP1HpLzfvxtM/GKmoSFqP1z+dgSXJ9z/bP1Kpv1wN1d4/USsYPH4l4T9eWnUEI8/iP7wBtf7GZeQ/FCARVc/n5T8WuNIDtlPnP+lrW2MLqOg/qPSXm3fj6T+GLmT/uwTrP1rAgU60Cuw/jBXc3Ff07D/lWu+dusDtPwBVRBMOb+4/4B4QHaL+7j/+CSWs5W7vPwPZgFRnv+8//kPkv9Xv7z8AAAAAAADwP/5D5L/V7+8/AtmAVGe/7z/+CSWs5W7vP+AeEB2i/u4//1REEw5v7j/kWu+dusDtP4sV3NxX9Ow/WsCBTrQK7D+HLmT/uwTrP6j0l5t34+k/6mtbYwuo6D8VuNIDtlPnPxUgEVXP5+U/vQG1/sZl5D9fWnUEI8/iP1ErGDx+JeE/UKm/XA3V3j+ggSXJ9z/bPyOpqEhaj9c/WekvN+/G0z+mBxz6EdXPP4d6A2Uc/Mc/6luhXesKwD+Ik+AbChOwPwdcFDMmpqE8d5PgGwoTsL/hW6Fd6wrAv356A2Uc/Me/ngcc+hHVz79V6S8378bTvxCpqEhaj9e/lYElyfc/279Mqb9cDdXev08rGDx+JeG/XVp1BCPP4r+7AbX+xmXkvxQgEVXP5+W/FLjSA7ZT57/ra1tjC6jov6f0l5t34+m/iC5k/7sE679ZwIFOtArsv44V3NxX9Oy/4lrvnbrA7b//VEQTDm/uv98eEB2i/u6//wklrOVu778C2YBUZ7/vv/5D5L/V7++/AAAAAAAA8L/+Q+S/1e/vvwPZgFRnv++//wklrOVu77/gHhAdov7uvwBVRBMOb+6/5lrvnbrA7b+PFdzcV/Tsv1vAgU60Cuy/ii5k/7sE67+p9Jebd+Ppvw==",
                                                "dtype": "f8"
                                            }
                                        }
                                    ],
                                    "name": "t=0.30"
                                },
                                {
                                    "data": [
                                        {
                                            "mode": "lines",
                                            "type": "scatter",
                                            "x": {
                                                "bdata": "AAAAAAAAAAB7FK5H4XqUP3sUrkfheqQ/uB6F61G4rj97FK5H4Xq0P5qZmZmZmbk/uB6F61G4vj/sUbgehevBP3sUrkfhesQ/CtejcD0Kxz+amZmZmZnJPylcj8L1KMw/uB6F61G4zj+kcD0K16PQP+xRuB6F69E/MzMzMzMz0z97FK5H4XrUP8P1KFyPwtU/CtejcD0K1z9SuB6F61HYP5qZmZmZmdk/4XoUrkfh2j8pXI/C9SjcP3E9CtejcN0/uB6F61G43j8AAAAAAADgP6RwPQrXo+A/SOF6FK5H4T/sUbgehevhP4/C9Shcj+I/MzMzMzMz4z/Xo3A9CtfjP3sUrkfheuQ/H4XrUbge5T/D9Shcj8LlP2dmZmZmZuY/CtejcD0K5z+uR+F6FK7nP1K4HoXrUeg/9ihcj8L16D+amZmZmZnpPz4K16NwPeo/4XoUrkfh6j+F61G4HoXrPylcj8L1KOw/zczMzMzM7D9xPQrXo3DtPxWuR+F6FO4/uB6F61G47j9cj8L1KFzvPwAAAAAAAPA/UrgehetR8D+kcD0K16PwP/YoXI/C9fA/SOF6FK5H8T+amZmZmZnxP+xRuB6F6/E/PgrXo3A98j+PwvUoXI/yP+F6FK5H4fI/MzMzMzMz8z+F61G4HoXzP9ejcD0K1/M/KVyPwvUo9D97FK5H4Xr0P83MzMzMzPQ/H4XrUbge9T9xPQrXo3D1P8P1KFyPwvU/Fa5H4XoU9j9nZmZmZmb2P7gehetRuPY/CtejcD0K9z9cj8L1KFz3P65H4XoUrvc/AAAAAAAA+D9SuB6F61H4P6RwPQrXo/g/9ihcj8L1+D9I4XoUrkf5P5qZmZmZmfk/7FG4HoXr+T8+CtejcD36P5DC9Shcj/o/4XoUrkfh+j8zMzMzMzP7P4XrUbgehfs/16NwPQrX+z8pXI/C9Sj8P3sUrkfhevw/zczMzMzM/D8fhetRuB79P3E9CtejcP0/w/UoXI/C/T8VrkfhehT+P2dmZmZmZv4/uB6F61G4/j8K16NwPQr/P1yPwvUoXP8/rkfhehSu/z8AAAAAAAAAQA==",
                                                "dtype": "f8"
                                            },
                                            "y": {
                                                "bdata": "CVE1rnF36r/xkR0q80jpv9zFDe7oAOi/zTt/Zp6g5r/sskCAdynlvwqs3UDvnOO/6gCwR5b84b/joh45EUrgvwDeRCsuDt2/wul8/N5q2b/bllfQ4a3Vvw4OFIP92tG/ah/SIx7sy790U6hnCwbEv+kX/H97F7i/ZFj3LRIVoL9kWPctEhWgP/UX/H97F7g/dFOoZwsGxD9qH9IjHuzLPw8OFIP92tE/25ZX0OGt1T/C6Xz83mrZPwHeRCsuDt0/46IeORFK4D/qALBHlvzhPwus3UDvnOM/7bJAgHcp5T/OO39mnqDmP9rFDe7oAOg/8ZEdKvNI6T8JUTWucXfqPzzKCN0yi+s/bCw9HSCD7D/tF+LyPl7tP9j/gvyxG+4/cTXR0rm67j/3pATKtTrvP1zkL5Qkm+8/XJPjw6Tb7z+GEJ0u9fvvP4YQnS71++8/XJPjw6Tb7z9b5C+UJJvvP/ikBMq1Ou8/cjXR0rm67j/X/4L8sRvuP+wX4vI+Xu0/byw9HSCD7D8+ygjdMovrPwtRNa5xd+o/85EdKvNI6T/cxQ3u6ADoP807f2aeoOY/7LJAgHcp5T8KrN1A75zjP+kAsEeW/OE/4qIeORFK4D8K3kQrLg7dP8rpfPzeatk/45ZX0OGt1T8TDhSD/drRP3Ef0iMe7Ms/eVOoZwsGxD/yF/x/exe4P1hY9y0SFaA/NVj3LRIVoL/gF/x/exe4v3BTqGcLBsS/aB/SIx7sy78ODhSD/drRv9eWV9DhrdW/t+l8/N5q2b/33UQrLg7dv+CiHjkRSuC/5wCwR5b84b8JrN1A75zjv+uyQIB3KeW/zDt/Zp6g5r/bxQ3u6ADov/KRHSrzSOm/B1E1rnF36r89ygjdMovrv2wsPR0gg+y/6xfi8j5e7b/U/4L8sRvuv3E10dK5uu6/9qQEyrU6779b5C+UJJvvv1yT48Ok2++/hhCdLvX777+GEJ0u9fvvv1yT48Ok2++/XOQvlCSb77/3pATKtTrvv3I10dK5uu6/2P+C/LEb7r/wF+LyPl7tv24sPR0gg+y/PsoI3TKL678JUTWucXfqvw==",
                                                "dtype": "f8"
                                            }
                                        }
                                    ],
                                    "name": "t=0.31"
                                },
                                {
                                    "data": [
                                        {
                                            "mode": "lines",
                                            "type": "scatter",
                                            "x": {
                                                "bdata": "AAAAAAAAAAB7FK5H4XqUP3sUrkfheqQ/uB6F61G4rj97FK5H4Xq0P5qZmZmZmbk/uB6F61G4vj/sUbgehevBP3sUrkfhesQ/CtejcD0Kxz+amZmZmZnJPylcj8L1KMw/uB6F61G4zj+kcD0K16PQP+xRuB6F69E/MzMzMzMz0z97FK5H4XrUP8P1KFyPwtU/CtejcD0K1z9SuB6F61HYP5qZmZmZmdk/4XoUrkfh2j8pXI/C9SjcP3E9CtejcN0/uB6F61G43j8AAAAAAADgP6RwPQrXo+A/SOF6FK5H4T/sUbgehevhP4/C9Shcj+I/MzMzMzMz4z/Xo3A9CtfjP3sUrkfheuQ/H4XrUbge5T/D9Shcj8LlP2dmZmZmZuY/CtejcD0K5z+uR+F6FK7nP1K4HoXrUeg/9ihcj8L16D+amZmZmZnpPz4K16NwPeo/4XoUrkfh6j+F61G4HoXrPylcj8L1KOw/zczMzMzM7D9xPQrXo3DtPxWuR+F6FO4/uB6F61G47j9cj8L1KFzvPwAAAAAAAPA/UrgehetR8D+kcD0K16PwP/YoXI/C9fA/SOF6FK5H8T+amZmZmZnxP+xRuB6F6/E/PgrXo3A98j+PwvUoXI/yP+F6FK5H4fI/MzMzMzMz8z+F61G4HoXzP9ejcD0K1/M/KVyPwvUo9D97FK5H4Xr0P83MzMzMzPQ/H4XrUbge9T9xPQrXo3D1P8P1KFyPwvU/Fa5H4XoU9j9nZmZmZmb2P7gehetRuPY/CtejcD0K9z9cj8L1KFz3P65H4XoUrvc/AAAAAAAA+D9SuB6F61H4P6RwPQrXo/g/9ihcj8L1+D9I4XoUrkf5P5qZmZmZmfk/7FG4HoXr+T8+CtejcD36P5DC9Shcj/o/4XoUrkfh+j8zMzMzMzP7P4XrUbgehfs/16NwPQrX+z8pXI/C9Sj8P3sUrkfhevw/zczMzMzM/D8fhetRuB79P3E9CtejcP0/w/UoXI/C/T8VrkfhehT+P2dmZmZmZv4/uB6F61G4/j8K16NwPQr/P1yPwvUoXP8/rkfhehSu/z8AAAAAAAAAQA==",
                                                "dtype": "f8"
                                            },
                                            "y": {
                                                "bdata": "hi5k/7sE67+o9Jebd+Ppv+prW2MLqOi/FrjSA7ZT578TIBFVz+flv7sBtf7GZeS/Xlp1BCPP4r9RKxg8fiXhv1Kpv1wN1d6/nYElyfc/278YqahIWo/Xv0/pLzfvxtO/lgcc+hHVz794egNlHPzHv91boV3rCsC/fZPgGwoTsL8AAAAAAAAAAH2T4BsKE7A/3VuhXesKwD94egNlHPzHP5YHHPoR1c8/TukvN+/G0z8YqahIWo/XP52BJcn3P9s/UKm/XA3V3j9RKxg8fiXhP15adQQjz+I/vAG1/sZl5D8UIBFVz+flPxW40gO2U+c/6WtbYwuo6D+o9Jebd+PpP4YuZP+7BOs/WsCBTrQK7D+MFdzcV/TsP+Va7526wO0//1REEw5v7j/gHhAdov7uP/4JJazlbu8/A9mAVGe/7z/+Q+S/1e/vPwAAAAAAAPA//kPkv9Xv7z8C2YBUZ7/vP/4JJazlbu8/4B4QHaL+7j//VEQTDm/uP+Ra7526wO0/jRXc3Ff07D9awIFOtArsP4cuZP+7BOs/qPSXm3fj6T/qa1tjC6joPxW40gO2U+c/FSARVc/n5T+9AbX+xmXkP19adQQjz+I/USsYPH4l4T9Xqb9cDdXeP6CBJcn3P9s/I6moSFqP1z9Z6S8378bTP6YHHPoR1c8/h3oDZRz8xz/qW6Fd6wrAP4iT4BsKE7A/B1wUMyamoTx3k+AbChOwv+FboV3rCsC/fnoDZRz8x7+eBxz6EdXPv0bpLzfvxtO/EKmoSFqP17+VgSXJ9z/bv0ypv1wN1d6/TysYPH4l4b9dWnUEI8/iv7sBtf7GZeS/FCARVc/n5b8UuNIDtlPnv+trW2MLqOi/p/SXm3fj6b+ILmT/uwTrv1nAgU60Cuy/ihXc3Ff07L/iWu+dusDtv/9URBMOb+6/3x4QHaL+7r//CSWs5W7vvwLZgFRnv++//kPkv9Xv778AAAAAAADwv/5D5L/V7++/A9mAVGe/77//CSWs5W7vv+AeEB2i/u6/AFVEEw5v7r/mWu+dusDtv48V3NxX9Oy/W8CBTrQK7L+KLmT/uwTrvw==",
                                                "dtype": "f8"
                                            }
                                        }
                                    ],
                                    "name": "t=0.32"
                                },
                                {
                                    "data": [
                                        {
                                            "mode": "lines",
                                            "type": "scatter",
                                            "x": {
                                                "bdata": "AAAAAAAAAAB7FK5H4XqUP3sUrkfheqQ/uB6F61G4rj97FK5H4Xq0P5qZmZmZmbk/uB6F61G4vj/sUbgehevBP3sUrkfhesQ/CtejcD0Kxz+amZmZmZnJPylcj8L1KMw/uB6F61G4zj+kcD0K16PQP+xRuB6F69E/MzMzMzMz0z97FK5H4XrUP8P1KFyPwtU/CtejcD0K1z9SuB6F61HYP5qZmZmZmdk/4XoUrkfh2j8pXI/C9SjcP3E9CtejcN0/uB6F61G43j8AAAAAAADgP6RwPQrXo+A/SOF6FK5H4T/sUbgehevhP4/C9Shcj+I/MzMzMzMz4z/Xo3A9CtfjP3sUrkfheuQ/H4XrUbge5T/D9Shcj8LlP2dmZmZmZuY/CtejcD0K5z+uR+F6FK7nP1K4HoXrUeg/9ihcj8L16D+amZmZmZnpPz4K16NwPeo/4XoUrkfh6j+F61G4HoXrPylcj8L1KOw/zczMzMzM7D9xPQrXo3DtPxWuR+F6FO4/uB6F61G47j9cj8L1KFzvPwAAAAAAAPA/UrgehetR8D+kcD0K16PwP/YoXI/C9fA/SOF6FK5H8T+amZmZmZnxP+xRuB6F6/E/PgrXo3A98j+PwvUoXI/yP+F6FK5H4fI/MzMzMzMz8z+F61G4HoXzP9ejcD0K1/M/KVyPwvUo9D97FK5H4Xr0P83MzMzMzPQ/H4XrUbge9T9xPQrXo3D1P8P1KFyPwvU/Fa5H4XoU9j9nZmZmZmb2P7gehetRuPY/CtejcD0K9z9cj8L1KFz3P65H4XoUrvc/AAAAAAAA+D9SuB6F61H4P6RwPQrXo/g/9ihcj8L1+D9I4XoUrkf5P5qZmZmZmfk/7FG4HoXr+T8+CtejcD36P5DC9Shcj/o/4XoUrkfh+j8zMzMzMzP7P4XrUbgehfs/16NwPQrX+z8pXI/C9Sj8P3sUrkfhevw/zczMzMzM/D8fhetRuB79P3E9CtejcP0/w/UoXI/C/T8VrkfhehT+P2dmZmZmZv4/uB6F61G4/j8K16NwPQr/P1yPwvUoXP8/rkfhehSu/z8AAAAAAAAAQA==",
                                                "dtype": "f8"
                                            },
                                            "y": {
                                                "bdata": "PMoI3TKL678JUTWucXfqv/KRHSrzSOm/3MUN7ugA6L/NO39mnqDmv+yyQIB3KeW/C6zdQO+c47/qALBHlvzhv+SiHjkRSuC/Ad5EKy4O3b/C6Xz83mrZv92WV9DhrdW/Dw4Ug/3a0b9qH9IjHuzLv3RTqGcLBsS/9Rf8f3sXuL9kWPctEhWgv2RY9y0SFaA/6Rf8f3sXuD90U6hnCwbEP2of0iMe7Ms/DA4Ug/3a0T/bllfQ4a3VP8LpfPzeatk//91EKy4O3T/joh45EUrgP+oAsEeW/OE/C6zdQO+c4z/tskCAdynlP8s7f2aeoOY/2sUN7ugA6D/xkR0q80jpPwlRNa5xd+o/PMoI3TKL6z9sLD0dIIPsP+0X4vI+Xu0/1/+C/LEb7j9xNdHSubruP/ekBMq1Ou8/XOQvlCSb7z9ck+PDpNvvP4YQnS71++8/hhCdLvX77z9ck+PDpNvvP1vkL5Qkm+8/+KQEyrU67z9yNdHSubruP9f/gvyxG+4/7hfi8j5e7T9vLD0dIIPsPz7KCN0yi+s/C1E1rnF36j/zkR0q80jpP9zFDe7oAOg/zTt/Zp6g5j/sskCAdynlPwqs3UDvnOM/6QCwR5b84T/poh45EUrgPwreRCsuDt0/yul8/N5q2T/jllfQ4a3VPxMOFIP92tE/cR/SIx7syz95U6hnCwbEP/IX/H97F7g/WFj3LRIVoD81WPctEhWgv+AX/H97F7i/cFOoZwsGxL9oH9IjHuzLvwcOFIP92tG/15ZX0OGt1b+36Xz83mrZv/fdRCsuDt2/4KIeORFK4L/nALBHlvzhvwms3UDvnOO/67JAgHcp5b/MO39mnqDmv9vFDe7oAOi/8pEdKvNI6b8HUTWucXfqvz3KCN0yi+u/bCw9HSCD7L/rF+LyPl7tv9T/gvyxG+6/cTXR0rm67r/2pATKtTrvv1vkL5Qkm++/XJPjw6Tb77+GEJ0u9fvvv4YQnS71+++/XJPjw6Tb779c5C+UJJvvv/ekBMq1Ou+/dDXR0rm67r/Y/4L8sRvuv/AX4vI+Xu2/biw9HSCD7L8+ygjdMovrvw==",
                                                "dtype": "f8"
                                            }
                                        }
                                    ],
                                    "name": "t=0.33"
                                },
                                {
                                    "data": [
                                        {
                                            "mode": "lines",
                                            "type": "scatter",
                                            "x": {
                                                "bdata": "AAAAAAAAAAB7FK5H4XqUP3sUrkfheqQ/uB6F61G4rj97FK5H4Xq0P5qZmZmZmbk/uB6F61G4vj/sUbgehevBP3sUrkfhesQ/CtejcD0Kxz+amZmZmZnJPylcj8L1KMw/uB6F61G4zj+kcD0K16PQP+xRuB6F69E/MzMzMzMz0z97FK5H4XrUP8P1KFyPwtU/CtejcD0K1z9SuB6F61HYP5qZmZmZmdk/4XoUrkfh2j8pXI/C9SjcP3E9CtejcN0/uB6F61G43j8AAAAAAADgP6RwPQrXo+A/SOF6FK5H4T/sUbgehevhP4/C9Shcj+I/MzMzMzMz4z/Xo3A9CtfjP3sUrkfheuQ/H4XrUbge5T/D9Shcj8LlP2dmZmZmZuY/CtejcD0K5z+uR+F6FK7nP1K4HoXrUeg/9ihcj8L16D+amZmZmZnpPz4K16NwPeo/4XoUrkfh6j+F61G4HoXrPylcj8L1KOw/zczMzMzM7D9xPQrXo3DtPxWuR+F6FO4/uB6F61G47j9cj8L1KFzvPwAAAAAAAPA/UrgehetR8D+kcD0K16PwP/YoXI/C9fA/SOF6FK5H8T+amZmZmZnxP+xRuB6F6/E/PgrXo3A98j+PwvUoXI/yP+F6FK5H4fI/MzMzMzMz8z+F61G4HoXzP9ejcD0K1/M/KVyPwvUo9D97FK5H4Xr0P83MzMzMzPQ/H4XrUbge9T9xPQrXo3D1P8P1KFyPwvU/Fa5H4XoU9j9nZmZmZmb2P7gehetRuPY/CtejcD0K9z9cj8L1KFz3P65H4XoUrvc/AAAAAAAA+D9SuB6F61H4P6RwPQrXo/g/9ihcj8L1+D9I4XoUrkf5P5qZmZmZmfk/7FG4HoXr+T8+CtejcD36P5DC9Shcj/o/4XoUrkfh+j8zMzMzMzP7P4XrUbgehfs/16NwPQrX+z8pXI/C9Sj8P3sUrkfhevw/zczMzMzM/D8fhetRuB79P3E9CtejcP0/w/UoXI/C/T8VrkfhehT+P2dmZmZmZv4/uB6F61G4/j8K16NwPQr/P1yPwvUoXP8/rkfhehSu/z8AAAAAAAAAQA==",
                                                "dtype": "f8"
                                            },
                                            "y": {
                                                "bdata": "WsCBTrQK7L+GLmT/uwTrv6j0l5t34+m/6mtbYwuo6L8WuNIDtlPnvxQgEVXP5+W/vAG1/sZl5L9eWnUEI8/iv1ErGDx+JeG/Uqm/XA3V3r+dgSXJ9z/bvxqpqEhaj9e/UekvN+/G07+WBxz6EdXPv3h6A2Uc/Me/5FuhXesKwL99k+AbChOwvwAAAAAAAAAAcJPgGwoTsD/dW6Fd6wrAP3h6A2Uc/Mc/kAcc+hHVzz9O6S8378bTPxipqEhaj9c/mYElyfc/2z9Qqb9cDdXeP1ErGDx+JeE/Xlp1BCPP4j+8AbX+xmXkPxIgEVXP5+U/FbjSA7ZT5z/pa1tjC6joP6j0l5t34+k/hi5k/7sE6z9awIFOtArsP4wV3NxX9Ow/5FrvnbrA7T//VEQTDm/uP+AeEB2i/u4//gklrOVu7z8D2YBUZ7/vP/5D5L/V7+8/AAAAAAAA8D/+Q+S/1e/vPwLZgFRnv+8//gklrOVu7z/gHhAdov7uP/9URBMOb+4/5lrvnbrA7T+NFdzcV/TsP1rAgU60Cuw/hy5k/7sE6z+o9Jebd+PpP+prW2MLqOg/FbjSA7ZT5z8VIBFVz+flP70Btf7GZeQ/X1p1BCPP4j9UKxg8fiXhP1epv1wN1d4/oIElyfc/2z8jqahIWo/XP1npLzfvxtM/pgcc+hHVzz+HegNlHPzHP+pboV3rCsA/iJPgGwoTsD8HXBQzJqahPHeT4BsKE7C/4VuhXesKwL9+egNlHPzHv38HHPoR1c+/RukvN+/G078QqahIWo/Xv5WBJcn3P9u/TKm/XA3V3r9PKxg8fiXhv11adQQjz+K/uwG1/sZl5L8UIBFVz+flvxS40gO2U+e/62tbYwuo6L+n9Jebd+Ppv4guZP+7BOu/VcCBTrQK7L+KFdzcV/Tsv+Ja7526wO2//1REEw5v7r/fHhAdov7uv/8JJazlbu+/AtmAVGe/77/+Q+S/1e/vvwAAAAAAAPC//kPkv9Xv778D2YBUZ7/vv/8JJazlbu+/4h4QHaL+7r8AVUQTDm/uv+Za7526wO2/jxXc3Ff07L9bwIFOtArsvw==",
                                                "dtype": "f8"
                                            }
                                        }
                                    ],
                                    "name": "t=0.34"
                                },
                                {
                                    "data": [
                                        {
                                            "mode": "lines",
                                            "type": "scatter",
                                            "x": {
                                                "bdata": "AAAAAAAAAAB7FK5H4XqUP3sUrkfheqQ/uB6F61G4rj97FK5H4Xq0P5qZmZmZmbk/uB6F61G4vj/sUbgehevBP3sUrkfhesQ/CtejcD0Kxz+amZmZmZnJPylcj8L1KMw/uB6F61G4zj+kcD0K16PQP+xRuB6F69E/MzMzMzMz0z97FK5H4XrUP8P1KFyPwtU/CtejcD0K1z9SuB6F61HYP5qZmZmZmdk/4XoUrkfh2j8pXI/C9SjcP3E9CtejcN0/uB6F61G43j8AAAAAAADgP6RwPQrXo+A/SOF6FK5H4T/sUbgehevhP4/C9Shcj+I/MzMzMzMz4z/Xo3A9CtfjP3sUrkfheuQ/H4XrUbge5T/D9Shcj8LlP2dmZmZmZuY/CtejcD0K5z+uR+F6FK7nP1K4HoXrUeg/9ihcj8L16D+amZmZmZnpPz4K16NwPeo/4XoUrkfh6j+F61G4HoXrPylcj8L1KOw/zczMzMzM7D9xPQrXo3DtPxWuR+F6FO4/uB6F61G47j9cj8L1KFzvPwAAAAAAAPA/UrgehetR8D+kcD0K16PwP/YoXI/C9fA/SOF6FK5H8T+amZmZmZnxP+xRuB6F6/E/PgrXo3A98j+PwvUoXI/yP+F6FK5H4fI/MzMzMzMz8z+F61G4HoXzP9ejcD0K1/M/KVyPwvUo9D97FK5H4Xr0P83MzMzMzPQ/H4XrUbge9T9xPQrXo3D1P8P1KFyPwvU/Fa5H4XoU9j9nZmZmZmb2P7gehetRuPY/CtejcD0K9z9cj8L1KFz3P65H4XoUrvc/AAAAAAAA+D9SuB6F61H4P6RwPQrXo/g/9ihcj8L1+D9I4XoUrkf5P5qZmZmZmfk/7FG4HoXr+T8+CtejcD36P5DC9Shcj/o/4XoUrkfh+j8zMzMzMzP7P4XrUbgehfs/16NwPQrX+z8pXI/C9Sj8P3sUrkfhevw/zczMzMzM/D8fhetRuB79P3E9CtejcP0/w/UoXI/C/T8VrkfhehT+P2dmZmZmZv4/uB6F61G4/j8K16NwPQr/P1yPwvUoXP8/rkfhehSu/z8AAAAAAAAAQA==",
                                                "dtype": "f8"
                                            },
                                            "y": {
                                                "bdata": "bCw9HSCD7L88ygjdMovrvwlRNa5xd+q/8pEdKvNI6b/cxQ3u6ADov807f2aeoOa/7bJAgHcp5b8LrN1A75zjv+oAsEeW/OG/5KIeORFK4L8B3kQrLg7dv8PpfPzeatm/35ZX0OGt1b8PDhSD/drRv2of0iMe7Mu/elOoZwsGxL/1F/x/exe4v2RY9y0SFaC/S1j3LRIVoD/pF/x/exe4P3RTqGcLBsQ/ZB/SIx7syz8MDhSD/drRP9uWV9DhrdU/v+l8/N5q2T//3UQrLg7dP+OiHjkRSuA/6gCwR5b84T8LrN1A75zjP+uyQIB3KeU/yzt/Zp6g5j/axQ3u6ADoP/GRHSrzSOk/CVE1rnF36j88ygjdMovrP2wsPR0gg+w/7Bfi8j5e7T/X/4L8sRvuP3E10dK5uu4/96QEyrU67z9c5C+UJJvvP1yT48Ok2+8/hhCdLvX77z+GEJ0u9fvvP1yT48Ok2+8/W+QvlCSb7z/4pATKtTrvP3I10dK5uu4/2f+C/LEb7j/uF+LyPl7tP28sPR0gg+w/PsoI3TKL6z8LUTWucXfqP/ORHSrzSOk/3MUN7ugA6D/NO39mnqDmP+yyQIB3KeU/CqzdQO+c4z/wALBHlvzhP+miHjkRSuA/Ct5EKy4O3T/K6Xz83mrZP+OWV9DhrdU/Ew4Ug/3a0T9xH9IjHuzLP3lTqGcLBsQ/8hf8f3sXuD9YWPctEhWgPzVY9y0SFaC/4Bf8f3sXuL9wU6hnCwbEv1gf0iMe7Mu/Bw4Ug/3a0b/XllfQ4a3Vv7fpfPzeatm/991EKy4O3b/goh45EUrgv+cAsEeW/OG/CazdQO+c47/rskCAdynlv8w7f2aeoOa/28UN7ugA6L/ykR0q80jpvwdRNa5xd+q/OcoI3TKL679sLD0dIIPsv+sX4vI+Xu2/1P+C/LEb7r9xNdHSubruv/akBMq1Ou+/W+QvlCSb779ck+PDpNvvv4YQnS71+++/hhCdLvX7779ck+PDpNvvv1zkL5Qkm++/+aQEyrU67790NdHSubruv9j/gvyxG+6/8Bfi8j5e7b9uLD0dIIPsvw==",
                                                "dtype": "f8"
                                            }
                                        }
                                    ],
                                    "name": "t=0.35"
                                },
                                {
                                    "data": [
                                        {
                                            "mode": "lines",
                                            "type": "scatter",
                                            "x": {
                                                "bdata": "AAAAAAAAAAB7FK5H4XqUP3sUrkfheqQ/uB6F61G4rj97FK5H4Xq0P5qZmZmZmbk/uB6F61G4vj/sUbgehevBP3sUrkfhesQ/CtejcD0Kxz+amZmZmZnJPylcj8L1KMw/uB6F61G4zj+kcD0K16PQP+xRuB6F69E/MzMzMzMz0z97FK5H4XrUP8P1KFyPwtU/CtejcD0K1z9SuB6F61HYP5qZmZmZmdk/4XoUrkfh2j8pXI/C9SjcP3E9CtejcN0/uB6F61G43j8AAAAAAADgP6RwPQrXo+A/SOF6FK5H4T/sUbgehevhP4/C9Shcj+I/MzMzMzMz4z/Xo3A9CtfjP3sUrkfheuQ/H4XrUbge5T/D9Shcj8LlP2dmZmZmZuY/CtejcD0K5z+uR+F6FK7nP1K4HoXrUeg/9ihcj8L16D+amZmZmZnpPz4K16NwPeo/4XoUrkfh6j+F61G4HoXrPylcj8L1KOw/zczMzMzM7D9xPQrXo3DtPxWuR+F6FO4/uB6F61G47j9cj8L1KFzvPwAAAAAAAPA/UrgehetR8D+kcD0K16PwP/YoXI/C9fA/SOF6FK5H8T+amZmZmZnxP+xRuB6F6/E/PgrXo3A98j+PwvUoXI/yP+F6FK5H4fI/MzMzMzMz8z+F61G4HoXzP9ejcD0K1/M/KVyPwvUo9D97FK5H4Xr0P83MzMzMzPQ/H4XrUbge9T9xPQrXo3D1P8P1KFyPwvU/Fa5H4XoU9j9nZmZmZmb2P7gehetRuPY/CtejcD0K9z9cj8L1KFz3P65H4XoUrvc/AAAAAAAA+D9SuB6F61H4P6RwPQrXo/g/9ihcj8L1+D9I4XoUrkf5P5qZmZmZmfk/7FG4HoXr+T8+CtejcD36P5DC9Shcj/o/4XoUrkfh+j8zMzMzMzP7P4XrUbgehfs/16NwPQrX+z8pXI/C9Sj8P3sUrkfhevw/zczMzMzM/D8fhetRuB79P3E9CtejcP0/w/UoXI/C/T8VrkfhehT+P2dmZmZmZv4/uB6F61G4/j8K16NwPQr/P1yPwvUoXP8/rkfhehSu/z8AAAAAAAAAQA==",
                                                "dtype": "f8"
                                            },
                                            "y": {
                                                "bdata": "jBXc3Ff07L9ZwIFOtArsv4YuZP+7BOu/qPSXm3fj6b/pa1tjC6jovxa40gO2U+e/EyARVc/n5b+7AbX+xmXkv15adQQjz+K/USsYPH4l4b9Qqb9cDdXev5uBJcn3P9u/GKmoSFqP179O6S8378bTv5AHHPoR1c+/eHoDZRz8x7/dW6Fd6wrAv3CT4BsKE7C/AAAAAAAAAAB9k+AbChOwP+RboV3rCsA/eHoDZRz8xz+WBxz6EdXPP1HpLzfvxtM/GKmoSFqP1z+dgSXJ9z/bP1Kpv1wN1d4/USsYPH4l4T9fWnUEI8/iP7sBtf7GZeQ/EyARVc/n5T8WuNIDtlPnP+prW2MLqOg/qPSXm3fj6T+GLmT/uwTrP1rAgU60Cuw/jBXc3Ff07D/kWu+dusDtP/9URBMOb+4/4B4QHaL+7j//CSWs5W7vPwPZgFRnv+8//kPkv9Xv7z8AAAAAAADwP/5D5L/V7+8/AtmAVGe/7z/+CSWs5W7vP+AeEB2i/u4/AFVEEw5v7j/lWu+dusDtP4sV3NxX9Ow/WMCBTrQK7D+FLmT/uwTrP6j0l5t34+k/6mtbYwuo6D8VuNIDtlPnPxIgEVXP5+U/ugG1/sZl5D9fWnUEI8/iP1QrGDx+JeE/V6m/XA3V3j+ggSXJ9z/bPxypqEhaj9c/UekvN+/G0z+XBxz6EdXPP3d6A2Uc/Mc/2luhXesKwD9ok+AbChOwPwdcFDMmpqE8d5PgGwoTsL/hW6Fd6wrAv356A2Uc/Me/ngcc+hHVz79V6S8378bTvx+pqEhaj9e/nIElyfc/279Tqb9cDdXev1IrGDx+JeG/YFp1BCPP4r++AbX+xmXkvxYgEVXP5+W/GbjSA7ZT57/ra1tjC6jov6z0l5t34+m/gy5k/7sE679VwIFOtArsv4oV3NxX9Oy/4lrvnbrA7b//VEQTDm/uv98eEB2i/u6//wklrOVu778C2YBUZ7/vv/5D5L/V7++/AAAAAAAA8L/+Q+S/1e/vvwPZgFRnv++//wklrOVu77/gHhAdov7uvwBVRBMOb+6/41rvnbrA7b+MFdzcV/Tsvw==",
                                                "dtype": "f8"
                                            }
                                        }
                                    ],
                                    "name": "t=0.36"
                                },
                                {
                                    "data": [
                                        {
                                            "mode": "lines",
                                            "type": "scatter",
                                            "x": {
                                                "bdata": "AAAAAAAAAAB7FK5H4XqUP3sUrkfheqQ/uB6F61G4rj97FK5H4Xq0P5qZmZmZmbk/uB6F61G4vj/sUbgehevBP3sUrkfhesQ/CtejcD0Kxz+amZmZmZnJPylcj8L1KMw/uB6F61G4zj+kcD0K16PQP+xRuB6F69E/MzMzMzMz0z97FK5H4XrUP8P1KFyPwtU/CtejcD0K1z9SuB6F61HYP5qZmZmZmdk/4XoUrkfh2j8pXI/C9SjcP3E9CtejcN0/uB6F61G43j8AAAAAAADgP6RwPQrXo+A/SOF6FK5H4T/sUbgehevhP4/C9Shcj+I/MzMzMzMz4z/Xo3A9CtfjP3sUrkfheuQ/H4XrUbge5T/D9Shcj8LlP2dmZmZmZuY/CtejcD0K5z+uR+F6FK7nP1K4HoXrUeg/9ihcj8L16D+amZmZmZnpPz4K16NwPeo/4XoUrkfh6j+F61G4HoXrPylcj8L1KOw/zczMzMzM7D9xPQrXo3DtPxWuR+F6FO4/uB6F61G47j9cj8L1KFzvPwAAAAAAAPA/UrgehetR8D+kcD0K16PwP/YoXI/C9fA/SOF6FK5H8T+amZmZmZnxP+xRuB6F6/E/PgrXo3A98j+PwvUoXI/yP+F6FK5H4fI/MzMzMzMz8z+F61G4HoXzP9ejcD0K1/M/KVyPwvUo9D97FK5H4Xr0P83MzMzMzPQ/H4XrUbge9T9xPQrXo3D1P8P1KFyPwvU/Fa5H4XoU9j9nZmZmZmb2P7gehetRuPY/CtejcD0K9z9cj8L1KFz3P65H4XoUrvc/AAAAAAAA+D9SuB6F61H4P6RwPQrXo/g/9ihcj8L1+D9I4XoUrkf5P5qZmZmZmfk/7FG4HoXr+T8+CtejcD36P5DC9Shcj/o/4XoUrkfh+j8zMzMzMzP7P4XrUbgehfs/16NwPQrX+z8pXI/C9Sj8P3sUrkfhevw/zczMzMzM/D8fhetRuB79P3E9CtejcP0/w/UoXI/C/T8VrkfhehT+P2dmZmZmZv4/uB6F61G4/j8K16NwPQr/P1yPwvUoXP8/rkfhehSu/z8AAAAAAAAAQA==",
                                                "dtype": "f8"
                                            },
                                            "y": {
                                                "bdata": "7Rfi8j5e7b9sLD0dIIPsvzzKCN0yi+u/CVE1rnF36r/xkR0q80jpv9zFDe7oAOi/zTt/Zp6g5r/sskCAdynlvwqs3UDvnOO/6gCwR5b84b/joh45EUrgvwDeRCsuDt2/wul8/N5q2b/bllfQ4a3VvwwOFIP92tG/ah/SIx7sy790U6hnCwbEv+kX/H97F7i/ZFj3LRIVoL9kWPctEhWgP/UX/H97F7g/dFOoZwsGxD9qH9IjHuzLPw8OFIP92tE/25ZX0OGt1T/C6Xz83mrZPwHeRCsuDt0/5KIeORFK4D/rALBHlvzhPwqs3UDvnOM/7LJAgHcp5T/NO39mnqDmP9zFDe7oAOg/8pEdKvNI6T8JUTWucXfqPzzKCN0yi+s/bCw9HSCD7D/tF+LyPl7tP9f/gvyxG+4/cjXR0rm67j/4pATKtTrvP1zkL5Qkm+8/XJPjw6Tb7z+GEJ0u9fvvP4YQnS71++8/XJPjw6Tb7z9b5C+UJJvvP/ikBMq1Ou8/cjXR0rm67j/X/4L8sRvuP+4X4vI+Xu0/bSw9HSCD7D88ygjdMovrPwhRNa5xd+o/8ZEdKvNI6T/axQ3u6ADoP8o7f2aeoOY/6rJAgHcp5T8OrN1A75zjP+wAsEeW/OE/5aIeORFK4D8C3kQrLg7dP8LpfPzeatk/25ZX0OGt1T8LDhSD/drRP2Ef0iMe7Ms/eVOoZwsGxD/yF/x/exe4P1hY9y0SFaA/tVj3LRIVoL8gGPx/exe4v2FTqGcLBsS/WB/SIx7sy78HDhSD/drRv9eWV9DhrdW/t+l8/N5q2b/33UQrLg7dv+CiHjkRSuC/5wCwR5b84b8JrN1A75zjv+uyQIB3KeW/zDt/Zp6g5r/bxQ3u6ADov/KRHSrzSOm/B1E1rnF36r89ygjdMovrv2wsPR0gg+y/7hfi8j5e7b/X/4L8sRvuv3M10dK5uu6/+KQEyrU6779d5C+UJJvvv1yT48Ok2++/hhCdLvX777+FEJ0u9fvvv1yT48Ok2++/XeQvlCSb77/5pATKtTrvv3Q10dK5uu6/2P+C/LEb7r/wF+LyPl7tvw==",
                                                "dtype": "f8"
                                            }
                                        }
                                    ],
                                    "name": "t=0.37"
                                },
                                {
                                    "data": [
                                        {
                                            "mode": "lines",
                                            "type": "scatter",
                                            "x": {
                                                "bdata": "AAAAAAAAAAB7FK5H4XqUP3sUrkfheqQ/uB6F61G4rj97FK5H4Xq0P5qZmZmZmbk/uB6F61G4vj/sUbgehevBP3sUrkfhesQ/CtejcD0Kxz+amZmZmZnJPylcj8L1KMw/uB6F61G4zj+kcD0K16PQP+xRuB6F69E/MzMzMzMz0z97FK5H4XrUP8P1KFyPwtU/CtejcD0K1z9SuB6F61HYP5qZmZmZmdk/4XoUrkfh2j8pXI/C9SjcP3E9CtejcN0/uB6F61G43j8AAAAAAADgP6RwPQrXo+A/SOF6FK5H4T/sUbgehevhP4/C9Shcj+I/MzMzMzMz4z/Xo3A9CtfjP3sUrkfheuQ/H4XrUbge5T/D9Shcj8LlP2dmZmZmZuY/CtejcD0K5z+uR+F6FK7nP1K4HoXrUeg/9ihcj8L16D+amZmZmZnpPz4K16NwPeo/4XoUrkfh6j+F61G4HoXrPylcj8L1KOw/zczMzMzM7D9xPQrXo3DtPxWuR+F6FO4/uB6F61G47j9cj8L1KFzvPwAAAAAAAPA/UrgehetR8D+kcD0K16PwP/YoXI/C9fA/SOF6FK5H8T+amZmZmZnxP+xRuB6F6/E/PgrXo3A98j+PwvUoXI/yP+F6FK5H4fI/MzMzMzMz8z+F61G4HoXzP9ejcD0K1/M/KVyPwvUo9D97FK5H4Xr0P83MzMzMzPQ/H4XrUbge9T9xPQrXo3D1P8P1KFyPwvU/Fa5H4XoU9j9nZmZmZmb2P7gehetRuPY/CtejcD0K9z9cj8L1KFz3P65H4XoUrvc/AAAAAAAA+D9SuB6F61H4P6RwPQrXo/g/9ihcj8L1+D9I4XoUrkf5P5qZmZmZmfk/7FG4HoXr+T8+CtejcD36P5DC9Shcj/o/4XoUrkfh+j8zMzMzMzP7P4XrUbgehfs/16NwPQrX+z8pXI/C9Sj8P3sUrkfhevw/zczMzMzM/D8fhetRuB79P3E9CtejcP0/w/UoXI/C/T8VrkfhehT+P2dmZmZmZv4/uB6F61G4/j8K16NwPQr/P1yPwvUoXP8/rkfhehSu/z8AAAAAAAAAQA==",
                                                "dtype": "f8"
                                            },
                                            "y": {
                                                "bdata": "5FrvnbrA7b+MFdzcV/Tsv1rAgU60Cuy/hi5k/7sE67+o9Jebd+Ppv+prW2MLqOi/FrjSA7ZT578TIBFVz+flv7sBtf7GZeS/Xlp1BCPP4r9RKxg8fiXhv1Kpv1wN1d6/nYElyfc/278YqahIWo/Xv07pLzfvxtO/lgcc+hHVz794egNlHPzHv91boV3rCsC/fZPgGwoTsL8AAAAAAAAAAH2T4BsKE7A/3VuhXesKwD94egNlHPzHP5YHHPoR1c8/TukvN+/G0z8YqahIWo/XP52BJcn3P9s/Uqm/XA3V3j9RKxg8fiXhP11adQQjz+I/uwG1/sZl5D8TIBFVz+flPxa40gO2U+c/6mtbYwuo6D+o9Jebd+PpP4YuZP+7BOs/WcCBTrQK7D+MFdzcV/TsP+Ra7526wO0//1REEw5v7j/gHhAdov7uP/8JJazlbu8/AtmAVGe/7z/+Q+S/1e/vPwAAAAAAAPA//kPkv9Xv7z8C2YBUZ7/vP/4JJazlbu8/4R4QHaL+7j8AVUQTDm/uP+Va7526wO0/ixXc3Ff07D9YwIFOtArsP4UuZP+7BOs/qPSXm3fj6T/qa1tjC6joPxW40gO2U+c/EiARVc/n5T+9AbX+xmXkP19adQQjz+I/VCsYPH4l4T9Xqb9cDdXeP6CBJcn3P9s/HKmoSFqP1z9R6S8378bTP5cHHPoR1c8/d3oDZRz8xz/aW6Fd6wrAP2iT4BsKE7A/B1wUMyamoTx3k+AbChOwv+FboV3rCsC/fnoDZRz8x7+eBxz6EdXPv1XpLzfvxtO/H6moSFqP17+cgSXJ9z/bv1Opv1wN1d6/UisYPH4l4b9gWnUEI8/iv74Btf7GZeS/FiARVc/n5b8ZuNIDtlPnv+trW2MLqOi/ovSXm3fj6b+DLmT/uwTrv1XAgU60Cuy/ihXc3Ff07L/iWu+dusDtv/9URBMOb+6/3x4QHaL+7r//CSWs5W7vvwLZgFRnv++//kPkv9Xv778AAAAAAADwv/5D5L/V7++/A9mAVGe/77//CSWs5W7vv+AeEB2i/u6/AFVEEw5v7r/jWu+dusDtvw==",
                                                "dtype": "f8"
                                            }
                                        }
                                    ],
                                    "name": "t=0.38"
                                },
                                {
                                    "data": [
                                        {
                                            "mode": "lines",
                                            "type": "scatter",
                                            "x": {
                                                "bdata": "AAAAAAAAAAB7FK5H4XqUP3sUrkfheqQ/uB6F61G4rj97FK5H4Xq0P5qZmZmZmbk/uB6F61G4vj/sUbgehevBP3sUrkfhesQ/CtejcD0Kxz+amZmZmZnJPylcj8L1KMw/uB6F61G4zj+kcD0K16PQP+xRuB6F69E/MzMzMzMz0z97FK5H4XrUP8P1KFyPwtU/CtejcD0K1z9SuB6F61HYP5qZmZmZmdk/4XoUrkfh2j8pXI/C9SjcP3E9CtejcN0/uB6F61G43j8AAAAAAADgP6RwPQrXo+A/SOF6FK5H4T/sUbgehevhP4/C9Shcj+I/MzMzMzMz4z/Xo3A9CtfjP3sUrkfheuQ/H4XrUbge5T/D9Shcj8LlP2dmZmZmZuY/CtejcD0K5z+uR+F6FK7nP1K4HoXrUeg/9ihcj8L16D+amZmZmZnpPz4K16NwPeo/4XoUrkfh6j+F61G4HoXrPylcj8L1KOw/zczMzMzM7D9xPQrXo3DtPxWuR+F6FO4/uB6F61G47j9cj8L1KFzvPwAAAAAAAPA/UrgehetR8D+kcD0K16PwP/YoXI/C9fA/SOF6FK5H8T+amZmZmZnxP+xRuB6F6/E/PgrXo3A98j+PwvUoXI/yP+F6FK5H4fI/MzMzMzMz8z+F61G4HoXzP9ejcD0K1/M/KVyPwvUo9D97FK5H4Xr0P83MzMzMzPQ/H4XrUbge9T9xPQrXo3D1P8P1KFyPwvU/Fa5H4XoU9j9nZmZmZmb2P7gehetRuPY/CtejcD0K9z9cj8L1KFz3P65H4XoUrvc/AAAAAAAA+D9SuB6F61H4P6RwPQrXo/g/9ihcj8L1+D9I4XoUrkf5P5qZmZmZmfk/7FG4HoXr+T8+CtejcD36P5DC9Shcj/o/4XoUrkfh+j8zMzMzMzP7P4XrUbgehfs/16NwPQrX+z8pXI/C9Sj8P3sUrkfhevw/zczMzMzM/D8fhetRuB79P3E9CtejcP0/w/UoXI/C/T8VrkfhehT+P2dmZmZmZv4/uB6F61G4/j8K16NwPQr/P1yPwvUoXP8/rkfhehSu/z8AAAAAAAAAQA==",
                                                "dtype": "f8"
                                            },
                                            "y": {
                                                "bdata": "1/+C/LEb7r/tF+LyPl7tv2wsPR0gg+y/PMoI3TKL678JUTWucXfqv/KRHSrzSOm/3MUN7ugA6L/NO39mnqDmv+yyQIB3KeW/C6zdQO+c47/qALBHlvzhv+SiHjkRSuC/Ad5EKy4O3b/C6Xz83mrZv9uWV9DhrdW/Dw4Ug/3a0b9qH9IjHuzLv3RTqGcLBsS/9Rf8f3sXuL9kWPctEhWgv2RY9y0SFaA/6Rf8f3sXuD90U6hnCwbEP2of0iMe7Ms/DA4Ug/3a0T/bllfQ4a3VP8LpfPzeatk/Ad5EKy4O3T/koh45EUrgP+kAsEeW/OE/CqzdQO+c4z/sskCAdynlP807f2aeoOY/3MUN7ugA6D/ykR0q80jpPwlRNa5xd+o/O8oI3TKL6z9sLD0dIIPsP+0X4vI+Xu0/1/+C/LEb7j9yNdHSubruP/ikBMq1Ou8/W+QvlCSb7z9ck+PDpNvvP4YQnS71++8/hhCdLvX77z9ck+PDpNvvP1vkL5Qkm+8/+KQEyrU67z9yNdHSubruP9f/gvyxG+4/7hfi8j5e7T9tLD0dIIPsPzzKCN0yi+s/CFE1rnF36j/xkR0q80jpP9rFDe7oAOg/yjt/Zp6g5j/wskCAdynlPw6s3UDvnOM/7ACwR5b84T/loh45EUrgPwLeRCsuDt0/wul8/N5q2T/bllfQ4a3VPwsOFIP92tE/YR/SIx7syz95U6hnCwbEP/IX/H97F7g/WFj3LRIVoD+1WPctEhWgv8AX/H97F7i/YVOoZwsGxL9YH9IjHuzLvwcOFIP92tG/15ZX0OGt1b+36Xz83mrZv/fdRCsuDt2/4KIeORFK4L/nALBHlvzhvwms3UDvnOO/67JAgHcp5b/MO39mnqDmv9vFDe7oAOi/8pEdKvNI6b8HUTWucXfqvz3KCN0yi+u/bCw9HSCD7L/uF+LyPl7tv9f/gvyxG+6/czXR0rm67r/4pATKtTrvv13kL5Qkm++/XJPjw6Tb77+GEJ0u9fvvv4UQnS71+++/XZPjw6Tb779d5C+UJJvvv/mkBMq1Ou+/dDXR0rm67r/Y/4L8sRvuvw==",
                                                "dtype": "f8"
                                            }
                                        }
                                    ],
                                    "name": "t=0.39"
                                },
                                {
                                    "data": [
                                        {
                                            "mode": "lines",
                                            "type": "scatter",
                                            "x": {
                                                "bdata": "AAAAAAAAAAB7FK5H4XqUP3sUrkfheqQ/uB6F61G4rj97FK5H4Xq0P5qZmZmZmbk/uB6F61G4vj/sUbgehevBP3sUrkfhesQ/CtejcD0Kxz+amZmZmZnJPylcj8L1KMw/uB6F61G4zj+kcD0K16PQP+xRuB6F69E/MzMzMzMz0z97FK5H4XrUP8P1KFyPwtU/CtejcD0K1z9SuB6F61HYP5qZmZmZmdk/4XoUrkfh2j8pXI/C9SjcP3E9CtejcN0/uB6F61G43j8AAAAAAADgP6RwPQrXo+A/SOF6FK5H4T/sUbgehevhP4/C9Shcj+I/MzMzMzMz4z/Xo3A9CtfjP3sUrkfheuQ/H4XrUbge5T/D9Shcj8LlP2dmZmZmZuY/CtejcD0K5z+uR+F6FK7nP1K4HoXrUeg/9ihcj8L16D+amZmZmZnpPz4K16NwPeo/4XoUrkfh6j+F61G4HoXrPylcj8L1KOw/zczMzMzM7D9xPQrXo3DtPxWuR+F6FO4/uB6F61G47j9cj8L1KFzvPwAAAAAAAPA/UrgehetR8D+kcD0K16PwP/YoXI/C9fA/SOF6FK5H8T+amZmZmZnxP+xRuB6F6/E/PgrXo3A98j+PwvUoXI/yP+F6FK5H4fI/MzMzMzMz8z+F61G4HoXzP9ejcD0K1/M/KVyPwvUo9D97FK5H4Xr0P83MzMzMzPQ/H4XrUbge9T9xPQrXo3D1P8P1KFyPwvU/Fa5H4XoU9j9nZmZmZmb2P7gehetRuPY/CtejcD0K9z9cj8L1KFz3P65H4XoUrvc/AAAAAAAA+D9SuB6F61H4P6RwPQrXo/g/9ihcj8L1+D9I4XoUrkf5P5qZmZmZmfk/7FG4HoXr+T8+CtejcD36P5DC9Shcj/o/4XoUrkfh+j8zMzMzMzP7P4XrUbgehfs/16NwPQrX+z8pXI/C9Sj8P3sUrkfhevw/zczMzMzM/D8fhetRuB79P3E9CtejcP0/w/UoXI/C/T8VrkfhehT+P2dmZmZmZv4/uB6F61G4/j8K16NwPQr/P1yPwvUoXP8/rkfhehSu/z8AAAAAAAAAQA==",
                                                "dtype": "f8"
                                            },
                                            "y": {
                                                "bdata": "/1REEw5v7r/kWu+dusDtv4wV3NxX9Oy/WsCBTrQK7L+GLmT/uwTrv6j0l5t34+m/6mtbYwuo6L8WuNIDtlPnvxQgEVXP5+W/vAG1/sZl5L9eWnUEI8/iv1ErGDx+JeG/Uqm/XA3V3r+dgSXJ9z/bvxipqEhaj9e/UekvN+/G07+WBxz6EdXPv3h6A2Uc/Me/5FuhXesKwL99k+AbChOwvwAAAAAAAAAAcJPgGwoTsD/dW6Fd6wrAP3h6A2Uc/Mc/kAcc+hHVzz9O6S8378bTPxipqEhaj9c/nYElyfc/2z9Sqb9cDdXeP08rGDx+JeE/XVp1BCPP4j+7AbX+xmXkPxMgEVXP5+U/FrjSA7ZT5z/qa1tjC6joP6j0l5t34+k/hS5k/7sE6z9ZwIFOtArsP4wV3NxX9Ow/5FrvnbrA7T//VEQTDm/uP+AeEB2i/u4//gklrOVu7z8C2YBUZ7/vP/5D5L/V7+8/AAAAAAAA8D/+Q+S/1e/vPwLZgFRnv+8//wklrOVu7z/hHhAdov7uPwBVRBMOb+4/5VrvnbrA7T+LFdzcV/TsP1jAgU60Cuw/hS5k/7sE6z+o9Jebd+PpP+prW2MLqOg/FbjSA7ZT5z8VIBFVz+flP70Btf7GZeQ/X1p1BCPP4j9UKxg8fiXhP1epv1wN1d4/oIElyfc/2z8cqahIWo/XP1HpLzfvxtM/lwcc+hHVzz93egNlHPzHP9pboV3rCsA/aJPgGwoTsD8HXBQzJqahPHeT4BsKE7C/4VuhXesKwL9+egNlHPzHv54HHPoR1c+/VekvN+/G078fqahIWo/Xv5yBJcn3P9u/U6m/XA3V3r9SKxg8fiXhv2BadQQjz+K/vgG1/sZl5L8WIBFVz+flvxm40gO2U+e/5mtbYwuo6L+i9Jebd+Ppv4MuZP+7BOu/VcCBTrQK7L+KFdzcV/Tsv+Ja7526wO2//1REEw5v7r/fHhAdov7uv/8JJazlbu+/AtmAVGe/77/+Q+S/1e/vvwAAAAAAAPC//kPkv9Xv778D2YBUZ7/vv/8JJazlbu+/4B4QHaL+7r8AVUQTDm/uvw==",
                                                "dtype": "f8"
                                            }
                                        }
                                    ],
                                    "name": "t=0.40"
                                },
                                {
                                    "data": [
                                        {
                                            "mode": "lines",
                                            "type": "scatter",
                                            "x": {
                                                "bdata": "AAAAAAAAAAB7FK5H4XqUP3sUrkfheqQ/uB6F61G4rj97FK5H4Xq0P5qZmZmZmbk/uB6F61G4vj/sUbgehevBP3sUrkfhesQ/CtejcD0Kxz+amZmZmZnJPylcj8L1KMw/uB6F61G4zj+kcD0K16PQP+xRuB6F69E/MzMzMzMz0z97FK5H4XrUP8P1KFyPwtU/CtejcD0K1z9SuB6F61HYP5qZmZmZmdk/4XoUrkfh2j8pXI/C9SjcP3E9CtejcN0/uB6F61G43j8AAAAAAADgP6RwPQrXo+A/SOF6FK5H4T/sUbgehevhP4/C9Shcj+I/MzMzMzMz4z/Xo3A9CtfjP3sUrkfheuQ/H4XrUbge5T/D9Shcj8LlP2dmZmZmZuY/CtejcD0K5z+uR+F6FK7nP1K4HoXrUeg/9ihcj8L16D+amZmZmZnpPz4K16NwPeo/4XoUrkfh6j+F61G4HoXrPylcj8L1KOw/zczMzMzM7D9xPQrXo3DtPxWuR+F6FO4/uB6F61G47j9cj8L1KFzvPwAAAAAAAPA/UrgehetR8D+kcD0K16PwP/YoXI/C9fA/SOF6FK5H8T+amZmZmZnxP+xRuB6F6/E/PgrXo3A98j+PwvUoXI/yP+F6FK5H4fI/MzMzMzMz8z+F61G4HoXzP9ejcD0K1/M/KVyPwvUo9D97FK5H4Xr0P83MzMzMzPQ/H4XrUbge9T9xPQrXo3D1P8P1KFyPwvU/Fa5H4XoU9j9nZmZmZmb2P7gehetRuPY/CtejcD0K9z9cj8L1KFz3P65H4XoUrvc/AAAAAAAA+D9SuB6F61H4P6RwPQrXo/g/9ihcj8L1+D9I4XoUrkf5P5qZmZmZmfk/7FG4HoXr+T8+CtejcD36P5DC9Shcj/o/4XoUrkfh+j8zMzMzMzP7P4XrUbgehfs/16NwPQrX+z8pXI/C9Sj8P3sUrkfhevw/zczMzMzM/D8fhetRuB79P3E9CtejcP0/w/UoXI/C/T8VrkfhehT+P2dmZmZmZv4/uB6F61G4/j8K16NwPQr/P1yPwvUoXP8/rkfhehSu/z8AAAAAAAAAQA==",
                                                "dtype": "f8"
                                            },
                                            "y": {
                                                "bdata": "cjXR0rm67r/X/4L8sRvuv+0X4vI+Xu2/bCw9HSCD7L88ygjdMovrvwlRNa5xd+q/8pEdKvNI6b/cxQ3u6ADov807f2aeoOa/7bJAgHcp5b8LrN1A75zjv+oAsEeW/OG/5KIeORFK4L8B3kQrLg7dv8LpfPzeatm/35ZX0OGt1b8PDhSD/drRv2of0iMe7Mu/elOoZwsGxL/1F/x/exe4v2RY9y0SFaC/S1j3LRIVoD/pF/x/exe4P3RTqGcLBsQ/ZB/SIx7syz8MDhSD/drRP9uWV9DhrdU/wul8/N5q2T8B3kQrLg7dP+KiHjkRSuA/6QCwR5b84T8KrN1A75zjP+yyQIB3KeU/zTt/Zp6g5j/cxQ3u6ADoP/KRHSrzSOk/CFE1rnF36j87ygjdMovrP2wsPR0gg+w/7Rfi8j5e7T/X/4L8sRvuP3I10dK5uu4/96QEyrU67z9b5C+UJJvvP1yT48Ok2+8/hhCdLvX77z+GEJ0u9fvvP1yT48Ok2+8/XOQvlCSb7z/4pATKtTrvP3I10dK5uu4/1/+C/LEb7j/uF+LyPl7tP20sPR0gg+w/PMoI3TKL6z8IUTWucXfqP/GRHSrzSOk/2sUN7ugA6D/QO39mnqDmP/CyQIB3KeU/DqzdQO+c4z/sALBHlvzhP+WiHjkRSuA/At5EKy4O3T/C6Xz83mrZP9uWV9DhrdU/Cw4Ug/3a0T9hH9IjHuzLP3lTqGcLBsQ/8hf8f3sXuD9YWPctEhWgP/VX9y0SFaC/wBf8f3sXuL9hU6hnCwbEv1gf0iMe7Mu/Bw4Ug/3a0b/XllfQ4a3Vv7fpfPzeatm/991EKy4O3b/goh45EUrgv+cAsEeW/OG/CazdQO+c47/rskCAdynlv8w7f2aeoOa/28UN7ugA6L/ykR0q80jpvwdRNa5xd+q/PcoI3TKL679sLD0dIIPsv+4X4vI+Xu2/1/+C/LEb7r9zNdHSubruv/ikBMq1Ou+/XeQvlCSb779ck+PDpNvvv4YQnS71+++/hhCdLvX7779dk+PDpNvvv13kL5Qkm++/+aQEyrU67790NdHSubruvw==",
                                                "dtype": "f8"
                                            }
                                        }
                                    ],
                                    "name": "t=0.41"
                                },
                                {
                                    "data": [
                                        {
                                            "mode": "lines",
                                            "type": "scatter",
                                            "x": {
                                                "bdata": "AAAAAAAAAAB7FK5H4XqUP3sUrkfheqQ/uB6F61G4rj97FK5H4Xq0P5qZmZmZmbk/uB6F61G4vj/sUbgehevBP3sUrkfhesQ/CtejcD0Kxz+amZmZmZnJPylcj8L1KMw/uB6F61G4zj+kcD0K16PQP+xRuB6F69E/MzMzMzMz0z97FK5H4XrUP8P1KFyPwtU/CtejcD0K1z9SuB6F61HYP5qZmZmZmdk/4XoUrkfh2j8pXI/C9SjcP3E9CtejcN0/uB6F61G43j8AAAAAAADgP6RwPQrXo+A/SOF6FK5H4T/sUbgehevhP4/C9Shcj+I/MzMzMzMz4z/Xo3A9CtfjP3sUrkfheuQ/H4XrUbge5T/D9Shcj8LlP2dmZmZmZuY/CtejcD0K5z+uR+F6FK7nP1K4HoXrUeg/9ihcj8L16D+amZmZmZnpPz4K16NwPeo/4XoUrkfh6j+F61G4HoXrPylcj8L1KOw/zczMzMzM7D9xPQrXo3DtPxWuR+F6FO4/uB6F61G47j9cj8L1KFzvPwAAAAAAAPA/UrgehetR8D+kcD0K16PwP/YoXI/C9fA/SOF6FK5H8T+amZmZmZnxP+xRuB6F6/E/PgrXo3A98j+PwvUoXI/yP+F6FK5H4fI/MzMzMzMz8z+F61G4HoXzP9ejcD0K1/M/KVyPwvUo9D97FK5H4Xr0P83MzMzMzPQ/H4XrUbge9T9xPQrXo3D1P8P1KFyPwvU/Fa5H4XoU9j9nZmZmZmb2P7gehetRuPY/CtejcD0K9z9cj8L1KFz3P65H4XoUrvc/AAAAAAAA+D9SuB6F61H4P6RwPQrXo/g/9ihcj8L1+D9I4XoUrkf5P5qZmZmZmfk/7FG4HoXr+T8+CtejcD36P5DC9Shcj/o/4XoUrkfh+j8zMzMzMzP7P4XrUbgehfs/16NwPQrX+z8pXI/C9Sj8P3sUrkfhevw/zczMzMzM/D8fhetRuB79P3E9CtejcP0/w/UoXI/C/T8VrkfhehT+P2dmZmZmZv4/uB6F61G4/j8K16NwPQr/P1yPwvUoXP8/rkfhehSu/z8AAAAAAAAAQA==",
                                                "dtype": "f8"
                                            },
                                            "y": {
                                                "bdata": "4B4QHaL+7r//VEQTDm/uv+Ra7526wO2/jBXc3Ff07L9ZwIFOtArsv4UuZP+7BOu/qPSXm3fj6b/pa1tjC6jovxa40gO2U+e/EyARVc/n5b+7AbX+xmXkv15adQQjz+K/USsYPH4l4b9Qqb9cDdXev5mBJcn3P9u/GKmoSFqP179O6S8378bTv5AHHPoR1c+/eHoDZRz8x7/dW6Fd6wrAv3CT4BsKE7C/AAAAAAAAAAB9k+AbChOwP+RboV3rCsA/eHoDZRz8xz+WBxz6EdXPP1HpLzfvxtM/G6moSFqP1z+fgSXJ9z/bP1Cpv1wN1d4/USsYPH4l4T9eWnUEI8/iP7wBtf7GZeQ/FCARVc/n5T8WuNIDtlPnP+trW2MLqOg/qPSXm3fj6T+GLmT/uwTrP1rAgU60Cuw/jBXc3Ff07D/lWu+dusDtPwBVRBMOb+4/4B4QHaL+7j/+CSWs5W7vPwPZgFRnv+8//kPkv9Xv7z8AAAAAAADwP/5D5L/V7+8/AtmAVGe/7z/+CSWs5W7vP+AeEB2i/u4//1REEw5v7j/kWu+dusDtP4sV3NxX9Ow/WMCBTrQK7D+FLmT/uwTrP6b0l5t34+k/52tbYwuo6D8VuNIDtlPnPxUgEVXP5+U/vQG1/sZl5D9fWnUEI8/iP1ErGDx+JeE/UKm/XA3V3j+ZgSXJ9z/bPxWpqEhaj9c/SukvN+/G0z+HBxz6EdXPP2d6A2Uc/Mc/yluhXesKwD9Ik+AbChOwPwdcFDMmpqE8d5PgGwoTsL/hW6Fd6wrAv356A2Uc/Me/ngcc+hHVz79V6S8378bTvx+pqEhaj9e/nIElyfc/279Tqb9cDdXev1IrGDx+JeG/YFp1BCPP4r++AbX+xmXkvxYgEVXP5+W/FLjSA7ZT57/ra1tjC6jov6f0l5t34+m/iC5k/7sE679ZwIFOtArsv44V3NxX9Oy/5VrvnbrA7b//VEQTDm/uv+EeEB2i/u6//wklrOVu778D2YBUZ7/vv/5D5L/V7++/AAAAAAAA8L/+Q+S/1e/vvwPZgFRnv++//wklrOVu77/gHhAdov7uvw==",
                                                "dtype": "f8"
                                            }
                                        }
                                    ],
                                    "name": "t=0.42"
                                },
                                {
                                    "data": [
                                        {
                                            "mode": "lines",
                                            "type": "scatter",
                                            "x": {
                                                "bdata": "AAAAAAAAAAB7FK5H4XqUP3sUrkfheqQ/uB6F61G4rj97FK5H4Xq0P5qZmZmZmbk/uB6F61G4vj/sUbgehevBP3sUrkfhesQ/CtejcD0Kxz+amZmZmZnJPylcj8L1KMw/uB6F61G4zj+kcD0K16PQP+xRuB6F69E/MzMzMzMz0z97FK5H4XrUP8P1KFyPwtU/CtejcD0K1z9SuB6F61HYP5qZmZmZmdk/4XoUrkfh2j8pXI/C9SjcP3E9CtejcN0/uB6F61G43j8AAAAAAADgP6RwPQrXo+A/SOF6FK5H4T/sUbgehevhP4/C9Shcj+I/MzMzMzMz4z/Xo3A9CtfjP3sUrkfheuQ/H4XrUbge5T/D9Shcj8LlP2dmZmZmZuY/CtejcD0K5z+uR+F6FK7nP1K4HoXrUeg/9ihcj8L16D+amZmZmZnpPz4K16NwPeo/4XoUrkfh6j+F61G4HoXrPylcj8L1KOw/zczMzMzM7D9xPQrXo3DtPxWuR+F6FO4/uB6F61G47j9cj8L1KFzvPwAAAAAAAPA/UrgehetR8D+kcD0K16PwP/YoXI/C9fA/SOF6FK5H8T+amZmZmZnxP+xRuB6F6/E/PgrXo3A98j+PwvUoXI/yP+F6FK5H4fI/MzMzMzMz8z+F61G4HoXzP9ejcD0K1/M/KVyPwvUo9D97FK5H4Xr0P83MzMzMzPQ/H4XrUbge9T9xPQrXo3D1P8P1KFyPwvU/Fa5H4XoU9j9nZmZmZmb2P7gehetRuPY/CtejcD0K9z9cj8L1KFz3P65H4XoUrvc/AAAAAAAA+D9SuB6F61H4P6RwPQrXo/g/9ihcj8L1+D9I4XoUrkf5P5qZmZmZmfk/7FG4HoXr+T8+CtejcD36P5DC9Shcj/o/4XoUrkfh+j8zMzMzMzP7P4XrUbgehfs/16NwPQrX+z8pXI/C9Sj8P3sUrkfhevw/zczMzMzM/D8fhetRuB79P3E9CtejcP0/w/UoXI/C/T8VrkfhehT+P2dmZmZmZv4/uB6F61G4/j8K16NwPQr/P1yPwvUoXP8/rkfhehSu/z8AAAAAAAAAQA==",
                                                "dtype": "f8"
                                            },
                                            "y": {
                                                "bdata": "96QEyrU6779xNdHSubruv9f/gvyxG+6/7Rfi8j5e7b9sLD0dIIPsvzvKCN0yi+u/CVE1rnF36r/xkR0q80jpv9zFDe7oAOi/zTt/Zp6g5r/sskCAdynlvwqs3UDvnOO/6gCwR5b84b/joh45EUrgv//dRCsuDt2/wul8/N5q2b/bllfQ4a3VvwwOFIP92tG/ah/SIx7sy790U6hnCwbEv+kX/H97F7i/ZFj3LRIVoL9kWPctEhWgP/UX/H97F7g/dFOoZwsGxD9qH9IjHuzLPw8OFIP92tE/35ZX0OGt1T/F6Xz83mrZP//dRCsuDt0/46IeORFK4D/qALBHlvzhPwus3UDvnOM/7bJAgHcp5T/OO39mnqDmP93FDe7oAOg/8ZEdKvNI6T8JUTWucXfqPzzKCN0yi+s/bCw9HSCD7D/tF+LyPl7tP9j/gvyxG+4/cTXR0rm67j/3pATKtTrvP1zkL5Qkm+8/XJPjw6Tb7z+GEJ0u9fvvP4YQnS71++8/XJPjw6Tb7z9b5C+UJJvvP/ikBMq1Ou8/cjXR0rm67j/X/4L8sRvuP+wX4vI+Xu0/ayw9HSCD7D86ygjdMovrPwZRNa5xd+o/7pEdKvNI6T/cxQ3u6ADoP807f2aeoOY/7LJAgHcp5T8KrN1A75zjP+kAsEeW/OE/4qIeORFK4D/73UQrLg7dP7vpfPzeatk/25ZX0OGt1T8LDhSD/drRP2Ef0iMe7Ms/aVOoZwsGxD/SF/x/exe4P1hY9y0SFaA/NVj3LRIVoL/gF/x/exe4v3BTqGcLBsS/aB/SIx7sy78ODhSD/drRv96WV9DhrdW/xel8/N5q2b8G3kQrLg7dv+eiHjkRSuC/7gCwR5b84b8PrN1A75zjv/GyQIB3KeW/zDt/Zp6g5r/bxQ3u6ADov/KRHSrzSOm/B1E1rnF36r89ygjdMovrv2wsPR0gg+y/7hfi8j5e7b/X/4L8sRvuv3M10dK5uu6/+KQEyrU6779d5C+UJJvvv1yT48Ok2++/hhCdLvX777+GEJ0u9fvvv1yT48Ok2++/XOQvlCSb77/3pATKtTrvvw==",
                                                "dtype": "f8"
                                            }
                                        }
                                    ],
                                    "name": "t=0.43"
                                },
                                {
                                    "data": [
                                        {
                                            "mode": "lines",
                                            "type": "scatter",
                                            "x": {
                                                "bdata": "AAAAAAAAAAB7FK5H4XqUP3sUrkfheqQ/uB6F61G4rj97FK5H4Xq0P5qZmZmZmbk/uB6F61G4vj/sUbgehevBP3sUrkfhesQ/CtejcD0Kxz+amZmZmZnJPylcj8L1KMw/uB6F61G4zj+kcD0K16PQP+xRuB6F69E/MzMzMzMz0z97FK5H4XrUP8P1KFyPwtU/CtejcD0K1z9SuB6F61HYP5qZmZmZmdk/4XoUrkfh2j8pXI/C9SjcP3E9CtejcN0/uB6F61G43j8AAAAAAADgP6RwPQrXo+A/SOF6FK5H4T/sUbgehevhP4/C9Shcj+I/MzMzMzMz4z/Xo3A9CtfjP3sUrkfheuQ/H4XrUbge5T/D9Shcj8LlP2dmZmZmZuY/CtejcD0K5z+uR+F6FK7nP1K4HoXrUeg/9ihcj8L16D+amZmZmZnpPz4K16NwPeo/4XoUrkfh6j+F61G4HoXrPylcj8L1KOw/zczMzMzM7D9xPQrXo3DtPxWuR+F6FO4/uB6F61G47j9cj8L1KFzvPwAAAAAAAPA/UrgehetR8D+kcD0K16PwP/YoXI/C9fA/SOF6FK5H8T+amZmZmZnxP+xRuB6F6/E/PgrXo3A98j+PwvUoXI/yP+F6FK5H4fI/MzMzMzMz8z+F61G4HoXzP9ejcD0K1/M/KVyPwvUo9D97FK5H4Xr0P83MzMzMzPQ/H4XrUbge9T9xPQrXo3D1P8P1KFyPwvU/Fa5H4XoU9j9nZmZmZmb2P7gehetRuPY/CtejcD0K9z9cj8L1KFz3P65H4XoUrvc/AAAAAAAA+D9SuB6F61H4P6RwPQrXo/g/9ihcj8L1+D9I4XoUrkf5P5qZmZmZmfk/7FG4HoXr+T8+CtejcD36P5DC9Shcj/o/4XoUrkfh+j8zMzMzMzP7P4XrUbgehfs/16NwPQrX+z8pXI/C9Sj8P3sUrkfhevw/zczMzMzM/D8fhetRuB79P3E9CtejcP0/w/UoXI/C/T8VrkfhehT+P2dmZmZmZv4/uB6F61G4/j8K16NwPQr/P1yPwvUoXP8/rkfhehSu/z8AAAAAAAAAQA==",
                                                "dtype": "f8"
                                            },
                                            "y": {
                                                "bdata": "/gklrOVu77/gHhAdov7uv/9URBMOb+6/5FrvnbrA7b+MFdzcV/Tsv1nAgU60Cuy/hi5k/7sE67+o9Jebd+Ppv+prW2MLqOi/FrjSA7ZT578TIBFVz+flv7sBtf7GZeS/Xlp1BCPP4r9RKxg8fiXhv1Cpv1wN1d6/nYElyfc/278YqahIWo/Xv07pLzfvxtO/lgcc+hHVz794egNlHPzHv91boV3rCsC/fZPgGwoTsL8AAAAAAAAAAH2T4BsKE7A/3VuhXesKwD94egNlHPzHP5YHHPoR1c8/UekvN+/G0z8bqahIWo/XP5mBJcn3P9s/UKm/XA3V3j9RKxg8fiXhP15adQQjz+I/vAG1/sZl5D8UIBFVz+flPxa40gO2U+c/6WtbYwuo6D+o9Jebd+PpP4YuZP+7BOs/WsCBTrQK7D+MFdzcV/TsP+Va7526wO0//1REEw5v7j/gHhAdov7uP/4JJazlbu8/A9mAVGe/7z/+Q+S/1e/vPwAAAAAAAPA//kPkv9Xv7z8C2YBUZ7/vP/4JJazlbu8/4B4QHaL+7j//VEQTDm/uP+Ra7526wO0/ixXc3Ff07D9YwIFOtArsP4UuZP+7BOs/pvSXm3fj6T/qa1tjC6joPxW40gO2U+c/FSARVc/n5T+9AbX+xmXkP19adQQjz+I/USsYPH4l4T9Qqb9cDdXeP5mBJcn3P9s/FamoSFqP1z9K6S8378bTP4cHHPoR1c8/Z3oDZRz8xz/KW6Fd6wrAP4iT4BsKE7A/B1wUMyamoTx3k+AbChOwv+FboV3rCsC/fnoDZRz8x7+eBxz6EdXPv1XpLzfvxtO/H6moSFqP17+cgSXJ9z/bv1Opv1wN1d6/UisYPH4l4b9gWnUEI8/iv74Btf7GZeS/FCARVc/n5b8UuNIDtlPnv+trW2MLqOi/p/SXm3fj6b+ILmT/uwTrv1nAgU60Cuy/jhXc3Ff07L/lWu+dusDtv/9URBMOb+6/4R4QHaL+7r//CSWs5W7vvwPZgFRnv++//kPkv9Xv778AAAAAAADwv/5D5L/V7++/A9mAVGe/77//CSWs5W7vvw==",
                                                "dtype": "f8"
                                            }
                                        }
                                    ],
                                    "name": "t=0.44"
                                },
                                {
                                    "data": [
                                        {
                                            "mode": "lines",
                                            "type": "scatter",
                                            "x": {
                                                "bdata": "AAAAAAAAAAB7FK5H4XqUP3sUrkfheqQ/uB6F61G4rj97FK5H4Xq0P5qZmZmZmbk/uB6F61G4vj/sUbgehevBP3sUrkfhesQ/CtejcD0Kxz+amZmZmZnJPylcj8L1KMw/uB6F61G4zj+kcD0K16PQP+xRuB6F69E/MzMzMzMz0z97FK5H4XrUP8P1KFyPwtU/CtejcD0K1z9SuB6F61HYP5qZmZmZmdk/4XoUrkfh2j8pXI/C9SjcP3E9CtejcN0/uB6F61G43j8AAAAAAADgP6RwPQrXo+A/SOF6FK5H4T/sUbgehevhP4/C9Shcj+I/MzMzMzMz4z/Xo3A9CtfjP3sUrkfheuQ/H4XrUbge5T/D9Shcj8LlP2dmZmZmZuY/CtejcD0K5z+uR+F6FK7nP1K4HoXrUeg/9ihcj8L16D+amZmZmZnpPz4K16NwPeo/4XoUrkfh6j+F61G4HoXrPylcj8L1KOw/zczMzMzM7D9xPQrXo3DtPxWuR+F6FO4/uB6F61G47j9cj8L1KFzvPwAAAAAAAPA/UrgehetR8D+kcD0K16PwP/YoXI/C9fA/SOF6FK5H8T+amZmZmZnxP+xRuB6F6/E/PgrXo3A98j+PwvUoXI/yP+F6FK5H4fI/MzMzMzMz8z+F61G4HoXzP9ejcD0K1/M/KVyPwvUo9D97FK5H4Xr0P83MzMzMzPQ/H4XrUbge9T9xPQrXo3D1P8P1KFyPwvU/Fa5H4XoU9j9nZmZmZmb2P7gehetRuPY/CtejcD0K9z9cj8L1KFz3P65H4XoUrvc/AAAAAAAA+D9SuB6F61H4P6RwPQrXo/g/9ihcj8L1+D9I4XoUrkf5P5qZmZmZmfk/7FG4HoXr+T8+CtejcD36P5DC9Shcj/o/4XoUrkfh+j8zMzMzMzP7P4XrUbgehfs/16NwPQrX+z8pXI/C9Sj8P3sUrkfhevw/zczMzMzM/D8fhetRuB79P3E9CtejcP0/w/UoXI/C/T8VrkfhehT+P2dmZmZmZv4/uB6F61G4/j8K16NwPQr/P1yPwvUoXP8/rkfhehSu/z8AAAAAAAAAQA==",
                                                "dtype": "f8"
                                            },
                                            "y": {
                                                "bdata": "XOQvlCSb77/3pATKtTrvv3I10dK5uu6/1/+C/LEb7r/tF+LyPl7tv2wsPR0gg+y/PMoI3TKL678JUTWucXfqv/KRHSrzSOm/3MUN7ugA6L/NO39mnqDmv+yyQIB3KeW/C6zdQO+c47/qALBHlvzhv+OiHjkRSuC/Ad5EKy4O3b/C6Xz83mrZv9uWV9DhrdW/Dw4Ug/3a0b9qH9IjHuzLv3RTqGcLBsS/9Rf8f3sXuL9kWPctEhWgv2RY9y0SFaA/6Rf8f3sXuD90U6hnCwbEP2of0iMe7Ms/Dw4Ug/3a0T/fllfQ4a3VP7/pfPzeatk//91EKy4O3T/joh45EUrgP+oAsEeW/OE/C6zdQO+c4z/tskCAdynlP847f2aeoOY/2sUN7ugA6D/xkR0q80jpPwlRNa5xd+o/PMoI3TKL6z9sLD0dIIPsP+0X4vI+Xu0/1/+C/LEb7j9xNdHSubruP/ekBMq1Ou8/XOQvlCSb7z9ck+PDpNvvP4YQnS71++8/hhCdLvX77z9ck+PDpNvvP1vkL5Qkm+8/+KQEyrU67z9yNdHSubruP9f/gvyxG+4/7Bfi8j5e7T9rLD0dIIPsPzrKCN0yi+s/BlE1rnF36j/zkR0q80jpP9zFDe7oAOg/zTt/Zp6g5j/sskCAdynlPwqs3UDvnOM/6QCwR5b84T/ioh45EUrgP/vdRCsuDt0/u+l8/N5q2T/bllfQ4a3VPwsOFIP92tE/YR/SIx7syz9pU6hnCwbEP/IX/H97F7g/WFj3LRIVoD81WPctEhWgv+AX/H97F7i/cFOoZwsGxL9oH9IjHuzLvw4OFIP92tG/3pZX0OGt1b/F6Xz83mrZvwbeRCsuDt2/56IeORFK4L/uALBHlvzhvw+s3UDvnOO/67JAgHcp5b/MO39mnqDmv9vFDe7oAOi/8pEdKvNI6b8HUTWucXfqvz3KCN0yi+u/bCw9HSCD7L/uF+LyPl7tv9f/gvyxG+6/czXR0rm67r/4pATKtTrvv13kL5Qkm++/XJPjw6Tb77+GEJ0u9fvvv4YQnS71+++/XJPjw6Tb779c5C+UJJvvvw==",
                                                "dtype": "f8"
                                            }
                                        }
                                    ],
                                    "name": "t=0.45"
                                },
                                {
                                    "data": [
                                        {
                                            "mode": "lines",
                                            "type": "scatter",
                                            "x": {
                                                "bdata": "AAAAAAAAAAB7FK5H4XqUP3sUrkfheqQ/uB6F61G4rj97FK5H4Xq0P5qZmZmZmbk/uB6F61G4vj/sUbgehevBP3sUrkfhesQ/CtejcD0Kxz+amZmZmZnJPylcj8L1KMw/uB6F61G4zj+kcD0K16PQP+xRuB6F69E/MzMzMzMz0z97FK5H4XrUP8P1KFyPwtU/CtejcD0K1z9SuB6F61HYP5qZmZmZmdk/4XoUrkfh2j8pXI/C9SjcP3E9CtejcN0/uB6F61G43j8AAAAAAADgP6RwPQrXo+A/SOF6FK5H4T/sUbgehevhP4/C9Shcj+I/MzMzMzMz4z/Xo3A9CtfjP3sUrkfheuQ/H4XrUbge5T/D9Shcj8LlP2dmZmZmZuY/CtejcD0K5z+uR+F6FK7nP1K4HoXrUeg/9ihcj8L16D+amZmZmZnpPz4K16NwPeo/4XoUrkfh6j+F61G4HoXrPylcj8L1KOw/zczMzMzM7D9xPQrXo3DtPxWuR+F6FO4/uB6F61G47j9cj8L1KFzvPwAAAAAAAPA/UrgehetR8D+kcD0K16PwP/YoXI/C9fA/SOF6FK5H8T+amZmZmZnxP+xRuB6F6/E/PgrXo3A98j+PwvUoXI/yP+F6FK5H4fI/MzMzMzMz8z+F61G4HoXzP9ejcD0K1/M/KVyPwvUo9D97FK5H4Xr0P83MzMzMzPQ/H4XrUbge9T9xPQrXo3D1P8P1KFyPwvU/Fa5H4XoU9j9nZmZmZmb2P7gehetRuPY/CtejcD0K9z9cj8L1KFz3P65H4XoUrvc/AAAAAAAA+D9SuB6F61H4P6RwPQrXo/g/9ihcj8L1+D9I4XoUrkf5P5qZmZmZmfk/7FG4HoXr+T8+CtejcD36P5DC9Shcj/o/4XoUrkfh+j8zMzMzMzP7P4XrUbgehfs/16NwPQrX+z8pXI/C9Sj8P3sUrkfhevw/zczMzMzM/D8fhetRuB79P3E9CtejcP0/w/UoXI/C/T8VrkfhehT+P2dmZmZmZv4/uB6F61G4/j8K16NwPQr/P1yPwvUoXP8/rkfhehSu/z8AAAAAAAAAQA==",
                                                "dtype": "f8"
                                            },
                                            "y": {
                                                "bdata": "A9mAVGe/77/+CSWs5W7vv+AeEB2i/u6//1REEw5v7r/kWu+dusDtv4wV3NxX9Oy/WsCBTrQK7L+GLmT/uwTrv6j0l5t34+m/6mtbYwuo6L8WuNIDtlPnvxQgEVXP5+W/vAG1/sZl5L9eWnUEI8/iv1ErGDx+JeG/Uqm/XA3V3r+dgSXJ9z/bvxipqEhaj9e/UekvN+/G07+WBxz6EdXPv3h6A2Uc/Me/5FuhXesKwL99k+AbChOwvwAAAAAAAAAAcJPgGwoTsD/dW6Fd6wrAP3h6A2Uc/Mc/lgcc+hHVzz9R6S8378bTPxWpqEhaj9c/mYElyfc/2z9Qqb9cDdXeP1ErGDx+JeE/Xlp1BCPP4j+8AbX+xmXkPxQgEVXP5+U/FbjSA7ZT5z/pa1tjC6joP6j0l5t34+k/hi5k/7sE6z9awIFOtArsP4wV3NxX9Ow/5FrvnbrA7T//VEQTDm/uP+AeEB2i/u4//gklrOVu7z8D2YBUZ7/vP/5D5L/V7+8/AAAAAAAA8D/+Q+S/1e/vPwLZgFRnv+8//gklrOVu7z/gHhAdov7uP/9URBMOb+4/5FrvnbrA7T+LFdzcV/TsP1jAgU60Cuw/hS5k/7sE6z+o9Jebd+PpP+prW2MLqOg/FbjSA7ZT5z8VIBFVz+flP70Btf7GZeQ/X1p1BCPP4j9RKxg8fiXhP1Cpv1wN1d4/mYElyfc/2z8VqahIWo/XP0rpLzfvxtM/hwcc+hHVzz9negNlHPzHP+pboV3rCsA/iJPgGwoTsD8HXBQzJqahPHeT4BsKE7C/4VuhXesKwL9+egNlHPzHv54HHPoR1c+/VekvN+/G078fqahIWo/Xv5yBJcn3P9u/U6m/XA3V3r9SKxg8fiXhv2BadQQjz+K/uwG1/sZl5L8UIBFVz+flvxS40gO2U+e/62tbYwuo6L+n9Jebd+Ppv4guZP+7BOu/WcCBTrQK7L+OFdzcV/Tsv+Va7526wO2//1REEw5v7r/hHhAdov7uv/8JJazlbu+/AtmAVGe/77/+Q+S/1e/vvwAAAAAAAPC//kPkv9Xv778D2YBUZ7/vvw==",
                                                "dtype": "f8"
                                            }
                                        }
                                    ],
                                    "name": "t=0.46"
                                },
                                {
                                    "data": [
                                        {
                                            "mode": "lines",
                                            "type": "scatter",
                                            "x": {
                                                "bdata": "AAAAAAAAAAB7FK5H4XqUP3sUrkfheqQ/uB6F61G4rj97FK5H4Xq0P5qZmZmZmbk/uB6F61G4vj/sUbgehevBP3sUrkfhesQ/CtejcD0Kxz+amZmZmZnJPylcj8L1KMw/uB6F61G4zj+kcD0K16PQP+xRuB6F69E/MzMzMzMz0z97FK5H4XrUP8P1KFyPwtU/CtejcD0K1z9SuB6F61HYP5qZmZmZmdk/4XoUrkfh2j8pXI/C9SjcP3E9CtejcN0/uB6F61G43j8AAAAAAADgP6RwPQrXo+A/SOF6FK5H4T/sUbgehevhP4/C9Shcj+I/MzMzMzMz4z/Xo3A9CtfjP3sUrkfheuQ/H4XrUbge5T/D9Shcj8LlP2dmZmZmZuY/CtejcD0K5z+uR+F6FK7nP1K4HoXrUeg/9ihcj8L16D+amZmZmZnpPz4K16NwPeo/4XoUrkfh6j+F61G4HoXrPylcj8L1KOw/zczMzMzM7D9xPQrXo3DtPxWuR+F6FO4/uB6F61G47j9cj8L1KFzvPwAAAAAAAPA/UrgehetR8D+kcD0K16PwP/YoXI/C9fA/SOF6FK5H8T+amZmZmZnxP+xRuB6F6/E/PgrXo3A98j+PwvUoXI/yP+F6FK5H4fI/MzMzMzMz8z+F61G4HoXzP9ejcD0K1/M/KVyPwvUo9D97FK5H4Xr0P83MzMzMzPQ/H4XrUbge9T9xPQrXo3D1P8P1KFyPwvU/Fa5H4XoU9j9nZmZmZmb2P7gehetRuPY/CtejcD0K9z9cj8L1KFz3P65H4XoUrvc/AAAAAAAA+D9SuB6F61H4P6RwPQrXo/g/9ihcj8L1+D9I4XoUrkf5P5qZmZmZmfk/7FG4HoXr+T8+CtejcD36P5DC9Shcj/o/4XoUrkfh+j8zMzMzMzP7P4XrUbgehfs/16NwPQrX+z8pXI/C9Sj8P3sUrkfhevw/zczMzMzM/D8fhetRuB79P3E9CtejcP0/w/UoXI/C/T8VrkfhehT+P2dmZmZmZv4/uB6F61G4/j8K16NwPQr/P1yPwvUoXP8/rkfhehSu/z8AAAAAAAAAQA==",
                                                "dtype": "f8"
                                            },
                                            "y": {
                                                "bdata": "XJPjw6Tb779c5C+UJJvvv/ikBMq1Ou+/cjXR0rm67r/X/4L8sRvuv+0X4vI+Xu2/bCw9HSCD7L88ygjdMovrvwlRNa5xd+q/8pEdKvNI6b/cxQ3u6ADov807f2aeoOa/7bJAgHcp5b8LrN1A75zjv+oAsEeW/OG/5KIeORFK4L8B3kQrLg7dv8LpfPzeatm/35ZX0OGt1b8PDhSD/drRv2of0iMe7Mu/elOoZwsGxL/1F/x/exe4v2RY9y0SFaC/S1j3LRIVoD/pF/x/exe4P3RTqGcLBsQ/ah/SIx7syz8PDhSD/drRP9iWV9DhrdU/v+l8/N5q2T//3UQrLg7dP+OiHjkRSuA/6gCwR5b84T8LrN1A75zjP+2yQIB3KeU/yzt/Zp6g5j/axQ3u6ADoP/GRHSrzSOk/CVE1rnF36j88ygjdMovrP2wsPR0gg+w/7Bfi8j5e7T/X/4L8sRvuP3E10dK5uu4/96QEyrU67z9c5C+UJJvvP1yT48Ok2+8/hhCdLvX77z+GEJ0u9fvvP1yT48Ok2+8/W+QvlCSb7z/4pATKtTrvP3I10dK5uu4/1/+C/LEb7j/sF+LyPl7tP2ssPR0gg+w/OsoI3TKL6z8LUTWucXfqP/ORHSrzSOk/3MUN7ugA6D/NO39mnqDmP+yyQIB3KeU/CqzdQO+c4z/pALBHlvzhP+KiHjkRSuA/+91EKy4O3T+76Xz83mrZP9uWV9DhrdU/Cw4Ug/3a0T9hH9IjHuzLP3lTqGcLBsQ/8hf8f3sXuD9YWPctEhWgPzVY9y0SFaC/4Bf8f3sXuL9wU6hnCwbEv2gf0iMe7Mu/Dg4Ug/3a0b/ellfQ4a3Vv8XpfPzeatm/Bt5EKy4O3b/noh45EUrgv+4AsEeW/OG/CazdQO+c47/rskCAdynlv8w7f2aeoOa/28UN7ugA6L/ykR0q80jpvwdRNa5xd+q/PcoI3TKL679sLD0dIIPsv+4X4vI+Xu2/1/+C/LEb7r9zNdHSubruv/ikBMq1Ou+/W+QvlCSb779ck+PDpNvvv4YQnS71+++/hhCdLvX7779ck+PDpNvvvw==",
                                                "dtype": "f8"
                                            }
                                        }
                                    ],
                                    "name": "t=0.47"
                                },
                                {
                                    "data": [
                                        {
                                            "mode": "lines",
                                            "type": "scatter",
                                            "x": {
                                                "bdata": "AAAAAAAAAAB7FK5H4XqUP3sUrkfheqQ/uB6F61G4rj97FK5H4Xq0P5qZmZmZmbk/uB6F61G4vj/sUbgehevBP3sUrkfhesQ/CtejcD0Kxz+amZmZmZnJPylcj8L1KMw/uB6F61G4zj+kcD0K16PQP+xRuB6F69E/MzMzMzMz0z97FK5H4XrUP8P1KFyPwtU/CtejcD0K1z9SuB6F61HYP5qZmZmZmdk/4XoUrkfh2j8pXI/C9SjcP3E9CtejcN0/uB6F61G43j8AAAAAAADgP6RwPQrXo+A/SOF6FK5H4T/sUbgehevhP4/C9Shcj+I/MzMzMzMz4z/Xo3A9CtfjP3sUrkfheuQ/H4XrUbge5T/D9Shcj8LlP2dmZmZmZuY/CtejcD0K5z+uR+F6FK7nP1K4HoXrUeg/9ihcj8L16D+amZmZmZnpPz4K16NwPeo/4XoUrkfh6j+F61G4HoXrPylcj8L1KOw/zczMzMzM7D9xPQrXo3DtPxWuR+F6FO4/uB6F61G47j9cj8L1KFzvPwAAAAAAAPA/UrgehetR8D+kcD0K16PwP/YoXI/C9fA/SOF6FK5H8T+amZmZmZnxP+xRuB6F6/E/PgrXo3A98j+PwvUoXI/yP+F6FK5H4fI/MzMzMzMz8z+F61G4HoXzP9ejcD0K1/M/KVyPwvUo9D97FK5H4Xr0P83MzMzMzPQ/H4XrUbge9T9xPQrXo3D1P8P1KFyPwvU/Fa5H4XoU9j9nZmZmZmb2P7gehetRuPY/CtejcD0K9z9cj8L1KFz3P65H4XoUrvc/AAAAAAAA+D9SuB6F61H4P6RwPQrXo/g/9ihcj8L1+D9I4XoUrkf5P5qZmZmZmfk/7FG4HoXr+T8+CtejcD36P5DC9Shcj/o/4XoUrkfh+j8zMzMzMzP7P4XrUbgehfs/16NwPQrX+z8pXI/C9Sj8P3sUrkfhevw/zczMzMzM/D8fhetRuB79P3E9CtejcP0/w/UoXI/C/T8VrkfhehT+P2dmZmZmZv4/uB6F61G4/j8K16NwPQr/P1yPwvUoXP8/rkfhehSu/z8AAAAAAAAAQA==",
                                                "dtype": "f8"
                                            },
                                            "y": {
                                                "bdata": "/kPkv9Xv778C2YBUZ7/vv/4JJazlbu+/4B4QHaL+7r//VEQTDm/uv+Ra7526wO2/jBXc3Ff07L9ZwIFOtArsv4UuZP+7BOu/qPSXm3fj6b/pa1tjC6jovxa40gO2U+e/EyARVc/n5b+7AbX+xmXkv11adQQjz+K/USsYPH4l4b9Qqb9cDdXev5mBJcn3P9u/GKmoSFqP179O6S8378bTv5AHHPoR1c+/eHoDZRz8x7/dW6Fd6wrAv3CT4BsKE7C/AAAAAAAAAAB9k+AbChOwP+RboV3rCsA/fnoDZRz8xz+eBxz6EdXPP07pLzfvxtM/GKmoSFqP1z+dgSXJ9z/bP1Kpv1wN1d4/USsYPH4l4T9fWnUEI8/iP74Btf7GZeQ/EyARVc/n5T8WuNIDtlPnP+prW2MLqOg/qPSXm3fj6T+GLmT/uwTrP1rAgU60Cuw/jBXc3Ff07D/kWu+dusDtP/9URBMOb+4/4B4QHaL+7j//CSWs5W7vPwPZgFRnv+8//kPkv9Xv7z8AAAAAAADwP/5D5L/V7+8/AtmAVGe/7z/+CSWs5W7vP+AeEB2i/u4//1REEw5v7j/kWu+dusDtP4sV3NxX9Ow/WMCBTrQK7D+HLmT/uwTrP6j0l5t34+k/6mtbYwuo6D8VuNIDtlPnPxUgEVXP5+U/vQG1/sZl5D9fWnUEI8/iP1ErGDx+JeE/UKm/XA3V3j+ZgSXJ9z/bPxWpqEhaj9c/SukvN+/G0z+HBxz6EdXPP4d6A2Uc/Mc/6luhXesKwD+Ik+AbChOwPwdcFDMmpqE8d5PgGwoTsL/hW6Fd6wrAv356A2Uc/Me/ngcc+hHVz79V6S8378bTvx+pqEhaj9e/nIElyfc/279Tqb9cDdXev1IrGDx+JeG/XVp1BCPP4r+7AbX+xmXkvxQgEVXP5+W/FLjSA7ZT57/ra1tjC6jov6f0l5t34+m/iC5k/7sE679ZwIFOtArsv44V3NxX9Oy/5VrvnbrA7b//VEQTDm/uv+EeEB2i/u6//wklrOVu778C2YBUZ7/vv/5D5L/V7++/AAAAAAAA8L/+Q+S/1e/vvw==",
                                                "dtype": "f8"
                                            }
                                        }
                                    ],
                                    "name": "t=0.48"
                                },
                                {
                                    "data": [
                                        {
                                            "mode": "lines",
                                            "type": "scatter",
                                            "x": {
                                                "bdata": "AAAAAAAAAAB7FK5H4XqUP3sUrkfheqQ/uB6F61G4rj97FK5H4Xq0P5qZmZmZmbk/uB6F61G4vj/sUbgehevBP3sUrkfhesQ/CtejcD0Kxz+amZmZmZnJPylcj8L1KMw/uB6F61G4zj+kcD0K16PQP+xRuB6F69E/MzMzMzMz0z97FK5H4XrUP8P1KFyPwtU/CtejcD0K1z9SuB6F61HYP5qZmZmZmdk/4XoUrkfh2j8pXI/C9SjcP3E9CtejcN0/uB6F61G43j8AAAAAAADgP6RwPQrXo+A/SOF6FK5H4T/sUbgehevhP4/C9Shcj+I/MzMzMzMz4z/Xo3A9CtfjP3sUrkfheuQ/H4XrUbge5T/D9Shcj8LlP2dmZmZmZuY/CtejcD0K5z+uR+F6FK7nP1K4HoXrUeg/9ihcj8L16D+amZmZmZnpPz4K16NwPeo/4XoUrkfh6j+F61G4HoXrPylcj8L1KOw/zczMzMzM7D9xPQrXo3DtPxWuR+F6FO4/uB6F61G47j9cj8L1KFzvPwAAAAAAAPA/UrgehetR8D+kcD0K16PwP/YoXI/C9fA/SOF6FK5H8T+amZmZmZnxP+xRuB6F6/E/PgrXo3A98j+PwvUoXI/yP+F6FK5H4fI/MzMzMzMz8z+F61G4HoXzP9ejcD0K1/M/KVyPwvUo9D97FK5H4Xr0P83MzMzMzPQ/H4XrUbge9T9xPQrXo3D1P8P1KFyPwvU/Fa5H4XoU9j9nZmZmZmb2P7gehetRuPY/CtejcD0K9z9cj8L1KFz3P65H4XoUrvc/AAAAAAAA+D9SuB6F61H4P6RwPQrXo/g/9ihcj8L1+D9I4XoUrkf5P5qZmZmZmfk/7FG4HoXr+T8+CtejcD36P5DC9Shcj/o/4XoUrkfh+j8zMzMzMzP7P4XrUbgehfs/16NwPQrX+z8pXI/C9Sj8P3sUrkfhevw/zczMzMzM/D8fhetRuB79P3E9CtejcP0/w/UoXI/C/T8VrkfhehT+P2dmZmZmZv4/uB6F61G4/j8K16NwPQr/P1yPwvUoXP8/rkfhehSu/z8AAAAAAAAAQA==",
                                                "dtype": "f8"
                                            },
                                            "y": {
                                                "bdata": "hhCdLvX7779ck+PDpNvvv1zkL5Qkm++/96QEyrU6779xNdHSubruv9f/gvyxG+6/7Rfi8j5e7b9sLD0dIIPsvzvKCN0yi+u/CVE1rnF36r/xkR0q80jpv9zFDe7oAOi/zTt/Zp6g5r/sskCAdynlvwqs3UDvnOO/6gCwR5b84b/joh45EUrgv//dRCsuDt2/wul8/N5q2b/bllfQ4a3VvwwOFIP92tG/ah/SIx7sy790U6hnCwbEv+kX/H97F7i/ZFj3LRIVoL9kWPctEhWgP/UX/H97F7g/elOoZwsGxD9wH9IjHuzLPwwOFIP92tE/25ZX0OGt1T/C6Xz83mrZPwHeRCsuDt0/5KIeORFK4D/rALBHlvzhPw2s3UDvnOM/7LJAgHcp5T/NO39mnqDmP9zFDe7oAOg/8pEdKvNI6T8JUTWucXfqPzzKCN0yi+s/bCw9HSCD7D/tF+LyPl7tP9f/gvyxG+4/cjXR0rm67j/4pATKtTrvP1zkL5Qkm+8/XJPjw6Tb7z+GEJ0u9fvvP4YQnS71++8/XJPjw6Tb7z9b5C+UJJvvP/ikBMq1Ou8/cjXR0rm67j/X/4L8sRvuP+wX4vI+Xu0/ayw9HSCD7D8+ygjdMovrPwtRNa5xd+o/85EdKvNI6T/cxQ3u6ADoP807f2aeoOY/7LJAgHcp5T8KrN1A75zjP+kAsEeW/OE/4qIeORFK4D/73UQrLg7dP7vpfPzeatk/25ZX0OGt1T8LDhSD/drRP3Ef0iMe7Ms/eVOoZwsGxD/yF/x/exe4P1hY9y0SFaA/NVj3LRIVoL/gF/x/exe4v3BTqGcLBsS/aB/SIx7sy78ODhSD/drRv96WV9DhrdW/xel8/N5q2b8G3kQrLg7dv+eiHjkRSuC/5wCwR5b84b8JrN1A75zjv+uyQIB3KeW/zDt/Zp6g5r/bxQ3u6ADov/KRHSrzSOm/B1E1rnF36r89ygjdMovrv2wsPR0gg+y/7hfi8j5e7b/X/4L8sRvuv3M10dK5uu6/9qQEyrU6779b5C+UJJvvv1yT48Ok2++/hhCdLvX777+GEJ0u9fvvvw==",
                                                "dtype": "f8"
                                            }
                                        }
                                    ],
                                    "name": "t=0.49"
                                },
                                {
                                    "data": [
                                        {
                                            "mode": "lines",
                                            "type": "scatter",
                                            "x": {
                                                "bdata": "AAAAAAAAAAB7FK5H4XqUP3sUrkfheqQ/uB6F61G4rj97FK5H4Xq0P5qZmZmZmbk/uB6F61G4vj/sUbgehevBP3sUrkfhesQ/CtejcD0Kxz+amZmZmZnJPylcj8L1KMw/uB6F61G4zj+kcD0K16PQP+xRuB6F69E/MzMzMzMz0z97FK5H4XrUP8P1KFyPwtU/CtejcD0K1z9SuB6F61HYP5qZmZmZmdk/4XoUrkfh2j8pXI/C9SjcP3E9CtejcN0/uB6F61G43j8AAAAAAADgP6RwPQrXo+A/SOF6FK5H4T/sUbgehevhP4/C9Shcj+I/MzMzMzMz4z/Xo3A9CtfjP3sUrkfheuQ/H4XrUbge5T/D9Shcj8LlP2dmZmZmZuY/CtejcD0K5z+uR+F6FK7nP1K4HoXrUeg/9ihcj8L16D+amZmZmZnpPz4K16NwPeo/4XoUrkfh6j+F61G4HoXrPylcj8L1KOw/zczMzMzM7D9xPQrXo3DtPxWuR+F6FO4/uB6F61G47j9cj8L1KFzvPwAAAAAAAPA/UrgehetR8D+kcD0K16PwP/YoXI/C9fA/SOF6FK5H8T+amZmZmZnxP+xRuB6F6/E/PgrXo3A98j+PwvUoXI/yP+F6FK5H4fI/MzMzMzMz8z+F61G4HoXzP9ejcD0K1/M/KVyPwvUo9D97FK5H4Xr0P83MzMzMzPQ/H4XrUbge9T9xPQrXo3D1P8P1KFyPwvU/Fa5H4XoU9j9nZmZmZmb2P7gehetRuPY/CtejcD0K9z9cj8L1KFz3P65H4XoUrvc/AAAAAAAA+D9SuB6F61H4P6RwPQrXo/g/9ihcj8L1+D9I4XoUrkf5P5qZmZmZmfk/7FG4HoXr+T8+CtejcD36P5DC9Shcj/o/4XoUrkfh+j8zMzMzMzP7P4XrUbgehfs/16NwPQrX+z8pXI/C9Sj8P3sUrkfhevw/zczMzMzM/D8fhetRuB79P3E9CtejcP0/w/UoXI/C/T8VrkfhehT+P2dmZmZmZv4/uB6F61G4/j8K16NwPQr/P1yPwvUoXP8/rkfhehSu/z8AAAAAAAAAQA==",
                                                "dtype": "f8"
                                            },
                                            "y": {
                                                "bdata": "AAAAAAAA8L/+Q+S/1e/vvwPZgFRnv++//gklrOVu77/gHhAdov7uv/9URBMOb+6/5FrvnbrA7b+MFdzcV/Tsv1nAgU60Cuy/hi5k/7sE67+o9Jebd+Ppv+prW2MLqOi/FrjSA7ZT578TIBFVz+flv7sBtf7GZeS/Xlp1BCPP4r9RKxg8fiXhv1Cpv1wN1d6/nYElyfc/278YqahIWo/Xv07pLzfvxtO/lgcc+hHVz794egNlHPzHv91boV3rCsC/fZPgGwoTsL8AAAAAAAAAAH2T4BsKE7A/5FuhXesKwD9+egNlHPzHP5AHHPoR1c8/TukvN+/G0z8YqahIWo/XP52BJcn3P9s/Uqm/XA3V3j9RKxg8fiXhP19adQQjz+I/uwG1/sZl5D8TIBFVz+flPxa40gO2U+c/6mtbYwuo6D+o9Jebd+PpP4YuZP+7BOs/WcCBTrQK7D+MFdzcV/TsP+Ra7526wO0//1REEw5v7j/gHhAdov7uP/8JJazlbu8/AtmAVGe/7z/+Q+S/1e/vPwAAAAAAAPA//kPkv9Xv7z8C2YBUZ7/vP/4JJazlbu8/4B4QHaL+7j//VEQTDm/uP+Ra7526wO0/ixXc3Ff07D9awIFOtArsP4cuZP+7BOs/qPSXm3fj6T/qa1tjC6joPxW40gO2U+c/FSARVc/n5T+9AbX+xmXkP19adQQjz+I/USsYPH4l4T9Qqb9cDdXeP5mBJcn3P9s/FamoSFqP1z9K6S8378bTP6YHHPoR1c8/h3oDZRz8xz/qW6Fd6wrAP4iT4BsKE7A/B1wUMyamoTx3k+AbChOwv+FboV3rCsC/fnoDZRz8x7+eBxz6EdXPv1XpLzfvxtO/H6moSFqP17+cgSXJ9z/bv1Opv1wN1d6/TysYPH4l4b9dWnUEI8/iv7sBtf7GZeS/FCARVc/n5b8UuNIDtlPnv+trW2MLqOi/p/SXm3fj6b+ILmT/uwTrv1nAgU60Cuy/jhXc3Ff07L/lWu+dusDtv/9URBMOb+6/3x4QHaL+7r//CSWs5W7vvwLZgFRnv++//kPkv9Xv778AAAAAAADwvw==",
                                                "dtype": "f8"
                                            }
                                        }
                                    ],
                                    "name": "t=0.50"
                                }
                            ],
                            "layout": {
                                "template": {
                                    "data": {
                                        "bar": [
                                            {
                                                "error_x": {
                                                    "color": "#2a3f5f"
                                                },
                                                "error_y": {
                                                    "color": "#2a3f5f"
                                                },
                                                "marker": {
                                                    "line": {
                                                        "color": "#E5ECF6",
                                                        "width": 0.5
                                                    },
                                                    "pattern": {
                                                        "fillmode": "overlay",
                                                        "size": 10,
                                                        "solidity": 0.2
                                                    }
                                                },
                                                "type": "bar"
                                            }
                                        ],
                                        "barpolar": [
                                            {
                                                "marker": {
                                                    "line": {
                                                        "color": "#E5ECF6",
                                                        "width": 0.5
                                                    },
                                                    "pattern": {
                                                        "fillmode": "overlay",
                                                        "size": 10,
                                                        "solidity": 0.2
                                                    }
                                                },
                                                "type": "barpolar"
                                            }
                                        ],
                                        "carpet": [
                                            {
                                                "aaxis": {
                                                    "endlinecolor": "#2a3f5f",
                                                    "gridcolor": "white",
                                                    "linecolor": "white",
                                                    "minorgridcolor": "white",
                                                    "startlinecolor": "#2a3f5f"
                                                },
                                                "baxis": {
                                                    "endlinecolor": "#2a3f5f",
                                                    "gridcolor": "white",
                                                    "linecolor": "white",
                                                    "minorgridcolor": "white",
                                                    "startlinecolor": "#2a3f5f"
                                                },
                                                "type": "carpet"
                                            }
                                        ],
                                        "choropleth": [
                                            {
                                                "colorbar": {
                                                    "outlinewidth": 0,
                                                    "ticks": ""
                                                },
                                                "type": "choropleth"
                                            }
                                        ],
                                        "contour": [
                                            {
                                                "colorbar": {
                                                    "outlinewidth": 0,
                                                    "ticks": ""
                                                },
                                                "colorscale": [
                                                    [
                                                        0,
                                                        "#0d0887"
                                                    ],
                                                    [
                                                        0.1111111111111111,
                                                        "#46039f"
                                                    ],
                                                    [
                                                        0.2222222222222222,
                                                        "#7201a8"
                                                    ],
                                                    [
                                                        0.3333333333333333,
                                                        "#9c179e"
                                                    ],
                                                    [
                                                        0.4444444444444444,
                                                        "#bd3786"
                                                    ],
                                                    [
                                                        0.5555555555555556,
                                                        "#d8576b"
                                                    ],
                                                    [
                                                        0.6666666666666666,
                                                        "#ed7953"
                                                    ],
                                                    [
                                                        0.7777777777777778,
                                                        "#fb9f3a"
                                                    ],
                                                    [
                                                        0.8888888888888888,
                                                        "#fdca26"
                                                    ],
                                                    [
                                                        1,
                                                        "#f0f921"
                                                    ]
                                                ],
                                                "type": "contour"
                                            }
                                        ],
                                        "contourcarpet": [
                                            {
                                                "colorbar": {
                                                    "outlinewidth": 0,
                                                    "ticks": ""
                                                },
                                                "type": "contourcarpet"
                                            }
                                        ],
                                        "heatmap": [
                                            {
                                                "colorbar": {
                                                    "outlinewidth": 0,
                                                    "ticks": ""
                                                },
                                                "colorscale": [
                                                    [
                                                        0,
                                                        "#0d0887"
                                                    ],
                                                    [
                                                        0.1111111111111111,
                                                        "#46039f"
                                                    ],
                                                    [
                                                        0.2222222222222222,
                                                        "#7201a8"
                                                    ],
                                                    [
                                                        0.3333333333333333,
                                                        "#9c179e"
                                                    ],
                                                    [
                                                        0.4444444444444444,
                                                        "#bd3786"
                                                    ],
                                                    [
                                                        0.5555555555555556,
                                                        "#d8576b"
                                                    ],
                                                    [
                                                        0.6666666666666666,
                                                        "#ed7953"
                                                    ],
                                                    [
                                                        0.7777777777777778,
                                                        "#fb9f3a"
                                                    ],
                                                    [
                                                        0.8888888888888888,
                                                        "#fdca26"
                                                    ],
                                                    [
                                                        1,
                                                        "#f0f921"
                                                    ]
                                                ],
                                                "type": "heatmap"
                                            }
                                        ],
                                        "histogram": [
                                            {
                                                "marker": {
                                                    "pattern": {
                                                        "fillmode": "overlay",
                                                        "size": 10,
                                                        "solidity": 0.2
                                                    }
                                                },
                                                "type": "histogram"
                                            }
                                        ],
                                        "histogram2d": [
                                            {
                                                "colorbar": {
                                                    "outlinewidth": 0,
                                                    "ticks": ""
                                                },
                                                "colorscale": [
                                                    [
                                                        0,
                                                        "#0d0887"
                                                    ],
                                                    [
                                                        0.1111111111111111,
                                                        "#46039f"
                                                    ],
                                                    [
                                                        0.2222222222222222,
                                                        "#7201a8"
                                                    ],
                                                    [
                                                        0.3333333333333333,
                                                        "#9c179e"
                                                    ],
                                                    [
                                                        0.4444444444444444,
                                                        "#bd3786"
                                                    ],
                                                    [
                                                        0.5555555555555556,
                                                        "#d8576b"
                                                    ],
                                                    [
                                                        0.6666666666666666,
                                                        "#ed7953"
                                                    ],
                                                    [
                                                        0.7777777777777778,
                                                        "#fb9f3a"
                                                    ],
                                                    [
                                                        0.8888888888888888,
                                                        "#fdca26"
                                                    ],
                                                    [
                                                        1,
                                                        "#f0f921"
                                                    ]
                                                ],
                                                "type": "histogram2d"
                                            }
                                        ],
                                        "histogram2dcontour": [
                                            {
                                                "colorbar": {
                                                    "outlinewidth": 0,
                                                    "ticks": ""
                                                },
                                                "colorscale": [
                                                    [
                                                        0,
                                                        "#0d0887"
                                                    ],
                                                    [
                                                        0.1111111111111111,
                                                        "#46039f"
                                                    ],
                                                    [
                                                        0.2222222222222222,
                                                        "#7201a8"
                                                    ],
                                                    [
                                                        0.3333333333333333,
                                                        "#9c179e"
                                                    ],
                                                    [
                                                        0.4444444444444444,
                                                        "#bd3786"
                                                    ],
                                                    [
                                                        0.5555555555555556,
                                                        "#d8576b"
                                                    ],
                                                    [
                                                        0.6666666666666666,
                                                        "#ed7953"
                                                    ],
                                                    [
                                                        0.7777777777777778,
                                                        "#fb9f3a"
                                                    ],
                                                    [
                                                        0.8888888888888888,
                                                        "#fdca26"
                                                    ],
                                                    [
                                                        1,
                                                        "#f0f921"
                                                    ]
                                                ],
                                                "type": "histogram2dcontour"
                                            }
                                        ],
                                        "mesh3d": [
                                            {
                                                "colorbar": {
                                                    "outlinewidth": 0,
                                                    "ticks": ""
                                                },
                                                "type": "mesh3d"
                                            }
                                        ],
                                        "parcoords": [
                                            {
                                                "line": {
                                                    "colorbar": {
                                                        "outlinewidth": 0,
                                                        "ticks": ""
                                                    }
                                                },
                                                "type": "parcoords"
                                            }
                                        ],
                                        "pie": [
                                            {
                                                "automargin": true,
                                                "type": "pie"
                                            }
                                        ],
                                        "scatter": [
                                            {
                                                "fillpattern": {
                                                    "fillmode": "overlay",
                                                    "size": 10,
                                                    "solidity": 0.2
                                                },
                                                "type": "scatter"
                                            }
                                        ],
                                        "scatter3d": [
                                            {
                                                "line": {
                                                    "colorbar": {
                                                        "outlinewidth": 0,
                                                        "ticks": ""
                                                    }
                                                },
                                                "marker": {
                                                    "colorbar": {
                                                        "outlinewidth": 0,
                                                        "ticks": ""
                                                    }
                                                },
                                                "type": "scatter3d"
                                            }
                                        ],
                                        "scattercarpet": [
                                            {
                                                "marker": {
                                                    "colorbar": {
                                                        "outlinewidth": 0,
                                                        "ticks": ""
                                                    }
                                                },
                                                "type": "scattercarpet"
                                            }
                                        ],
                                        "scattergeo": [
                                            {
                                                "marker": {
                                                    "colorbar": {
                                                        "outlinewidth": 0,
                                                        "ticks": ""
                                                    }
                                                },
                                                "type": "scattergeo"
                                            }
                                        ],
                                        "scattergl": [
                                            {
                                                "marker": {
                                                    "colorbar": {
                                                        "outlinewidth": 0,
                                                        "ticks": ""
                                                    }
                                                },
                                                "type": "scattergl"
                                            }
                                        ],
                                        "scattermap": [
                                            {
                                                "marker": {
                                                    "colorbar": {
                                                        "outlinewidth": 0,
                                                        "ticks": ""
                                                    }
                                                },
                                                "type": "scattermap"
                                            }
                                        ],
                                        "scattermapbox": [
                                            {
                                                "marker": {
                                                    "colorbar": {
                                                        "outlinewidth": 0,
                                                        "ticks": ""
                                                    }
                                                },
                                                "type": "scattermapbox"
                                            }
                                        ],
                                        "scatterpolar": [
                                            {
                                                "marker": {
                                                    "colorbar": {
                                                        "outlinewidth": 0,
                                                        "ticks": ""
                                                    }
                                                },
                                                "type": "scatterpolar"
                                            }
                                        ],
                                        "scatterpolargl": [
                                            {
                                                "marker": {
                                                    "colorbar": {
                                                        "outlinewidth": 0,
                                                        "ticks": ""
                                                    }
                                                },
                                                "type": "scatterpolargl"
                                            }
                                        ],
                                        "scatterternary": [
                                            {
                                                "marker": {
                                                    "colorbar": {
                                                        "outlinewidth": 0,
                                                        "ticks": ""
                                                    }
                                                },
                                                "type": "scatterternary"
                                            }
                                        ],
                                        "surface": [
                                            {
                                                "colorbar": {
                                                    "outlinewidth": 0,
                                                    "ticks": ""
                                                },
                                                "colorscale": [
                                                    [
                                                        0,
                                                        "#0d0887"
                                                    ],
                                                    [
                                                        0.1111111111111111,
                                                        "#46039f"
                                                    ],
                                                    [
                                                        0.2222222222222222,
                                                        "#7201a8"
                                                    ],
                                                    [
                                                        0.3333333333333333,
                                                        "#9c179e"
                                                    ],
                                                    [
                                                        0.4444444444444444,
                                                        "#bd3786"
                                                    ],
                                                    [
                                                        0.5555555555555556,
                                                        "#d8576b"
                                                    ],
                                                    [
                                                        0.6666666666666666,
                                                        "#ed7953"
                                                    ],
                                                    [
                                                        0.7777777777777778,
                                                        "#fb9f3a"
                                                    ],
                                                    [
                                                        0.8888888888888888,
                                                        "#fdca26"
                                                    ],
                                                    [
                                                        1,
                                                        "#f0f921"
                                                    ]
                                                ],
                                                "type": "surface"
                                            }
                                        ],
                                        "table": [
                                            {
                                                "cells": {
                                                    "fill": {
                                                        "color": "#EBF0F8"
                                                    },
                                                    "line": {
                                                        "color": "white"
                                                    }
                                                },
                                                "header": {
                                                    "fill": {
                                                        "color": "#C8D4E3"
                                                    },
                                                    "line": {
                                                        "color": "white"
                                                    }
                                                },
                                                "type": "table"
                                            }
                                        ]
                                    },
                                    "layout": {
                                        "annotationdefaults": {
                                            "arrowcolor": "#2a3f5f",
                                            "arrowhead": 0,
                                            "arrowwidth": 1
                                        },
                                        "autotypenumbers": "strict",
                                        "coloraxis": {
                                            "colorbar": {
                                                "outlinewidth": 0,
                                                "ticks": ""
                                            }
                                        },
                                        "colorscale": {
                                            "diverging": [
                                                [
                                                    0,
                                                    "#8e0152"
                                                ],
                                                [
                                                    0.1,
                                                    "#c51b7d"
                                                ],
                                                [
                                                    0.2,
                                                    "#de77ae"
                                                ],
                                                [
                                                    0.3,
                                                    "#f1b6da"
                                                ],
                                                [
                                                    0.4,
                                                    "#fde0ef"
                                                ],
                                                [
                                                    0.5,
                                                    "#f7f7f7"
                                                ],
                                                [
                                                    0.6,
                                                    "#e6f5d0"
                                                ],
                                                [
                                                    0.7,
                                                    "#b8e186"
                                                ],
                                                [
                                                    0.8,
                                                    "#7fbc41"
                                                ],
                                                [
                                                    0.9,
                                                    "#4d9221"
                                                ],
                                                [
                                                    1,
                                                    "#276419"
                                                ]
                                            ],
                                            "sequential": [
                                                [
                                                    0,
                                                    "#0d0887"
                                                ],
                                                [
                                                    0.1111111111111111,
                                                    "#46039f"
                                                ],
                                                [
                                                    0.2222222222222222,
                                                    "#7201a8"
                                                ],
                                                [
                                                    0.3333333333333333,
                                                    "#9c179e"
                                                ],
                                                [
                                                    0.4444444444444444,
                                                    "#bd3786"
                                                ],
                                                [
                                                    0.5555555555555556,
                                                    "#d8576b"
                                                ],
                                                [
                                                    0.6666666666666666,
                                                    "#ed7953"
                                                ],
                                                [
                                                    0.7777777777777778,
                                                    "#fb9f3a"
                                                ],
                                                [
                                                    0.8888888888888888,
                                                    "#fdca26"
                                                ],
                                                [
                                                    1,
                                                    "#f0f921"
                                                ]
                                            ],
                                            "sequentialminus": [
                                                [
                                                    0,
                                                    "#0d0887"
                                                ],
                                                [
                                                    0.1111111111111111,
                                                    "#46039f"
                                                ],
                                                [
                                                    0.2222222222222222,
                                                    "#7201a8"
                                                ],
                                                [
                                                    0.3333333333333333,
                                                    "#9c179e"
                                                ],
                                                [
                                                    0.4444444444444444,
                                                    "#bd3786"
                                                ],
                                                [
                                                    0.5555555555555556,
                                                    "#d8576b"
                                                ],
                                                [
                                                    0.6666666666666666,
                                                    "#ed7953"
                                                ],
                                                [
                                                    0.7777777777777778,
                                                    "#fb9f3a"
                                                ],
                                                [
                                                    0.8888888888888888,
                                                    "#fdca26"
                                                ],
                                                [
                                                    1,
                                                    "#f0f921"
                                                ]
                                            ]
                                        },
                                        "colorway": [
                                            "#636efa",
                                            "#EF553B",
                                            "#00cc96",
                                            "#ab63fa",
                                            "#FFA15A",
                                            "#19d3f3",
                                            "#FF6692",
                                            "#B6E880",
                                            "#FF97FF",
                                            "#FECB52"
                                        ],
                                        "font": {
                                            "color": "#2a3f5f"
                                        },
                                        "geo": {
                                            "bgcolor": "white",
                                            "lakecolor": "white",
                                            "landcolor": "#E5ECF6",
                                            "showlakes": true,
                                            "showland": true,
                                            "subunitcolor": "white"
                                        },
                                        "hoverlabel": {
                                            "align": "left"
                                        },
                                        "hovermode": "closest",
                                        "mapbox": {
                                            "style": "light"
                                        },
                                        "paper_bgcolor": "white",
                                        "plot_bgcolor": "#E5ECF6",
                                        "polar": {
                                            "angularaxis": {
                                                "gridcolor": "white",
                                                "linecolor": "white",
                                                "ticks": ""
                                            },
                                            "bgcolor": "#E5ECF6",
                                            "radialaxis": {
                                                "gridcolor": "white",
                                                "linecolor": "white",
                                                "ticks": ""
                                            }
                                        },
                                        "scene": {
                                            "xaxis": {
                                                "backgroundcolor": "#E5ECF6",
                                                "gridcolor": "white",
                                                "gridwidth": 2,
                                                "linecolor": "white",
                                                "showbackground": true,
                                                "ticks": "",
                                                "zerolinecolor": "white"
                                            },
                                            "yaxis": {
                                                "backgroundcolor": "#E5ECF6",
                                                "gridcolor": "white",
                                                "gridwidth": 2,
                                                "linecolor": "white",
                                                "showbackground": true,
                                                "ticks": "",
                                                "zerolinecolor": "white"
                                            },
                                            "zaxis": {
                                                "backgroundcolor": "#E5ECF6",
                                                "gridcolor": "white",
                                                "gridwidth": 2,
                                                "linecolor": "white",
                                                "showbackground": true,
                                                "ticks": "",
                                                "zerolinecolor": "white"
                                            }
                                        },
                                        "shapedefaults": {
                                            "line": {
                                                "color": "#2a3f5f"
                                            }
                                        },
                                        "ternary": {
                                            "aaxis": {
                                                "gridcolor": "white",
                                                "linecolor": "white",
                                                "ticks": ""
                                            },
                                            "baxis": {
                                                "gridcolor": "white",
                                                "linecolor": "white",
                                                "ticks": ""
                                            },
                                            "bgcolor": "#E5ECF6",
                                            "caxis": {
                                                "gridcolor": "white",
                                                "linecolor": "white",
                                                "ticks": ""
                                            }
                                        },
                                        "title": {
                                            "x": 0.05
                                        },
                                        "xaxis": {
                                            "automargin": true,
                                            "gridcolor": "white",
                                            "linecolor": "white",
                                            "ticks": "",
                                            "title": {
                                                "standoff": 15
                                            },
                                            "zerolinecolor": "white",
                                            "zerolinewidth": 2
                                        },
                                        "yaxis": {
                                            "automargin": true,
                                            "gridcolor": "white",
                                            "linecolor": "white",
                                            "ticks": "",
                                            "title": {
                                                "standoff": 15
                                            },
                                            "zerolinecolor": "white",
                                            "zerolinewidth": 2
                                        }
                                    }
                                },
                                "title": {
                                    "text": "Analytical Solution Animation (1D Advection Equation)"
                                },
                                "updatemenus": [
                                    {
                                        "buttons": [
                                            {
                                                "args": [
                                                    null,
                                                    {
                                                        "frame": {
                                                            "duration": 50,
                                                            "redraw": true
                                                        },
                                                        "fromcurrent": true
                                                    }
                                                ],
                                                "label": "Play",
                                                "method": "animate"
                                            },
                                            {
                                                "args": [
                                                    [
                                                        null
                                                    ],
                                                    {
                                                        "frame": {
                                                            "duration": 0,
                                                            "redraw": false
                                                        },
                                                        "mode": "immediate"
                                                    }
                                                ],
                                                "label": "Pause",
                                                "method": "animate"
                                            }
                                        ],
                                        "type": "buttons"
                                    }
                                ],
                                "xaxis": {
                                    "title": {
                                        "text": "x"
                                    }
                                },
                                "yaxis": {
                                    "title": {
                                        "text": "u"
                                    }
                                }
                            }
                        }
                    },
                    "metadata": {},
                    "output_type": "display_data"
                }
            ],
            "source": [
                "import plotly.graph_objects as go\n",
                "\n",
                "# create animation frames\n",
                "frames = [go.Frame(data=[go.Scatter(x=x, y=u_analytical[i], mode='lines')], name=f\"t={ti:.2f}\")\n",
                "          for i, ti in enumerate(t.flatten())]\n",
                "\n",
                "fig = go.Figure(\n",
                "    data=[go.Scatter(x=x, y=u_analytical[0], mode='lines')],\n",
                "    layout=go.Layout(\n",
                "        title='Analytical Solution Animation (1D Advection Equation)',\n",
                "        xaxis_title='x',\n",
                "        yaxis_title='u',\n",
                "        updatemenus=[{\n",
                "            'type': 'buttons',\n",
                "            'buttons': [{\n",
                "                'label': 'Play',\n",
                "                'method': 'animate',\n",
                "                'args': [None, {'frame': {'duration': 50, 'redraw': True}, 'fromcurrent': True}]\n",
                "            }, {\n",
                "                'label': 'Pause',\n",
                "                'method': 'animate',\n",
                "                'args': [[None], {'frame': {'duration': 0, 'redraw': False}, 'mode': 'immediate'}]\n",
                "            }]\n",
                "        }]\n",
                "    ),\n",
                "    frames=frames\n",
                ")\n",
                "\n",
                "fig.show()"
            ]
        },
        {
            "cell_type": "code",
            "execution_count": 3,
            "id": "5d65a892",
            "metadata": {},
            "outputs": [
                {
                    "name": "stdout",
                    "output_type": "stream",
                    "text": [
                        "23.2 ns ± 0.356 ns per loop (mean ± std. dev. of 7 runs, 10,000,000 loops each)\n"
                    ]
                }
            ],
            "source": [
                "%%timeit\n",
                "main()"
            ]
        },
        {
            "cell_type": "code",
            "execution_count": 4,
            "id": "604673f1",
            "metadata": {},
            "outputs": [],
            "source": [
                "main()"
            ]
        }
    ],
    "metadata": {
        "kernelspec": {
            "display_name": "finite_volume_method_1",
            "language": "python",
            "name": "python3"
        },
        "language_info": {
            "codemirror_mode": {
                "name": "ipython",
                "version": 3
            },
            "file_extension": ".py",
            "mimetype": "text/x-python",
            "name": "python",
            "nbconvert_exporter": "python",
            "pygments_lexer": "ipython3",
            "version": "3.13.3"
        }
    },
    "nbformat": 4,
    "nbformat_minor": 5
}
